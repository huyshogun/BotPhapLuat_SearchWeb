{
  "cells": [
    {
      "cell_type": "code",
      "execution_count": null,
      "metadata": {
        "colab": {
          "base_uri": "https://localhost:8080/"
        },
        "id": "E50iMKEr0l_r",
        "outputId": "88b4dc15-973f-4bc0-b73e-fc0029fa3f66",
        "collapsed": true
      },
      "outputs": [
        {
          "output_type": "stream",
          "name": "stdout",
          "text": [
            "Collecting underthesea\n",
            "  Downloading underthesea-6.8.4-py3-none-any.whl.metadata (15 kB)\n",
            "Collecting python-docx\n",
            "  Downloading python_docx-1.1.2-py3-none-any.whl.metadata (2.0 kB)\n",
            "Requirement already satisfied: networkx in /usr/local/lib/python3.11/dist-packages (3.5)\n",
            "Requirement already satisfied: matplotlib in /usr/local/lib/python3.11/dist-packages (3.10.0)\n",
            "Requirement already satisfied: nltk in /usr/local/lib/python3.11/dist-packages (3.9.1)\n",
            "Requirement already satisfied: Click>=6.0 in /usr/local/lib/python3.11/dist-packages (from underthesea) (8.2.1)\n",
            "Collecting python-crfsuite>=0.9.6 (from underthesea)\n",
            "  Downloading python_crfsuite-0.9.11-cp311-cp311-manylinux_2_17_x86_64.manylinux2014_x86_64.whl.metadata (4.3 kB)\n",
            "Requirement already satisfied: tqdm in /usr/local/lib/python3.11/dist-packages (from underthesea) (4.67.1)\n",
            "Requirement already satisfied: requests in /usr/local/lib/python3.11/dist-packages (from underthesea) (2.32.3)\n",
            "Requirement already satisfied: joblib in /usr/local/lib/python3.11/dist-packages (from underthesea) (1.5.1)\n",
            "Requirement already satisfied: scikit-learn in /usr/local/lib/python3.11/dist-packages (from underthesea) (1.6.1)\n",
            "Requirement already satisfied: PyYAML in /usr/local/lib/python3.11/dist-packages (from underthesea) (6.0.2)\n",
            "Collecting underthesea-core==1.0.4 (from underthesea)\n",
            "  Downloading underthesea_core-1.0.4-cp311-cp311-manylinux2010_x86_64.whl.metadata (1.7 kB)\n",
            "Requirement already satisfied: lxml>=3.1.0 in /usr/local/lib/python3.11/dist-packages (from python-docx) (5.4.0)\n",
            "Requirement already satisfied: typing-extensions>=4.9.0 in /usr/local/lib/python3.11/dist-packages (from python-docx) (4.13.2)\n",
            "Requirement already satisfied: contourpy>=1.0.1 in /usr/local/lib/python3.11/dist-packages (from matplotlib) (1.3.2)\n",
            "Requirement already satisfied: cycler>=0.10 in /usr/local/lib/python3.11/dist-packages (from matplotlib) (0.12.1)\n",
            "Requirement already satisfied: fonttools>=4.22.0 in /usr/local/lib/python3.11/dist-packages (from matplotlib) (4.58.1)\n",
            "Requirement already satisfied: kiwisolver>=1.3.1 in /usr/local/lib/python3.11/dist-packages (from matplotlib) (1.4.8)\n",
            "Requirement already satisfied: numpy>=1.23 in /usr/local/lib/python3.11/dist-packages (from matplotlib) (2.0.2)\n",
            "Requirement already satisfied: packaging>=20.0 in /usr/local/lib/python3.11/dist-packages (from matplotlib) (24.2)\n",
            "Requirement already satisfied: pillow>=8 in /usr/local/lib/python3.11/dist-packages (from matplotlib) (11.2.1)\n",
            "Requirement already satisfied: pyparsing>=2.3.1 in /usr/local/lib/python3.11/dist-packages (from matplotlib) (3.2.3)\n",
            "Requirement already satisfied: python-dateutil>=2.7 in /usr/local/lib/python3.11/dist-packages (from matplotlib) (2.9.0.post0)\n",
            "Requirement already satisfied: regex>=2021.8.3 in /usr/local/lib/python3.11/dist-packages (from nltk) (2024.11.6)\n",
            "Requirement already satisfied: six>=1.5 in /usr/local/lib/python3.11/dist-packages (from python-dateutil>=2.7->matplotlib) (1.17.0)\n",
            "Requirement already satisfied: charset-normalizer<4,>=2 in /usr/local/lib/python3.11/dist-packages (from requests->underthesea) (3.4.2)\n",
            "Requirement already satisfied: idna<4,>=2.5 in /usr/local/lib/python3.11/dist-packages (from requests->underthesea) (3.10)\n",
            "Requirement already satisfied: urllib3<3,>=1.21.1 in /usr/local/lib/python3.11/dist-packages (from requests->underthesea) (2.4.0)\n",
            "Requirement already satisfied: certifi>=2017.4.17 in /usr/local/lib/python3.11/dist-packages (from requests->underthesea) (2025.4.26)\n",
            "Requirement already satisfied: scipy>=1.6.0 in /usr/local/lib/python3.11/dist-packages (from scikit-learn->underthesea) (1.15.3)\n",
            "Requirement already satisfied: threadpoolctl>=3.1.0 in /usr/local/lib/python3.11/dist-packages (from scikit-learn->underthesea) (3.6.0)\n",
            "Downloading underthesea-6.8.4-py3-none-any.whl (20.9 MB)\n",
            "\u001b[2K   \u001b[90m━━━━━━━━━━━━━━━━━━━━━━━━━━━━━━━━━━━━━━━━\u001b[0m \u001b[32m20.9/20.9 MB\u001b[0m \u001b[31m19.6 MB/s\u001b[0m eta \u001b[36m0:00:00\u001b[0m\n",
            "\u001b[?25hDownloading underthesea_core-1.0.4-cp311-cp311-manylinux2010_x86_64.whl (657 kB)\n",
            "\u001b[2K   \u001b[90m━━━━━━━━━━━━━━━━━━━━━━━━━━━━━━━━━━━━━━━━\u001b[0m \u001b[32m657.8/657.8 kB\u001b[0m \u001b[31m10.8 MB/s\u001b[0m eta \u001b[36m0:00:00\u001b[0m\n",
            "\u001b[?25hDownloading python_docx-1.1.2-py3-none-any.whl (244 kB)\n",
            "\u001b[2K   \u001b[90m━━━━━━━━━━━━━━━━━━━━━━━━━━━━━━━━━━━━━━━━\u001b[0m \u001b[32m244.3/244.3 kB\u001b[0m \u001b[31m7.6 MB/s\u001b[0m eta \u001b[36m0:00:00\u001b[0m\n",
            "\u001b[?25hDownloading python_crfsuite-0.9.11-cp311-cp311-manylinux_2_17_x86_64.manylinux2014_x86_64.whl (1.3 MB)\n",
            "\u001b[2K   \u001b[90m━━━━━━━━━━━━━━━━━━━━━━━━━━━━━━━━━━━━━━━━\u001b[0m \u001b[32m1.3/1.3 MB\u001b[0m \u001b[31m19.4 MB/s\u001b[0m eta \u001b[36m0:00:00\u001b[0m\n",
            "\u001b[?25hInstalling collected packages: underthesea-core, python-docx, python-crfsuite, underthesea\n",
            "Successfully installed python-crfsuite-0.9.11 python-docx-1.1.2 underthesea-6.8.4 underthesea-core-1.0.4\n"
          ]
        }
      ],
      "source": [
        "pip install underthesea python-docx networkx matplotlib nltk\n"
      ]
    },
    {
      "cell_type": "code",
      "source": [
        "import networkx as nx\n",
        "import matplotlib.pyplot as plt\n",
        "from docx import Document\n",
        "from underthesea import ner\n",
        "import nltk"
      ],
      "metadata": {
        "id": "JdbhrogCxiO1"
      },
      "execution_count": null,
      "outputs": []
    },
    {
      "cell_type": "markdown",
      "source": [
        "Build mini-KG cho Chương 6"
      ],
      "metadata": {
        "id": "DAOweaWwbDiz"
      }
    },
    {
      "cell_type": "code",
      "execution_count": null,
      "metadata": {
        "colab": {
          "base_uri": "https://localhost:8080/",
          "height": 356
        },
        "collapsed": true,
        "id": "2OpiMYq8ywH-",
        "outputId": "0d52a507-2251-4c83-bbea-49f77c03303b"
      },
      "outputs": [
        {
          "output_type": "error",
          "ename": "PackageNotFoundError",
          "evalue": "Package not found at 'Điều 6.docx'",
          "traceback": [
            "\u001b[0;31m---------------------------------------------------------------------------\u001b[0m",
            "\u001b[0;31mPackageNotFoundError\u001b[0m                      Traceback (most recent call last)",
            "\u001b[0;32m<ipython-input-3-12da73a011f2>\u001b[0m in \u001b[0;36m<cell line: 0>\u001b[0;34m()\u001b[0m\n\u001b[1;32m     87\u001b[0m \u001b[0;34m\u001b[0m\u001b[0m\n\u001b[1;32m     88\u001b[0m \u001b[0mfilename\u001b[0m \u001b[0;34m=\u001b[0m \u001b[0;34m\"Điều 6.docx\"\u001b[0m\u001b[0;34m\u001b[0m\u001b[0;34m\u001b[0m\u001b[0m\n\u001b[0;32m---> 89\u001b[0;31m \u001b[0mparagraphs\u001b[0m \u001b[0;34m=\u001b[0m \u001b[0mload_docx\u001b[0m\u001b[0;34m(\u001b[0m\u001b[0mfilename\u001b[0m\u001b[0;34m)\u001b[0m\u001b[0;34m\u001b[0m\u001b[0;34m\u001b[0m\u001b[0m\n\u001b[0m\u001b[1;32m     90\u001b[0m  \u001b[0;31m# Lấy tiêu đề của Điều 6\u001b[0m\u001b[0;34m\u001b[0m\u001b[0;34m\u001b[0m\u001b[0m\n\u001b[1;32m     91\u001b[0m \u001b[0marticle_header\u001b[0m \u001b[0;34m=\u001b[0m \u001b[0mextract_article_header\u001b[0m\u001b[0;34m(\u001b[0m\u001b[0mparagraphs\u001b[0m\u001b[0;34m)\u001b[0m\u001b[0;34m\u001b[0m\u001b[0;34m\u001b[0m\u001b[0m\n",
            "\u001b[0;32m<ipython-input-3-12da73a011f2>\u001b[0m in \u001b[0;36mload_docx\u001b[0;34m(filename)\u001b[0m\n\u001b[1;32m      8\u001b[0m     \u001b[0mĐọc\u001b[0m \u001b[0mfile\u001b[0m \u001b[0mDOCX\u001b[0m \u001b[0mvà\u001b[0m \u001b[0mtrả\u001b[0m \u001b[0mvề\u001b[0m \u001b[0mdanh\u001b[0m \u001b[0msách\u001b[0m \u001b[0mcác\u001b[0m \u001b[0mđoạn\u001b[0m \u001b[0mvăn\u001b[0m \u001b[0;34m(\u001b[0m\u001b[0mparagraphs\u001b[0m\u001b[0;34m)\u001b[0m \u001b[0mkhông\u001b[0m \u001b[0mrỗng\u001b[0m\u001b[0;34m.\u001b[0m\u001b[0;34m\u001b[0m\u001b[0;34m\u001b[0m\u001b[0m\n\u001b[1;32m      9\u001b[0m     \"\"\"\n\u001b[0;32m---> 10\u001b[0;31m     \u001b[0mdoc\u001b[0m \u001b[0;34m=\u001b[0m \u001b[0mDocument\u001b[0m\u001b[0;34m(\u001b[0m\u001b[0mfilename\u001b[0m\u001b[0;34m)\u001b[0m\u001b[0;34m\u001b[0m\u001b[0;34m\u001b[0m\u001b[0m\n\u001b[0m\u001b[1;32m     11\u001b[0m     \u001b[0mparagraphs\u001b[0m \u001b[0;34m=\u001b[0m \u001b[0;34m[\u001b[0m\u001b[0mpara\u001b[0m\u001b[0;34m.\u001b[0m\u001b[0mtext\u001b[0m\u001b[0;34m.\u001b[0m\u001b[0mstrip\u001b[0m\u001b[0;34m(\u001b[0m\u001b[0;34m)\u001b[0m \u001b[0;32mfor\u001b[0m \u001b[0mpara\u001b[0m \u001b[0;32min\u001b[0m \u001b[0mdoc\u001b[0m\u001b[0;34m.\u001b[0m\u001b[0mparagraphs\u001b[0m \u001b[0;32mif\u001b[0m \u001b[0mpara\u001b[0m\u001b[0;34m.\u001b[0m\u001b[0mtext\u001b[0m\u001b[0;34m.\u001b[0m\u001b[0mstrip\u001b[0m\u001b[0;34m(\u001b[0m\u001b[0;34m)\u001b[0m\u001b[0;34m]\u001b[0m\u001b[0;34m\u001b[0m\u001b[0;34m\u001b[0m\u001b[0m\n\u001b[1;32m     12\u001b[0m     \u001b[0;32mreturn\u001b[0m \u001b[0mparagraphs\u001b[0m\u001b[0;34m\u001b[0m\u001b[0;34m\u001b[0m\u001b[0m\n",
            "\u001b[0;32m/usr/local/lib/python3.11/dist-packages/docx/api.py\u001b[0m in \u001b[0;36mDocument\u001b[0;34m(docx)\u001b[0m\n\u001b[1;32m     25\u001b[0m     \"\"\"\n\u001b[1;32m     26\u001b[0m     \u001b[0mdocx\u001b[0m \u001b[0;34m=\u001b[0m \u001b[0m_default_docx_path\u001b[0m\u001b[0;34m(\u001b[0m\u001b[0;34m)\u001b[0m \u001b[0;32mif\u001b[0m \u001b[0mdocx\u001b[0m \u001b[0;32mis\u001b[0m \u001b[0;32mNone\u001b[0m \u001b[0;32melse\u001b[0m \u001b[0mdocx\u001b[0m\u001b[0;34m\u001b[0m\u001b[0;34m\u001b[0m\u001b[0m\n\u001b[0;32m---> 27\u001b[0;31m     \u001b[0mdocument_part\u001b[0m \u001b[0;34m=\u001b[0m \u001b[0mcast\u001b[0m\u001b[0;34m(\u001b[0m\u001b[0;34m\"DocumentPart\"\u001b[0m\u001b[0;34m,\u001b[0m \u001b[0mPackage\u001b[0m\u001b[0;34m.\u001b[0m\u001b[0mopen\u001b[0m\u001b[0;34m(\u001b[0m\u001b[0mdocx\u001b[0m\u001b[0;34m)\u001b[0m\u001b[0;34m.\u001b[0m\u001b[0mmain_document_part\u001b[0m\u001b[0;34m)\u001b[0m\u001b[0;34m\u001b[0m\u001b[0;34m\u001b[0m\u001b[0m\n\u001b[0m\u001b[1;32m     28\u001b[0m     \u001b[0;32mif\u001b[0m \u001b[0mdocument_part\u001b[0m\u001b[0;34m.\u001b[0m\u001b[0mcontent_type\u001b[0m \u001b[0;34m!=\u001b[0m \u001b[0mCT\u001b[0m\u001b[0;34m.\u001b[0m\u001b[0mWML_DOCUMENT_MAIN\u001b[0m\u001b[0;34m:\u001b[0m\u001b[0;34m\u001b[0m\u001b[0;34m\u001b[0m\u001b[0m\n\u001b[1;32m     29\u001b[0m         \u001b[0mtmpl\u001b[0m \u001b[0;34m=\u001b[0m \u001b[0;34m\"file '%s' is not a Word file, content type is '%s'\"\u001b[0m\u001b[0;34m\u001b[0m\u001b[0;34m\u001b[0m\u001b[0m\n",
            "\u001b[0;32m/usr/local/lib/python3.11/dist-packages/docx/opc/package.py\u001b[0m in \u001b[0;36mopen\u001b[0;34m(cls, pkg_file)\u001b[0m\n\u001b[1;32m    125\u001b[0m     \u001b[0;32mdef\u001b[0m \u001b[0mopen\u001b[0m\u001b[0;34m(\u001b[0m\u001b[0mcls\u001b[0m\u001b[0;34m,\u001b[0m \u001b[0mpkg_file\u001b[0m\u001b[0;34m:\u001b[0m \u001b[0mstr\u001b[0m \u001b[0;34m|\u001b[0m \u001b[0mIO\u001b[0m\u001b[0;34m[\u001b[0m\u001b[0mbytes\u001b[0m\u001b[0;34m]\u001b[0m\u001b[0;34m)\u001b[0m \u001b[0;34m->\u001b[0m \u001b[0mOpcPackage\u001b[0m\u001b[0;34m:\u001b[0m\u001b[0;34m\u001b[0m\u001b[0;34m\u001b[0m\u001b[0m\n\u001b[1;32m    126\u001b[0m         \u001b[0;34m\"\"\"Return an |OpcPackage| instance loaded with the contents of `pkg_file`.\"\"\"\u001b[0m\u001b[0;34m\u001b[0m\u001b[0;34m\u001b[0m\u001b[0m\n\u001b[0;32m--> 127\u001b[0;31m         \u001b[0mpkg_reader\u001b[0m \u001b[0;34m=\u001b[0m \u001b[0mPackageReader\u001b[0m\u001b[0;34m.\u001b[0m\u001b[0mfrom_file\u001b[0m\u001b[0;34m(\u001b[0m\u001b[0mpkg_file\u001b[0m\u001b[0;34m)\u001b[0m\u001b[0;34m\u001b[0m\u001b[0;34m\u001b[0m\u001b[0m\n\u001b[0m\u001b[1;32m    128\u001b[0m         \u001b[0mpackage\u001b[0m \u001b[0;34m=\u001b[0m \u001b[0mcls\u001b[0m\u001b[0;34m(\u001b[0m\u001b[0;34m)\u001b[0m\u001b[0;34m\u001b[0m\u001b[0;34m\u001b[0m\u001b[0m\n\u001b[1;32m    129\u001b[0m         \u001b[0mUnmarshaller\u001b[0m\u001b[0;34m.\u001b[0m\u001b[0munmarshal\u001b[0m\u001b[0;34m(\u001b[0m\u001b[0mpkg_reader\u001b[0m\u001b[0;34m,\u001b[0m \u001b[0mpackage\u001b[0m\u001b[0;34m,\u001b[0m \u001b[0mPartFactory\u001b[0m\u001b[0;34m)\u001b[0m\u001b[0;34m\u001b[0m\u001b[0;34m\u001b[0m\u001b[0m\n",
            "\u001b[0;32m/usr/local/lib/python3.11/dist-packages/docx/opc/pkgreader.py\u001b[0m in \u001b[0;36mfrom_file\u001b[0;34m(pkg_file)\u001b[0m\n\u001b[1;32m     20\u001b[0m     \u001b[0;32mdef\u001b[0m \u001b[0mfrom_file\u001b[0m\u001b[0;34m(\u001b[0m\u001b[0mpkg_file\u001b[0m\u001b[0;34m)\u001b[0m\u001b[0;34m:\u001b[0m\u001b[0;34m\u001b[0m\u001b[0;34m\u001b[0m\u001b[0m\n\u001b[1;32m     21\u001b[0m         \u001b[0;34m\"\"\"Return a |PackageReader| instance loaded with contents of `pkg_file`.\"\"\"\u001b[0m\u001b[0;34m\u001b[0m\u001b[0;34m\u001b[0m\u001b[0m\n\u001b[0;32m---> 22\u001b[0;31m         \u001b[0mphys_reader\u001b[0m \u001b[0;34m=\u001b[0m \u001b[0mPhysPkgReader\u001b[0m\u001b[0;34m(\u001b[0m\u001b[0mpkg_file\u001b[0m\u001b[0;34m)\u001b[0m\u001b[0;34m\u001b[0m\u001b[0;34m\u001b[0m\u001b[0m\n\u001b[0m\u001b[1;32m     23\u001b[0m         \u001b[0mcontent_types\u001b[0m \u001b[0;34m=\u001b[0m \u001b[0m_ContentTypeMap\u001b[0m\u001b[0;34m.\u001b[0m\u001b[0mfrom_xml\u001b[0m\u001b[0;34m(\u001b[0m\u001b[0mphys_reader\u001b[0m\u001b[0;34m.\u001b[0m\u001b[0mcontent_types_xml\u001b[0m\u001b[0;34m)\u001b[0m\u001b[0;34m\u001b[0m\u001b[0;34m\u001b[0m\u001b[0m\n\u001b[1;32m     24\u001b[0m         \u001b[0mpkg_srels\u001b[0m \u001b[0;34m=\u001b[0m \u001b[0mPackageReader\u001b[0m\u001b[0;34m.\u001b[0m\u001b[0m_srels_for\u001b[0m\u001b[0;34m(\u001b[0m\u001b[0mphys_reader\u001b[0m\u001b[0;34m,\u001b[0m \u001b[0mPACKAGE_URI\u001b[0m\u001b[0;34m)\u001b[0m\u001b[0;34m\u001b[0m\u001b[0;34m\u001b[0m\u001b[0m\n",
            "\u001b[0;32m/usr/local/lib/python3.11/dist-packages/docx/opc/phys_pkg.py\u001b[0m in \u001b[0;36m__new__\u001b[0;34m(cls, pkg_file)\u001b[0m\n\u001b[1;32m     19\u001b[0m                 \u001b[0mreader_cls\u001b[0m \u001b[0;34m=\u001b[0m \u001b[0m_ZipPkgReader\u001b[0m\u001b[0;34m\u001b[0m\u001b[0;34m\u001b[0m\u001b[0m\n\u001b[1;32m     20\u001b[0m             \u001b[0;32melse\u001b[0m\u001b[0;34m:\u001b[0m\u001b[0;34m\u001b[0m\u001b[0;34m\u001b[0m\u001b[0m\n\u001b[0;32m---> 21\u001b[0;31m                 \u001b[0;32mraise\u001b[0m \u001b[0mPackageNotFoundError\u001b[0m\u001b[0;34m(\u001b[0m\u001b[0;34m\"Package not found at '%s'\"\u001b[0m \u001b[0;34m%\u001b[0m \u001b[0mpkg_file\u001b[0m\u001b[0;34m)\u001b[0m\u001b[0;34m\u001b[0m\u001b[0;34m\u001b[0m\u001b[0m\n\u001b[0m\u001b[1;32m     22\u001b[0m         \u001b[0;32melse\u001b[0m\u001b[0;34m:\u001b[0m  \u001b[0;31m# assume it's a stream and pass it to Zip reader to sort out\u001b[0m\u001b[0;34m\u001b[0m\u001b[0;34m\u001b[0m\u001b[0m\n\u001b[1;32m     23\u001b[0m             \u001b[0mreader_cls\u001b[0m \u001b[0;34m=\u001b[0m \u001b[0m_ZipPkgReader\u001b[0m\u001b[0;34m\u001b[0m\u001b[0;34m\u001b[0m\u001b[0m\n",
            "\u001b[0;31mPackageNotFoundError\u001b[0m: Package not found at 'Điều 6.docx'"
          ]
        }
      ],
      "source": [
        "import re\n",
        "from docx import Document\n",
        "import networkx as nx\n",
        "import matplotlib.pyplot as plt\n",
        "\n",
        "def load_docx(filename):\n",
        "    \"\"\"\n",
        "    Đọc file DOCX và trả về danh sách các đoạn văn (paragraphs) không rỗng.\n",
        "    \"\"\"\n",
        "    doc = Document(filename)\n",
        "    paragraphs = [para.text.strip() for para in doc.paragraphs if para.text.strip()]\n",
        "    return paragraphs\n",
        "\n",
        "def extract_article_header(paragraphs):\n",
        "    \"\"\"\n",
        "    Tìm đoạn chứa tiêu đề của Điều 6.\n",
        "    Giả sử đoạn bắt đầu bằng \"Điều 6\" chứa phần tiêu đề được in đậm.\n",
        "    \"\"\"\n",
        "    for para in paragraphs:\n",
        "        if para.startswith(\"Điều 6\"):\n",
        "            # Giả sử tiêu đề nằm sau dấu chấm đầu tiên\n",
        "            parts = para.split(\".\", 1)\n",
        "            if len(parts) > 1:\n",
        "                header = parts[1].strip()\n",
        "            else:\n",
        "                header = para.strip()\n",
        "            return header\n",
        "    return \"\"\n",
        "\n",
        "def extract_points(paragraphs):\n",
        "    \"\"\"\n",
        "    Tách các điểm trong văn bản chỉ dựa vào mẫu mở đầu dạng \"x.x)\".\n",
        "    Ví dụ: \"1.a) Nội dung điểm ...\" sẽ được chuyển thành node với nhãn \"6.1.a\"\n",
        "    và nội dung là phần văn bản sau ký hiệu đánh số.\n",
        "    \"\"\"\n",
        "    points = []\n",
        "    # Biểu thức chính quy: bắt đầu bằng số, dấu chấm, một hoặc nhiều chữ (có thể là chữ thường, in hoa hoặc ký tự 'đ')\n",
        "    pattern = re.compile(r\"^(\\d+)\\.([a-zA-ZđĐ]+)\\)\")\n",
        "    for para in paragraphs:\n",
        "        m = pattern.match(para)\n",
        "        if m:\n",
        "            num = m.group(1)\n",
        "            letter = m.group(2)\n",
        "            label = f\"6.{num}.{letter}\"  # Ví dụ: \"6.1.a\"\n",
        "            # Nội dung điểm là phần sau marker\n",
        "            content = para[m.end():].strip()\n",
        "            # Nếu nội dung bắt đầu bằng dấu gạch ngang, loại bỏ dấu này\n",
        "            if content.startswith(\"-\"):\n",
        "                content = content[1:].strip()\n",
        "            points.append((label, content))\n",
        "    return points\n",
        "\n",
        "def build_knowledge_graph(article_header, points):\n",
        "    \"\"\"\n",
        "    Xây dựng đồ thị knowledge graph vô hướng:\n",
        "      - Node chính: \"6\" với thuộc tính 'content' là tiêu đề của Điều 6.\n",
        "      - Các node điểm với nhãn dạng \"6.x.y\" và thuộc tính 'content' là nội dung điểm.\n",
        "      - Tạo cạnh nối từ node \"6\" đến mỗi node điểm.\n",
        "    \"\"\"\n",
        "    G = nx.DiGraph()  # Đồ thị có hướng hướng\n",
        "\n",
        "    # Thêm node chính \"6\"\n",
        "    main_label = \"6\"\n",
        "    G.add_node(main_label, content=article_header)\n",
        "\n",
        "    # Thêm các node điểm và cạnh nối từ node chính đến từng node điểm\n",
        "    for label, content in points:\n",
        "        G.add_node(label, content=content)\n",
        "        G.add_edge(main_label, label)\n",
        "        G.add_edge(label, main_label)\n",
        "\n",
        "    return G\n",
        "\n",
        "def draw_graph(G):\n",
        "    \"\"\"\n",
        "    Vẽ đồ thị sử dụng NetworkX và Matplotlib.\n",
        "    Các node hiển thị nhãn (key) và bạn có thể truy cập thuộc tính 'content' nếu cần.\n",
        "    \"\"\"\n",
        "    pos = nx.spring_layout(G, seed=42)\n",
        "    plt.figure(figsize=(12, 8))\n",
        "    nx.draw_networkx_nodes(G, pos, node_color='lightblue', node_size=1500)\n",
        "    nx.draw_networkx_edges(G, pos, edge_color='gray', width=2)\n",
        "    nx.draw_networkx_labels(G, pos, font_size=10)\n",
        "    plt.title(\"Knowledge Graph của Điều 6\")\n",
        "    plt.axis(\"off\")\n",
        "    plt.show()\n",
        "\n",
        "filename = \"Điều 6.docx\"\n",
        "paragraphs = load_docx(filename)\n",
        " # Lấy tiêu đề của Điều 6\n",
        "article_header = extract_article_header(paragraphs)\n",
        "print(\"Tiêu đề của Điều 6:\", article_header)\n",
        "\n",
        "# Trích xuất các điểm chỉ với mẫu mở đầu \"x.x)\"\n",
        "points = extract_points(paragraphs)\n",
        "print(\"Các điểm trích xuất:\")\n",
        "for label, content in points:\n",
        "      print(f\"{label}: {content}\")\n",
        "         # Xây dựng đồ thị knowledge graph\n",
        "G = build_knowledge_graph(article_header, points)\n",
        "\n",
        "# Vẽ đồ thị\n",
        "draw_graph(G)\n",
        "\n",
        "\n"
      ]
    },
    {
      "cell_type": "markdown",
      "metadata": {
        "id": "Zwi5MfxNxzsn"
      },
      "source": []
    },
    {
      "cell_type": "code",
      "execution_count": null,
      "metadata": {
        "id": "kyPTiNltzUdH"
      },
      "outputs": [],
      "source": [
        "G.add_edge(\"6.1.a\", \"6.2.a\", content=\"trừ các hành vi vi phạm quy định tại \")\n",
        "G.add_edge(\"6.1.a\", \"6.2.c\", content=\"trừ các hành vi vi phạm quy định tại \")\n",
        "G.add_edge(\"6.1.a\", \"6.2.d\", content=\"trừ các hành vi vi phạm quy định tại \")\n",
        "G.add_edge(\"6.1.a\", \"6.2.đ\", content=\"trừ các hành vi vi phạm quy định tại \")\n",
        "G.add_edge(\"6.1.a\", \"6.3.a\", content=\"trừ các hành vi vi phạm quy định tại \")\n",
        "G.add_edge(\"6.1.a\", \"6.3.d\", content=\"trừ các hành vi vi phạm quy định tại \")\n",
        "G.add_edge(\"6.1.a\", \"6.3.đ\", content=\"trừ các hành vi vi phạm quy định tại \")\n",
        "G.add_edge(\"6.1.a\", \"6.3.e\", content=\"trừ các hành vi vi phạm quy định tại \")\n",
        "G.add_edge(\"6.1.a\", \"6.3.n\", content=\"trừ các hành vi vi phạm quy định tại \")\n",
        "G.add_edge(\"6.1.a\", \"6.3.o\", content=\"trừ các hành vi vi phạm quy định tại \")\n",
        "G.add_edge(\"6.1.a\", \"6.4.a\", content=\"trừ các hành vi vi phạm quy định tại \")\n",
        "G.add_edge(\"6.1.a\", \"6.4.b\", content=\"trừ các hành vi vi phạm quy định tại \")\n",
        "G.add_edge(\"6.1.a\", \"6.4.đ\", content=\"trừ các hành vi vi phạm quy định tại \")\n",
        "G.add_edge(\"6.1.a\", \"6.4.e\", content=\"trừ các hành vi vi phạm quy định tại \")\n",
        "G.add_edge(\"6.1.a\", \"6.4.i\", content=\"trừ các hành vi vi phạm quy định tại \")\n",
        "G.add_edge(\"6.1.a\", \"6.4.k\", content=\"trừ các hành vi vi phạm quy định tại \")\n",
        "G.add_edge(\"6.1.a\", \"6.4.l\", content=\"trừ các hành vi vi phạm quy định tại \")\n",
        "G.add_edge(\"6.1.a\", \"6.5.a\", content=\"trừ các hành vi vi phạm quy định tại \")\n",
        "G.add_edge(\"6.1.a\", \"6.5.b\", content=\"trừ các hành vi vi phạm quy định tại \")\n",
        "G.add_edge(\"6.1.a\", \"6.5.c\", content=\"trừ các hành vi vi phạm quy định tại \")\n",
        "G.add_edge(\"6.1.a\", \"6.5.d\", content=\"trừ các hành vi vi phạm quy định tại \")\n",
        "G.add_edge(\"6.1.a\", \"6.5.đ\", content=\"trừ các hành vi vi phạm quy định tại \")\n",
        "G.add_edge(\"6.1.a\", \"6.5.i\", content=\"trừ các hành vi vi phạm quy định tại \")\n",
        "G.add_edge(\"6.1.a\", \"6.5.k\", content=\"trừ các hành vi vi phạm quy định tại \")\n",
        "G.add_edge(\"6.1.a\", \"6.6.a\", content=\"trừ các hành vi vi phạm quy định tại \")\n",
        "G.add_edge(\"6.1.a\", \"6.7.a\", content=\"trừ các hành vi vi phạm quy định tại \")\n",
        "G.add_edge(\"6.1.a\", \"6.7.b\", content=\"trừ các hành vi vi phạm quy định tại \")\n",
        "G.add_edge(\"6.1.a\", \"6.7.c\", content=\"trừ các hành vi vi phạm quy định tại \")\n",
        "G.add_edge(\"6.1.a\", \"6.9.b\", content=\"trừ các hành vi vi phạm quy định tại \")\n",
        "G.add_edge(\"6.1.a\", \"6.9.d\", content=\"trừ các hành vi vi phạm quy định tại \")\n",
        "G.add_edge(\"6.1.a\", \"6.10.a\", content=\"trừ các hành vi vi phạm quy định tại \")\n",
        "G.add_edge(\"6.1.a\", \"6.11.đ\", content=\"trừ các hành vi vi phạm quy định tại \")"
      ]
    },
    {
      "cell_type": "code",
      "execution_count": null,
      "metadata": {
        "id": "tgHh4-z_42Ge"
      },
      "outputs": [],
      "source": [
        "G.add_edge(\"6.1.c\", \"6.7.c\", content=\"trừ các hành vi vi phạm quy định tại \")\n",
        "G.add_edge(\"6.2.a\", \"6.5.g\", content=\"trừ các hành vi vi phạm quy định tại \")\n",
        "G.add_edge(\"6.2.c\", \"6.5.n\", content=\"trừ các hành vi vi phạm quy định tại \")\n",
        "G.add_edge(\"6.2.c\", \"6.5.o\", content=\"trừ các hành vi vi phạm quy định tại \")\n",
        "G.add_edge(\"6.2.đ\", \"6.4.đ\", content=\"trừ các hành vi vi phạm quy định tại \")\n",
        "G.add_edge(\"6.2.đ\", \"6.7.c\", content=\"trừ các hành vi vi phạm quy định tại \")\n",
        "G.add_edge(\"6.3.e\", \"6.4.đ\", content=\"trừ các hành vi vi phạm quy định tại \")\n",
        "G.add_edge(\"6.3.e\", \"6.7.c\", content=\"trừ các hành vi vi phạm quy định tại \")\n",
        "G.add_edge(\"6.4.b\", \"6.7.c\", content=\"trừ các hành vi vi phạm quy định tại \")\n",
        "G.add_edge(\"6.4.e\", \"6.11.đ\", content=\"trừ các hành vi vi phạm quy định tại \")"
      ]
    },
    {
      "cell_type": "code",
      "execution_count": null,
      "metadata": {
        "id": "MjCfMyq47iuY"
      },
      "outputs": [],
      "source": [
        "G.add_node(\"6.8\", content=\"Phạt tiền từ 16.000.000 đồng đến 18.000.000 đồng đối với người điều khiển xe thực hiện hành vi vi phạm gây tai nạn giao thông không dừng ngay phương tiện, không giữ nguyên hiện trường, không trợ giúp người bị nạn, không ở lại hiện trường hoặc không đến trình báo ngay với cơ quan công an, Ủy ban nhân dân nơi gần nhất.\")\n",
        "G.add_edge(\"6\", \"6.8\")\n",
        "G.add_edge(\"6.8\", \"6\")\n",
        "G.add_edge(\"6.4.g\", \"6.8\", content=\"trừ các hành vi vi phạm quy định tại \")\n",
        "G.add_edge(\"6.4.l\", \"6.5.d\", content=\"trừ các hành vi vi phạm quy định tại \")\n",
        "G.add_edge(\"6.5.b\", \"6.4.a\", content=\"trừ các hành vi vi phạm quy định tại \")\n",
        "G.add_edge(\"6.5.c\", \"6.3.b\", content=\"trừ các hành vi vi phạm quy định tại \")\n",
        "G.add_edge(\"6.5.i\", \"6.9.d\", content=\"trừ các hành vi vi phạm quy định tại \")\n",
        "G.add_edge(\"6.5.i\", \"6.11.đ\", content=\"trừ các hành vi vi phạm quy định tại \")\n",
        "G.add_edge(\"6.9.d\", \"6.11.đ\", content=\"trừ các hành vi vi phạm quy định tại \")\n",
        "G.add_edge(\"6.10.a\", \"6.11.đ\", content=\"trừ các hành vi vi phạm quy định tại \")"
      ]
    },
    {
      "cell_type": "code",
      "execution_count": null,
      "metadata": {
        "id": "N_lGbQAG9LxA"
      },
      "outputs": [],
      "source": [
        "G.add_node(\"6.10.b\", content=\"gây tai nạn giao thông, phạt tiền từ 20.000.000 đồng đến 22.000.000 đồng\")\n",
        "G.add_edge(\"6.1.a\", \"6.10.b\", content=\"mà \")\n",
        "G.add_edge(\"6.1.b\", \"6.10.b\", content=\"mà \")\n",
        "G.add_edge(\"6.1.c\", \"6.10.b\", content=\"mà \")\n",
        "G.add_edge(\"6.1.d\", \"6.10.b\", content=\"mà \")\n",
        "G.add_edge(\"6.1.đ\", \"6.10.b\", content=\"mà \")\n",
        "G.add_edge(\"6.2.c\", \"6.10.b\", content=\"mà \")\n",
        "G.add_edge(\"6.3.b\", \"6.10.b\", content=\"mà \")\n",
        "G.add_edge(\"6.3.g\", \"6.10.b\", content=\"mà \")\n",
        "G.add_edge(\"6.3.h\", \"6.10.b\", content=\"mà \")\n",
        "G.add_edge(\"6.3.n\", \"6.10.b\", content=\"mà \")\n",
        "G.add_edge(\"6.3.o\", \"6.10.b\", content=\"mà \")\n",
        "G.add_edge(\"6.3.p\", \"6.10.b\", content=\"mà \")\n",
        "G.add_edge(\"6.4.a\", \"6.10.b\", content=\"mà \")\n",
        "G.add_edge(\"6.4.c\", \"6.10.b\", content=\"mà \")\n",
        "G.add_edge(\"6.4.d\", \"6.10.b\", content=\"mà \")\n",
        "G.add_edge(\"6.5.c\", \"6.10.b\", content=\"mà \")\n",
        "G.add_edge(\"6.5.d\", \"6.10.b\", content=\"mà \")\n",
        "G.add_edge(\"6.5.e\", \"6.10.b\", content=\"mà \")\n",
        "G.add_edge(\"6.5.h\", \"6.10.b\", content=\"mà \")\n",
        "G.add_edge(\"6.5.n\", \"6.10.b\", content=\"mà \")\n",
        "G.add_edge(\"6.5.o\", \"6.10.b\", content=\"mà \")\n",
        "G.add_edge(\"6.5.q\", \"6.10.b\", content=\"mà \")\n",
        "G.add_edge(\"6.7.b\", \"6.10.b\", content=\"mà \")\n",
        "G.add_edge(\"6.9.b\", \"6.10.b\", content=\"mà \")\n",
        "G.add_edge(\"6.9.c\", \"6.10.b\", content=\"mà \")\n",
        "G.add_edge(\"6.9.d\", \"6.10.b\", content=\"mà \")"
      ]
    },
    {
      "cell_type": "code",
      "execution_count": null,
      "metadata": {
        "id": "Gq4FP2V4Axg8"
      },
      "outputs": [],
      "source": [
        "G.add_node(\"6.12\", content=\"Người điều khiển xe thực hiện hành vi điều khiển xe lạng lách, đánh võng trên đường bộ; chạy quá tốc độ đuổi nhau trên đường bộ; dùng chân điều khiển vô lăng xe khi xe đang chạy trên đường bộ -> Bị phạt tiền từ 40.000.000 đồng đến 50.000.000 đồng\")\n",
        "G.add_node(\"6.13\", content=\"phạt tiền thêm từ 50.000.000 đồng đến 70.000.000 đồng \")\n",
        "G.add_node(\"6.14\", content=\"Tịch thu phương tiện đối với người điều khiển xe tái phạm hành vi điều khiển xe lạng lách, đánh võng quy định\")\n",
        "G.add_node(\"6.15.a\", content=\"Tịch thu thiết bị phát tín hiệu ưu tiên lắp đặt, sử dụng trái quy định\")\n",
        "G.add_node(\"6.15.b\", content=\"Tước quyền sử dụng giấy phép lái xe từ 10 tháng đến 12 tháng\")\n",
        "G.add_node(\"6.15.c\", content=\"Tước quyền sử dụng giấy phép lái xe từ 22 tháng đến 24 tháng\")\n",
        "G.add_node(\"6.16.a\", content=\"Trừ điểm giấy phép lái xe 02 điểm\")\n",
        "G.add_node(\"6.16.b\", content=\"Trừ điểm giấy phép lái xe 04 điểm\")\n",
        "G.add_node(\"6.16.c\", content=\"Trừ điểm giấy phép lái xe 06 điểm\")\n",
        "G.add_node(\"6.16.d\", content=\"Trừ điểm giấy phép lái xe 10 điểm\")"
      ]
    },
    {
      "cell_type": "code",
      "execution_count": null,
      "metadata": {
        "id": "9TfmRoV7qS_8"
      },
      "outputs": [],
      "source": [
        "G.add_edge(\"6.12\", \"6.13\", content =\"Nếu gây tai nan giao thông, \")"
      ]
    },
    {
      "cell_type": "code",
      "execution_count": null,
      "metadata": {
        "id": "RHTQeUfu-_r4"
      },
      "outputs": [],
      "source": [
        "G.add_edge(\"6\", \"6.12\")\n",
        "G.add_edge(\"6.12\", \"6\")\n",
        "G.add_edge(\"6\", \"6.13\")\n",
        "G.add_edge(\"6.13\", \"6\")\n",
        "G.add_edge(\"6\", \"6.14\")\n",
        "G.add_edge(\"6.14\", \"6\")\n",
        "G.add_edge(\"6\", \"6.15.a\")\n",
        "G.add_edge(\"6.15.a\", \"6\")\n",
        "G.add_edge(\"6\", \"6.15.b\")\n",
        "G.add_edge(\"6.15.b\", \"6\")\n",
        "G.add_edge(\"6\", \"6.15.c\")\n",
        "G.add_edge(\"6.15.c\", \"6\")\n",
        "G.add_edge(\"6\", \"6.16.a\")\n",
        "G.add_edge(\"6.16.a\", \"6\")\n",
        "G.add_edge(\"6\", \"6.16.b\")\n",
        "G.add_edge(\"6.16.b\", \"6\")\n",
        "G.add_edge(\"6\", \"6.16.c\")\n",
        "G.add_edge(\"6.16.c\", \"6\")\n",
        "G.add_edge(\"6\", \"6.16.d\")\n",
        "G.add_edge(\"6.16.d\", \"6\")"
      ]
    },
    {
      "cell_type": "code",
      "execution_count": null,
      "metadata": {
        "id": "010-LT48-GTI"
      },
      "outputs": [],
      "source": [
        "G.add_edge(\"6.12\", \"6.14\", content=\"bị \")\n",
        "G.add_edge(\"6.5.e\", \"6.15.a\", content=\"bị \")\n",
        "G.add_edge(\"6.12\", \"6.15.b\", content=\"bị \")\n",
        "G.add_edge(\"6.11.a\", \"6.15.c\", content=\"bị \")\n",
        "G.add_edge(\"6.11.b\", \"6.15.c\", content=\"bị \")\n",
        "G.add_edge(\"6.11.c\", \"6.15.c\", content=\"bị \")\n",
        "G.add_edge(\"6.11.d\", \"6.15.c\", content=\"bị \")\n",
        "G.add_edge(\"6.13\", \"6.15.c\", content=\"bị \")\n",
        "G.add_edge(\"6.14\", \"6.15.c\", content=\"bị \")\n",
        "G.add_edge(\"6.14\", \"6.15.c\", content=\"bị \")"
      ]
    },
    {
      "cell_type": "code",
      "execution_count": null,
      "metadata": {
        "id": "LFFngx5uG7mA"
      },
      "outputs": [],
      "source": [
        "G.add_edge(\"6.3.h\", \"6.16.a\", content=\"bị \")\n",
        "G.add_edge(\"6.3.i\", \"6.16.a\", content=\"bị \")\n",
        "G.add_edge(\"6.4.a\", \"6.16.a\", content=\"bị \")\n",
        "G.add_edge(\"6.4.b\", \"6.16.a\", content=\"bị \")\n",
        "G.add_edge(\"6.4.c\", \"6.16.a\", content=\"bị \")\n",
        "G.add_edge(\"6.4.d\", \"6.16.a\", content=\"bị \")\n",
        "G.add_edge(\"6.4.đ\", \"6.16.a\", content=\"bị \")\n",
        "G.add_edge(\"6.4.g\", \"6.16.a\", content=\"bị \")\n",
        "G.add_edge(\"6.5.a\", \"6.16.a\", content=\"bị \")\n",
        "G.add_edge(\"6.5.b\", \"6.16.a\", content=\"bị \")\n",
        "G.add_edge(\"6.5.c\", \"6.16.a\", content=\"bị \")\n",
        "G.add_edge(\"6.5.d\", \"6.16.a\", content=\"bị \")\n",
        "G.add_edge(\"6.5.đ\", \"6.16.a\", content=\"bị \")\n",
        "G.add_edge(\"6.5.e\", \"6.16.a\", content=\"bị \")\n",
        "G.add_edge(\"6.5.g\", \"6.16.a\", content=\"bị \")\n",
        "G.add_edge(\"6.5.i\", \"6.16.a\", content=\"bị \")\n",
        "G.add_edge(\"6.5.k\", \"6.16.a\", content=\"bị \")\n",
        "G.add_edge(\"6.5.n\", \"6.16.a\", content=\"bị \")\n",
        "G.add_edge(\"6.5.o\", \"6.16.a\", content=\"bị \")\n",
        "G.add_edge(\"6.5.h\", \"6.16.b\", content=\"bị \")\n",
        "G.add_edge(\"6.7.b\", \"6.16.b\", content=\"bị \")\n",
        "G.add_edge(\"6.8\", \"6.16.c\", content=\"bị \")\n",
        "G.add_edge(\"6.9.b\", \"6.16.b\", content=\"bị \")\n",
        "G.add_edge(\"6.9.c\", \"6.16.b\", content=\"bị \")\n",
        "G.add_edge(\"6.9.d\", \"6.16.b\", content=\"bị \")\n",
        "G.add_edge(\"6.5.p\", \"6.16.c\", content=\"bị \")\n",
        "G.add_edge(\"6.6.a\", \"6.16.b\", content=\"bị \")\n",
        "G.add_edge(\"6.6.b\", \"6.16.b\", content=\"bị \")\n",
        "G.add_edge(\"6.6.c\", \"6.16.b\", content=\"bị \")\n",
        "G.add_edge(\"6.6.d\", \"6.16.b\", content=\"bị \")\n",
        "G.add_edge(\"6.7.a\", \"6.16.c\", content=\"bị \")\n",
        "G.add_edge(\"6.7.c\", \"6.16.c\", content=\"bị \")\n",
        "G.add_edge(\"6.9.a\", \"6.16.d\", content=\"bị \")\n",
        "G.add_edge(\"6.11.đ\", \"6.16.d\", content=\"bị \")\n",
        "G.add_edge(\"6.10.a\", \"6.16.d\", content=\"bị \")\n",
        "G.add_edge(\"6.10.b\", \"6.16.d\", content=\"bị \")"
      ]
    },
    {
      "cell_type": "code",
      "execution_count": null,
      "metadata": {
        "colab": {
          "base_uri": "https://localhost:8080/",
          "height": 676
        },
        "id": "Cuv9OgulK0q5",
        "outputId": "78e6d752-1423-40b5-b7cc-b10e63bef72b"
      },
      "outputs": [
        {
          "data": {
            "image/png": "[encoded data removed]",
            "text/plain": [
              "<Figure size 1200x800 with 1 Axes>"
            ]
          },
          "metadata": {},
          "output_type": "display_data"
        }
      ],
      "source": [
        "draw_graph(G)"
      ]
    },
    {
      "cell_type": "code",
      "execution_count": null,
      "metadata": {
        "id": "UEcqUzE7ahMl"
      },
      "outputs": [],
      "source": [
        "import networkx as nx\n",
        "\n",
        "# Giả sử G là đồ thị đã được tạo và có chứa cạnh giữa \"A\" và \"B\"\n",
        "if G.has_edge(\"6\", \"6.10.b\"):\n",
        "    G.remove_edge(\"6\", \"6.10.b\")\n",
        "G.remove_edge(\"6\", \"6.15.c\")\n",
        "G.remove_edge(\"6\", \"6.16.a\")\n",
        "G.remove_edge(\"6\", \"6.16.b\")\n",
        "G.remove_edge(\"6\", \"6.16.c\")\n",
        "G.remove_edge(\"6\", \"6.16.d\")"
      ]
    },
    {
      "cell_type": "code",
      "execution_count": null,
      "metadata": {
        "id": "Ssio5spFrlpm"
      },
      "outputs": [],
      "source": [
        "G.remove_edge(\"6.15.c\", \"6\")"
      ]
    },
    {
      "cell_type": "code",
      "execution_count": null,
      "metadata": {
        "colab": {
          "base_uri": "https://localhost:8080/",
          "height": 408
        },
        "id": "c1wCSFKEW15l",
        "outputId": "b3790ebd-af07-4a31-f3be-8935705177d5"
      },
      "outputs": [
        {
          "ename": "NetworkXError",
          "evalue": "The node 6.10.c is not in the digraph.",
          "output_type": "error",
          "traceback": [
            "\u001b[0;31m---------------------------------------------------------------------------\u001b[0m",
            "\u001b[0;31mKeyError\u001b[0m                                  Traceback (most recent call last)",
            "\u001b[0;32m/usr/local/lib/python3.11/dist-packages/networkx/classes/digraph.py\u001b[0m in \u001b[0;36mremove_node\u001b[0;34m(self, n)\u001b[0m\n\u001b[1;32m    598\u001b[0m         \u001b[0;32mtry\u001b[0m\u001b[0;34m:\u001b[0m\u001b[0;34m\u001b[0m\u001b[0;34m\u001b[0m\u001b[0m\n\u001b[0;32m--> 599\u001b[0;31m             \u001b[0mnbrs\u001b[0m \u001b[0;34m=\u001b[0m \u001b[0mself\u001b[0m\u001b[0;34m.\u001b[0m\u001b[0m_succ\u001b[0m\u001b[0;34m[\u001b[0m\u001b[0mn\u001b[0m\u001b[0;34m]\u001b[0m\u001b[0;34m\u001b[0m\u001b[0;34m\u001b[0m\u001b[0m\n\u001b[0m\u001b[1;32m    600\u001b[0m             \u001b[0;32mdel\u001b[0m \u001b[0mself\u001b[0m\u001b[0;34m.\u001b[0m\u001b[0m_node\u001b[0m\u001b[0;34m[\u001b[0m\u001b[0mn\u001b[0m\u001b[0;34m]\u001b[0m\u001b[0;34m\u001b[0m\u001b[0;34m\u001b[0m\u001b[0m\n",
            "\u001b[0;31mKeyError\u001b[0m: '6.10.c'",
            "\nThe above exception was the direct cause of the following exception:\n",
            "\u001b[0;31mNetworkXError\u001b[0m                             Traceback (most recent call last)",
            "\u001b[0;32m<ipython-input-25-1d7e9303c132>\u001b[0m in \u001b[0;36m<cell line: 0>\u001b[0;34m()\u001b[0m\n\u001b[0;32m----> 1\u001b[0;31m \u001b[0mG\u001b[0m\u001b[0;34m.\u001b[0m\u001b[0mremove_node\u001b[0m\u001b[0;34m(\u001b[0m\u001b[0;34m\"6.10.c\"\u001b[0m\u001b[0;34m)\u001b[0m\u001b[0;34m\u001b[0m\u001b[0;34m\u001b[0m\u001b[0m\n\u001b[0m",
            "\u001b[0;32m/usr/local/lib/python3.11/dist-packages/networkx/classes/digraph.py\u001b[0m in \u001b[0;36mremove_node\u001b[0;34m(self, n)\u001b[0m\n\u001b[1;32m    600\u001b[0m             \u001b[0;32mdel\u001b[0m \u001b[0mself\u001b[0m\u001b[0;34m.\u001b[0m\u001b[0m_node\u001b[0m\u001b[0;34m[\u001b[0m\u001b[0mn\u001b[0m\u001b[0;34m]\u001b[0m\u001b[0;34m\u001b[0m\u001b[0;34m\u001b[0m\u001b[0m\n\u001b[1;32m    601\u001b[0m         \u001b[0;32mexcept\u001b[0m \u001b[0mKeyError\u001b[0m \u001b[0;32mas\u001b[0m \u001b[0merr\u001b[0m\u001b[0;34m:\u001b[0m  \u001b[0;31m# NetworkXError if n not in self\u001b[0m\u001b[0;34m\u001b[0m\u001b[0;34m\u001b[0m\u001b[0m\n\u001b[0;32m--> 602\u001b[0;31m             \u001b[0;32mraise\u001b[0m \u001b[0mNetworkXError\u001b[0m\u001b[0;34m(\u001b[0m\u001b[0;34mf\"The node {n} is not in the digraph.\"\u001b[0m\u001b[0;34m)\u001b[0m \u001b[0;32mfrom\u001b[0m \u001b[0merr\u001b[0m\u001b[0;34m\u001b[0m\u001b[0;34m\u001b[0m\u001b[0m\n\u001b[0m\u001b[1;32m    603\u001b[0m         \u001b[0;32mfor\u001b[0m \u001b[0mu\u001b[0m \u001b[0;32min\u001b[0m \u001b[0mnbrs\u001b[0m\u001b[0;34m:\u001b[0m\u001b[0;34m\u001b[0m\u001b[0;34m\u001b[0m\u001b[0m\n\u001b[1;32m    604\u001b[0m             \u001b[0;32mdel\u001b[0m \u001b[0mself\u001b[0m\u001b[0;34m.\u001b[0m\u001b[0m_pred\u001b[0m\u001b[0;34m[\u001b[0m\u001b[0mu\u001b[0m\u001b[0;34m]\u001b[0m\u001b[0;34m[\u001b[0m\u001b[0mn\u001b[0m\u001b[0;34m]\u001b[0m  \u001b[0;31m# remove all edges n-u in digraph\u001b[0m\u001b[0;34m\u001b[0m\u001b[0;34m\u001b[0m\u001b[0m\n",
            "\u001b[0;31mNetworkXError\u001b[0m: The node 6.10.c is not in the digraph."
          ]
        }
      ],
      "source": [
        "G.remove_node(\"6.10.c\")"
      ]
    },
    {
      "cell_type": "code",
      "execution_count": null,
      "metadata": {
        "id": "X8L8XiwlXQMX"
      },
      "outputs": [],
      "source": [
        "G.add_edge(\"6.5.c\", \"6.10.b\", content=\"mà \")\n",
        "G.add_edge(\"6.5.d\", \"6.10.b\", content=\"mà \")\n",
        "G.add_edge(\"6.5.e\", \"6.10.b\", content=\"mà \")\n",
        "G.add_edge(\"6.5.h\", \"6.10.b\", content=\"mà \")\n",
        "G.add_edge(\"6.5.n\", \"6.10.b\", content=\"mà \")\n",
        "G.add_edge(\"6.5.o\", \"6.10.b\", content=\"mà \")\n",
        "G.add_edge(\"6.5.q\", \"6.10.b\", content=\"mà \")\n",
        "G.add_edge(\"6.7.b\", \"6.10.b\", content=\"mà \")\n",
        "G.add_edge(\"6.9.b\", \"6.10.b\", content=\"mà \")\n",
        "G.add_edge(\"6.9.c\", \"6.10.b\", content=\"mà \")\n",
        "G.add_edge(\"6.9.d\", \"6.10.b\", content=\"mà \")"
      ]
    },
    {
      "cell_type": "code",
      "execution_count": null,
      "metadata": {
        "id": "WSnhWXNMUyKu"
      },
      "outputs": [],
      "source": [
        "edges = [\n",
        "    (\"6.1.a\", \"6.10.b\"), (\"6.1.b\", \"6.10.b\"), (\"6.1.c\", \"6.10.b\"),\n",
        "    (\"6.1.d\", \"6.10.b\"), (\"6.1.đ\", \"6.10.b\"), (\"6.2.c\", \"6.10.b\"),\n",
        "    (\"6.3.b\", \"6.10.b\"), (\"6.3.g\", \"6.10.b\"), (\"6.3.h\", \"6.10.b\"),\n",
        "    (\"6.3.n\", \"6.10.b\"), (\"6.3.o\", \"6.10.b\"), (\"6.3.p\", \"6.10.b\"),\n",
        "    (\"6.4.a\", \"6.10.b\"), (\"6.4.c\", \"6.10.b\"), (\"6.4.d\", \"6.10.b\"),\n",
        "    (\"6.5.c\", \"6.10.b\"), (\"6.5.d\", \"6.10.b\"), (\"6.5.e\", \"6.10.b\"),\n",
        "    (\"6.5.h\", \"6.10.b\"), (\"6.5.n\", \"6.10.b\"), (\"6.5.o\", \"6.10.b\"),\n",
        "    (\"6.5.q\", \"6.10.b\"), (\"6.7.b\", \"6.10.b\"), (\"6.9.b\", \"6.10.b\"),\n",
        "    (\"6.9.c\", \"6.10.b\"), (\"6.9.d\", \"6.10.b\")\n",
        "]\n",
        "for u, v in edges:\n",
        "   G.edges[u, v][\"content\"] = \"Nếu \"\n"
      ]
    },
    {
      "cell_type": "code",
      "execution_count": null,
      "metadata": {
        "id": "WbpGBqyjVo1H"
      },
      "outputs": [],
      "source": [
        "case = \"\""
      ]
    },
    {
      "cell_type": "code",
      "execution_count": null,
      "metadata": {
        "id": "j_kUFV9-Z0hY"
      },
      "outputs": [],
      "source": [
        "for i in neighbors:\n",
        "   case = case + \"Điểm \" + i + \": \" + G.nodes[i]['content'] + \"\\n\""
      ]
    },
    {
      "cell_type": "code",
      "execution_count": null,
      "metadata": {
        "id": "phEGSg75WNiq"
      },
      "outputs": [],
      "source": [
        "user_question = \"Anh A vượt đèn đỏ, vượt quá tốc độ cho phép 15km/h, gây tai nạn nhưng bỏ trốn. Hỏi anh A bị xử phạt như thế nào?\""
      ]
    },
    {
      "cell_type": "code",
      "execution_count": null,
      "metadata": {
        "id": "77CbFAxoU4bi"
      },
      "outputs": [],
      "source": [
        "response = models.generate_content(\"Cho câu hỏi: \" + user_question + \" Bạn hãy cho tôi biết và liệt kê số hiệu và tên của của các điều khoản điểm nào trong Nghị định 168/2024/NĐ-CP mà tôi cung cấp dưới đây liên quan hoặc giống lỗi mà người trong câu hỏi mắc phải mà tôi cung cấp dưới đây được không: \\n\" + case)"
      ]
    },
    {
      "cell_type": "code",
      "execution_count": null,
      "metadata": {
        "colab": {
          "base_uri": "https://localhost:8080/",
          "height": 105
        },
        "collapsed": true,
        "id": "KrnDTt15Zgzx",
        "outputId": "854996f5-f640-49f1-9c6d-8b37f2ddf193"
      },
      "outputs": [
        {
          "data": {
            "application/vnd.google.colaboratory.intrinsic+json": {
              "type": "string"
            },
            "text/plain": [
              "'Điểm 6.1.a: Không chấp hành hiệu lệnh, chỉ dẫn của biển báo hiệu, vạch kẻ đường -  Phạt tiền từ 400.000 đồng đến 600.000 đồng\\nĐiểm 6.1.b: Khi ra, vào vị trí dừng xe, đỗ xe không có tín hiệu báo cho người điều khiển phương tiện khác biết - Phạt tiền từ 400.000 đồng đến 600.000 đồng\\nĐiểm 6.1.c: Không báo hiệu bằng đèn khẩn cấp hoặc không đặt biển cảnh báo “Chú ý xe đỗ” theo quy định trong trường hợp gặp sự cố kỹ thuật (hoặc bất khả kháng khác) buộc phải đỗ xe chiếm một phần đường xe chạy hoặc tại nơi không được phép đỗ xe  -  Phạt tiền từ 400.000 đồng đến 600.000 đồng\\nĐiểm 6.1.d: Không gắn biển báo hiệu ở phía trước xe kéo, phía sau xe được kéo; điều khiển xe kéo rơ moóc không có biển báo hiệu theo quy định;  -  Phạt tiền từ 400.000 đồng đến 600.000 đồng\\nĐiểm 6.1.đ: Sử dụng còi trong thời gian từ 22 giờ ngày hôm trước đến 05 giờ ngày hôm sau trong khu đông dân cư, khu vực cơ sở khám bệnh, chữa bệnh, trừ các xe ưu tiên đang đi làm nhiệm vụ theo quy định.  -  Phạt tiền từ 400.000 đồng đến 600.000 đồng\\nĐiểm 6.2.a: Chuyển làn đường không đúng nơi cho phép hoặc không có tín hiệu báo trước hoặc chuyển làn đường không đúng quy định “mỗi lần chuyển làn đường chỉ được phép chuyển sang một làn đường liền kề” - Phạt tiền từ 600.000 đồng đến 800.000 đồng\\nĐiểm 6.2.b: Chở người trên buồng lái quá số lượng quy định;- Phạt tiền từ 600.000 đồng đến 800.000 đồng\\nĐiểm 6.2.c: Không tuân thủ các quy định về nhường đường tại nơi đường bộ giao nhau- Phạt tiền từ 600.000 đồng đến 800.000 đồng\\nĐiểm 6.2.d: Dừng xe, đỗ xe trên phần đường xe chạy ở đoạn đường ngoài đô thị nơi có lề đường rộng; dừng xe, đỗ xe không sát mép đường phía bên phải theo chiều đi ở nơi đường có lề đường hẹp hoặc không có lề đường; dừng xe, đỗ xe ngược với chiều lưu thông của làn đường; dừng xe, đỗ xe trên dải phân cách cố định ở giữa hai phần đường xe chạy; đỗ xe trên dốc không chèn bánh;- Phạt tiền từ 600.000 đồng đến 800.000 đồng\\nĐiểm 6.2.đ: Dừng xe không sát theo lề đường, vỉa hè phía bên phải theo chiều đi hoặc bánh xe gần nhất cách lề đường, vỉa hè quá 0,25 mét; dừng xe trên đường dành riêng cho xe buýt; dừng xe trên miệng cống thoát nước, miệng hầm của đường điện thoại, điện cao thế, chỗ dành riêng cho xe chữa cháy lấy nước; rời vị trí lái, tắt máy khi dừng xe (trừ trường hợp rời khỏi vị trí lái để đóng, mở cửa xe, xếp dỡ hàng hóa, kiểm tra kỹ thuật xe) hoặc rời vị trí lái khi dừng xe nhưng không sử dụng phanh đỗ xe (hoặc thực hiện biện pháp an toàn khác); dừng xe, đỗ xe không đúng vị trí quy định ở những đoạn có bố trí nơi dừng xe, đỗ xe; dừng xe, đỗ xe trên phần đường dành cho người đi bộ qua đường; dừng xe nơi có biển “Cấm dừng xe và đỗ xe”- Phạt tiền từ 600.000 đồng đến 800.000 đồng\\nĐiểm 6.3.a: Điều khiển xe chạy quá tốc độ quy định từ 05 km/h đến dưới 10 km/h; - Phạt tiền từ 800.000 đồng đến 1.000.000 đồng\\nĐiểm 6.3.b: Sử dụng còi, rú ga liên tục; sử dụng còi hơi, sử dụng đèn chiếu xa khi gặp người đi bộ qua đường hoặc khi đi trên đoạn đường qua khu dân cư có hệ thống chiếu sáng đang hoạt động hoặc khi gặp xe đi ngược chiều (trừ trường hợp dải phân cách có khả năng chống chói) hoặc khi chuyển hướng xe tại nơi đường giao nhau, trừ các xe ưu tiên đang đi làm nhiệm vụ theo quy định;- Phạt tiền từ 800.000 đồng đến 1.000.000 đồng\\nĐiểm 6.3.c: Chuyển hướng không quan sát hoặc không bảo đảm khoảng cách an toàn với xe phía sau hoặc không giảm tốc độ hoặc không có tín hiệu báo hướng rẽ hoặc có tín hiệu báo hướng rẽ nhưng không sử dụng liên tục trong quá trình chuyển hướng (trừ trường hợp điều khiển xe đi theo hướng cong của đoạn đường bộ ở nơi đường không giao nhau cùng mức);- Phạt tiền từ 800.000 đồng đến 1.000.000 đồng\\nĐiểm 6.3.d: Không tuân thủ các quy định về dừng xe, đỗ xe tại nơi đường bộ giao nhau cùng mức với đường sắt; dừng xe, đỗ xe trong phạm vi bảo vệ công trình đường sắt, phạm vi an toàn của đường sắt;- Phạt tiền từ 800.000 đồng đến 1.000.000 đồng\\nĐiểm 6.3.đ: Dừng xe, đỗ xe tại vị trí: nơi đường bộ giao nhau hoặc trong phạm vi 05 mét tính từ mép đường giao nhau; điểm đón, trả khách; trước cổng hoặc trong phạm vi 05 mét hai bên cổng trụ sở cơ quan, tổ chức có bố trí đường cho xe ra, vào; nơi phần đường có bề rộng chỉ đủ cho một làn xe cơ giới; che khuất biển báo hiệu đường bộ, đèn tín hiệu giao thông; nơi mở dải phân cách giữa; cách xe ô tô đang đỗ ngược chiều dưới 20 mét trên đường phố hẹp, dưới 40 mét trên đường có một làn xe cơ giới trên một chiều đường;- Phạt tiền từ 800.000 đồng đến 1.000.000 đồng\\nĐiểm 6.3.e: Đỗ xe không sát theo lề đường, vỉa hè phía bên phải theo chiều đi hoặc bánh xe gần nhất cách lề đường, vỉa hè quá 0,25 mét; đỗ xe trên đường dành riêng cho xe buýt; đỗ xe trên miệng cống thoát nước, miệng hầm của đường điện thoại, điện cao thế, chỗ dành riêng cho xe chữa cháy lấy nước; đỗ, để xe ở vỉa hè trái quy định của pháp luật; đỗ xe nơi có biển “Cấm đỗ xe” hoặc biển “Cấm dừng xe và đỗ xe”- Phạt tiền từ 800.000 đồng đến 1.000.000 đồng\\nĐiểm 6.3.g: Không sử dụng hoặc sử dụng không đủ đèn chiếu sáng trong thời gian từ 18 giờ ngày hôm trước đến 06 giờ ngày hôm sau hoặc khi có sương mù, khói, bụi, trời mưa, thời tiết xấu làm hạn chế tầm nhìn;- Phạt tiền từ 800.000 đồng đến 1.000.000 đồng\\nĐiểm 6.3.h: Điều khiển xe ô tô kéo theo xe khác, vật khác (trừ trường hợp kéo theo một rơ moóc, sơ mi rơ moóc hoặc một xe ô tô, xe máy chuyên dùng khác khi xe này không tự chạy được); điều khiển xe ô tô đẩy xe khác, vật khác; điều khiển xe kéo rơ moóc, sơ mi rơ moóc kéo thêm rơ moóc hoặc xe khác, vật khác; không nối chắc chắn, an toàn giữa xe kéo và xe được kéo khi kéo nhau;- Phạt tiền từ 800.000 đồng đến 1.000.000 đồng\\nĐiểm 6.3.i: Chở người trên xe được kéo, trừ người điều khiển;- Phạt tiền từ 800.000 đồng đến 1.000.000 đồng\\nĐiểm 6.3.k: Không thắt dây đai an toàn khi điều khiển xe chạy trên đường;- Phạt tiền từ 800.000 đồng đến 1.000.000 đồng\\nĐiểm 6.3.l: Chở người trên xe ô tô không thắt dây đai an toàn (tại vị trí có trang bị dây đai an toàn) khi xe đang chạy;- Phạt tiền từ 800.000 đồng đến 1.000.000 đồng\\nĐiểm 6.3.m: Chở trẻ em dưới 10 tuổi và chiều cao dưới 1,35 mét trên xe ô tô ngồi cùng hàng ghế với người lái xe (trừ loại xe ô tô chỉ có một hàng ghế) hoặc không sử dụng thiết bị an toàn phù hợp cho trẻ em theo quy định;- Phạt tiền từ 800.000 đồng đến 1.000.000 đồng\\nĐiểm 6.3.n: Chạy trong hầm đường bộ không sử dụng đèn chiếu sáng gần;- Phạt tiền từ 800.000 đồng đến 1.000.000 đồng\\nĐiểm 6.3.o: Điều khiển xe chạy dưới tốc độ tối thiểu trên đoạn đường bộ có quy định tốc độ tối thiểu cho phép;- Phạt tiền từ 800.000 đồng đến 1.000.000 đồng\\nĐiểm 6.3.p: Điều khiển xe chạy tốc độ thấp hơn các xe khác đi cùng chiều mà không đi về làn đường bên phải chiều đi của mình, trừ trường hợp các xe khác đi cùng chiều chạy quá tốc độ quy định.- Phạt tiền từ 800.000 đồng đến 1.000.000 đồng\\nĐiểm 6.4.a: Điều khiển xe không đủ điều kiện đã thu phí theo hình thức điện tử tự động không dừng (xe không gắn thẻ đầu cuối) đi vào làn đường dành riêng thu phí theo hình thức điện tử tự động không dừng tại các trạm thu phí;- Phạt tiền từ 2.000.000 đồng đến 3.000.000 đồng\\nĐiểm 6.4.b: Dừng xe, đỗ xe tại vị trí: bên trái đường một chiều hoặc bên trái (theo hướng lưu thông) của đường đôi; trên đoạn đường cong hoặc gần đầu dốc nơi tầm nhìn bị che khuất; trên cầu (trừ trường hợp tổ chức giao thông cho phép), gầm cầu vượt (trừ những nơi cho phép dừng xe, đỗ xe), song song với một xe khác đang dừng, đỗ- Phạt tiền từ 2.000.000 đồng đến 3.000.000 đồng\\nĐiểm 6.4.c: Không thực hiện biện pháp bảo đảm an toàn theo quy định khi xe ô tô bị hư hỏng ngay tại nơi đường bộ giao nhau cùng mức với đường sắt;- Phạt tiền từ 2.000.000 đồng đến 3.000.000 đồng\\nĐiểm 6.4.d: Không nhường đường cho xe xin vượt khi có đủ điều kiện an toàn;- Phạt tiền từ 2.000.000 đồng đến 3.000.000 đồng\\nĐiểm 6.4.đ: Lùi xe, quay đầu xe trong hầm đường bộ; dừng xe, đỗ xe trong hầm đường bộ không đúng nơi quy định; không có báo hiệu bằng đèn khẩn cấp, không đặt biển cảnh báo \"Chú ý xe đỗ\" (hoặc đèn cảnh báo) về phía sau xe khoảng cách đảm bảo an toàn khi dừng xe, đỗ xe trong hầm đường bộ trong trường hợp gặp sự cố kỹ thuật hoặc bất khả kháng khác buộc phải dừng xe, đỗ xe;- Phạt tiền từ 2.000.000 đồng đến 3.000.000 đồng\\nĐiểm 6.4.e: Lùi xe ở đường một chiều, đường có biển “Cấm đi ngược chiều”, khu vực cấm dừng, trên phần đường dành cho người đi bộ qua đường, nơi đường bộ giao nhau, nơi đường bộ giao nhau cùng mức với đường sắt, nơi tầm nhìn bị che khuất; lùi xe không quan sát hai bên, phía sau xe hoặc không có tín hiệu lùi xe- Phạt tiền từ 2.000.000 đồng đến 3.000.000 đồng - Phạt tiền từ 2.000.000 đồng đến 3.000.000 đồng\\nĐiểm 6.4.g: Điều khiển xe có liên quan trực tiếp đến vụ tai nạn giao thông mà không dừng ngay phương tiện, không giữ nguyên hiện trường, không trợ giúp người bị nạn,- Phạt tiền từ 2.000.000 đồng đến 3.000.000 đồng\\nĐiểm 6.4.h: Xe được quyền ưu tiên lắp đặt, sử dụng thiết bị phát tín hiệu ưu tiên không đúng quy định hoặc sử dụng thiết bị phát tín hiệu ưu tiên mà không có giấy phép của cơ quan có thẩm quyền cấp hoặc có giấy phép của cơ quan có thẩm quyền cấp nhưng không còn giá trị sử dụng theo quy định;- Phạt tiền từ 2.000.000 đồng đến 3.000.000 đồng\\nĐiểm 6.4.i: Quay đầu xe ở phần đường dành cho người đi bộ qua đường, trên cầu, đầu cầu, gầm cầu vượt, ngầm, tại nơi đường bộ giao nhau cùng mức với đường sắt, đường hẹp, đường dốc, đoạn đường cong tầm nhìn bị che khuất, trên đường một chiều, trừ khi có hiệu lệnh của người điều khiển giao thông hoặc chỉ dẫn của biển báo hiệu tạm thời hoặc tổ chức giao thông tại những khu vực này có bố trí nơi quay đầu xe;- Phạt tiền từ 2.000.000 đồng đến 3.000.000 đồng\\nĐiểm 6.4.k: Quay đầu xe tại nơi có biển báo hiệu có nội dung cấm quay đầu đối với loại phương tiện đang điều khiển; điều khiển xe rẽ trái tại nơi có biển báo hiệu có nội dung cấm rẽ trái đối với loại phương tiện đang điều khiển; điều khiển xe rẽ phải tại nơi có biển báo hiệu có nội dung cấm rẽ phải đối với loại phương tiện đang điều khiển;- Phạt tiền từ 2.000.000 đồng đến 3.000.000 đồng\\nĐiểm 6.4.l: Không giữ khoảng cách an toàn để xảy ra va chạm với xe chạy liền trước hoặc không giữ khoảng cách theo quy định của biển báo hiệu “Cự ly tối thiểu giữa hai xe”- Phạt tiền từ 2.000.000 đồng đến 3.000.000 đồng\\nĐiểm 6.5.a: Vượt xe trong những trường hợp không được vượt, vượt xe tại đoạn đường có biển báo hiệu có nội dung cấm vượt (đối với loại phương tiện đang điều khiển); không có tín hiệu trước khi vượt hoặc có tín hiệu vượt xe nhưng không sử dụng trong suốt quá trình vượt xe; vượt bên phải xe khác trong trường hợp không được phép;- Phạt tiền từ 4.000.000 đồng đến 6.000.000 đồng\\nĐiểm 6.5.b: Điều khiển xe không đi bên phải theo chiều đi của mình; đi không đúng phần đường hoặc làn đường quy định (làn cùng chiều hoặc làn ngược chiều) trừ hành vi quy định tại điểm a khoản 4 Điều này; điều khiển xe đi qua dải phân cách cố định ở giữa hai phần đường xe chạy;- Phạt tiền từ 4.000.000 đồng đến 6.000.000 đồng\\nĐiểm 6.5.c: Tránh xe đi ngược chiều không đúng quy định; không nhường đường cho xe đi ngược chiều theo quy định tại nơi đường hẹp, đường dốc, nơi có chướng ngại vật;- Phạt tiền từ 4.000.000 đồng đến 6.000.000 đồng\\nĐiểm 6.5.d: Không tuân thủ quy định khi vào hoặc ra đường cao tốc; điều khiển xe chạy ở làn dừng xe khẩn cấp hoặc phần lề đường của đường cao tốc; không tuân thủ quy định về khoảng cách an toàn đối với xe chạy liền trước khi chạy trên đường cao tốc;- Phạt tiền từ 4.000.000 đồng đến 6.000.000 đồng\\nĐiểm 6.5.đ: Điều khiển xe chạy quá tốc độ quy định từ 10 km/h đến 20 km/h;- Phạt tiền từ 4.000.000 đồng đến 6.000.000 đồng\\nĐiểm 6.5.e: Xe không được quyền ưu tiên lắp đặt, sử dụng thiết bị phát tín hiệu của xe được quyền ưu tiên;- Phạt tiền từ 4.000.000 đồng đến 6.000.000 đồng\\nĐiểm 6.5.g: Chuyển làn đường không đúng nơi cho phép hoặc không có tín hiệu báo trước hoặc chuyển làn đường không đúng quy định “mỗi lần chuyển làn đường chỉ được phép chuyển sang một làn đường liền kề” khi chạy trên đường cao tốc;- Phạt tiền từ 4.000.000 đồng đến 6.000.000 đồng\\nĐiểm 6.5.h: Dùng tay cầm và sử dụng điện thoại hoặc các thiết bị điện tử khác khi điều khiển phương tiện tham gia giao thông đang di chuyển trên đường bộ;- Phạt tiền từ 4.000.000 đồng đến 6.000.000 đồng\\nĐiểm 6.5.i: Đi vào khu vực cấm, đường có biển báo hiệu có nội dung cấm đi vào đối với loại phương tiện đang điều khiển, hành vi bị cấm đi vào công trình thủy lợi và các trường hợp xe ưu tiên đang đi làm nhiệm vụ khẩn cấp theo quy định;- Phạt tiền từ 4.000.000 đồng đến 6.000.000 đồng\\nĐiểm 6.5.k: Dừng xe, đỗ xe, quay đầu xe trái quy định gây ùn tắc giao thông;- Phạt tiền từ 4.000.000 đồng đến 6.000.000 đồng\\nĐiểm 6.5.l: Chuyển hướng không nhường quyền đi trước cho: người đi bộ, xe lăn của người khuyết tật qua đường tại nơi có vạch kẻ đường dành cho người đi bộ; xe thô sơ đang đi trên phần đường dành cho xe thô sơ;- Phạt tiền từ 4.000.000 đồng đến 6.000.000 đồng\\nĐiểm 6.5.m: Chuyển hướng không nhường đường cho: các xe đi ngược chiều; người đi bộ, xe thô sơ đang qua đường tại nơi không có vạch kẻ đường cho người đi bộ;- Phạt tiền từ 4.000.000 đồng đến 6.000.000 đồng\\nĐiểm 6.5.n: Không giảm tốc độ (hoặc dừng lại) và nhường đường khi điều khiển xe đi từ đường không ưu tiên ra đường ưu tiên, từ đường nhánh ra đường chính;- Phạt tiền từ 4.000.000 đồng đến 6.000.000 đồng\\nĐiểm 6.5.o: Không giảm tốc độ và nhường đường cho xe đi đến từ bên phải tại nơi đường giao nhau không có báo hiệu đi theo vòng xuyến; không giảm tốc độ và nhường đường cho xe đi đến từ bên trái tại nơi đường giao nhau có báo hiệu đi theo vòng xuyến;- Phạt tiền từ 4.000.000 đồng đến 6.000.000 đồng\\nĐiểm 6.5.p: Chở người trên thùng xe trái quy định; chở người trên nóc xe; để người đu bám ở cửa xe, bên ngoài thành xe khi xe đang chạy;- Phạt tiền từ 4.000.000 đồng đến 6.000.000 đồng\\nĐiểm 6.5.q: Mở cửa xe, để cửa xe mở không bảo đảm an toàn.- Phạt tiền từ 4.000.000 đồng đến 6.000.000 đồng\\nĐiểm 6.6.a: Điều khiển xe chạy quá tốc độ quy định trên 20 km/h đến 35 km/h;- Phạt tiền từ 6.000.000 đồng đến 8.000.000 đồng\\nĐiểm 6.6.b: Không nhường đường hoặc gây cản trở xe được quyền ưu tiên đang phát tín hiệu ưu tiên đi làm nhiệm vụ;- Phạt tiền từ 6.000.000 đồng đến 8.000.000 đồng\\nĐiểm 6.6.c: Điều khiển xe trên đường mà trong máu hoặc hơi thở có nồng độ cồn nhưng chưa vượt quá 50 miligam/100 mililít máu hoặc chưa vượt quá 0,25 miligam/1 lít khí thở;- Phạt tiền từ 6.000.000 đồng đến 8.000.000 đồng\\nĐiểm 6.6.d: Điều khiển xe đi trên vỉa hè, trừ trường hợp điều khiển xe đi qua vỉa hè để vào nhà, cơ quan.- Phạt tiền từ 6.000.000 đồng đến 8.000.000 đồng\\nĐiểm 6.7.a: Điều khiển xe chạy quá tốc độ quy định trên 35 km/h; - Phạt tiền từ 12.000.000 đồng đến 14.000.000 đồng\\nĐiểm 6.7.b: Điều khiển xe chở người bốn bánh có gắn động cơ, xe chở hàng bốn bánh có gắn động cơ đi vào đường cao tốc; - Phạt tiền từ 12.000.000 đồng đến 14.000.000 đồng\\nĐiểm 6.7.c: Dừng xe, đỗ xe trên đường cao tốc không đúng nơi quy định; không có báo hiệu bằng đèn khẩn cấp khi gặp sự cố kỹ thuật hoặc bất khả kháng khác buộc phải dừng xe, đỗ xe ở làn dừng xe khẩn cấp trên đường cao tốc; không có báo hiệu bằng đèn khẩn cấp, không đặt biển cảnh báo “Chú ý xe đỗ” (hoặc đèn cảnh báo) về phía sau xe khoảng cách tối thiểu 150 mét khi dừng xe, đỗ xe trong trường hợp gặp sự cố kỹ thuật hoặc bất khả kháng khác buộc phải dừng xe, đỗ xe trên một phần làn đường xe chạy trên đường cao tốc. - Phạt tiền từ 12.000.000 đồng đến 14.000.000 đồng\\nĐiểm 6.9.a: Điều khiển xe trên đường mà trong máu hoặc hơi thở có nồng độ cồn vượt quá 50 miligam đến 80 miligam/100 mililít máu hoặc vượt quá 0,25 miligam đến 0,4 miligam/1 lít khí thở;- Phạt tiền từ 18.000.000 đồng đến 20.000.000 đồng\\nĐiểm 6.9.b: Không chấp hành hiệu lệnh của đèn tín hiệu giao thông;- Phạt tiền từ 18.000.000 đồng đến 20.000.000 đồng\\nĐiểm 6.9.c: Không chấp hành hiệu lệnh, hướng dẫn của người điều khiển giao thông hoặc người kiểm soát giao thông;- Phạt tiền từ 18.000.000 đồng đến 20.000.000 đồng\\nĐiểm 6.9.d: Đi ngược chiều của đường một chiều, đi ngược chiều trên đường có biển \"Cấm đi ngược chiều”, trừ các trường hợp xe ưu tiên đang đi làm nhiệm vụ khẩn cấp theo quy định.- Phạt tiền từ 18.000.000 đồng đến 20.000.000 đồng\\nĐiểm 6.10.a: Điều khiển xe không quan sát, giảm tốc độ hoặc dừng lại để bảo đảm an toàn theo quy định mà gây tai nạn giao thông; điều khiển xe chạy quá tốc độ quy định gây tai nạn giao thông; dừng xe, đỗ xe, quay đầu xe, lùi xe, tránh xe, vượt xe, chuyển hướng, chuyển làn đường không đúng quy định gây tai nạn giao thông; không đi đúng phần đường, làn đường, không giữ khoảng cách an toàn giữa hai xe theo quy định gây tai nạn giao thông hoặc đi vào đường có biển báo hiệu có nội dung cấm đi vào đối với loại phương tiện đang điều khiển gây tai nạn giao thông,.- Phạt tiền từ 20.000.000 đồng đến 22.000.000 đồng\\nĐiểm 6.11.a: Điều khiển xe trên đường mà trong máu hoặc hơi thở có nồng độ cồn vượt quá 80 miligam/100 mililít máu hoặc vượt quá 0,4 miligam/1 lít khí thở;- Phạt tiền từ 30.000.000 đồng đến 40.000.000 đồng\\nĐiểm 6.11.b: Không chấp hành yêu cầu kiểm tra về nồng độ cồn của người thi hành công vụ;- Phạt tiền từ 30.000.000 đồng đến 40.000.000 đồng\\nĐiểm 6.11.c: Điều khiển xe trên đường mà trong cơ thể có chất ma túy hoặc chất kích thích khác mà pháp luật cấm sử dụng;- Phạt tiền từ 30.000.000 đồng đến 40.000.000 đồng\\nĐiểm 6.11.d: Không chấp hành yêu cầu kiểm tra về chất ma túy hoặc chất kích thích khác mà pháp luật cấm sử dụng của người thi hành công vụ;- Phạt tiền từ 30.000.000 đồng đến 40.000.000 đồng\\nĐiểm 6.11.đ: Điều khiển xe đi ngược chiều trên đường cao tốc, lùi xe trên đường cao tốc, quay đầu xe trên đường cao tốc, trừ các xe ưu tiên đang đi làm nhiệm vụ khẩn cấp theo quy định.- Phạt tiền từ 30.000.000 đồng đến 40.000.000 đồng\\nĐiểm 6.8: Phạt tiền từ 16.000.000 đồng đến 18.000.000 đồng đối với người điều khiển xe thực hiện hành vi vi phạm gây tai nạn giao thông không dừng ngay phương tiện, không giữ nguyên hiện trường, không trợ giúp người bị nạn, không ở lại hiện trường hoặc không đến trình báo ngay với cơ quan công an, Ủy ban nhân dân nơi gần nhất.\\nĐiểm 6.12: Người điều khiển xe thực hiện hành vi điều khiển xe lạng lách, đánh võng trên đường bộ; chạy quá tốc độ đuổi nhau trên đường bộ; dùng chân điều khiển vô lăng xe khi xe đang chạy trên đường bộ -> Bị phạt tiền từ 40.000.000 đồng đến 50.000.000 đồng\\nĐiểm 6.13: phạt tiền thêm từ 50.000.000 đồng đến 70.000.000 đồng \\nĐiểm 6.14: Tịch thu phương tiện đối với người điều khiển xe tái phạm hành vi điều khiển xe lạng lách, đánh võng quy định\\nĐiểm 6.15.a: Tịch thu thiết bị phát tín hiệu ưu tiên lắp đặt, sử dụng trái quy định\\nĐiểm 6.15.b: Tước quyền sử dụng giấy phép lái xe từ 10 tháng đến 12 tháng\\nĐiểm 6.15.c: Tước quyền sử dụng giấy phép lái xe từ 22 tháng đến 24 tháng\\nĐiểm 6.16.a: Trừ điểm giấy phép lái xe 02 điểm\\nĐiểm 6.16.b: Trừ điểm giấy phép lái xe 04 điểm\\nĐiểm 6.16.c: Trừ điểm giấy phép lái xe 06 điểm\\nĐiểm 6.16.d: Trừ điểm giấy phép lái xe 10 điểm\\n'"
            ]
          },
          "execution_count": 32,
          "metadata": {},
          "output_type": "execute_result"
        }
      ],
      "source": [
        "case"
      ]
    },
    {
      "cell_type": "code",
      "execution_count": null,
      "metadata": {
        "colab": {
          "base_uri": "https://localhost:8080/",
          "height": 105
        },
        "id": "sHQwSqlbWceY",
        "outputId": "91d37d58-b5d6-4bd6-f0c7-6f110ea233cf"
      },
      "outputs": [
        {
          "data": {
            "application/vnd.google.colaboratory.intrinsic+json": {
              "type": "string"
            },
            "text/plain": [
              "'Anh A đã vi phạm nhiều lỗi, bao gồm vượt đèn đỏ, chạy quá tốc độ và gây tai nạn rồi bỏ trốn. Cụ thể, anh ta sẽ bị xử phạt theo Nghị định 168/2024/NĐ-CP như sau:\\n\\n* **Vượt đèn đỏ:**  Điểm 6.9.b: Không chấp hành hiệu lệnh của đèn tín hiệu giao thông - Phạt tiền từ 18.000.000 đồng đến 20.000.000 đồng.\\n\\n* **Chạy quá tốc độ quy định 15km/h:** Điểm 6.5.đ: Điều khiển xe chạy quá tốc độ quy định từ 10 km/h đến 20 km/h - Phạt tiền từ 4.000.000 đồng đến 6.000.000 đồng.\\n\\n* **Gây tai nạn giao thông mà bỏ trốn:** Điểm 6.8: Gây tai nạn giao thông không dừng ngay phương tiện, không giữ nguyên hiện trường, không trợ giúp người bị nạn, không ở lại hiện trường hoặc không đến trình báo ngay với cơ quan công an, Ủy ban nhân dân nơi gần nhất - Phạt tiền từ 16.000.000 đồng đến 18.000.000 đồng. Đồng thời, hành vi gây tai nạn giao thông sẽ bị áp dụng các mức phạt bổ sung tại điểm 6.10.a (Phạt tiền từ 20.000.000 đồng đến 22.000.000 đồng) vì chạy quá tốc độ và vượt đèn đỏ là lỗi trực tiếp gây tai nạn.\\n\\nNgoài ra, anh A còn có thể bị tước quyền sử dụng Giấy phép lái xe, bị trừ điểm trên Giấy phép lái xe và chịu các hình thức xử lý khác theo quy định của pháp luật tùy thuộc vào mức độ nghiêm trọng của tai nạn và hậu quả gây ra.\\n\\n**Lưu ý:** Mức phạt trên chỉ mang tính chất tham khảo dựa trên Nghị định 168/2024/NĐ-CP. Cơ quan chức năng sẽ xem xét cụ thể từng trường hợp để đưa ra mức phạt chính xác và phù hợp.\\n'"
            ]
          },
          "execution_count": 33,
          "metadata": {},
          "output_type": "execute_result"
        }
      ],
      "source": [
        "response.text"
      ]
    },
    {
      "cell_type": "code",
      "execution_count": null,
      "metadata": {
        "colab": {
          "base_uri": "https://localhost:8080/"
        },
        "id": "Y5khFgeHeMDK",
        "outputId": "a77c9d6e-6321-415e-fedd-64c303bb355f"
      },
      "outputs": [
        {
          "name": "stdout",
          "output_type": "stream",
          "text": [
            "Các chuỗi trích xuất được: ['6.9.b', '6.5.đ', '6.000', '6.8', '6.000', '6.10.a']\n"
          ]
        }
      ],
      "source": [
        "pattern = r\"6\\.\\d+(?:\\.[a-zA-ZđĐ])?\"\n",
        "\n",
        "matches = re.findall(pattern, response.text)\n",
        "\n",
        "print(\"Các chuỗi trích xuất được:\", matches)"
      ]
    },
    {
      "cell_type": "code",
      "execution_count": null,
      "metadata": {
        "colab": {
          "base_uri": "https://localhost:8080/"
        },
        "id": "BCyeS2CWegKo",
        "outputId": "ccdd4893-3655-482d-9b1f-5044fcec662b"
      },
      "outputs": [
        {
          "name": "stdout",
          "output_type": "stream",
          "text": [
            "Các chuỗi trích xuất được: ['6.9.b', '6.5.đ', '6.8', '6.10.a']\n"
          ]
        }
      ],
      "source": [
        "pattern = r\"\\b6\\.[1-9]\\d*(?:\\.[a-zA-ZđĐ0-9]+)?\\b\"\n",
        "\n",
        "matches = re.findall(pattern, response.text)\n",
        "print(\"Các chuỗi trích xuất được:\", matches)"
      ]
    },
    {
      "cell_type": "code",
      "execution_count": null,
      "metadata": {
        "id": "0eLOrz3CuLBe"
      },
      "outputs": [],
      "source": [
        "matches1 = []"
      ]
    },
    {
      "cell_type": "code",
      "execution_count": null,
      "metadata": {
        "id": "IPBE_MgdMcME"
      },
      "outputs": [],
      "source": [
        "for i in matches:\n",
        "    neig = list(G.neighbors(i))\n",
        "    if(len(neig) > 0):\n",
        "        uc = \"\"\n",
        "        k = 0\n",
        "        uc = uc + \"Điểm \" + i + \": \" + G.nodes[i]['content'] + \".\\n\"\n",
        "        for j in neig:\n",
        "            # Check if the edge has the 'content' attribute before accessing it\n",
        "            edge_data = G.get_edge_data(i, j)\n",
        "            if edge_data and edge_data.get(\"content\") == \"trừ các hành vi vi phạm quy định tại \":\n",
        "                uc = uc + \"Điểm \" + j + \": \" + G.nodes[j]['content'] + \".\\n\"\n",
        "                k = k + 1\n",
        "        if k > 0:\n",
        "            ucv = models.generate_content(\"Cho câu hỏi: \" + user_question + \"Trong các điểm sau thuộc nghị định 168/2024/NĐ-CP chọn và nêu số hiệu của 1 điểm phù hợp và chi tiết nhất với câu hỏi. \\n\" + uc)\n",
        "            p = r\"\\b6\\.[1-9]\\d*(?:\\.[a-zA-ZđĐ0-9]+)?\\b\"\n",
        "            m = re.findall(p, ucv.text)\n",
        "            if len(m) > 0:\n",
        "                matches1.append(m[0])\n",
        "        else:\n",
        "            matches1.append(i)\n",
        "    else:\n",
        "        matches1.append(i)"
      ]
    },
    {
      "cell_type": "code",
      "execution_count": null,
      "metadata": {
        "colab": {
          "base_uri": "https://localhost:8080/"
        },
        "id": "1dXLnzucMBWU",
        "outputId": "4475cef9-34a7-4fb2-c730-6ed8d3f8523e"
      },
      "outputs": [
        {
          "name": "stdout",
          "output_type": "stream",
          "text": [
            "['6.9.b', '6.5.đ', '6.8', '6.10.a']\n"
          ]
        }
      ],
      "source": [
        "print(matches1)"
      ]
    },
    {
      "cell_type": "code",
      "execution_count": null,
      "metadata": {
        "id": "PXwCsmgdeuoB"
      },
      "outputs": [],
      "source": [
        "def make_first_prompt_gt3(query, relevant_passage):\n",
        "    \"\"\"\n",
        "    Tạo prompt cho chatbot dựa trên câu hỏi, đoạn văn tham khảo và ngữ cảnh hội thoại trước đó.\n",
        "\n",
        "    Args:\n",
        "        query (str): Câu hỏi của người dùng.\n",
        "        relevant_passage (str): Đoạn văn tham khảo cần sử dụng.\n",
        "        context (str): Ngữ cảnh hội thoại trước đó (mặc định là rỗng).\n",
        "\n",
        "    Returns:\n",
        "        str: Prompt đã được định dạng để gửi cho mô hình.\n",
        "    \"\"\"\n",
        "    # Loại bỏ các ký tự không cần thiết từ đoạn văn tham khảo\n",
        "    escaped = relevant_passage.replace(\"'\", \"\").replace('\"', \"\").replace(\"\\n\", \" \")\n",
        "\n",
        "    # Xây dựng prompt dựa trên template\n",
        "    prompt_template = textwrap.dedent(\"\"\"\n",
        "        Bạn là một bot hữu ích và giàu thông tin, trả lời các câu hỏi bằng cách sử dụng văn bản pháp luật từ văn bản tham khảo bên dưới. \\\n",
        "        Đảm bảo trả lời bằng một cách hoàn chỉnh, toàn diện, bao gồm tất cả thông tin cơ bản. \\\n",
        "        Hãy trả lời một cách ngắn gọn, chủ yếu nêu ra số tiền phạt. \\\n",
        "        Lưu ý trong câu trả lời không viết lại câu hỏi. \\\n",
        "        Ví dụ: 4.000.000 đồng rút gọn thành 4tr, hoặc 400.000 đồng rút gọn thành 400k.\\\n",
        "        Và ghi nhớ hãy bôi đậm mức tiền phạt. \\\n",
        "        Biết văn bản pháp luật bạn tham khảo thuộc Nghị định 168/2024/NĐ-CP, và nêu rõ bạn tham khảo những điều nào, khoản nào, điểm nào trong đoạn văn đó. \\\n",
        "        Nếu câu hỏi không nêu cụ thể phương tiện nào thì hãy cho ra thông tin đối với mọi phương tiện như ô tô, xe máy, xe đạp,... \\\n",
        "        Nếu người vi phạm trong câu hỏi mắc nhiều lỗi thì cộng mức phạt trung bình của từng lỗi lại để cho ra mức phạt tổng.. \\\n",
        "        Có một ví dụ sau để hiểu hơn về các yêu cầu: \\\n",
        "        QUESTION: Anh A điều khiển xe trên đường mà trong máu hoặc hơi thở có nồng độ cồn \\\n",
        "        0,3 miligam/1 lít khí thở, chạy quá tốc độ 15km/h. Anh A gây ra tai nạn nhưng không dừng lại, không giữ nguyên hiện trường, bỏ trốn không đến trình báo với cơ quan có thẩm quyền. \\\n",
        "        Hỏi: Anh A bị xử phạt hành chính và trử điểm giấy phép lái xe như nào ? \\\n",
        "        Các bước giải: \\\n",
        "        Nếu áp dụng luật cũ (không phải luật trong văn bản tham khảo )ta có: \\\n",
        "        1, Lỗi nồng độ cồn 0,2 miligam/1 lít khí thở. Trong luật có: \"Phạt tiền từ 6.000.000 đồng đến 8.000.000 đồng đối với người điều khiển xe thực hiện hành vi điều khiển xe trên đường mà trong máu hoặc hơi thở có nồng độ cồn \\\n",
        "        nhưng chưa vượt quá 50 miligam/100 mililít máu hoặc chưa vượt quá 0,25 miligam/1 lít khí thở.\" => Lấy trung bình là (6+8)/2 = 7 triệu đồng \\\n",
        "        2, Lỗi chạy quá tốc độ 15km/h. Trong luật có: \"Phạt tiền từ 3.000.000 đồng đến 5.000.000 đồng đối với người điều khiển xe thực hiện hành vi điều khiển xe chạy quá tốc độ quy định từ 10 km/h đến 20 km/h.\" \\\n",
        "        Luật này có rõ khoảng cho trước nên có thể lấy số tiền là: 3 + ((5-3)/(20-10))*(15-10) = 4 triệu đồng \\\n",
        "        3, Lỗi gây ra tai nạn nhưng không dừng lại, không giữ nguyên hiện trường, bỏ trốn không đến trình báo với cơ quan có thẩm quyền.\\\n",
        "        Trong luật có: \" Phạt tiền từ 3.000.000 đồng đến 5.000.000 đồng đối với người điều khiển xe thực hiện một trong các hành vi vi phạm sau: không chấp hành hiệu lệnh của đèn tín hiệu giao thông; \\\n",
        "        không chấp hành hiệu lệnh, hướng dẫn của người điều khiển giao thông hoặc người kiểm soát giao thông.\"\\\n",
        "        => Không có khoảng cho trước nên lấy trung bình (3+5)/2 = 4 triệu đồng \\\n",
        "        4, Để tìm ra mức trừ điểm lái xe và các hình phạt bổ sung, hãy tìm những điều khoản có đề cập đến các điều khoản ở trên. VD: Lỗi ở bước 3 thuộc điều 5 khoản 6 điểm c.\\\n",
        "        Thì trong luật có đề cập điều 5 khoản 16 điểm d là: \"Vi phạm lỗi ở điều 5 khoản 6 điểm c thì bị tước bằng lái xe 2 đến 4 tháng\" -> Hình phạt bổ sung cho lỗi gây tai nạn là bị tước bằng 2 đến 4 tháng \\\n",
        "        ANSWER: Số tiền bị phạt: 7 + 4 + 4 = 15 triệu đồng \\\n",
        "                Bị tước quyền sử dụng giấy phép lái xe từ 2 đến 4 tháng \\\n",
        "        Nếu mỗi lỗi có một mức trừ điểm giấy phép lái xe khác nhau chỉ lấy mức trử điểm lớn nhất. \\\n",
        "        Nếu đoạn văn không liên quan đến câu trả lời, hãy trả lời bằng những kiến thức bạn có.\n",
        "\n",
        "        QUESTION: '{query}'\n",
        "        PASSAGE: '{relevant_passage}'\n",
        "\n",
        "\n",
        "        ANSWER:\n",
        "    \"\"\")\n",
        "    prompt = prompt_template.format(query=query, relevant_passage=escaped)\n",
        "    return prompt"
      ]
    },
    {
      "cell_type": "code",
      "execution_count": null,
      "metadata": {
        "id": "25drwqasgB8W"
      },
      "outputs": [],
      "source": [
        "relevant_passage = \"\""
      ]
    },
    {
      "cell_type": "code",
      "execution_count": null,
      "metadata": {
        "id": "D6eEfvi-hMxn"
      },
      "outputs": [],
      "source": [
        "def neigh(nei):\n",
        "  passage = \"\"\n",
        "  if len(nei) > 0:\n",
        "    for j in nei:\n",
        "      passage = passage + \" \" + G.nodes[j][\"content\"]+\"(Điểm \" + j + \" \" + neigh(list(G.neighbors(j)))\n",
        "  return passage"
      ]
    },
    {
      "cell_type": "code",
      "execution_count": null,
      "metadata": {
        "id": "YySE3p6Hn9yV"
      },
      "outputs": [],
      "source": [
        "for k in G.neighbors(\"6\"):\n",
        "  if(G.has_edge(\"6\",k)):\n",
        "    G.remove_edge(k,\"6\")"
      ]
    },
    {
      "cell_type": "code",
      "execution_count": null,
      "metadata": {
        "id": "pmeWjj-GZod_"
      },
      "outputs": [],
      "source": [
        "G.remove_edges_from(incoming_edges)"
      ]
    },
    {
      "cell_type": "code",
      "execution_count": null,
      "metadata": {
        "colab": {
          "base_uri": "https://localhost:8080/"
        },
        "id": "zNqpEEx3fW6U",
        "outputId": "67943a95-49b2-493e-8798-34ba59963c65"
      },
      "outputs": [
        {
          "name": "stdout",
          "output_type": "stream",
          "text": [
            "6.9.b\n",
            "\n",
            "6.10.b \n",
            "6.16.b \n",
            "6.5.đ\n",
            "\n",
            "6.16.a \n",
            "6.8\n",
            "\n",
            "6.16.c \n",
            "6.10.a\n",
            "\n",
            "6.11.đ \n",
            "6.16.d \n"
          ]
        }
      ],
      "source": [
        "\n",
        "for i in  matches1:\n",
        "  print(i + \"\\n\")\n",
        "  nei = list(G.neighbors(i))\n",
        "  for j in nei:\n",
        "    print(j + \" \")\n"
      ]
    },
    {
      "cell_type": "code",
      "execution_count": null,
      "metadata": {
        "colab": {
          "base_uri": "https://localhost:8080/",
          "height": 105
        },
        "id": "ZOGFRfKPYm0u",
        "outputId": "4becd58a-1f6b-4fac-a20f-99d1c4c21681"
      },
      "outputs": [
        {
          "data": {
            "application/vnd.google.colaboratory.intrinsic+json": {
              "type": "string"
            },
            "text/plain": [
              "'Điểm6.9.b: Không chấp hành hiệu lệnh của đèn tín hiệu giao thông;- Phạt tiền từ 18.000.000 đồng đến 20.000.000 đồng. Khi vi phạm điểm này, người vi phạm phải chịu thêm các hình phạt bổ sung sau:\\n Nếu  gây tai nạn giao thông, phạt tiền từ 20.000.000 đồng đến 22.000.000 đồng(Điểm 6.10.b) và bị 1, Điểm6.9.b: Không chấp hành hiệu lệnh của đèn tín hiệu giao thông;- Phạt tiền từ 18.000.000 đồng đến 20.000.000 đồng. Khi vi phạm điểm này, người vi phạm phải chịu thêm các hình phạt bổ sung sau:\\n Nếu  gây tai nạn giao thông, phạt tiền từ 20.000.000 đồng đến 22.000.000 đồng(Điểm 6.10.b) và bị  bị  Trừ điểm giấy phép lái xe 10 điểm(Điểm 6.16.d)\\n bị  Trừ điểm giấy phép lái xe 04 điểm(Điểm 6.16.b) \\n\\n2, Điểm6.5.đ: Điều khiển xe chạy quá tốc độ quy định từ 10 km/h đến 20 km/h;- Phạt tiền từ 4.000.000 đồng đến 6.000.000 đồng. Khi vi phạm điểm này, người vi phạm phải chịu thêm các hình phạt bổ sung sau:\\n bị  Trừ điểm giấy phép lái xe 02 điểm(Điểm 6.16.a) \\n\\n3, Điểm6.8: Phạt tiền từ 16.000.000 đồng đến 18.000.000 đồng đối với người điều khiển xe thực hiện hành vi vi phạm gây tai nạn giao thông không dừng ngay phương tiện, không giữ nguyên hiện trường, không trợ giúp người bị nạn, không ở lại hiện trường hoặc không đến trình báo ngay với cơ quan công an, Ủy ban nhân dân nơi gần nhất.. Khi vi phạm điểm này, người vi phạm phải chịu thêm các hình phạt bổ sung sau:\\n bị  Trừ điểm giấy phép lái xe 06 điểm(Điểm 6.16.c) \\n\\n4, Điểm6.10.a: Điều khiển xe không quan sát, giảm tốc độ hoặc dừng lại để bảo đảm an toàn theo quy định mà gây tai nạn giao thông; điều khiển xe chạy quá tốc độ quy định gây tai nạn giao thông; dừng xe, đỗ xe, quay đầu xe, lùi xe, tránh xe, vượt xe, chuyển hướng, chuyển làn đường không đúng quy định gây tai nạn giao thông; không đi đúng phần đường, làn đường, không giữ khoảng cách an toàn giữa hai xe theo quy định gây tai nạn giao thông hoặc đi vào đường có biển báo hiệu có nội dung cấm đi vào đối với loại phương tiện đang điều khiển gây tai nạn giao thông,.- Phạt tiền từ 20.000.000 đồng đến 22.000.000 đồng. Khi vi phạm điểm này, người vi phạm phải chịu thêm các hình phạt bổ sung sau:\\n trừ các hành vi vi phạm quy định tại  Điều khiển xe đi ngược chiều trên đường cao tốc, lùi xe trên đường cao tốc, quay đầu xe trên đường cao tốc, trừ các xe ưu tiên đang đi làm nhiệm vụ khẩn cấp theo quy định.- Phạt tiền từ 30.000.000 đồng đến 40.000.000 đồng(Điểm 6.11.đ) và bị  bị  Trừ điểm giấy phép lái xe 10 điểm(Điểm 6.16.d)\\n bị  Trừ điểm giấy phép lái xe 10 điểm(Điểm 6.16.d) \\n\\n'"
            ]
          },
          "execution_count": 48,
          "metadata": {},
          "output_type": "execute_result"
        }
      ],
      "source": [
        "o = 1\n",
        "for i in  matches1:\n",
        "  relevant_passage = relevant_passage + str(o) + \", \"\n",
        "  o = o + 1\n",
        "  relevant_passage = relevant_passage + \"Điểm\" + i + \": \" + G.nodes[i][\"content\"] + \".\"\n",
        "  nei = list(G.neighbors(i))\n",
        "  if len(nei) > 0:\n",
        "    relevant_passage = relevant_passage + \" Khi vi phạm điểm này, người vi phạm phải chịu thêm các hình phạt bổ sung sau:\\n\"\n",
        "    for j in nei:\n",
        "        # Check if the edge exists before accessing its data\n",
        "        if G.has_edge(i, j):\n",
        "            edge_data = G.get_edge_data(i, j)\n",
        "            relation = edge_data.get(\"content\", \"\")\n",
        "            relevant_passage = relevant_passage + \" \" + relation + \" \" + G.nodes[j][\"content\"] + \"(Điểm \" + j + \") \"\n",
        "\n",
        "        nei0 = list(G.neighbors(j))\n",
        "        if len(nei0) > 0:\n",
        "            relevant_passage = relevant_passage + \"và bị \"\n",
        "            for l in nei0:  # Iterate through neighbors of j (nei0)\n",
        "                # Check if the edge exists before accessing its data\n",
        "                if G.has_edge(j, l):\n",
        "                    edge_data = G.get_edge_data(j, l)\n",
        "                    # Check if edge_data is not None before accessing 'content'\n",
        "                    if edge_data is not None:\n",
        "                        relation = edge_data.get(\"content\", \"\")\n",
        "                        relevant_passage = relevant_passage + \" \" + relation + \" \" + G.nodes[l][\"content\"] + \"(Điểm \" + l + \")\\n\"\n",
        "        else: relevant_passage = relevant_passage + \"\\n\"\n",
        "  relevant_passage = relevant_passage + \"\\n\"\n",
        "relevant_passage"
      ]
    },
    {
      "cell_type": "code",
      "execution_count": null,
      "metadata": {
        "id": "dt5PNl8rug3g"
      },
      "outputs": [],
      "source": [
        "import textwrap"
      ]
    },
    {
      "cell_type": "code",
      "execution_count": null,
      "metadata": {
        "id": "1d8MEQvruSqD"
      },
      "outputs": [],
      "source": [
        "prompt = make_first_prompt_gt3(user_question, relevant_passage)\n",
        "answer = models.generate_content(prompt)"
      ]
    },
    {
      "cell_type": "code",
      "execution_count": null,
      "metadata": {
        "colab": {
          "base_uri": "https://localhost:8080/",
          "height": 53
        },
        "id": "FjZMlrQPuZeT",
        "outputId": "0672dc3d-a4ae-4e1d-ca79-248c6eca678e"
      },
      "outputs": [
        {
          "data": {
            "application/vnd.google.colaboratory.intrinsic+json": {
              "type": "string"
            },
            "text/plain": [
              "'Số tiền bị phạt: **40tr** - **44tr** (Trung bình **42tr**)\\n\\n* Vượt đèn đỏ gây tai nạn: **20tr - 22tr** (Điểm 6.9.b, 6.10.b - NĐ 168/2024/NĐ-CP)\\n* Vượt quá tốc độ 10-20km/h: **4tr - 6tr** (Điểm 6.5.đ - NĐ 168/2024/NĐ-CP)\\n* Gây tai nạn bỏ trốn: **16tr - 18tr** (Điểm 6.8 - NĐ 168/2024/NĐ-CP)\\n\\nTrừ 10 điểm giấy phép lái xe (Điểm 6.16.d - NĐ 168/2024/NĐ-CP).\\n'"
            ]
          },
          "execution_count": 51,
          "metadata": {},
          "output_type": "execute_result"
        }
      ],
      "source": [
        "answer.text"
      ]
    },
    {
      "cell_type": "code",
      "execution_count": null,
      "metadata": {
        "id": "ywn7m85kaom9"
      },
      "outputs": [],
      "source": [
        "from IPython.display import Markdown"
      ]
    },
    {
      "cell_type": "code",
      "execution_count": null,
      "metadata": {
        "colab": {
          "base_uri": "https://localhost:8080/",
          "height": 128
        },
        "id": "BBeUbaSEapsz",
        "outputId": "926ffb53-8311-42a3-fbfe-445154438d32"
      },
      "outputs": [
        {
          "data": {
            "text/markdown": "Số tiền bị phạt: **40tr** - **44tr** (Trung bình **42tr**)\n\n* Vượt đèn đỏ gây tai nạn: **20tr - 22tr** (Điểm 6.9.b, 6.10.b - NĐ 168/2024/NĐ-CP)\n* Vượt quá tốc độ 10-20km/h: **4tr - 6tr** (Điểm 6.5.đ - NĐ 168/2024/NĐ-CP)\n* Gây tai nạn bỏ trốn: **16tr - 18tr** (Điểm 6.8 - NĐ 168/2024/NĐ-CP)\n\nTrừ 10 điểm giấy phép lái xe (Điểm 6.16.d - NĐ 168/2024/NĐ-CP).\n",
            "text/plain": [
              "<IPython.core.display.Markdown object>"
            ]
          },
          "execution_count": 53,
          "metadata": {},
          "output_type": "execute_result"
        }
      ],
      "source": [
        "Markdown(answer.text)"
      ]
    },
    {
      "cell_type": "markdown",
      "metadata": {
        "id": "1chzmm887hko"
      },
      "source": [
        "Ngày 1/4/**2025**"
      ]
    },
    {
      "cell_type": "markdown",
      "metadata": {
        "id": "evdw2BgdMDwL"
      },
      "source": [
        "Tạo result\n"
      ]
    },
    {
      "cell_type": "code",
      "execution_count": null,
      "metadata": {
        "colab": {
          "base_uri": "https://localhost:8080/"
        },
        "collapsed": true,
        "id": "PRwfCnATIZd-",
        "outputId": "0d0f6bf3-44d0-4790-d8c9-474227e0645d"
      },
      "outputs": [
        {
          "output_type": "stream",
          "name": "stdout",
          "text": [
            "Mảng các số hiệu của điểm và khoản không chứa điểm:\n",
            "10.1.b\n",
            "11.1.b\n",
            "12.10\n",
            "12.15\n",
            "12.16.a\n",
            "12.16.b\n",
            "12.17\n",
            "12.2.e\n",
            "12.8\n",
            "13.10.a\n",
            "13.10.b\n",
            "13.11.a\n",
            "13.11.b\n",
            "13.11.c\n",
            "13.11.d\n",
            "13.12\n",
            "13.13.a\n",
            "13.13.b\n",
            "13.13.c\n",
            "13.2.a\n",
            "13.9.a\n",
            "14.5.a\n",
            "14.5.b\n",
            "14.6.a\n",
            "14.6.b\n",
            "14.7\n",
            "14.8.a\n",
            "14.8.b\n",
            "16.4.a\n",
            "16.4.b\n",
            "16.5.a\n",
            "16.5.b\n",
            "16.6\n",
            "17.5\n",
            "18.10\n",
            "18.11\n",
            "18.12\n",
            "18.2.d\n",
            "18.3.a\n",
            "20.10.a\n",
            "20.10.b\n",
            "20.10.c\n",
            "20.10.d\n",
            "20.2\n",
            "20.5.g\n",
            "20.5.h\n",
            "20.6.d\n",
            "20.9\n",
            "21.11\n",
            "21.12\n",
            "21.13.a\n",
            "21.13.b\n",
            "21.13.c\n",
            "21.13.d\n",
            "21.6\n",
            "21.8\n",
            "22.1.b\n",
            "22.4\n",
            "22.5\n",
            "22.6.a\n",
            "22.6.b\n",
            "23.5\n",
            "23.6\n",
            "23.7.a\n",
            "23.7.b\n",
            "24.3\n",
            "25.2\n",
            "26.11\n",
            "26.12\n",
            "26.13.a\n",
            "26.13.b\n",
            "26.13.c\n",
            "26.13.d\n",
            "26.14.a\n",
            "26.14.b\n",
            "26.4.b\n",
            "27.2\n",
            "27.4\n",
            "28.3\n",
            "28.4.a\n",
            "28.4.b\n",
            "29.4\n",
            "3.2.c\n",
            "3.3.a\n",
            "3.4.a\n",
            "30.3\n",
            "31.3\n",
            "31.4\n",
            "32.10\n",
            "32.11.b\n",
            "32.11.c\n",
            "32.13.a\n",
            "32.13.b\n",
            "32.13.c\n",
            "32.14.a\n",
            "32.14.b\n",
            "32.14.c\n",
            "32.14.d\n",
            "32.14.e\n",
            "32.14.g\n",
            "32.14.i\n",
            "32.15\n",
            "32.16.a\n",
            "32.16.b\n",
            "32.17.c\n",
            "32.17.d\n",
            "32.17.e\n",
            "32.17.g\n",
            "32.18.a\n",
            "32.18.b\n",
            "32.18.c\n",
            "32.18.d\n",
            "32.19.a\n",
            "32.19.b\n",
            "32.19.c\n",
            "32.19.d\n",
            "32.19.e\n",
            "32.19.g\n",
            "32.19.h\n",
            "32.19.i\n",
            "32.19.k\n",
            "32.19.l\n",
            "32.20\n",
            "32.21.a\n",
            "32.21.b\n",
            "32.21.c\n",
            "32.21.d\n",
            "32.21.e\n",
            "32.21.g\n",
            "32.21.h\n",
            "32.4\n",
            "32.5\n",
            "32.6\n",
            "32.7.e\n",
            "32.7.g\n",
            "32.9.c\n",
            "32.9.d\n",
            "32.9.e\n",
            "33.4\n",
            "34.1\n",
            "34.6\n",
            "34.7.a\n",
            "34.7.b\n",
            "34.7.c\n",
            "34.7.d\n",
            "35.3\n",
            "35.4\n",
            "37.3.c\n",
            "37.7\n",
            "38.3\n",
            "38.4\n",
            "38.5\n",
            "39.10\n",
            "39.3.g\n",
            "39.6\n",
            "39.7\n",
            "39.8\n",
            "39.9.a\n",
            "39.9.b\n",
            "39.9.c\n",
            "4.2\n",
            "40.2.b\n",
            "40.6.a\n",
            "40.6.b\n",
            "41.2.a\n",
            "41.2.b\n",
            "41.2.c\n",
            "41.2.d\n",
            "41.3.a\n",
            "41.3.b\n",
            "41.3.c\n",
            "41.3.d\n",
            "41.3.e\n",
            "41.3.g\n",
            "41.3.h\n",
            "41.3.i\n",
            "41.3.k\n",
            "41.3.l\n",
            "41.3.m\n",
            "41.3.n\n",
            "41.4.a\n",
            "41.4.b\n",
            "41.4.c\n",
            "41.4.d\n",
            "41.4.e\n",
            "41.4.g\n",
            "41.4.h\n",
            "41.4.i\n",
            "41.4.k\n",
            "41.4.l\n",
            "41.4.m\n",
            "41.5.a\n",
            "41.5.b\n",
            "42.1.d\n",
            "42.2.b\n",
            "42.3\n",
            "43.2.d\n",
            "43.5\n",
            "43.6\n",
            "44.1.d\n",
            "44.2\n",
            "44.3\n",
            "44.4\n",
            "45.1\n",
            "45.2\n",
            "45.3\n",
            "46.1\n",
            "47.10\n",
            "47.11\n",
            "47.3.a\n",
            "47.3.b\n",
            "47.3.c\n",
            "47.3.d\n",
            "47.3.e\n",
            "47.3.g\n",
            "47.3.h\n",
            "47.3.i\n",
            "47.3.k\n",
            "47.3.l\n",
            "47.3.m\n",
            "47.3.n\n",
            "47.3.o\n",
            "47.3.p\n",
            "47.3.q\n",
            "47.3.r\n",
            "47.3.s\n",
            "47.3.t\n",
            "47.4\n",
            "47.5.a\n",
            "47.5.b\n",
            "47.5.c\n",
            "47.5.d\n",
            "47.5.e\n",
            "47.5.g\n",
            "47.5.h\n",
            "47.6.g\n",
            "47.7\n",
            "47.9\n",
            "48.1.a\n",
            "48.1.b\n",
            "48.1.c\n",
            "48.1.d\n",
            "48.1.e\n",
            "48.1.g\n",
            "48.1.h\n",
            "48.1.i\n",
            "48.1.k\n",
            "48.1.l\n",
            "48.1.m\n",
            "48.1.n\n",
            "48.2\n",
            "48.3.a\n",
            "48.4\n",
            "5.3.c\n",
            "5.5\n",
            "50.1\n",
            "50.2\n",
            "51.1.a\n",
            "51.1.b\n",
            "51.2.b\n",
            "51.3.b\n",
            "52.1\n",
            "52.2.a\n",
            "52.2.b\n",
            "52.3.b\n",
            "52.4\n",
            "52.5.a\n",
            "52.5.b\n",
            "52.5.c\n",
            "52.5.d\n",
            "52.6.a\n",
            "52.6.b\n",
            "52.6.c\n",
            "52.7\n",
            "52.8.a\n",
            "52.8.b\n",
            "52.8.c\n",
            "52.8.d\n",
            "52.8.e\n",
            "52.8.g\n",
            "52.8.h\n",
            "52.8.i\n",
            "52.8.k\n",
            "52.8.l\n",
            "52.8.m\n",
            "52.8.n\n",
            "52.8.o\n",
            "52.8.p\n",
            "52.9.a\n",
            "52.9.b\n",
            "52.9.c\n",
            "52.9.d\n",
            "53.1\n",
            "53.2\n",
            "6.1.a\n",
            "6.1.c\n",
            "6.10.a\n",
            "6.10.b\n",
            "6.13\n",
            "6.14\n",
            "6.15.a\n",
            "6.15.b\n",
            "6.15.c\n",
            "6.16.a\n",
            "6.16.b\n",
            "6.16.c\n",
            "6.16.d\n",
            "6.2.a\n",
            "6.2.c\n",
            "6.3.e\n",
            "6.4.b\n",
            "6.4.e\n",
            "6.4.g\n",
            "6.4.l\n",
            "6.5.b\n",
            "6.5.c\n",
            "6.9.d\n",
            "7.1.a\n",
            "7.10.b\n",
            "7.11.c\n",
            "7.12.a\n",
            "7.12.b\n",
            "7.12.c\n",
            "7.13.a\n",
            "7.13.b\n",
            "7.13.c\n",
            "7.13.d\n",
            "7.2.k\n",
            "7.4.c\n",
            "7.5.a\n",
            "7.6.b\n",
            "7.7.a\n",
            "8.1.a\n",
            "8.1.b\n",
            "8.2.a\n",
            "8.2.b\n",
            "8.5.d\n",
            "8.6.d\n",
            "8.7.d\n",
            "8.8.a\n",
            "8.8.d\n",
            "8.9.e\n"
          ]
        }
      ],
      "source": [
        "import docx\n",
        "import re\n",
        "\n",
        "# Đọc tài liệu Word\n",
        "doc = docx.Document('/content/Loaibo_mocnoi.docx')  # Thay bằng đường dẫn thực tế đến file của bạn\n",
        "\n",
        "# Tách văn bản thành mảng các chuỗi (mỗi đoạn văn là một phần tử)\n",
        "lines = [paragraph.text.strip() for paragraph in doc.paragraphs if paragraph.text.strip()]\n",
        "\n",
        "# Khởi tạo biến để theo dõi Điều và Khoản hiện tại\n",
        "current_article = None\n",
        "current_section = None\n",
        "\n",
        "# Dictionary để theo dõi các khoản và các điểm bên trong chúng\n",
        "sections_dict = {}\n",
        "\n",
        "# Mảng để lưu các số hiệu của điểm và khoản không chứa điểm\n",
        "result = []\n",
        "\n",
        "# Định nghĩa các mẫu regex để nhận diện Điều, Khoản, và Điểm\n",
        "article_pattern = r'^Điều\\s+(\\d+)\\.'\n",
        "section_pattern = r'^(\\d+)\\.'\n",
        "point_pattern = r'^([a-z])\\)'\n",
        "\n",
        "# Duyệt qua từng chuỗi trong mảng lines\n",
        "for line in lines:\n",
        "    # Kiểm tra nếu dòng là một Điều\n",
        "    article_match = re.match(article_pattern, line)\n",
        "    if article_match:\n",
        "        current_article = article_match.group(1)  # Cập nhật số của Điều\n",
        "        current_section = None  # Đặt lại Khoản khi chuyển sang Điều mới\n",
        "        continue\n",
        "\n",
        "    # Kiểm tra nếu dòng là một Khoản\n",
        "    section_match = re.match(section_pattern, line)\n",
        "    if section_match:\n",
        "        current_section = section_match.group(1)  # Cập nhật số của Khoản\n",
        "        section_id = f\"{current_article}.{current_section}\"\n",
        "        # Khởi tạo danh sách điểm cho khoản này nếu chưa có\n",
        "        if section_id not in sections_dict:\n",
        "            sections_dict[section_id] = []\n",
        "        continue\n",
        "\n",
        "    # Kiểm tra nếu dòng là một Điểm\n",
        "    point_match = re.match(point_pattern, line)\n",
        "    if point_match and current_article and current_section:\n",
        "        point_letter = point_match.group(1)  # Lấy chữ cái của Điểm\n",
        "        point_id = f\"{current_article}.{current_section}.{point_letter}\"\n",
        "        result.append(point_id)  # Thêm số hiệu của Điểm vào mảng kết quả\n",
        "        section_id = f\"{current_article}.{current_section}\"\n",
        "        # Thêm Điểm vào danh sách của Khoản tương ứng\n",
        "        sections_dict[section_id].append(point_id)\n",
        "\n",
        "# Kiểm tra các khoản không chứa điểm\n",
        "for section_id, points in sections_dict.items():\n",
        "    if not points:  # Nếu danh sách điểm rỗng\n",
        "        result.append(section_id)  # Thêm số hiệu của Khoản không chứa điểm\n",
        "\n",
        "# Sắp xếp mảng kết quả (tùy chọn, để dễ đọc)\n",
        "result.sort()\n",
        "\n",
        "# In mảng các số hiệu\n",
        "print(\"Mảng các số hiệu của điểm và khoản không chứa điểm:\")\n",
        "for item in result:\n",
        "    print(item)"
      ]
    },
    {
      "cell_type": "code",
      "execution_count": null,
      "metadata": {
        "colab": {
          "base_uri": "https://localhost:8080/"
        },
        "id": "494moaxLJRNe",
        "outputId": "c09ca8a9-f467-4d7f-c627-c51962c165f8",
        "collapsed": true
      },
      "outputs": [
        {
          "output_type": "stream",
          "name": "stdout",
          "text": [
            "['10.1.b', '11.1.b', '12.10', '12.15', '12.16.a', '12.16.b', '12.17', '12.2.e', '12.8', '13.10.a', '13.10.b', '13.11.a', '13.11.b', '13.11.c', '13.11.d', '13.12', '13.13.a', '13.13.b', '13.13.c', '13.2.a', '13.9.a', '14.5.a', '14.5.b', '14.6.a', '14.6.b', '14.7', '14.8.a', '14.8.b', '16.4.a', '16.4.b', '16.5.a', '16.5.b', '16.6', '17.5', '18.10', '18.11', '18.12', '18.2.d', '18.3.a', '20.10.a', '20.10.b', '20.10.c', '20.10.d', '20.2', '20.5.g', '20.5.h', '20.6.d', '20.9', '21.11', '21.12', '21.13.a', '21.13.b', '21.13.c', '21.13.d', '21.6', '21.8', '22.1.b', '22.4', '22.5', '22.6.a', '22.6.b', '23.5', '23.6', '23.7.a', '23.7.b', '24.3', '25.2', '26.11', '26.12', '26.13.a', '26.13.b', '26.13.c', '26.13.d', '26.14.a', '26.14.b', '26.4.b', '27.2', '27.4', '28.3', '28.4.a', '28.4.b', '29.4', '3.2.c', '3.3.a', '3.4.a', '30.3', '31.3', '31.4', '32.10', '32.11.b', '32.11.c', '32.13.a', '32.13.b', '32.13.c', '32.14.a', '32.14.b', '32.14.c', '32.14.d', '32.14.e', '32.14.g', '32.14.i', '32.15', '32.16.a', '32.16.b', '32.17.c', '32.17.d', '32.17.e', '32.17.g', '32.18.a', '32.18.b', '32.18.c', '32.18.d', '32.19.a', '32.19.b', '32.19.c', '32.19.d', '32.19.e', '32.19.g', '32.19.h', '32.19.i', '32.19.k', '32.19.l', '32.20', '32.21.a', '32.21.b', '32.21.c', '32.21.d', '32.21.e', '32.21.g', '32.21.h', '32.4', '32.5', '32.6', '32.7.e', '32.7.g', '32.9.c', '32.9.d', '32.9.e', '33.4', '34.1', '34.6', '34.7.a', '34.7.b', '34.7.c', '34.7.d', '35.3', '35.4', '37.3.c', '37.7', '38.3', '38.4', '38.5', '39.10', '39.3.g', '39.6', '39.7', '39.8', '39.9.a', '39.9.b', '39.9.c', '4.2', '40.2.b', '40.6.a', '40.6.b', '41.2.a', '41.2.b', '41.2.c', '41.2.d', '41.3.a', '41.3.b', '41.3.c', '41.3.d', '41.3.e', '41.3.g', '41.3.h', '41.3.i', '41.3.k', '41.3.l', '41.3.m', '41.3.n', '41.4.a', '41.4.b', '41.4.c', '41.4.d', '41.4.e', '41.4.g', '41.4.h', '41.4.i', '41.4.k', '41.4.l', '41.4.m', '41.5.a', '41.5.b', '42.1.d', '42.2.b', '42.3', '43.2.d', '43.5', '43.6', '44.1.d', '44.2', '44.3', '44.4', '45.1', '45.2', '45.3', '46.1', '47.10', '47.3.a', '47.3.b', '47.3.c', '47.3.d', '47.3.e', '47.3.g', '47.3.h', '47.3.i', '47.3.k', '47.3.l', '47.3.m', '47.3.n', '47.3.o', '47.3.p', '47.3.q', '47.3.r', '47.3.s', '47.3.t', '47.4', '47.5.a', '47.5.b', '47.5.c', '47.5.d', '47.5.e', '47.5.g', '47.5.h', '47.6.g', '47.7', '47.9', '48.1.a', '48.1.b', '48.1.c', '48.1.d', '48.1.e', '48.1.g', '48.1.h', '48.1.i', '48.1.k', '48.1.l', '48.1.m', '48.1.n', '48.2', '48.3.a', '48.4', '5.3.c', '5.5', '50.1', '50.2', '51.1.a', '51.1.b', '51.2.b', '51.3.b', '52.1', '52.2.a', '52.2.b', '52.3.b', '52.4', '52.5.a', '52.5.b', '52.5.c', '52.5.d', '52.6.a', '52.6.b', '52.6.c', '52.7', '52.8.a', '52.8.b', '52.8.c', '52.8.d', '52.8.e', '52.8.g', '52.8.h', '52.8.i', '52.8.k', '52.8.l', '52.8.m', '52.8.n', '52.8.o', '52.8.p', '52.9.a', '52.9.b', '52.9.c', '52.9.d', '53.1', '53.2', '6.1.a', '6.1.c', '6.10.a', '6.10.b', '6.13', '6.14', '6.15.a', '6.15.b', '6.15.c', '6.16.a', '6.16.b', '6.16.c', '6.16.d', '6.2.a', '6.2.c', '6.3.e', '6.4.b', '6.4.e', '6.4.g', '6.4.l', '6.5.b', '6.5.c', '6.9.d', '7.1.a', '7.10.b', '7.11.c', '7.12.a', '7.12.b', '7.12.c', '7.13.a', '7.13.b', '7.13.c', '7.13.d', '7.2.k', '7.4.c', '7.5.a', '7.6.b', '7.7.a', '8.1.a', '8.1.b', '8.2.a', '8.2.b', '8.5.d', '8.6.d', '8.7.d', '8.8.a', '8.8.d', '8.9.e']\n"
          ]
        }
      ],
      "source": [
        "if \"47.11\" in result:\n",
        "    result.remove(\"47.11\")\n",
        "print(result)  # Kết quả: [\"47.1\", \"47.2\"]"
      ]
    },
    {
      "cell_type": "code",
      "execution_count": null,
      "metadata": {
        "id": "pSQiESMLJx82"
      },
      "outputs": [],
      "source": [
        "result.append(\"48.5\")"
      ]
    },
    {
      "cell_type": "markdown",
      "metadata": {
        "id": "5VWda-00QKfm"
      },
      "source": [
        "**Code** chương II"
      ]
    },
    {
      "cell_type": "code",
      "execution_count": null,
      "metadata": {
        "colab": {
          "base_uri": "https://localhost:8080/"
        },
        "collapsed": true,
        "id": "6zKmyRWpNksV",
        "outputId": "f52ace3f-e4e0-4330-bf53-8104ac3f91b7"
      },
      "outputs": [
        {
          "output_type": "stream",
          "name": "stdout",
          "text": [
            "Node Chương II: HÀNH VI VI PHẠM, HÌNH THỨC, MỨC XỬ PHẠT, MỨC TRỪ ĐIỂM GIẤY PHÉP LÁI XE VÀ BIỆN PHÁP KHẮC PHỤC HẬU QUẢ VI PHẠM HÀNH CHÍNH VỀ TRẬT TỰ, AN TOÀN GIAO THÔNG TRONG LĨNH VỰC GIAO THÔNG ĐƯỜNG BỘ\n",
            "Node Mục 1: VI PHẠM QUY TẮC GIAO THÔNG ĐƯỜNG BỘ\n",
            "Node 6: Xử phạt, trừ điểm giấy phép lái xe của người điều khiển xe ô tô, xe chở người bốn bánh có gắn động cơ, xe chở hàng bốn bánh có gắn động cơ và các loại xe tương tự xe ô tô vi phạm quy tắc giao thông đường bộ\n",
            "Node 6.1.b: Khi ra, vào vị trí dừng xe, đỗ xe không có tín hiệu báo cho người điều khiển phương tiện khác biết; - Phạt tiền từ 400.000 đồng đến 600.000 đồng đối với người điều khiển xe\n",
            "Node 6.1.d: Không gắn biển báo hiệu ở phía trước xe kéo, phía sau xe được kéo; điều khiển xe kéo rơ moóc không có biển báo hiệu theo quy định; - Phạt tiền từ 400.000 đồng đến 600.000 đồng đối với người điều khiển xe\n",
            "Node 6.1.đ: Sử dụng còi trong thời gian từ 22 giờ ngày hôm trước đến 05 giờ ngày hôm sau trong khu đông dân cư, khu vực cơ sở khám bệnh, chữa bệnh, trừ các xe ưu tiên đang đi làm nhiệm vụ theo quy định. - Phạt tiền từ 400.000 đồng đến 600.000 đồng đối với người điều khiển xe\n",
            "Node 6.2.b: Chở người trên buồng lái quá số lượng quy định; - Phạt tiền từ 600.000 đồng đến 800.000 đồng đối với người điều khiển xe\n",
            "Node 6.2.d: Dừng xe, đỗ xe trên phần đường xe chạy ở đoạn đường ngoài đô thị nơi có lề đường rộng; dừng xe, đỗ xe không sát mép đường phía bên phải theo chiều đi ở nơi đường có lề đường hẹp hoặc không có lề đường; dừng xe, đỗ xe ngược với chiều lưu thông của làn đường; dừng xe, đỗ xe trên dải phân cách cố định ở giữa hai phần đường xe chạy; đỗ xe trên dốc không chèn bánh; - Phạt tiền từ 600.000 đồng đến 800.000 đồng đối với người điều khiển xe\n",
            "Node 6.3.a: Điều khiển xe chạy quá tốc độ quy định từ 05 km/h đến dưới 10 km/h; - Phạt tiền từ 800.000 đồng đến 1.000.000 đồng đối với người điều khiển xe\n",
            "Node 6.3.b: Sử dụng còi, rú ga liên tục; sử dụng còi hơi, sử dụng đèn chiếu xa khi gặp người đi bộ qua đường hoặc khi đi trên đoạn đường qua khu dân cư có hệ thống chiếu sáng đang hoạt động hoặc khi gặp xe đi ngược chiều (trừ trường hợp dải phân cách có khả năng chống chói) hoặc khi chuyển hướng xe tại nơi đường giao nhau, trừ các xe ưu tiên đang đi làm nhiệm vụ theo quy định; - Phạt tiền từ 800.000 đồng đến 1.000.000 đồng đối với người điều khiển xe\n",
            "\n",
            "Edges:\n",
            "Edge between Chương II and Mục 1\n",
            "Content: No content\n",
            "Edge between Chương II and Mục 2\n",
            "Content: No content\n",
            "Edge between Chương II and Mục 3\n",
            "Content: No content\n",
            "Edge between Chương II and Mục 4\n",
            "Content: No content\n",
            "Edge between Chương II and Mục 5\n",
            "Content: No content\n"
          ]
        }
      ],
      "source": [
        "import re\n",
        "import networkx as nx\n",
        "from docx import Document\n",
        "\n",
        "# Khởi tạo đồ thị có hướng\n",
        "G = nx.DiGraph()\n",
        "\n",
        "# Định nghĩa các biểu thức chính quy\n",
        "chapter_pattern = r\"Chương\\s+([0-9IVXLCDM]+)\\.\\s+(.+)\"\n",
        "section_pattern = r\"Mục\\s+(\\d+)\\.\\s+(.+)\"\n",
        "article_pattern = r\"Điều\\s+(\\d+)\\.\\s+(.+)\"\n",
        "clause_pattern = r\"(\\d+)\\.\\s+(.+)\"\n",
        "subclause_pattern = r\"([a-zđ])\\)\\s+(.+)\"\n",
        "# penalty_pattern = r\"Phạt tiền từ (\\d{1,3}(?:\\.\\d{3})*) đồng đến (\\d{1,3}(?:\\.\\d{3})*) đồng đối với (.+?)(?=\\s*thực hiện|:|$)\"\n",
        "penalty_pattern = re.compile(r\"(Phạt tiền.*?)(?=\\s*thực hiện)\", re.DOTALL)\n",
        "penalty_pattern_1 = re.compile(r\"(Phạt tiền.*?)(?=\\s*đối với)\", re.DOTALL)\n",
        "# Hàm tìm kiếm\n",
        "def extract_fine(text):\n",
        "    # match = re.search(penalty_pattern, text)\n",
        "    match = penalty_pattern.search(text)\n",
        "    if match:\n",
        "       # fine_start = match.group(1)\n",
        "       # fine_end = match.group(2)\n",
        "      # target = match.group(3)\n",
        "        #return f\"Phạt tiền từ {fine_start} đồng đến {fine_end} đồng đối với {target}\"\n",
        "        return match.group(1)\n",
        "    return \"Không tìm thấy mức phạt\"\n",
        "# Mảng result để loại bỏ các nút (giả sử rỗng nếu không cung cấp)\n",
        "def  extract_fine_1(text):\n",
        "      # match = re.search(penalty_pattern, text)\n",
        "    match = penalty_pattern_1.search(text)\n",
        "    if match:\n",
        "       # fine_start = match.group(1)\n",
        "       # fine_end = match.group(2)\n",
        "      # target = match.group(3)\n",
        "        #return f\"Phạt tiền từ {fine_start} đồng đến {fine_end} đồng đối với {target}\"\n",
        "        return match.group(1)\n",
        "    return \"Không tìm thấy mức phạt\"\n",
        "def process_document(doc_path):\n",
        "    # Đọc văn bản từ file .docx\n",
        "    doc = Document(doc_path)\n",
        "    lines = [para.text for para in doc.paragraphs if para.text.strip()]\n",
        "\n",
        "    current_chapter = None\n",
        "    current_section = None\n",
        "    current_article = None\n",
        "    current_clause = None\n",
        "    current_penalty = None\n",
        "    clause_lines = []\n",
        "    clause_num = None\n",
        "    current_clause_content = None\n",
        "    Ck = False\n",
        "\n",
        "    for line in lines:\n",
        "        line = line.strip()\n",
        "        if not line:\n",
        "            continue\n",
        "\n",
        "        # Phát hiện Chương\n",
        "        chapter_match = re.match(chapter_pattern, line)\n",
        "        if chapter_match:\n",
        "            chapter_num = chapter_match.group(1)\n",
        "            chapter_title = chapter_match.group(2)\n",
        "            chapter_node = f\"Chương {chapter_num}\"\n",
        "            G.add_node(chapter_node, content=chapter_title)\n",
        "            current_chapter = chapter_node\n",
        "            continue\n",
        "\n",
        "        # Phát hiện Mục\n",
        "        section_match = re.match(section_pattern, line)\n",
        "        if section_match:\n",
        "        #    process_previous_clause()\n",
        "            section_num = section_match.group(1)\n",
        "            section_title = section_match.group(2)\n",
        "            section_node = f\"Mục {section_num}\"\n",
        "            G.add_node(section_node, content=section_title)\n",
        "            if current_chapter:\n",
        "                G.add_edge(current_chapter, section_node)\n",
        "            current_section = section_node\n",
        "            if Ck:\n",
        "                if current_clause:\n",
        "                   if current_clause not in result:\n",
        "                       G.add_node(current_clause, content=f\"{current_clause_content} - {current_penalty}\")\n",
        "                       G.add_edge(current_article, current_clause)\n",
        "            Ck = False\n",
        "            continue\n",
        "\n",
        "        # Phát hiện Điều\n",
        "        article_match = re.match(article_pattern, line)\n",
        "        if article_match:\n",
        "       #     process_previous_clause()\n",
        "            article_num = article_match.group(1)\n",
        "            article_title = article_match.group(2)\n",
        "            article_node = article_num\n",
        "            G.add_node(article_node, content=article_title)\n",
        "            if current_section:\n",
        "                G.add_edge(current_section, article_node)\n",
        "            if Ck:\n",
        "                if current_clause:\n",
        "                   if current_clause not in result:\n",
        "                       G.add_node(current_clause, content=current_clause_content)\n",
        "                       G.add_edge(current_article, current_clause)\n",
        "            current_article = article_node\n",
        "            Ck = False\n",
        "            continue\n",
        "\n",
        "        clause_match = re.match(clause_pattern, line)\n",
        "        # Phát hiện Khoản:\n",
        "        if clause_match:\n",
        "            #    process_previous_clause()\n",
        "                clause_num = clause_match.group(1)\n",
        "                clause_title = clause_match.group(2)\n",
        "                pn = re.compile(\n",
        "                r\"(Phạt tiền.*?)(?=\\s*thực hiện)\\s*thực hiện\\s*(.*)\",\n",
        "                re.DOTALL\n",
        "                )\n",
        "                matcha = pn.search(clause_title)\n",
        "                if matcha:\n",
        "                   clause_content  = matcha.group(2).strip()\n",
        "                clause_node = f\"{article_node}.{clause_num}\"\n",
        "                if Ck:\n",
        "                    if current_clause:\n",
        "                       if current_clause not in result:\n",
        "                          G.add_node(current_clause, content=current_clause_content)\n",
        "                          G.add_edge(current_article, current_clause)\n",
        "                current_clause = clause_node\n",
        "                current_clause_content = clause_title\n",
        "                current_penalty = extract_fine(clause_title)\n",
        "                if current_penalty == \"Không tìm thấy mức phạt\":\n",
        "                    current_penalty = extract_fine_1(clause_title)\n",
        "                Ck = True\n",
        "                continue\n",
        "        subclause_match = re.match(subclause_pattern, line)\n",
        "        if subclause_match:\n",
        "            subclause_num = subclause_match.group(1)\n",
        "            subclause_title = subclause_match.group(2)\n",
        "            if current_penalty != \"Không tìm thấy mức phạt\":\n",
        "                subclause_node = f\"{current_clause}.{subclause_num}\"\n",
        "                if subclause_node not in result:\n",
        "                   G.add_node(subclause_node, content=f\"{subclause_title} - {current_penalty}\")\n",
        "            else:\n",
        "                subclause_node = f\"{current_clause}.{subclause_num}\"\n",
        "                if subclause_node not in result:\n",
        "                   G.add_node(subclause_node, content=subclause_title)\n",
        "            if current_article and subclause_node not in result:\n",
        "                G.add_edge(current_article, subclause_node)\n",
        "            Ck = False\n",
        "            continue\n",
        "\n",
        "\n",
        "# Ví dụ sử dụng\n",
        "doc_path = \"/content/Chuong2_Cu_the_168.docx\"  # Thay bằng đường dẫn thực tế tới file của bạn\n",
        "process_document(doc_path)\n",
        "\n",
        "# In một số nút và cạnh để kiểm tra\n",
        "for node in list(G.nodes(data=True))[:10]:  # Lấy 5 nút đầu tiên cùng với dữ liệu\n",
        "    node_id = node[0]  # ID của nút\n",
        "    node_data = node[1]  # Thuộc tính của nút (dữ liệu)\n",
        "    content = node_data.get(\"content\", \"No content\")  # Lấy nội dung (nếu có) hoặc mặc định nếu không có\n",
        "    print(f\"Node {node_id}: {content}\")\n",
        "print(\"\\nEdges:\")\n",
        "for u, v, data in list(G.edges(data=True))[:5]:  # Lấy các cạnh cùng với dữ liệu\n",
        "    print(f\"Edge between {u} and {v}\")\n",
        "    print(\"Content:\", data.get(\"content\", \"No content\"))  # Lấy thuộc tính 'content' của cạnh"
      ]
    },
    {
      "cell_type": "markdown",
      "metadata": {
        "id": "x9dVtxT6rckx"
      },
      "source": [
        "Code chương I"
      ]
    },
    {
      "cell_type": "markdown",
      "metadata": {
        "id": "AV9Hw47PrZmm"
      },
      "source": []
    },
    {
      "cell_type": "code",
      "execution_count": null,
      "metadata": {
        "colab": {
          "base_uri": "https://localhost:8080/"
        },
        "collapsed": true,
        "id": "jg8YyzwfrXgS",
        "outputId": "b2383a66-1bf0-499a-8723-3502c246b064"
      },
      "outputs": [
        {
          "output_type": "stream",
          "name": "stdout",
          "text": [
            "Node Chương II: HÀNH VI VI PHẠM, HÌNH THỨC, MỨC XỬ PHẠT, MỨC TRỪ ĐIỂM GIẤY PHÉP LÁI XE VÀ BIỆN PHÁP KHẮC PHỤC HẬU QUẢ VI PHẠM HÀNH CHÍNH VỀ TRẬT TỰ, AN TOÀN GIAO THÔNG TRONG LĨNH VỰC GIAO THÔNG ĐƯỜNG BỘ\n",
            "Node Mục 1: VI PHẠM QUY TẮC GIAO THÔNG ĐƯỜNG BỘ\n",
            "Node 6: Xử phạt, trừ điểm giấy phép lái xe của người điều khiển xe ô tô, xe chở người bốn bánh có gắn động cơ, xe chở hàng bốn bánh có gắn động cơ và các loại xe tương tự xe ô tô vi phạm quy tắc giao thông đường bộ\n",
            "Node 6.1.b: Khi ra, vào vị trí dừng xe, đỗ xe không có tín hiệu báo cho người điều khiển phương tiện khác biết; - Phạt tiền từ 400.000 đồng đến 600.000 đồng đối với người điều khiển xe\n",
            "Node 6.1.d: Không gắn biển báo hiệu ở phía trước xe kéo, phía sau xe được kéo; điều khiển xe kéo rơ moóc không có biển báo hiệu theo quy định; - Phạt tiền từ 400.000 đồng đến 600.000 đồng đối với người điều khiển xe\n",
            "Node 6.1.đ: Sử dụng còi trong thời gian từ 22 giờ ngày hôm trước đến 05 giờ ngày hôm sau trong khu đông dân cư, khu vực cơ sở khám bệnh, chữa bệnh, trừ các xe ưu tiên đang đi làm nhiệm vụ theo quy định. - Phạt tiền từ 400.000 đồng đến 600.000 đồng đối với người điều khiển xe\n",
            "Node 6.2.b: Chở người trên buồng lái quá số lượng quy định; - Phạt tiền từ 600.000 đồng đến 800.000 đồng đối với người điều khiển xe\n",
            "Node 6.2.d: Dừng xe, đỗ xe trên phần đường xe chạy ở đoạn đường ngoài đô thị nơi có lề đường rộng; dừng xe, đỗ xe không sát mép đường phía bên phải theo chiều đi ở nơi đường có lề đường hẹp hoặc không có lề đường; dừng xe, đỗ xe ngược với chiều lưu thông của làn đường; dừng xe, đỗ xe trên dải phân cách cố định ở giữa hai phần đường xe chạy; đỗ xe trên dốc không chèn bánh; - Phạt tiền từ 600.000 đồng đến 800.000 đồng đối với người điều khiển xe\n",
            "Node 6.3.a: Điều khiển xe chạy quá tốc độ quy định từ 05 km/h đến dưới 10 km/h; - Phạt tiền từ 800.000 đồng đến 1.000.000 đồng đối với người điều khiển xe\n",
            "Node 6.3.b: Sử dụng còi, rú ga liên tục; sử dụng còi hơi, sử dụng đèn chiếu xa khi gặp người đi bộ qua đường hoặc khi đi trên đoạn đường qua khu dân cư có hệ thống chiếu sáng đang hoạt động hoặc khi gặp xe đi ngược chiều (trừ trường hợp dải phân cách có khả năng chống chói) hoặc khi chuyển hướng xe tại nơi đường giao nhau, trừ các xe ưu tiên đang đi làm nhiệm vụ theo quy định; - Phạt tiền từ 800.000 đồng đến 1.000.000 đồng đối với người điều khiển xe\n",
            "\n",
            "Edges:\n",
            "Edge between Chương II and Mục 1\n",
            "Content: No content\n",
            "Edge between Chương II and Mục 2\n",
            "Content: No content\n",
            "Edge between Chương II and Mục 3\n",
            "Content: No content\n",
            "Edge between Chương II and Mục 4\n",
            "Content: No content\n",
            "Edge between Chương II and Mục 5\n",
            "Content: No content\n"
          ]
        }
      ],
      "source": [
        "import re\n",
        "import networkx as nx\n",
        "from docx import Document\n",
        "\n",
        "# Định nghĩa các biểu thức chính quy\n",
        "chapter_pattern = r\"Chương\\s+([0-9IVXLCDM]+)\\.\\s+(.+)\"\n",
        "article_pattern = r\"Điều\\s+(\\d+)\\.\\s+(.+)\"\n",
        "clause_pattern = r\"(\\d+)\\.\\s+(.+)\"\n",
        "subclause_pattern = r\"([a-zđ])\\)\\s+(.+)\"\n",
        "\n",
        "\n",
        "def process_document(doc_path):\n",
        "    # Đọc văn bản từ file .docx\n",
        "    doc = Document(doc_path)\n",
        "    lines = [para.text for para in doc.paragraphs if para.text.strip()]\n",
        "\n",
        "    current_chapter = None\n",
        "    current_article = None\n",
        "    current_clause = None\n",
        "    clause_num = None\n",
        "\n",
        "    for line in lines:\n",
        "        line = line.strip()\n",
        "        if not line:\n",
        "            continue\n",
        "\n",
        "        # Phát hiện Chương\n",
        "        chapter_match = re.match(chapter_pattern, line)\n",
        "        if chapter_match:\n",
        "            chapter_num = chapter_match.group(1)\n",
        "            chapter_title = chapter_match.group(2)\n",
        "            chapter_node = f\"Chương {chapter_num}\"\n",
        "            G.add_node(chapter_node, content=chapter_title)\n",
        "            current_chapter = chapter_node\n",
        "            continue\n",
        "\n",
        "\n",
        "        # Phát hiện Điều\n",
        "        article_match = re.match(article_pattern, line)\n",
        "        if article_match:\n",
        "       #     process_previous_clause()\n",
        "            article_num = article_match.group(1)\n",
        "            article_title = article_match.group(2)\n",
        "            article_node = article_num\n",
        "            G.add_node(article_node, content=article_title)\n",
        "            if current_chapter:\n",
        "                G.add_edge(current_chapter, article_node)\n",
        "            current_article = article_node\n",
        "            continue\n",
        "\n",
        "        clause_match = re.match(clause_pattern, line)\n",
        "        # Phát hiện Khoản:\n",
        "        if clause_match:\n",
        "            #    process_previous_clause()\n",
        "                clause_num = clause_match.group(1)\n",
        "                clause_title = clause_match.group(2)\n",
        "                clause_node = f\"{article_node}.{clause_num}\"\n",
        "                if clause_node not in result:\n",
        "                   G.add_node(clause_node, content=clause_title)\n",
        "                if current_article and clause_node not in result:\n",
        "                    G.add_edge(current_article, clause_node)\n",
        "                current_clause = clause_node\n",
        "                continue\n",
        "        subclause_match = re.match(subclause_pattern, line)\n",
        "        if subclause_match:\n",
        "            subclause_num = subclause_match.group(1)\n",
        "            subclause_title = subclause_match.group(2)\n",
        "            subclause_node = f\"{current_clause}.{subclause_num}\"\n",
        "            if subclause_node not in result:\n",
        "               G.add_node(subclause_node, content=subclause_title)\n",
        "            if current_clause and subclause_node not in result:\n",
        "                G.add_edge(current_clause, subclause_node)\n",
        "            continue\n",
        "\n",
        "# Ví dụ sử dụng\n",
        "doc_path = \"/content/Chuong1_Cu_the_168.docx\"  # Thay bằng đường dẫn thực tế tới file của bạn\n",
        "process_document(doc_path)\n",
        "\n",
        "# In một số nút và cạnh để kiểm tra\n",
        "for node in list(G.nodes(data=True))[:10]:  # Lấy 5 nút đầu tiên cùng với dữ liệu\n",
        "    node_id = node[0]  # ID của nút\n",
        "    node_data = node[1]  # Thuộc tính của nút (dữ liệu)\n",
        "    content = node_data.get(\"content\", \"No content\")  # Lấy nội dung (nếu có) hoặc mặc định nếu không có\n",
        "    print(f\"Node {node_id}: {content}\")\n",
        "print(\"\\nEdges:\")\n",
        "for u, v, data in list(G.edges(data=True))[:5]:  # Lấy các cạnh cùng với dữ liệu\n",
        "    print(f\"Edge between {u} and {v}\")\n",
        "    print(\"Content:\", data.get(\"content\", \"No content\"))  # Lấy thuộc tính 'content' của cạnh"
      ]
    },
    {
      "cell_type": "markdown",
      "metadata": {
        "id": "TSGNvc1F-gol"
      },
      "source": [
        "Code xử lý móc nối chương II"
      ]
    },
    {
      "cell_type": "markdown",
      "metadata": {
        "id": "EfhVRZhOO70R"
      },
      "source": [
        "Code thử nghiệm\n"
      ]
    },
    {
      "cell_type": "markdown",
      "metadata": {
        "id": "Rldxlz9WPGiG"
      },
      "source": [
        "Code xử lý ngoại lệ chương II\n"
      ]
    },
    {
      "cell_type": "code",
      "execution_count": null,
      "metadata": {
        "colab": {
          "base_uri": "https://localhost:8080/"
        },
        "collapsed": true,
        "id": "lLrkJbUKuQnZ",
        "outputId": "0034a261-1f17-4c3a-faa4-9298e26db66d"
      },
      "outputs": [
        {
          "output_type": "stream",
          "name": "stdout",
          "text": [
            "Nodes:\n",
            "6.1.a: Không chấp hành hiệu lệnh, chỉ dẫn của biển báo hiệu, vạch kẻ đường, - Phạt tiền từ 400.000 đồng đến 600.000 đồng đối với người điều khiển xe\n",
            "6.1.c: Không báo hiệu bằng đèn khẩn cấp hoặc không đặt biển cảnh báo “Chú ý xe đỗ” theo quy định trong trường hợp gặp sự cố kỹ thuật (hoặc bất khả kháng khác) buộc phải đỗ xe chiếm một phần đường xe chạy hoặc tại nơi không được phép đỗ xe, điều c - Phạt tiền từ 400.000 đồng đến 600.000 đồng đối với người điều khiển xe\n",
            "6.2.a: Chuyển làn đường không đúng nơi cho phép hoặc không có tín hiệu báo trước hoặc chuyển làn đường không đúng quy định “mỗi lần chuyển làn đường chỉ được phép chuyển sang một làn đường liền kề”, ; - Phạt tiền từ 600.000 đồng đến 800.000 đồng đối với người điều khiển xe\n",
            "6.2.c: Không tuân thủ các quy định về nhường đường tại nơi đường bộ giao nhau, , o; - Phạt tiền từ 600.000 đồng đến 800.000 đồng đối với người điều khiển xe\n",
            "6.2.đ: Dừng xe không sát theo lề đường, vỉa hè phía bên phải theo chiều đi hoặc bánh xe gần nhất cách lề đường, vỉa hè quá 0,25 mét; dừng xe trên đường dành riêng cho xe buýt; dừng xe trên miệng cống thoát nước, miệng hầm của đường điện thoại, điện cao thế, chỗ dành riêng cho xe chữa cháy lấy nước; rời vị trí lái, tắt máy khi dừng xe (trừ trường hợp rời khỏi vị trí lái để đóng, mở cửa xe, xếp dỡ hàng hóa, kiểm tra kỹ thuật xe) hoặc rời vị trí lái khi dừng xe nhưng không sử dụng phanh đỗ xe (hoặc thực hiện biện pháp an toàn khác); dừng xe, đỗ xe không đúng vị trí quy định ở những đoạn có bố trí nơi dừng xe, đỗ xe; dừng xe, đỗ xe trên phần đường dành cho người đi bộ qua đường; dừng xe nơi có biển “Cấm dừng xe và đỗ xe”, . - Phạt tiền từ 600.000 đồng đến 800.000 đồng đối với người điều khiển xe\n",
            "6.3.e: Đỗ xe không sát theo lề đường, vỉa hè phía bên phải theo chiều đi hoặc bánh xe gần nhất cách lề đường, vỉa hè quá 0,25 mét; đỗ xe trên đường dành riêng cho xe buýt; đỗ xe trên miệng cống thoát nước, miệng hầm của đường điện thoại, điện cao thế, chỗ dành riêng cho xe chữa cháy lấy nước; đỗ, để xe ở vỉa hè trái quy định của pháp luật; đỗ xe nơi có biển “Cấm đỗ xe” hoặc biển “Cấm dừng xe và đỗ xe”, - Phạt tiền từ 800.000 đồng đến 1.000.000 đồng đối với người điều khiển xe\n",
            "6.4.b: Dừng xe, đỗ xe tại vị trí: bên trái đường một chiều hoặc bên trái (theo hướng lưu thông) của đường đôi; trên đoạn đường cong hoặc gần đầu dốc nơi tầm nhìn bị che khuất; trên cầu (trừ trường hợp tổ chức giao thông cho phép), gầm cầu vượt (trừ những nơi cho phép dừng xe, đỗ xe), song song với một xe khác đang dừng, đỗ, - Phạt tiền từ 2.000.000 đồng đến 3.000.000 đồng đối với người điều khiển xe\n",
            "6.4.e: Lùi xe ở đường một chiều, đường có biển “Cấm đi ngược chiều”, khu vực cấm dừng, trên phần đường dành cho người đi bộ qua đường, nơi đường bộ giao nhau, nơi đường bộ giao nhau cùng mức với đường sắt, nơi tầm nhìn bị che khuất; lùi xe không quan sát hai bên, phía sau xe hoặc không có tín hiệu lùi xe, ; - Phạt tiền từ 2.000.000 đồng đến 3.000.000 đồng đối với người điều khiển xe\n",
            "6.4.g: Điều khiển xe có liên quan trực tiếp đến vụ tai nạn giao thông mà không dừng ngay phương tiện, không giữ nguyên hiện trường, không trợ giúp người bị nạn, ; - Phạt tiền từ 2.000.000 đồng đến 3.000.000 đồng đối với người điều khiển xe\n",
            "6.4.l: Không giữ khoảng cách an toàn để xảy ra va chạm với xe chạy liền trước hoặc không giữ khoảng cách theo quy định của biển báo hiệu “Cự ly tối thiểu giữa hai xe”, ;. - Phạt tiền từ 2.000.000 đồng đến 3.000.000 đồng đối với người điều khiển xe\n",
            "6.9.d: Đi ngược chiều của đường một chiều, đi ngược chiều trên đường có biển \"Cấm đi ngược chiều”, và các trường hợp xe ưu tiên đang đi làm nhiệm vụ khẩn cấp theo quy định. - Phạt tiền từ 18.000.000 đồng đến 20.000.000 đồng đối với người điều khiển xe\n",
            "6.10.a: Điều khiển xe không quan sát, giảm tốc độ hoặc dừng lại để bảo đảm an toàn theo quy định mà gây tai nạn giao thông; điều khiển xe chạy quá tốc độ quy định gây tai nạn giao thông; dừng xe, đỗ xe, quay đầu xe, lùi xe, tránh xe, vượt xe, chuyển hướng, chuyển làn đường không đúng quy định gây tai nạn giao thông; không đi đúng phần đường, làn đường, không giữ khoảng cách an toàn giữa hai xe theo quy định gây tai nạn giao thông hoặc đi vào đường có biển báo hiệu có nội dung cấm đi vào đối với loại phương tiện đang điều khiển gây tai nạn giao thông, ; - Phạt tiền từ 20.000.000 đồng đến 22.000.000 đồng đối với người điều khiển xe\n",
            "7.1.a: Không chấp hành hiệu lệnh, chỉ dẫn của biển báo hiệu, vạch kẻ đường, ; - Phạt tiền từ 200.000 đồng đến 400.000 đồng đối với người điều khiển xe\n",
            "7.1.đ: Không tuân thủ các quy định về nhường đường tại nơi đường giao nhau, ; - Phạt tiền từ 200.000 đồng đến 400.000 đồng đối với người điều khiển xe\n",
            "7.2.k: Quay đầu xe tại nơi không được quay đầu xe, . - Phạt tiền từ 400.000 đồng đến 600.000 đồng đối với người điều khiển xe\n",
            "7.4.c: Vượt xe trong những trường hợp không được vượt, vượt xe tại đoạn đường có biển báo hiệu có nội dung cấm vượt đối với loại phương tiện đang điều khiển, ; - Phạt tiền từ 800.000 đồng đến 1.000.000 đồng đối với người điều khiển xe\n",
            "7.5.a: Điều khiển xe có liên quan trực tiếp đến vụ tai nạn giao thông mà không dừng ngay phương tiện, không giữ nguyên hiện trường, không trợ giúp người bị nạn, ; - Phạt tiền từ 1.000.000 đồng đến 2.000.000 đồng đối với người điều khiển xe\n",
            "7.6.b: Đi vào khu vực cấm, đường có biển báo hiệu có nội dung cấm đi vào đối với loại phương tiện đang điều khiển, và các trường hợp xe ưu tiên đang đi làm nhiệm vụ khẩn cấp theo quy định; - Phạt tiền từ 2.000.000 đồng đến 3.000.000 đồng đối với người điều khiển xe\n",
            "7.7.a: Đi ngược chiều của đường một chiều, đi ngược chiều trên đường có biển “Cấm đi ngược chiều”, và các trường hợp xe ưu tiên đang đi làm nhiệm vụ khẩn cấp theo quy định; điều khiển xe đi trên vỉa hè, trừ trường hợp điều khiển xe đi qua vỉa hè để vào nhà, cơ quan; - Phạt tiền từ 4.000.000 đồng đến 6.000.000 đồng đối với người điều khiển xe\n",
            "8.1.a: Không chấp hành hiệu lệnh, chỉ dẫn của biển báo hiệu, vạch kẻ đường, ; - Phạt tiền từ 400.000 đồng đến 600.000 đồng đối với người điều khiển xe\n",
            "8.1.b: Không báo hiệu bằng đèn khẩn cấp hoặc không đặt biển cảnh báo “Chú ý xe đỗ” theo quy định trong trường hợp gặp sự cố kỹ thuật (hoặc bất khả kháng khác) buộc phải đỗ xe chiếm một phần đường xe chạy hoặc tại nơi không được phép đỗ xe, . - Phạt tiền từ 400.000 đồng đến 600.000 đồng đối với người điều khiển xe\n",
            "8.2.a: Dừng xe, đỗ xe trên phần đường xe chạy ở đoạn đường ngoài đô thị nơi có lề đường rộng; dừng xe, đỗ xe không sát mép đường phía bên phải theo chiều đi ở nơi đường có lề đường hẹp hoặc không có lề đường; dừng xe, đỗ xe ngược với chiều lưu thông của làn đường; dừng xe, đỗ xe trên dải phân cách cố định ở giữa hai phần đường xe chạy; dừng xe, đỗ xe không đúng vị trí quy định ở những đoạn đường đã có bố trí nơi dừng xe, đỗ xe; đỗ xe trên dốc không chèn bánh; dừng xe nơi có biển “Cấm dừng xe và đỗ xe”; đỗ xe nơi có biển “Cấm đỗ xe” hoặc biển “Cấm dừng xe và đỗ xe”, ; - Phạt tiền từ 600.000 đồng đến 800.000 đồng đối với người điều khiển xe\n",
            "8.2.b: Dừng xe, đỗ xe tại các vị trí: bên trái đường một chiều hoặc bên trái (theo hướng lưu thông) của đường đôi; trên đoạn đường cong hoặc gần đầu dốc nơi tầm nhìn bị che khuất; trên cầu (trừ trường hợp tổ chức giao thông cho phép), gầm cầu vượt (trừ những nơi cho phép dừng xe, đỗ xe), song song với một xe khác đang dừng, đỗ; nơi đường bộ giao nhau hoặc trong phạm vi 05 mét tính từ mép đường giao nhau; điểm đón, trả khách; trước cổng hoặc trong phạm vi 05 mét hai bên cổng trụ sở cơ quan, tổ chức có bố trí đường cho xe ra, vào; nơi phần đường có bề rộng chỉ đủ cho một làn xe cơ giới; che khuất biển báo hiệu đường bộ, đèn tín hiệu giao thông; nơi mở dải phân cách giữa; cách xe ô tô đang đỗ ngược chiều dưới 20 mét trên đường phố hẹp, dưới 40 mét trên đường có một làn xe cơ giới trên một chiều đường, ; - Phạt tiền từ 600.000 đồng đến 800.000 đồng đối với người điều khiển xe\n",
            "8.5.d: Điều khiển xe có liên quan trực tiếp đến vụ tai nạn giao thông mà không dừng ngay phương tiện, không giữ nguyên hiện trường, không trợ giúp người bị nạn, ; - Phạt tiền từ 2.000.000 đồng đến 3.000.000 đồng đối với người điều khiển xe\n",
            "8.6.d: Đi vào khu vực cấm, đường có biển báo hiệu có nội dung cấm đi vào đối với loại phương tiện đang điều khiển, và các trường hợp xe ưu tiên đang đi làm nhiệm vụ khẩn cấp theo quy định; - Phạt tiền từ 3.000.000 đồng đến 5.000.000 đồng đối với người điều khiển xe\n",
            "8.6.đ: Không đi bên phải theo chiều đi của mình; đi không đúng phần đường hoặc làn đường quy định (làn cùng chiều hoặc làn ngược chiều); điều khiển xe đi qua dải phân cách cố định ở giữa hai phần đường xe chạy, ; - Phạt tiền từ 3.000.000 đồng đến 5.000.000 đồng đối với người điều khiển xe\n",
            "8.7.d: Đi ngược chiều của đường một chiều, đi ngược chiều trên đường có biển “Cấm đi ngược chiều”, và các trường hợp xe ưu tiên đang đi làm nhiệm vụ khẩn cấp theo quy định. - Không tìm thấy mức phạt\n",
            "8.8.a: Điều khiển xe không quan sát, giảm tốc độ hoặc dừng lại để bảo đảm an toàn theo quy định mà gây tai nạn giao thông; điều khiển xe chạy quá tốc độ quy định gây tai nạn giao thông; dừng xe, đỗ xe, quay đầu xe, lùi xe, tránh xe, vượt xe, chuyển hướng, chuyển làn đường không đúng quy định gây tai nạn giao thông; mở cửa xe, để cửa xe mở không bảo đảm an toàn gây tai nạn giao thông; không đi đúng phần đường, làn đường, không giữ khoảng cách an toàn giữa hai xe theo quy định gây tai nạn giao thông hoặc đi vào đường có biển báo hiệu có nội dung cấm đi vào đối với loại phương tiện đang điều khiển, đi ngược chiều của đường một chiều, đi ngược chiều trên đường có biển “Cấm đi ngược chiều” gây tai nạn giao thông, ; - Phạt tiền từ 14.000.000 đồng đến 16.000.000 đồng đối với người điều khiển xe\n",
            "10.1.b: Không chấp hành hiệu lệnh hoặc chỉ dẫn của đèn tín hiệu, biển báo hiệu, vạch kẻ đường, ; - Phạt tiền từ 150.000 đồng đến 250.000 đồng đối với người đi bộ\n",
            "11.1.b: Không chấp hành hiệu lệnh hoặc chỉ dẫn của đèn tín hiệu, biển báo hiệu, vạch kẻ đường, ; - Không tìm thấy mức phạt\n",
            "12.2.e: Bán hàng rong hoặc bán hàng hóa nhỏ lẻ khác trên lòng đường, trên vỉa hè các tuyến phố có quy định cấm bán hàng; ; - Phạt tiền từ 200.000 đồng đến 250.000 đồng đối với cá nhân\n",
            "12.8: Bán hàng rong hoặc bán hàng hóa nhỏ lẻ khác trên lòng đường, trên vỉa hè các tuyến phố có quy định cấm bán hàng; ; - Không tìm thấy mức phạt\n",
            "12.10: hành vi không chấp hành yêu cầu kiểm tra, kiểm soát của người thi hành công vụ về bảo đảm trật tự, an toàn giao thông đường bộ, của Nghị định này. - Phạt tiền từ 4.000.000 đồng đến 6.000.000 đồng đối với cá nhân, từ 8.000.000 đồng đến 12.000.000 đồng đối với tổ chức\n",
            "12.15: hành vi không chấp hành yêu cầu kiểm tra, kiểm soát của người thi hành công vụ về bảo đảm trật tự, an toàn giao thông đường bộ, của Nghị định này. - Không tìm thấy mức phạt\n",
            "13.2.a: Điều khiển xe không có đủ đèn chiếu sáng, đèn soi biển số, đèn báo hãm, đèn tín hiệu, cần gạt nước, gương chiếu hậu, dây đai an toàn, dụng cụ thoát hiểm, thiết bị chữa cháy, đồng hồ báo áp lực hơi, đồng hồ báo tốc độ của xe hoặc có những thiết bị đó nhưng không có tác dụng, không đúng tiêu chuẩn thiết kế (đối với loại xe được quy định phải có những thiết bị đó), của Nghị định này; - Không tìm thấy mức phạt\n",
            "18.2.d: Người điều khiển xe mô tô và các loại xe tương tự xe mô tô kinh doanh vận tải không mang theo giấy phép lái xe . - Không tìm thấy mức phạt\n",
            "18.3.a: Người điều khiển xe ô tô, xe chở người bốn bánh có gắn động cơ, xe chở hàng bốn bánh có gắn động cơ và các loại xe tương tự xe ô tô kinh doanh vận tải không mang theo giấy phép lái xe, ; - Không tìm thấy mức phạt\n",
            "18.10: Người điều khiển xe ô tô, xe chở người bốn bánh có gắn động cơ, xe chở hàng bốn bánh có gắn động cơ và các loại xe tương tự xe ô tô kinh doanh vận tải không mang theo giấy phép lái xe, ; - Không tìm thấy mức phạt\n",
            "18.11: Người điều khiển xe ô tô, xe chở người bốn bánh có gắn động cơ, xe chở hàng bốn bánh có gắn động cơ và các loại xe tương tự xe ô tô kinh doanh vận tải không mang theo giấy phép lái xe, ; - Không tìm thấy mức phạt\n",
            "18.12: Người điều khiển xe ô tô, xe chở người bốn bánh có gắn động cơ, xe chở hàng bốn bánh có gắn động cơ và các loại xe tương tự xe ô tô kinh doanh vận tải không mang theo giấy phép lái xe, ; - Không tìm thấy mức phạt\n",
            "20.2: hành vi vi phạm chở quá số người quy định được phép chở của phương tiện, . - Phạt tiền từ 400.000 đồng đến 600.000 đồng trên mỗi người vượt quá quy định được phép chở của phương tiện nhưng tổng mức phạt tiền tối đa không vượt quá 75.000.000 đồng đối với người điều khiển xe ô tô chở hành khách, ô tô chở người (trừ xe buýt)\n",
            "20.5.g: Đón, trả hành khách không đúng địa điểm đón, trả hành khách được ghi trong hợp đồng, ; - Không tìm thấy mức phạt\n",
            "20.5.h: Vận chuyển khách liên vận quốc tế theo tuyến cố định không có hoặc không mang theo lệnh vận chuyển, không có danh sách hành khách theo quy định hoặc chở người không có tên trong danh sách hành khách, của Nghị định này; - Không tìm thấy mức phạt\n",
            "20.6: Vận chuyển khách liên vận quốc tế theo tuyến cố định không có hoặc không mang theo lệnh vận chuyển, không có danh sách hành khách theo quy định hoặc chở người không có tên trong danh sách hành khách, của Nghị định này; - Không tìm thấy mức phạt\n",
            "20.9: Vận chuyển khách liên vận quốc tế theo tuyến cố định không có hoặc không mang theo lệnh vận chuyển, không có danh sách hành khách theo quy định hoặc chở người không có tên trong danh sách hành khách, của Nghị định này; - Không tìm thấy mức phạt\n",
            "21.6.đ: Vận chuyển hàng hóa, cung ứng dịch vụ không có giấy phép (đối với trường hợp phải có giấy phép) hoặc có nhưng không thực hiện đúng quy định ghi trong giấy phép, của Nghị định này. - Không tìm thấy mức phạt\n",
            "21.8.đ: Vận chuyển hàng trên xe phải chằng buộc mà không chằng buộc hoặc có chằng buộc nhưng không bảo đảm an toàn theo quy định, . - Không tìm thấy mức phạt\n",
            "21.11: Vận chuyển hàng trên xe phải chằng buộc mà không chằng buộc hoặc có chằng buộc nhưng không bảo đảm an toàn theo quy định, . - Không tìm thấy mức phạt\n",
            "21.12: Vận chuyển hàng trên xe phải chằng buộc mà không chằng buộc hoặc có chằng buộc nhưng không bảo đảm an toàn theo quy định, . - Không tìm thấy mức phạt\n",
            "22.1.b: Không thực hiện đúng quy định trong giấy phép lưu hành, . - Không tìm thấy mức phạt\n",
            "22.4: Không thực hiện đúng quy định trong giấy phép lưu hành, . - Không tìm thấy mức phạt\n",
            "22.5: Không thực hiện đúng quy định trong giấy phép lưu hành, . - Không tìm thấy mức phạt\n",
            "23.5: đúng quy định trong giấy phép vận chuyển hàng hóa nguy hiểm, của Nghị định này. - Phạt tiền từ 12.000.000 đồng đến 14.000.000 đồng đối với hành vi vận chuyển hàng hóa nguy hiểm không có giấy phép vận chuyển hàng hóa nguy hiểm hoặc có nhưng hết hiệu lực hoặc không\n",
            "23.6: đúng quy định trong giấy phép vận chuyển hàng hóa nguy hiểm, của Nghị định này. - Không tìm thấy mức phạt\n",
            "26.4.b: Sử dụng lái xe, nhân viên phục vụ trên xe để tham gia kinh doanh vận tải bằng xe ô tô mà không được tập huấn, hướng dẫn về nghiệp vụ vận tải hành khách và an toàn giao thông theo quy định (đối với hình thức kinh doanh vận tải có quy định lái xe, nhân viên phục vụ trên xe phải được tập huấn, hướng dẫn nghiệp vụ), - Phạt tiền từ 3.000.000 đồng đến 4.000.000 đồng đối với cá nhân, từ 6.000.000 đồng đến 8.000.000 đồng đối với tổ chức kinh doanh vận tải, dịch vụ hỗ trợ vận tải\n",
            "26.11: Sử dụng lái xe, nhân viên phục vụ trên xe để tham gia kinh doanh vận tải bằng xe ô tô mà không được tập huấn, hướng dẫn về nghiệp vụ vận tải hành khách và an toàn giao thông theo quy định (đối với hình thức kinh doanh vận tải có quy định lái xe, nhân viên phục vụ trên xe phải được tập huấn, hướng dẫn nghiệp vụ), - Không tìm thấy mức phạt\n",
            "26.12: Sử dụng lái xe, nhân viên phục vụ trên xe để tham gia kinh doanh vận tải bằng xe ô tô mà không được tập huấn, hướng dẫn về nghiệp vụ vận tải hành khách và an toàn giao thông theo quy định (đối với hình thức kinh doanh vận tải có quy định lái xe, nhân viên phục vụ trên xe phải được tập huấn, hướng dẫn nghiệp vụ), - Không tìm thấy mức phạt\n",
            "32.4: đúng quy định về biển số, . - Phạt tiền từ 800.000 đồng đến 1.000.000 đồng đối với cá nhân, từ 1.600.000 đồng đến 2.000.000 đồng đối với tổ chức là chủ xe mô tô, xe gắn máy và các loại xe tương tự xe mô tô, các loại xe tương tự xe gắn máy không\n",
            "32.9.e: Không thực hiện đúng quy định về biển số, quy định về kẻ hoặc dán chữ, số biển số, thông tin trên thành xe, cửa xe (kể cả rơ moóc và sơ mi rơ moóc), của Nghị định này. - Phạt tiền từ 4.000.000 đồng đến 6.000.000 đồng đối với cá nhân, từ 8.000.000 đồng đến 12.000.000 đồng đối với tổ chức là chủ xe ô tô, xe chở người bốn bánh có gắn động cơ, xe chở hàng bốn bánh có gắn động cơ, xe máy chuyên dùng và các loại xe tương tự xe ô tô\n",
            "32.17.c: Đưa phương tiện quá niên hạn sử dụng tham gia giao thông, ; - Không tìm thấy mức phạt\n",
            "34.1: đúng quy định trong giấy phép lưu hành, . - Phạt tiền từ 3.000.000 đồng đến 5.000.000 đồng đối với hành vi không\n",
            "34.6: đúng quy định trong giấy phép lưu hành, . - Không tìm thấy mức phạt\n",
            "37.3.c: Vận chuyển hành khách hoặc hàng hóa không đúng với quy định tại các điều ước quốc tế mà Việt Nam đã ký kết, . - Không tìm thấy mức phạt\n",
            "37.7: Vận chuyển hành khách hoặc hàng hóa không đúng với quy định tại các điều ước quốc tế mà Việt Nam đã ký kết, . - Không tìm thấy mức phạt\n",
            "38.3: Vận chuyển hành khách hoặc hàng hóa không đúng với quy định tại các điều ước quốc tế mà Việt Nam đã ký kết, . - Không tìm thấy mức phạt\n",
            "38.4: Vận chuyển hành khách hoặc hàng hóa không đúng với quy định tại các điều ước quốc tế mà Việt Nam đã ký kết, . - Không tìm thấy mức phạt\n",
            "38.5: Vận chuyển hành khách hoặc hàng hóa không đúng với quy định tại các điều ước quốc tế mà Việt Nam đã ký kết, . - Không tìm thấy mức phạt\n",
            "39.3.g: Trung tâm sát hạch lái xe không duy trì đủ các điều kiện quy định trong Quy chuẩn kỹ thuật quốc gia về Trung tâm sát hạch lái xe cơ giới đường bộ, ; - Không tìm thấy mức phạt\n",
            "\n",
            "Edges:\n",
            "From 6.5.b to 6.1.a with label 'trừ các hành vi vi phạm quy định tại'\n",
            "From 6.5.c to 6.1.a with label 'trừ các hành vi vi phạm quy định tại'\n",
            "From 23.5 to 21.6.đ with label 'trừ các hành vi vi phạm quy định tại'\n",
            "From 34.1 to 21.6.đ with label 'trừ các hành vi vi phạm quy định tại'\n"
          ]
        }
      ],
      "source": [
        "import re\n",
        "from docx import Document\n",
        "from collections import defaultdict\n",
        "\n",
        "def extract_text_from_docx(file_path):\n",
        "    \"\"\"Extract text from a DOCX file and split by newlines.\"\"\"\n",
        "    doc = Document(file_path)\n",
        "    text_lines = [para.text.strip() for para in doc.paragraphs if para.text.strip()]\n",
        "    return text_lines\n",
        "\n",
        "def parse_document(text_lines):\n",
        "    \"\"\"Parse the document to identify articles, clauses, points, and penalties.\"\"\"\n",
        "    structure = defaultdict(lambda: defaultdict(dict))\n",
        "    current_article = None\n",
        "    current_clause = None\n",
        "    current_content = None\n",
        "    current_penalty = None\n",
        "    check = False\n",
        "    for line in text_lines:\n",
        "        # Match article (Điều)\n",
        "        article_match = re.match(r'Điều (\\d+)\\.', line)\n",
        "        if article_match:\n",
        "            article = article_match.group(1)\n",
        "            article_title = line.split(article_match.group(0), 1)[1].strip()\n",
        "            if article not in G:\n",
        "                G.add_node(article, content=article_title)\n",
        "                id = int(current_article)\n",
        "                if id >= 6 and id <= 12:\n",
        "                    G.add_edge(\"Mục 1\", article)\n",
        "                elif id >= 13 and id <= 17:\n",
        "                    G.add_edge(\"Mục 2\", article)\n",
        "                elif id >= 18 and id <= 19:\n",
        "                    G.add_edge(\"Mục 3\", article)\n",
        "                elif id >= 20 and id <= 30:\n",
        "                    G.add_edge(\"Mục 4\", article)\n",
        "                elif id >= 31 and id <= 40:\n",
        "                    G.add_edge(\"Mục 5\", article)\n",
        "            if current_clause:\n",
        "              if check:\n",
        "                if current_content:\n",
        "                 structure[f\"{current_article}.{current_clause}\"] = {\n",
        "                   'content': current_content,\n",
        "                   'penalty': current_penalty\n",
        "                 }\n",
        "            check = False\n",
        "            current_article = article\n",
        "            current_clause = None  # Reset clause when new article starts\n",
        "            penalty = None\n",
        "            continue\n",
        "\n",
        "        # Match clause (khoản) and extract penalty if present\n",
        "        clause_match = re.match(r'(\\d+)\\.', line)\n",
        "        if clause_match and current_article:\n",
        "            clause = clause_match.group(1)\n",
        "            clause_content = line.split(clause_match.group(0), 1)[1].strip()\n",
        "            #penalty_match = re.search(r'Phạt tiền từ \\d+\\.\\d+ đồng đến \\d+\\.\\d+ đồng', line)\n",
        "            #penalty = penalty_match.group() if penalty_match else None\n",
        "            pn = re.compile(\n",
        "            r\"(Phạt tiền.*?)(?=\\s*thực hiện)\\s*thực hiện\\s*(.*)\",\n",
        "            re.DOTALL\n",
        "            )\n",
        "            matcha_latte = pn.search(clause_content)\n",
        "            if matcha_latte:\n",
        "              content  = matcha_latte.group(2).strip()\n",
        "            if current_clause:\n",
        "              if check:\n",
        "                if current_content:\n",
        "                   structure[f\"{current_article}.{current_clause}\"] = {\n",
        "                   'content': current_content,\n",
        "                   'penalty': current_penalty\n",
        "                   }\n",
        "            current_clause = clause\n",
        "            current_content = content\n",
        "            current_penalty = extract_fine(clause_content)\n",
        "            check = True\n",
        "            continue\n",
        "\n",
        "        # Match point (điểm) like a), b), etc.\n",
        "        point_match = re.match(r'([a-zđ]+\\))', line)\n",
        "        if point_match and current_clause and current_article:\n",
        "            point = point_match.group(1).strip(')')\n",
        "            content = line.split(point_match.group(0), 1)[1].strip()\n",
        "            structure[f\"{current_article}.{current_clause}.{point}\"] = {\n",
        "                'content': content,\n",
        "                'penalty': current_penalty\n",
        "            }\n",
        "            check = False\n",
        "    return structure\n",
        "\n",
        "def process_exceptions(structure):\n",
        "    \"\"\"Process the document to create nodes and edges based on exceptions.\"\"\"\n",
        "    nodes = {}\n",
        "    edges = defaultdict(list)\n",
        "    current_art = None\n",
        "    current_cls = None\n",
        "    ck = False\n",
        "    for point, data in list(structure.items()):\n",
        "                content = data['content']\n",
        "                penalty = data['penalty']\n",
        "\n",
        "                # Check for exception phrases\n",
        "                exception_phrases = [\n",
        "                    \"trừ hành vi vi phạm quy định tại\",\n",
        "                    \"trừ các hành vi vi phạm quy định tại\",\n",
        "                    \"trừ trường hợp quy định tại\"\n",
        "\n",
        "                ]\n",
        "                exception_phrase = None\n",
        "                for phrase in exception_phrases:\n",
        "                    if phrase in content:\n",
        "                        exception_phrase = phrase\n",
        "                        break\n",
        "\n",
        "                if exception_phrase:\n",
        "                    # Split content into description and exceptions\n",
        "                    description, exceptions = content.split(exception_phrase, 1)\n",
        "                    description = description.strip()\n",
        "                    exceptions = exceptions.strip()\n",
        "\n",
        "                    exception_points = re.findall(\n",
        "                        r'Điều \\d+|khoản \\d+|điểm [a-zđ]+',\n",
        "                        exceptions\n",
        "                    )\n",
        "                    points = list(re.finditer(\n",
        "                        r'Điều \\d+|khoản \\d+|điểm [a-zđ]+',\n",
        "                        exceptions\n",
        "                     ))\n",
        "                    last_match_end = points[-1].end()\n",
        "                    remaining_text = exceptions[last_match_end:].strip()\n",
        "                    if remaining_text:\n",
        "                      node_content = f\"{description} {remaining_text} - {penalty}\" if penalty else f\"{description} {remaining_text}\"\n",
        "                    else:\n",
        "                      node_content = f\"{description} - {penalty}\" if penalty else description\n",
        "                    node_id = point\n",
        "                    nodes[node_id] = node_content\n",
        "                    for exception in exception_points:\n",
        "                        if \"Điều\" in exception:\n",
        "                            # Full reference: Điều X khoản Y điểm Z\n",
        "                            match = exception.split()\n",
        "                            if match:\n",
        "                                art = match[1]\n",
        "                                if ck:\n",
        "                                  edges_from = f\"{current_art}.{current_cls}\"\n",
        "                                  if G.has_node(edges_from):\n",
        "                                     edges[edges_from].append((node_id, exception_phrase))\n",
        "                                  else:\n",
        "                                    pois = [\"a\",\"b\",\"c\",\"d\",\"đ\",\"e\",\"g\",\"h\",\"i\",\"k\",\"l\",\"m\",\"n\",\"o\"]\n",
        "                                    for poi in pois:\n",
        "                                      if f\"{current_art}.{current_cls}.{poi}\" in G:\n",
        "                                        edges[f\"{current_art}.{current_cls}.{poi}\"].append((node_id, exception_phrase))\n",
        "                                ck = False\n",
        "                                current_art = art\n",
        "                                current_cls = None\n",
        "\n",
        "                        elif \"khoản\" in exception :\n",
        "                            # Reference within same article: khoản Y điểm Z\n",
        "                            match = exception.split()\n",
        "                            if match:\n",
        "                                cls = match[1]\n",
        "                                if ck:\n",
        "                                  edges_from = f\"{current_art}.{current_cls}\"\n",
        "                                  if G.has_node(edges_from):\n",
        "                                     edges[edges_from].append((node_id, exception_phrase))\n",
        "                                  else:\n",
        "                                    pois = [\"a\",\"b\",\"c\",\"d\",\"đ\",\"e\",\"g\",\"h\",\"i\",\"k\",\"l\",\"m\",\"n\",\"o\"]\n",
        "                                    for poi in pois:\n",
        "                                      if f\"{current_art}.{current_cls}.{poi}\" in G:\n",
        "                                        edges[f\"{current_art}.{current_cls}.{poi}\"].append((node_id, exception_phrase))\n",
        "                                ck = True\n",
        "                                current_cls = cls\n",
        "                        elif \"điểm\" in exception:\n",
        "                            # Reference to entire clause: khoản Y\n",
        "                            match = exception.split()\n",
        "                            if match:\n",
        "                                scl = match[1]\n",
        "                                if current_art and current_cls:\n",
        "                                # Link to all points in the referenced clause\n",
        "                                   edge_from = f\"{current_art}.{current_cls}.{scl}\"\n",
        "                                   edges[edge_from].append((node_id, exception_phrase))\n",
        "                                ck = False\n",
        "\n",
        "    return nodes, edges\n",
        "\n",
        "def main(file_path):\n",
        "    # Extract and process the document\n",
        "    text_lines = extract_text_from_docx(file_path)\n",
        "    structure = parse_document(text_lines)\n",
        "    nodes, edges = process_exceptions(structure)\n",
        "\n",
        "    # Output results\n",
        "    print(\"Nodes:\")\n",
        "    for node_id, content in nodes.items():\n",
        "        print(f\"{node_id}: {content}\")\n",
        "        if node_id not in G:\n",
        "            G.add_node(node_id, content=content)\n",
        "      #  parts = node_id.split(\".\")\n",
        "      #  before_first_dot = parts[0]\n",
        "      #  if before_first_dot in G:\n",
        "      #   G.add_edge(before_first_dot, node_id)\n",
        "\n",
        "    print(\"\\nEdges:\")\n",
        "    for edge_from, edge_list in edges.items():\n",
        "        for edge_to, label in edge_list:\n",
        "          if edge_from in G:\n",
        "            if not G.has_edge(edge_from, edge_to):\n",
        "              G.add_edge(edge_from, edge_to, content=label)\n",
        "              print(f\"From {edge_from} to {edge_to} with label '{label}'\")\n",
        "  #  print(text_lines)\n",
        "\n",
        "if __name__ == \"__main__\":\n",
        "    # Replace with the actual path to your DOCX file\n",
        "    file_path = '/content/Loaibo_mocnoi_chuong2.docx'\n",
        "    main(file_path)"
      ]
    },
    {
      "cell_type": "markdown",
      "metadata": {
        "id": "7jbdLCgsdFum"
      },
      "source": [
        "22/4/2025\n"
      ]
    },
    {
      "cell_type": "markdown",
      "metadata": {
        "id": "vfOkvLuxlH0w"
      },
      "source": [
        "Code cho \"Thực hiện hành vi vi phạm tại\""
      ]
    },
    {
      "cell_type": "code",
      "execution_count": null,
      "metadata": {
        "colab": {
          "base_uri": "https://localhost:8080/"
        },
        "id": "afhaOwX3dH7G",
        "outputId": "4cd51130-88c1-44cc-e637-51209221a770",
        "collapsed": true
      },
      "outputs": [
        {
          "output_type": "stream",
          "name": "stdout",
          "text": [
            "Nodes:\n",
            "6.15.a: còn bị tịch thu thiết bị phát tín hiệu ưu tiên lắp đặt, sử dụng trái quy định;\n",
            "6.15.b: bị tước quyền sử dụng giấy phép lái xe từ 10 tháng đến 12 tháng;\n",
            "6.15.c: bị tước quyền sử dụng giấy phép lái xe từ 22 tháng đến 24 tháng.\n",
            "6.16.a: bị trừ điểm giấy phép lái xe 02 điểm;\n",
            "6.16.b: bị trừ điểm giấy phép lái xe 04 điểm;\n",
            "6.16.c: bị trừ điểm giấy phép lái xe 06 điểm;\n",
            "6.16.d: bị trừ điểm giấy phép lái xe 10 điểm.\n",
            "7.12.a: còn bị tịch thu thiết bị phát tín hiệu ưu tiên lắp đặt, sử dụng trái quy định;\n",
            "7.12.b: bị tước quyền sử dụng giấy phép lái xe từ 10 tháng đến 12 tháng;\n",
            "7.12.c: bị tước quyền sử dụng giấy phép lái xe từ 22 tháng đến 24 tháng.\n",
            "7.13.a: bị trừ điểm giấy phép lái xe 02 điểm;\n",
            "7.13.b: bị trừ điểm giấy phép lái xe 04 điểm;\n",
            "7.13.c: bị trừ điểm giấy phép lái xe 06 điểm;\n",
            "7.13.d: bị trừ điểm giấy phép lái xe 10 điểm.\n",
            "12.16.a: buộc phá dỡ các vật che khuất biển báo hiệu đường bộ, đèn tín hiệu giao thông;\n",
            "12.16.b: buộc khôi phục lại tình trạng ban đầu đã bị thay đổi do vi phạm hành chính gây ra.\n",
            "13.10.a: bị tịch thu biển số xe;\n",
            "13.10.b: trong trường hợp không có chứng nhận đăng ký xe (hoặc bản sao chứng nhận đăng ký xe có chứng thực kèm theo bản gốc giấy biên nhận của tổ chức tín dụng, chi nhánh ngân hàng nước ngoài trong trường hợp tổ chức tín dụng, chi nhánh ngân hàng nước ngoài giữ bản gốc chứng nhận đăng ký xe) hoặc sử dụng chứng nhận đăng ký xe (hoặc bản sao chứng nhận đăng ký xe có chứng thực kèm theo bản gốc giấy biên nhận của tổ chức tín dụng, chi nhánh ngàn hàng nước ngoài trong trường hợp tổ chức tín dụng, chi nhánh ngân hàng nước ngoài giữ bản gốc chứng nhận đăng ký xe) không: do cơ quan có thẩm quyền cấp, không đúng số khung, số động cơ (số máy) của xe hoặc bị tẩy xóa (kể cả rơ moóc và sơ mi rơ moóc) mà không chứng minh được nguồn gốc xuất xứ của phương tiện (không có giấy tờ, chứng nhận nguồn gốc xe, chứng nhận quyền sở hữu hợp pháp) thì bị tịch thu phương tiện.\n",
            "13.11.a: buộc lắp đầy đủ thiết bị hoặc thay thế thiết bị đủ tiêu chuẩn, quy chuẩn an toàn kỹ thuật hoặc khôi phục lại tính năng kỹ thuật của thiết bị theo quy định; buộc thực hiện đúng quy định về biển số hoặc khôi phục lại tình trạng ban đầu đã bị thay đổi do vi phạm hành chính gây ra;\n",
            "13.11.b: buộc lắp đầy đủ thiết bị hoặc khôi phục lại tính năng kỹ thuật của thiết bị theo quy định, tháo bỏ những thiết bị lắp thêm không đúng quy định;\n",
            "13.11.c: buộc khôi phục lại tình trạng ban đầu đã bị thay đổi do vi phạm hành chính gây ra;\n",
            "13.11.d: buộc nộp lại chứng nhận đăng ký xe (hoặc bản sao chứng nhận đăng ký xe có chứng thực kèm theo bản gốc giấy biên nhận của tổ chức tín dụng, chi nhánh ngân hàng nước ngoài trong trường hợp tổ chức tín dụng, chi nhánh ngân hàng nước ngoài giữ bản gốc chứng nhận đăng ký xe), giấy chứng nhận, tem kiểm định an toàn kỹ thuật và bảo vệ môi trường, chứng nhận đăng ký xe bị tẩy xóa.\n",
            "13.13.a: bị trừ điểm giấy phép lái xe 02 điểm;\n",
            "13.13.b: bị trừ điểm giấy phép lái xe 06 điểm;\n",
            "13.13.c: bị trừ điểm giấy phép lái xe 10 điểm.\n",
            "14.5.a: bị tịch thu biển số xe;\n",
            "14.6.a: buộc thay thế thiết bị đủ tiêu chuẩn an toàn kỹ thuật hoặc khôi phục tính năng kỹ thuật của thiết bị theo quy định;\n",
            "14.6.b: buộc nộp lại chứng nhận đăng ký xe (hoặc bản sao chứng nhận đăng ký xe có chứng thực kèm theo bản gốc giấy biên nhận của tổ chức tín dụng, chi nhánh ngân hàng nước ngoài trong trường hợp tổ chức tín dụng, chi nhánh ngân hàng nước ngoài giữ bản gốc chứng nhận đăng ký xe) đã bị tẩy xóa.\n",
            "14.8.a: bị trừ điểm giấy phép lái xe 02 điểm;\n",
            "14.8.b: bị trừ điểm giấy phép lái xe 06 điểm.\n",
            "16.4.a: bị tịch thu biển số xe;\n",
            "16.4.b: trong trường hợp không có chứng nhận đăng ký xe (hoặc bản sao chứng nhận đăng ký xe có chứng thực kèm theo bản gốc giấy biên nhận của tổ chức tín dụng, chi nhánh ngân hàng nước ngoài trong trường hợp tổ chức tín dụng, chi nhánh ngân hàng nước ngoài giữ bản gốc chứng nhận đăng ký xe) hoặc sử dụng chứng nhận đăng ký xe (hoặc bản sao chứng nhận đăng ký xe có chứng thực kèm theo bản gốc giấy biên nhận của tổ chức tín dụng, chi nhánh ngân hàng nước ngoài trong trường hợp tổ chức tín dụng, chi nhánh ngân hàng nước ngoài giữ bản gốc chứng nhận đăng ký xe) không do cơ quan có thẩm quyền cấp, không đúng số khung, số động cơ (số máy) của xe hoặc bị tẩy xóa (kể cả rơ moóc) mà không chứng minh được nguồn gốc xuất xứ của phương tiện (không có giấy tờ, chứng nhận nguồn gốc xe, chứng nhận quyền sở hữu hợp pháp) thì bị tịch thu phương tiện.\n",
            "16.5.b: buộc nộp lại chứng nhận đăng ký xe (hoặc bản sao chứng nhận đăng ký xe có chứng thực kèm theo bản gốc giấy biên nhận của tổ chức tín dụng, chi nhánh ngân hàng nước ngoài trong trường hợp tổ chức tín dụng, chi nhánh ngân hàng nước ngoài giữ bản gốc chứng nhận đăng ký xe), giấy chứng nhận, tem kiểm định an toàn kỹ thuật và bảo vệ môi trường bị tẩy xóa.\n",
            "20.10.a: bị trừ điểm giấy phép lái xe 02 điểm;\n",
            "20.10.b: bị trừ điểm giấy phép lái xe 04 điểm;\n",
            "20.10.d: bị trừ điểm giấy phép lái xe 10 điểm.\n",
            "21.13.a: bị trừ điểm giấy phép lái xe (khi điều khiển xe ô tô) 02 điểm;\n",
            "21.13.b: bị trừ điểm giấy phép lái xe 04 điểm;\n",
            "21.13.c: bị trừ điểm giấy phép lái xe 06 điểm;\n",
            "21.13.d: bị trừ điểm giấy phép lái xe 08 điểm;\n",
            "21.13.đ: bị trừ điểm giấy phép lái xe 10 điểm.\n",
            "22.6.a: bị trừ điểm giấy phép lái xe 02 điểm;\n",
            "22.6.b: bị trừ điểm giấy phép lái xe 04 điểm.\n",
            "23.7.a: bị trừ điểm giấy phép lái xe 02 điểm;\n",
            "23.7.b: bị trừ điểm giấy phép lái xe 04 điểm.\n",
            "26.13.a: buộc cấp thẻ nhận dạng lái xe cho lái xe theo quy định;\n",
            "26.13.b: buộc tổ chức tập huấn, hướng dẫn nghiệp vụ, quy trình hoặc tổ chức khám sức khỏe định kỳ cho lái xe và nhân viên phục vụ trên xe theo quy định;\n",
            "26.13.c: buộc lắp đặt thiết bị giám sát hành trình, thiết bị ghi nhận hình ảnh người lái xe, dây đai an toàn, ghế ngồi cho trẻ em mầm non, học sinh tiểu học trên xe theo đúng quy định;\n",
            "26.13.d: buộc cung cấp, cập nhật, truyền dẫn, lưu trữ, quản lý thông tin, dữ liệu thu thập từ thiết bị giám sát hành trình, thiết bị ghi nhận hình ảnh người lái xe lắp trên xe ô tô theo quy định;\n",
            "26.13.đ: buộc thực hiện đúng quy định về màu sơn, biển báo dấu hiệu nhận biết của xe.\n",
            "26.14.a: bị trừ điểm giấy phép lái xe 02 điểm;\n",
            "26.14.b: bị trừ điểm giấy phép lái xe 06 điểm.\n",
            "28.4.a: bị trừ điểm giấy phép lái xe 02 điểm;\n",
            "28.4.b: bị trừ điểm giấy phép lái xe 06 điểm.\n",
            "32.18.a: bị tịch thu biển số; tịch thu biển số, thiết bị thay đổi biển số;\n",
            "32.18.b: trong trường hợp không có chứng nhận đăng ký xe (hoặc bản sao chứng nhận đăng ký xe có chứng thực kèm theo bản gốc giấy biên nhận của tổ chức tín dụng, chi nhánh ngân hàng nước ngoài trong trường hợp tổ chức tín dụng, chi nhánh ngân hàng nước ngoài giữ bản gốc chứng nhận đăng ký xe) hoặc có chứng nhận đăng ký xe (hoặc bản sao chứng nhận đăng ký xe có chứng thực kèm theo bản gốc giấy biên nhận của tổ chức tín dụng, chi nhánh ngân hàng nước ngoài trong trường hợp tổ chức tín dụng, chi nhánh ngân hàng nước ngoài giữ bản gốc chứng nhận đăng ký xe) nhưng không do cơ quan có thẩm quyền cấp, không đúng số khung, số động cơ (số máy) của xe hoặc bị tẩy xóa (kể cả rơ moóc và sơ mi rơ moóc) mà không chứng minh được nguồn gốc xuất xứ của phương tiện (không có giấy tờ, chứng nhận nguồn gốc xe, chứng nhận quyền sở hữu hợp pháp) thì bị tịch thu phương tiện;\n",
            "32.18.c: mà phương tiện đó có thùng xe, khối lượng hàng hóa cho phép chuyên chở không đúng theo quy định hiện hành thì còn bị tước quyền sử dụng giấy chứng nhận kiểm định an toàn kỹ thuật và bảo vệ môi trường và tem kiểm định của phương tiện từ 01 tháng đến 03 tháng;\n",
            "32.18.d: bị tước quyền sử dụng giấy chứng nhận kiểm định an toàn kỹ thuật và bảo vệ môi trường và tem kiểm định của phương tiện từ 01 tháng đến 03 tháng;\n",
            "32.18.đ: trong trường hợp chở vượt trên 50% số người quy định được phép chở của phương tiện còn bị tước quyền sử dụng phù hiệu từ 01 tháng đến 03 tháng (nếu có).\n",
            "32.18.e: còn bị tước quyền sử dụng phù hiệu từ 01 tháng đến 03 tháng (nếu có).\n",
            "32.19.a: buộc khôi phục lại nhãn hiệu, màu sơn ghi trong chứng nhận đăng ký xe theo quy định;\n",
            "32.19.b: buộc thay thế thiết bị đủ tiêu chuẩn an toàn kỹ thuật theo quy định (lắp đúng loại kính an toàn);\n",
            "32.19.c: buộc thực hiện đúng quy định về biển số xe, quy định về kẻ hoặc dán chữ, số biển số, thông tin trên thành xe, cửa xe;\n",
            "32.19.d: buộc khôi phục lại hình dáng, kích thước, tình trạng an toàn kỹ thuật ban đầu của xe và đăng kiểm lại trước khi đưa phương tiện ra tham gia giao thông;\n",
            "32.19.đ: mà phương tiện đó có thùng xe, khối lượng hàng hóa cho phép chuyên chở không đúng theo quy định hiện hành thì còn bị buộc thực hiện điều chỉnh thùng xe theo đúng quy định hiện hành, đăng kiểm lại và điều chỉnh lại khối lượng hàng hóa cho phép chuyên chở ghi trong giấy chứng nhận kiểm định an toàn kỹ thuật và bảo vệ môi trường theo quy định hiện hành trước khi đưa phương tiện ra tham gia giao thông;\n",
            "32.19.h: buộc tháo dỡ thiết bị âm thanh, ánh sáng lắp đặt trên xe gây mất trật tự, an toàn giao thông đường bộ;\n",
            "32.19.i: buộc nộp lại chứng nhận đăng ký xe (hoặc bản sao chứng nhận đăng ký xe có chứng thực kèm theo bản gốc giấy biên nhận của tổ chức tín dụng, chi nhánh ngân hàng nước ngoài trong trường hợp tổ chức tín dụng, chi nhánh ngân hàng nước ngoài giữ bản gốc chứng nhận đăng ký xe), giấy chứng nhận, tem kiểm định an toàn kỹ thuật và bảo vệ môi trường của xe bị tẩy xóa;\n",
            "32.21.a: bị trừ điểm giấy phép lái xe 02 điểm;\n",
            "32.21.b: bị trừ điểm giấy phép lái xe 03 điểm;\n",
            "32.21.c: bị trừ điểm giấy phép lái xe 04 điểm;\n",
            "32.21.d: bị trừ điểm giấy phép lái xe 04 điểm;\n",
            "32.21.đ: bị trừ điểm giấy phép lái xe 06 điểm;\n",
            "32.21.e: bị trừ điểm giấy phép lái xe 08 điểm;\n",
            "32.21.g: bị trừ điểm giấy phép lái xe 10 điểm;\n",
            "32.21.h: bị trừ điểm giấy phép lái xe 10 điểm.\n",
            "34.7.a: bị trừ điểm giấy phép lái xe 02 điểm;\n",
            "34.7.b: bị trừ điểm giấy phép lái xe 03 điểm;\n",
            "34.7.c: bị trừ điểm giấy phép lái xe 04 điểm;\n",
            "34.7.d: bị trừ điểm giấy phép lái xe 10 điểm.\n",
            "40.6.a: bị tước quyền sử dụng chứng chỉ đăng kiểm viên từ 01 tháng đến 03 tháng;\n",
            "40.6.b: bị tước quyền sử dụng giấy chứng nhận đủ điều kiện hoạt động kiểm định xe cơ giới từ 01 tháng đến 03 tháng.\n",
            "\n",
            "Edges:\n",
            "From 6.13 to 6.15.c with label 'Hình phạt bổ sung'\n",
            "From 6.5.b to 6.16.a with label 'Hình phạt bổ sung'\n",
            "From 6.5.c to 6.16.a with label 'Hình phạt bổ sung'\n",
            "From 6.10.b to 6.16.d with label 'Hình phạt bổ sung'\n",
            "From 16.2.d to 16.4.a with label 'Hình phạt bổ sung'\n",
            "From 32.7.e to 32.18.c with label 'Hình phạt bổ sung'\n",
            "From 32.7.e to 32.18.e with label 'Hình phạt bổ sung'\n",
            "From 32.7.e to 32.19.đ with label 'Hình phạt bổ sung'\n",
            "From 32.11.b to 32.18.c with label 'Hình phạt bổ sung'\n",
            "From 32.11.b to 32.18.e with label 'Hình phạt bổ sung'\n",
            "From 32.11.b to 32.19.đ with label 'Hình phạt bổ sung'\n",
            "From 32.11.b to 32.21.a with label 'Hình phạt bổ sung'\n",
            "From 32.13.a to 32.18.c with label 'Hình phạt bổ sung'\n",
            "From 32.13.a to 32.18.e with label 'Hình phạt bổ sung'\n",
            "From 32.13.a to 32.19.đ with label 'Hình phạt bổ sung'\n",
            "From 32.13.a to 32.21.c with label 'Hình phạt bổ sung'\n",
            "From 32.15 to 32.18.c with label 'Hình phạt bổ sung'\n",
            "From 32.15 to 32.18.e with label 'Hình phạt bổ sung'\n",
            "From 32.15 to 32.19.đ with label 'Hình phạt bổ sung'\n",
            "From 32.16.b to 32.18.c with label 'Hình phạt bổ sung'\n",
            "From 32.16.b to 32.19.a with label 'Hình phạt bổ sung'\n",
            "From 32.16.b to 32.19.đ with label 'Hình phạt bổ sung'\n",
            "From 32.16.b to 32.21.g with label 'Hình phạt bổ sung'\n",
            "From 32.5 to 32.18.đ with label 'Hình phạt bổ sung'\n",
            "From 32.5 to 32.21.d with label 'Hình phạt bổ sung'\n",
            "From 32.5 to 32.21.h with label 'Hình phạt bổ sung'\n",
            "From 32.6 to 32.18.e with label 'Hình phạt bổ sung'\n",
            "From 32.7.g to 32.18.e with label 'Hình phạt bổ sung'\n",
            "From 32.7.g to 32.21.a with label 'Hình phạt bổ sung'\n",
            "From 32.13.b to 32.18.e with label 'Hình phạt bổ sung'\n",
            "From 32.13.b to 32.21.c with label 'Hình phạt bổ sung'\n",
            "From 32.13.c to 32.18.e with label 'Hình phạt bổ sung'\n",
            "From 32.13.c to 32.21.a with label 'Hình phạt bổ sung'\n",
            "From 32.14.a to 32.18.e with label 'Hình phạt bổ sung'\n",
            "From 32.14.a to 32.21.c with label 'Hình phạt bổ sung'\n",
            "From 32.14.b to 32.18.e with label 'Hình phạt bổ sung'\n",
            "From 32.14.b to 32.21.c with label 'Hình phạt bổ sung'\n",
            "From 32.14.c to 32.18.e with label 'Hình phạt bổ sung'\n",
            "From 32.14.c to 32.21.c with label 'Hình phạt bổ sung'\n",
            "From 32.14.d to 32.18.e with label 'Hình phạt bổ sung'\n",
            "From 32.14.d to 32.21.c with label 'Hình phạt bổ sung'\n",
            "From 32.14.e to 32.18.e with label 'Hình phạt bổ sung'\n",
            "From 32.14.e to 32.21.b with label 'Hình phạt bổ sung'\n",
            "From 32.14.g to 32.18.e with label 'Hình phạt bổ sung'\n",
            "From 32.14.g to 32.21.b with label 'Hình phạt bổ sung'\n",
            "From 32.16.a to 32.19.a with label 'Hình phạt bổ sung'\n",
            "From 32.16.a to 32.21.c with label 'Hình phạt bổ sung'\n",
            "From 32.9.c to 32.21.a with label 'Hình phạt bổ sung'\n",
            "From 32.9.d to 32.21.a with label 'Hình phạt bổ sung'\n",
            "From 40.1 to 40.6.b with label 'Hình phạt bổ sung'\n",
            "From 40.2.b to 40.6.b with label 'Hình phạt bổ sung'\n"
          ]
        }
      ],
      "source": [
        "import re\n",
        "from docx import Document\n",
        "from collections import defaultdict\n",
        "\n",
        "def extract_text_from_docx(file_path):\n",
        "    \"\"\"Extract text from a DOCX file and split by newlines.\"\"\"\n",
        "    doc = Document(file_path)\n",
        "    text_lines = [para.text.strip() for para in doc.paragraphs if para.text.strip()]\n",
        "    return text_lines\n",
        "\n",
        "def parse_document(text_lines):\n",
        "    \"\"\"Parse the document to identify articles, clauses, points, and penalties.\"\"\"\n",
        "    structure = defaultdict(lambda: defaultdict(dict))\n",
        "    current_article = None\n",
        "    current_clause = None\n",
        "    current_content = None\n",
        "    penalty = None\n",
        "    check = False\n",
        "    for line in text_lines:\n",
        "        # Match article (Điều)\n",
        "        article_match = re.match(r'Điều (\\d+)\\.', line)\n",
        "        if article_match:\n",
        "            article = article_match.group(1)\n",
        "            article_title = line.split(article_match.group(0), 1)[1].strip()\n",
        "            if article not in G:\n",
        "                G.add_node(article, content=article_title)\n",
        "                id = int(current_article)\n",
        "                if id >= 6 and id <= 12:\n",
        "                    G.add_edge(\"Mục 1\", article)\n",
        "                elif id >= 13 and id <= 17:\n",
        "                    G.add_edge(\"Mục 2\", article)\n",
        "                elif id >= 18 and id <= 19:\n",
        "                    G.add_edge(\"Mục 3\", article)\n",
        "                elif id >= 20 and id <= 30:\n",
        "                    G.add_edge(\"Mục 4\", article)\n",
        "                elif id >= 31 and id <= 40:\n",
        "                    G.add_edge(\"Mục 5\", article)\n",
        "            if current_clause:\n",
        "              if check:\n",
        "                if current_content:\n",
        "                 structure[f\"{current_article}.{current_clause}\"] = {\n",
        "                   'content': current_content,\n",
        "                 }\n",
        "            check = False\n",
        "            current_article = article\n",
        "            current_clause = None  # Reset clause when new article starts\n",
        "            penalty = None\n",
        "            continue\n",
        "\n",
        "        # Match clause (khoản) and extract penalty if present\n",
        "        clause_match = re.match(r'(\\d+)\\.', line)\n",
        "        if clause_match and current_article:\n",
        "            clause = clause_match.group(1)\n",
        "            content = line.split(clause_match.group(0), 1)[1].strip()\n",
        "            penalty_match = re.search(r'Phạt tiền từ \\d+\\.\\d+ đồng đến \\d+\\.\\d+ đồng', line)\n",
        "            penalty = penalty_match.group() if penalty_match else None\n",
        "            if current_clause:\n",
        "              if check:\n",
        "                if current_content:\n",
        "                 structure[f\"{current_article}.{current_clause}\"] = {\n",
        "                   'content': current_content,\n",
        "                 }\n",
        "            current_clause = clause\n",
        "            current_content = content\n",
        "            check = True\n",
        "            continue\n",
        "\n",
        "        # Match point (điểm) like a), b), etc.\n",
        "        point_match = re.match(r'([a-zđ]+\\))', line)\n",
        "        if point_match and current_clause and current_article:\n",
        "            point = point_match.group(1).strip(')')\n",
        "            content = line.split(point_match.group(0), 1)[1].strip()\n",
        "            structure[f\"{current_article}.{current_clause}.{point}\"] = {\n",
        "                'content': content,\n",
        "            }\n",
        "            check = False\n",
        "    return structure\n",
        "\n",
        "def process_exceptions(structure):\n",
        "    \"\"\"Process the document to create nodes and edges based on exceptions.\"\"\"\n",
        "    nodes = {}\n",
        "    edges = defaultdict(list)\n",
        "    current_art = None\n",
        "    current_cls = None\n",
        "    ck = False\n",
        "    for point, data in list(structure.items()):\n",
        "                  content = data['content']\n",
        "                  exception_phrase = \"Hình phạt bổ sung\"\n",
        "                # Check for exception phrases\n",
        "                  if content.startswith(\"Thực hiện hành vi quy định tại\"):\n",
        "                   match = re.search(r\"^Thực\\s+hiện\\s+hành\\s+vi\\s+quy\\s+định\\s+tại\\s+(.*)\", content)\n",
        "                   if match:\n",
        "                      exceptions = match.group(1)\n",
        "                      exception_points = re.findall(\n",
        "                        r'Điều \\d+|khoản \\d+|điểm [a-zđ]+',\n",
        "                        exceptions\n",
        "                        )\n",
        "                      points = list(re.finditer(\n",
        "                        r'Điều \\d+|khoản \\d+|điểm [a-zđ]+',\n",
        "                        exceptions\n",
        "                        ))\n",
        "                      last_match_end = points[-1].end()\n",
        "                      remaining_text = exceptions[last_match_end:].strip()\n",
        "                      if remaining_text[:2] == \"ấy\":\n",
        "                        node_content = f\"bị trừ điểm gi{remaining_text}\"\n",
        "                      else:\n",
        "                        node_content = f\"{remaining_text}\"\n",
        "                      node_id = point\n",
        "                      nodes[node_id] = node_content\n",
        "                      for exception in exception_points:\n",
        "                        if \"Điều\" in exception:\n",
        "                            # Full reference: Điều X khoản Y điểm Z\n",
        "                            match = exception.split()\n",
        "                            if match:\n",
        "                                art = match[1]\n",
        "                                if ck:\n",
        "                                  edges_from = f\"{current_art}.{current_cls}\"\n",
        "                                  if G.has_node(edges_from):\n",
        "                                     edges[edges_from].append((node_id, exception_phrase))\n",
        "                                  else:\n",
        "                                    pois = [\"a\",\"b\",\"c\",\"d\",\"đ\",\"e\",\"g\",\"h\",\"i\",\"k\",\"l\",\"m\",\"n\",\"o\"]\n",
        "                                    for poi in pois:\n",
        "                                      if f\"{current_art}.{current_cls}.{poi}\" in G:\n",
        "                                        edges[f\"{current_art}.{current_cls}.{poi}\"].append((node_id, exception_phrase))\n",
        "                                ck = False\n",
        "                                current_art = art\n",
        "                                current_cls = None\n",
        "                        elif \"khoản\" in exception :\n",
        "                            # Reference within same article: khoản Y điểm Z\n",
        "                            match = exception.split()\n",
        "                            if match:\n",
        "                                cls = match[1]\n",
        "                                if ck:\n",
        "                                  edges_from = f\"{current_art}.{current_cls}\"\n",
        "                                  if G.has_node(edges_from):\n",
        "                                     edges[edges_from].append((node_id, exception_phrase))\n",
        "                                  else:\n",
        "                                    pois = [\"a\",\"b\",\"c\",\"d\",\"đ\",\"e\",\"g\",\"h\",\"i\",\"k\",\"l\",\"m\",\"n\",\"o\"]\n",
        "                                    for poi in pois:\n",
        "                                      if f\"{current_art}.{current_cls}.{poi}\" in G:\n",
        "                                        edges[f\"{current_art}.{current_cls}.{poi}\"].append((node_id, exception_phrase))\n",
        "                                ck = True\n",
        "                                current_cls = cls\n",
        "                        elif \"điểm\" in exception:\n",
        "                            # Reference to entire clause: khoản Y\n",
        "                            match = exception.split()\n",
        "                            if match:\n",
        "                                scl = match[1]\n",
        "                                if current_art and current_cls:\n",
        "                                # Link to all points in the referenced clause\n",
        "                                   edge_from = f\"{current_art}.{current_cls}.{scl}\"\n",
        "                                   edges[edge_from].append((node_id, exception_phrase))\n",
        "                                ck = False\n",
        "\n",
        "    return nodes, edges\n",
        "\n",
        "def main(file_path):\n",
        "    # Extract and process the document\n",
        "    text_lines = extract_text_from_docx(file_path)\n",
        "    structure = parse_document(text_lines)\n",
        "    nodes, edges = process_exceptions(structure)\n",
        "\n",
        "    # Output results\n",
        "    print(\"Nodes:\")\n",
        "    for node_id, content in nodes.items():\n",
        "        print(f\"{node_id}: {content}\")\n",
        "        if node_id not in G:\n",
        "            G.add_node(node_id, content=content)\n",
        "  #      parts = node_id.split(\".\")\n",
        "   #     before_first_dot = parts[0]\n",
        "    #    if before_first_dot in G:\n",
        "     #       G.add_edge(before_first_dot, node_id)\n",
        "\n",
        "    print(\"\\nEdges:\")\n",
        "    for edge_from, edge_list in edges.items():\n",
        "        for edge_to, label in edge_list:\n",
        "          if edge_from in G:\n",
        "             if not G.has_edge(edge_from, edge_to):\n",
        "               G.add_edge(edge_from, edge_to, content=label)\n",
        "               print(f\"From {edge_from} to {edge_to} with label '{label}'\")\n",
        "  #  print(text_lines)\n",
        "\n",
        "if __name__ == \"__main__\":\n",
        "    # Replace with the actual path to your DOCX file\n",
        "    file_path = '/content/Loaibo_mocnoi_chuong2.docx'\n",
        "    main(file_path)"
      ]
    },
    {
      "cell_type": "markdown",
      "metadata": {
        "id": "HAV7I95q99OT"
      },
      "source": [
        "Code cho mở đầu có tên là \"Ngoài việc\""
      ]
    },
    {
      "cell_type": "code",
      "execution_count": null,
      "metadata": {
        "colab": {
          "base_uri": "https://localhost:8080/"
        },
        "id": "VDYd2N6rvx4w",
        "outputId": "a43a9bbb-f826-48ba-c094-345b4b04adb0",
        "collapsed": true
      },
      "outputs": [
        {
          "output_type": "stream",
          "name": "stdout",
          "text": [
            "Nodes:\n",
            "12.15: nếu là người điều khiển phương tiện còn bị áp dụng hình thức xử phạt bổ sung tước quyền sử dụng giấy phép lái xe từ 22 tháng đến 24 tháng.\n",
            "12.17: bị trừ điểm giấy phép lái xe 02 điểm.\n",
            "13.12: bị thu hồi chứng nhận đăng ký xe (hoặc bản sao chứng nhận đăng ký xe có chứng thực kèm theo bản gốc giấy biên nhận của tổ chức tín dụng, chi nhánh ngân hàng nước ngoài trong trường hợp tổ chức tín dụng, chi nhánh ngân hàng nước ngoài giữ bản gốc chứng nhận đăng ký xe) không do cơ quan có thẩm quyền cấp hoặc không đúng số khung, số động cơ (số máy) của xe, giấy chứng nhận, tem kiểm định an toàn kỹ thuật và bảo vệ môi trường không do cơ quan có thẩm quyền cấp.\n",
            "14.7: bị thu hồi chứng nhận đăng ký xe (hoặc bản sao chứng nhận đăng ký xe có chứng thực kèm theo bản gốc giấy biên nhận của tổ chức tín dụng, chi nhánh ngân hàng nước ngoài trong trường hợp tổ chức tín dụng, chi nhánh ngân hàng nước ngoài giữ bản gốc chứng nhận đăng ký xe) không đúng số khung, số động cơ (số máy) của xe hoặc không do cơ quan có thẩm quyền cấp.\n",
            "16.6: bị thu hồi chứng nhận đăng ký xe (hoặc bản sao chứng nhận đăng ký xe có chứng thực kèm theo bản gốc giấy biên nhận của tổ chức tín dụng, chi nhánh ngân hàng nước ngoài trong trường hợp tổ chức tín dụng, chi nhánh ngân hàng nước ngoài giữ bản gốc chứng nhận đăng ký xe) không do cơ quan có thẩm quyền cấp hoặc không đúng số khung, số động cơ (số máy) của xe, giấy chứng nhận, tem kiểm định an toàn kỹ thuật và bảo vệ môi trường không do cơ quan có thẩm quyền cấp.\n",
            "17.5: bị trừ điểm giấy phép lái xe 02 điểm.\n",
            "18.10: còn bị áp dụng biện pháp khắc phục hậu quả buộc nộp lại giấy phép lái xe bị tẩy xóa.\n",
            "18.11: bị thu hồi giấy phép lái xe không do cơ quan có thẩm quyền cấp, giấy phép lái xe không hợp lệ.\n",
            "18.12: bị trừ điểm giấy phép lái xe được cấp mới nhất trong hệ thống thông tin quản lý giấy phép lái xe 02 điểm.\n",
            "20.9: bị thu hồi phù hiệu đã hết giá trị sử dụng hoặc phù hiệu không do cơ quan có thẩm quyền cấp.\n",
            "21.12: bị thu hồi phù hiệu đã hết giá trị sử dụng hoặc phù hiệu không do cơ quan có thẩm quyền cấp.\n",
            "22.4: nếu gây hư hại cầu, đường còn bị áp dụng biện pháp khắc phục hậu quả buộc khôi phục lại tình trạng ban đầu đã bị thay đổi do hành vi vi phạm hành chính gây ra.\n",
            "22.5: bị thu hồi giấy phép lưu hành hết giá trị sử dụng hoặc giấy phép lưu hành không do cơ quan có thẩm quyền cấp.\n",
            "24.3: bị trừ điểm giấy phép lái xe 02 điểm.\n",
            "25.2: bị trừ điểm giấy phép lái xe 02 điểm.\n",
            "26.12: còn bị áp dụng các hình thức xử phạt bổ sung tước quyền sử dụng phù hiệu từ 01 tháng đến 03 tháng (nếu có hoặc đã được cấp) đối với xe vi phạm.\n",
            "27.4: bị trừ điểm giấy phép lái xe 02 điểm.\n",
            "29.4: bị trừ điểm giấy phép lái xe 02 điểm.\n",
            "30.3: bị trừ điểm giấy phép lái xe 02 điểm.\n",
            "31.3: còn bị áp dụng hình thức xử phạt bổ sung tịch thu biển số, phương tiện sản xuất, lắp ráp trái phép.\n",
            "31.4: còn bị áp dụng biện pháp khắc phục hậu quả buộc nộp lại số lợi bất hợp pháp có được do thực hiện vi phạm hành chính.\n",
            "33.4: còn bị áp dụng hình thức xử phạt bổ sung tịch thu hóa chất độc hại, chất dễ cháy, nổ, hàng nguy hiểm, hàng cấm lưu thông mang theo trên xe chở khách.\n",
            "34.6: nếu gây hư hại cầu, đường còn bị áp dụng biện pháp khắc phục hậu quả buộc khôi phục lại tình trạng ban đầu đã bị thay đổi do vi phạm hành chính gây ra.\n",
            "35.4: bị áp dụng hình thức xử phạt bổ sung tước quyền sử dụng giấy phép lái xe từ 22 tháng đến 24 tháng.\n",
            "37.7: còn bị áp dụng biện pháp khắc phục hậu quả buộc tái xuất phương tiện khỏi Việt Nam.\n",
            "38.4: còn bị áp dụng biện pháp khắc phục hậu quả buộc đưa phương tiện quay trở lại Khu kinh tế thương mại đặc biệt, Khu kinh tế cửa khẩu quốc tế.\n",
            "38.5: bị thu hồi phù hiệu đã hết giá trị sử dụng hoặc phù hiệu không do cơ quan có thẩm quyền cấp.\n",
            "39.10: còn bị áp dụng biện pháp khắc phục hậu quả thu hồi giấy tờ, tài liệu giả mạo.\n",
            "\n",
            "Edges:\n",
            "From 33.4 to 34.6 with label 'Hình phạt bổ sung'\n",
            "From 35.4 to 37.7 with label 'Hình phạt bổ sung'\n",
            "['Điều 6. Xử phạt, trừ điểm giấy phép lái xe của người điều khiển xe ô tô, xe chở người bốn bánh có gắn động cơ, xe chở hàng bốn bánh có gắn động cơ và các loại xe tương tự xe ô tô vi phạm quy tắc giao thông đường bộ', '10. Phạt tiền từ 20.000.000 đồng đến 22.000.000 đồng đối với người điều khiển xe thực hiện một trong các hành vi vi phạm sau đây:', 'b) Vi phạm quy định tại một trong các điểm, khoản sau mà gây tai nạn giao thông:  Điều 6 khoản 1 điểm a, điểm b, điểm c, điểm d, điểm đ; khoản 2 điểm c ; khoản 3 điểm b, điểm g, điểm h, điểm n, điểm o, điểm p ; khoản 4 điểm a, điểm c, điểm d ;khoản 5  điểm c, điểm d, điểm e, điểm h, điểm n, điểm o, điểm q ; khoản 7 điểm b; khoản 9 điểm b, điểm c, điểm d.', '13. Phạt tiền từ 50.000.000 đồng đến 70.000.000 đồng đối với người điều khiển xe thực hiện hành vi vi phạm quy định tại Điều 6 khoản 12 mà gây tai nạn giao thông.', '14. Tịch thu phương tiện đối với người điều khiển xe tái phạm hành vi điều khiển xe lạng lách, đánh võng quy định tại Điều 6 khoản 12.', 'Điều 7. Xử phạt, trừ điểm giấy phép lái của người điều khiển xe mô tô, xe gắn máy, các loại xe tương tự xe mô tô và các loại xe tương tự xe gắn máy vi phạm quy tắc giao thông đường bộ', '10. Phạt tiền từ 10.000.000 đồng đến 14.000.000 đồng đối với người điều khiển xe thực hiện một trong các hành vi vi phạm sau đây:', 'b) Vi phạm quy định tại một trong các điểm, khoản sau của  mà gây tai nạn giao thông:  Điều 7 khoản 1 điểm a, điểm d, điểm đ, điểm g, điểm h, điểm i, điểm k; khoản 2 điểm c, điểm đ, điểm g; khoản 3 điểm b, điểm e, điểm g, điểm h, điểm k; khoản 4 điểm đ; khoản 6 điểm c, điểm d; khoản 7 điểm c, điểm d, điểm đ; khoản 9 điểm a, điểm b, điểm h, điểm k', '11. Tịch thu phương tiện đối với người điều khiển xe thực hiện một trong các hành vi vi phạm sau đây:', 'c) Tái phạm hành vi điều khiển xe lạng lách, đánh võng quy định tại Điều 7 khoản 9 điểm a.', 'Điều 8. Xử phạt người điều khiển xe máy chuyên dùng vi phạm quy tắc giao thông đường bộ', '8. Phạt tiền từ 14.000.000 đồng đến 16.000.000 đồng đối với người điều khiển xe thực hiện một trong các hành vi vi phạm sau đây:', 'd) Vi phạm quy định tại một trong các điểm, khoản sau của Điều này mà gây tai nạn giao thông:  Điều 8 khoản 1 điểm a, điểm b; khoản 2 điểm d; khoản 3  điểm b, điểm c, điểm d, điểm đ; khoản 4 điểm b; khoản 5 điểm b ; khoản 6 điểm e, điểm g, điểm i; khoản 7 điểm b, điểm c', '9. Phạt tiền từ 18.000.000 đồng đến 20.000.000 đồng đối với người điều khiển xe thực hiện một trong các hành vi vi phạm sau đây:', 'e) Vi phạm quy định tại Điều 8 khoản 8 điểm b mà gây tai nạn giao thông.', 'Điều 12. Xử phạt, trừ điểm giấy phép lái xe các hành vi vi phạm khác về quy tắc giao thông đường bộ; sử dụng lòng đường, vỉa hè vào mục đích khác', '15. Ngoài việc bị phạt tiền, cá nhân thực hiện hành vi quy định tại Điều 12 khoản 14 nếu là người điều khiển phương tiện còn bị áp dụng hình thức xử phạt bổ sung tước quyền sử dụng giấy phép lái xe từ 22 tháng đến 24 tháng.', '17. Ngoài việc bị áp dụng hình thức xử phạt, cá nhân thực hiện hành vi quy định tại Điều 12 khoản 11 điểm a, điểm b nếu là người điều khiển phương tiện bị trừ điểm giấy phép lái xe 02 điểm.', 'Điều 13. Xử phạt, trừ điểm giấy phép lái xe của người điều khiển xe ô tô (bao gồm cả rơ moóc hoặc sơ mi rơ moóc được kéo theo), xe chở người bốn bánh có gắn động cơ, xe chở hàng bốn bánh có gắn động cơ và các loại xe tương tư xe ô tô vi phạm quy định về điều kiện của phương tiện khi tham gia giao thông', '12. Ngoài việc bị áp dụng hình thức xử phạt, người điều khiển xe thực hiện hành vi quy định tại Điều 13 khoản 6 điểm a bị thu hồi chứng nhận đăng ký xe (hoặc bản sao chứng nhận đăng ký xe có chứng thực kèm theo bản gốc giấy biên nhận của tổ chức tín dụng, chi nhánh ngân hàng nước ngoài trong trường hợp tổ chức tín dụng, chi nhánh ngân hàng nước ngoài giữ bản gốc chứng nhận đăng ký xe) không do cơ quan có thẩm quyền cấp hoặc không đúng số khung, số động cơ (số máy) của xe, giấy chứng nhận, tem kiểm định an toàn kỹ thuật và bảo vệ môi trường không do cơ quan có thẩm quyền cấp.', 'Điều 14. Xử phạt, trừ điểm giấy phép lái xe của người điều khiển xe mô tô, xe gắn máy, các loại xe tương tự xe mô tô và các loại xe tương tự xe gắn máy vi phạm quy định về điều kiện của phương tiện khi tham gia giao thông', '7. Ngoài việc bị áp dụng hình thức xử phạt, người điều khiển xe thực hiện hành vi quy định tại Điều 14 khoản 2 điểm b bị thu hồi chứng nhận đăng ký xe (hoặc bản sao chứng nhận đăng ký xe có chứng thực kèm theo bản gốc giấy biên nhận của tổ chức tín dụng, chi nhánh ngân hàng nước ngoài trong trường hợp tổ chức tín dụng, chi nhánh ngân hàng nước ngoài giữ bản gốc chứng nhận đăng ký xe) không đúng số khung, số động cơ (số máy) của xe hoặc không do cơ quan có thẩm quyền cấp.', 'Điều 16. Xử phạt người điều khiển xe máy chuyên dùng (kể cả rơ moóc được kéo theo) vi phạm quy định về điều kiện của phương tiện khi tham gia giao thông', '6. Ngoài việc bị áp dụng hình thức xử phạt, người điều khiển xe thực hiện hành vi quy định tại Điều 16 khoản 2 điểm đ bị thu hồi chứng nhận đăng ký xe (hoặc bản sao chứng nhận đăng ký xe có chứng thực kèm theo bản gốc giấy biên nhận của tổ chức tín dụng, chi nhánh ngân hàng nước ngoài trong trường hợp tổ chức tín dụng, chi nhánh ngân hàng nước ngoài giữ bản gốc chứng nhận đăng ký xe) không do cơ quan có thẩm quyền cấp hoặc không đúng số khung, số động cơ (số máy) của xe, giấy chứng nhận, tem kiểm định an toàn kỹ thuật và bảo vệ môi trường không do cơ quan có thẩm quyền cấp.', 'Điều 17. Xử phạt, trừ điểm giấy phép lái xe của người điều khiển xe ô tô, máy kéo và các loại xe tương tự xe ô tô vi phạm quy định về bảo vệ môi trường khi tham gia giao thông', '5. Ngoài việc bị áp dụng hình thức xử phạt, người điều khiển phương tiện (khi điều khiển xe ô tô) thực hiện hành vi vi phạm quy định tại Điều 17 khoản 3, khoản 4 còn bị trừ điểm giấy phép lái xe 02 điểm.', 'Điều 18. Xử phạt, trừ điểm giấy phép lái xe các hành vi vi phạm quy định về điều kiện của người điều khiển xe cơ giới.', '10. Ngoài việc bị áp dụng hình thức xử phạt, người điều khiển phương tiện thực hiện hành vi vi phạm quy định tại Điều 18 khoản 5 điểm a, khoản 7 điểm b, khoản 9 điểm b còn bị áp dụng biện pháp khắc phục hậu quả buộc nộp lại giấy phép lái xe bị tẩy xóa.', '11. Ngoài việc bị áp dụng hình thức xử phạt, người điều khiển phương tiện thực hiện hành vi vi phạm quy định tại Điều 18 khoản 5 điểm a, điểm c; khoản 7 điểm b, điểm d; khoản 8 điểm c ; khoản 9 điểm b bị thu hồi giấy phép lái xe không do cơ quan có thẩm quyền cấp, giấy phép lái xe không hợp lệ.', '12. Ngoài việc bị áp dụng hình thức xử phạt, người điều khiển phương tiện thực hiện hành vi quy định tại Điều 18 khoản 5 điểm c, khoản 7 điểm d, khoản 8 điểm c bị trừ điểm giấy phép lái xe được cấp mới nhất trong hệ thống thông tin quản lý giấy phép lái xe 02 điểm.', 'Điều 20. Xử phạt, trừ điểm giấy phép lái xe của người điều khiển xe ô tô chở hành khách, ô tô chở người và các loại xe tương tự xe ô tô chở hành khách vi phạm quy định về bảo đảm trật trị, an toàn giao thông', '9. Ngoài việc bị áp dụng hình thức xử phạt, người điều khiển phương tiện thực hiện hành vi vi phạm quy định tại Điều 20 khoản 7  bị thu hồi phù hiệu đã hết giá trị sử dụng hoặc phù hiệu không do cơ quan có thẩm quyền cấp.', 'Điều 21. Xử phạt, trừ điểm giấy phép lái xe của người điều khiển xe ô tô tải, máy kéo (bao gồm cả rơ moóc hoặc sơ mi rơ moóc được kéo theo) và các loại xe tương tự xe ô tô vận chuyển hàng hóa vi phạm quy định về bảo đảm trật tự, an toàn giao thông đường bộ với xe ô tô vận chuyển hàng hóa', '11. Phạt tiền từ 30.000.000 đồng đến 35.000.000 đồng đối với hành vi vi phạm quy định tại Điều 21 khoản 1, khoản 8 điểm đ, khoản 10 mà gây tai nạn giao thông.', '12. Ngoài việc bị áp dụng hình thức xử phạt, người điều khiển phương tiện thực hiện hành vi vi phạm quy định tại Điều 21 khoản 6 điểm c bị thu hồi phù hiệu đã hết giá trị sử dụng hoặc phù hiệu không do cơ quan có thẩm quyền cấp.', 'Điều 22. Xử phạt, trừ điểm giấy phép lái xe của người điều khiển xe ô tô thực hiện hành vi vi phạm quy định về vận chuyển hàng siêu trường, siêu trọng', '1. Phạt tiền từ 2.000.000 đồng đến 3.000.000 đồng đối với một trong các hành vi vi phạm sau đây:', 'b) Không thực hiện đúng quy định trong giấy phép lưu hành, trừ các hành vi vi phạm quy định tại Điều 22 khoản 2; khoản 3 điểm b, điểm c, điểm d.', '4. Ngoài việc bị áp dụng hình thức xử phạt, người thực hiện hành vi vi phạm quy định tại Điều 22 khoản 1, khoản 2, khoản 3 nếu gây hư hại cầu, đường còn bị áp dụng biện pháp khắc phục hậu quả buộc khôi phục lại tình trạng ban đầu đã bị thay đổi do hành vi vi phạm hành chính gây ra.', '5. Ngoài việc bị áp dụng hình thức xử phạt, người thực hiện hành vi vi phạm quy định tại Điều 22 khoản 3 điểm a bị thu hồi giấy phép lưu hành hết giá trị sử dụng hoặc giấy phép lưu hành không do cơ quan có thẩm quyền cấp.', 'Điều 24. Xử phạt, trừ điểm giấy phép lái xe của người điều khiển xe ô tô thực hiện hành vi vi phạm quy định về vận chuyển động vật sống, thực phẩm tươi sống', '3. Ngoài việc bị áp dụng hình thức xử phạt, người điều khiển phương tiện thực hiện hành vi vi phạm quy định tại Điều 24 khoản 2 còn bị trừ điểm giấy phép lái xe 02 điểm.', 'Điều 25. Xử phạt, trừ điểm giấy phép lái xe của người điều khiển xe vệ sinh môi trường, xe ô tô chở phế thải thực hiện hành vi vi phạm quy định về hoạt động vận tải trong đô thị', '2. Ngoài việc bị áp dụng hình thức xử phạt, người điều khiển phương tiện thực hiện hành vi vi phạm quy định tại Điều 25 khoản 1 còn bị trừ điểm giấy phép lái xe 02 điểm.', 'Điều 26. Xử phạt các hành vi vi phạm quy định về trật tự, an toàn giao thông đường bộ trong vận tải đường bộ, dịch vụ hỗ trợ vận tải đường bộ', '11. Phạt tiền từ 40.000.000 đồng đến 50.000.000 đồng đối với cá nhân, từ 80.000.000 đồng đến 100.000.000 đồng đối với tổ chức kinh doanh vận tải, dịch vụ hỗ trợ vận tải tái phạm hành vi quy định tại Điều 26 khoản 7 điểm a, điểm h.', '12. Ngoài việc bị phạt tiền, cá nhân, tổ chức thực hiện hành vi vi phạm quy định tại Điều 26 khoản 2 điểm c ; khoản 4 điểm a, điểm b, điểm đ, điểm g; khoản 7 điểm b, điểm c, điểm d, điểm đ, điểm e, điểm g ; khoản 8 điểm c còn bị áp dụng các hình thức xử phạt bổ sung tước quyền sử dụng phù hiệu từ 01 tháng đến 03 tháng (nếu có hoặc đã được cấp) đối với xe vi phạm.', 'Điều 27. Xử phạt, trừ điểm giấy phép lái xe của người điều khiển xe ô tô kinh doanh vận tải chở trẻ em mầm non, học sinh, xe ô tô kinh doanh vận tải kết hợp với hoạt động đưa đón trẻ em mầm non, học sinh', '4. Ngoài việc bị áp dụng hình thức xử phạt, người điều khiển phương tiện thực hiện hành vi quy định tại Điều 27 khoản 2, khoản 3 bị trừ điểm giấy phép lái xe 02 điểm.', 'Điều 29. Xử phạt, trừ điểm giấy phép lái xe của người điều khiển xe cứu hộ giao thông đường bộ', '4. Ngoài việc bị áp dụng hình thức xử phạt, người điều khiển phương tiện thực hiện hành vi quy định tại Điều 29 khoản 3 bị trừ điểm giấy phép lái xe 02 điểm.', 'Điều 30. Xử phạt, trừ điểm giấy phép lái xe của người điều khiển xe cứu thương', '3. Ngoài việc bị áp dụng hình thức xử phạt, người điều khiển phương tiện thực hiện hành vi quy định tại Điều 30 khoản 2 bị trừ điểm giấy phép lái xe 02 điểm.', 'Điều 31. Xử phạt hành vi sản xuất, lắp ráp trái phép phương tiện giao thông cơ giới đường bộ; sản xuất, mua, bán biển số xe trái phép', '3. Ngoài việc bị phạt tiền, cá nhân, tổ chức thực hiện hành vi vi phạm quy định tại Điều 31 khoản 1, khoản 2 còn bị áp dụng hình thức xử phạt bổ sung tịch thu biển số, phương tiện sản xuất, lắp ráp trái phép.', '4. Ngoài việc bị áp dụng hình thức xử phạt, cá nhân, tổ chức thực hiện hành vi quy định tại Điều 31 khoản 1, khoản 2 còn bị áp dụng biện pháp khắc phục hậu quả buộc nộp lại số lợi bất hợp pháp có được do thực hiện vi phạm hành chính.', 'Điều 33. Xử phạt hành khách đi xe vi phạm quy định về trật tự, an toàn giao thông', '4. Ngoài việc bị phạt tiền, người thực hiện hành vi vi phạm quy định tại điểm a khoản 2 Điều 33 còn bị áp dụng hình thức xử phạt bổ sung tịch thu hóa chất độc hại, chất dễ cháy, nổ, hàng nguy hiểm, hàng cấm lưu thông mang theo trên xe chở khách.', 'Điều 34. Xử phạt, trừ điểm giấy phép lái xe của người điều khiển quá khổ giới hạn, xe quá tải trọng, xe bánh xích lưu hành đường bộ (kể cả xe ô tô chở hành khách)', '6. Ngoài việc bị áp dụng hình thức xử phạt, người điều khiển phương tiện thực hiện hành vi vi phạm quy định tại khoản 1, khoản 2, khoản 3, khoản 4, khoản 5 Điều 34 nếu gây hư hại cầu, đường còn bị áp dụng biện pháp khắc phục hậu quả buộc khôi phục lại tình trạng ban đầu đã bị thay đổi do vi phạm hành chính gây ra.', 'Điều 35. Xử phạt, trừ điểm giấy phép lái xe đối với người đua xe trái phép, tổ chức đua xe, xúi giục, cổ vũ đua xe trái phép', '3. Tịch thu phương tiện đối với người điều khiển phương tiện thực hiện một trong các hành vi vi phạm sau đây:', '4. Ngoài việc bị tịch thu phương tiện, người điều khiển phương tiện thực hiện hành vi quy định tại điểm b khoản 3 Điều 35 bị áp dụng hình thức xử phạt bổ sung tước quyền sử dụng giấy phép lái xe từ 22 tháng đến 24 tháng.', 'Điều 37. Xử phạt người điều khiển phương tiện giao thông cơ giới đường bộ gắn biển số nước ngoài', '7. Ngoài việc bị áp dụng hình thức xử phạt, người điều khiển phương tiện thực hiện hành vi vi phạm quy định tại khoản 2; điểm b, điểm c khoản 3; điểm a khoản 4; khoản 6 Điều 37 còn bị áp dụng biện pháp khắc phục hậu quả buộc tái xuất phương tiện khỏi Việt Nam.', 'Điều 38. Xử phạt người điều khiển phương tiện đăng ký hoạt động trong Khu kinh tế thương mại đặc biệt, Khu kinh tế cửa khẩu quốc tế', '3. Tịch thu phương tiện đối với người điều khiển phương tiện tái phạm hành vi quy định tại khoản 1, khoản 2 Điều 38.', '4. Ngoài việc bị áp dụng hình thức xử phạt, người điều khiển phương tiện thực hiện hành vi vi phạm quy định tại khoản 1, khoản 2 Điều 38 còn bị áp dụng biện pháp khắc phục hậu quả buộc đưa phương tiện quay trở lại Khu kinh tế thương mại đặc biệt, Khu kinh tế cửa khẩu quốc tế.', '5. Ngoài việc bị áp dụng hình thức xử phạt, người điều khiển phương tiện thực hiện hành vi vi phạm quy định tại điểm b khoản 1, điểm b khoản 2 Điều 38 bị thu hồi phù hiệu đã hết giá trị sử dụng hoặc phù hiệu không do cơ quan có thẩm quyền cấp.', 'Điều 39. Xử phạt các hành vi vi phạm quy định về đào tạo, sát hạch lái xe', '7. Phạt tiền từ 40.000.000 đồng đến 50.000.000 đồng đối với trung tâm sát hạch lái xe thực hiện một trong các hành vi vi phạm sau đây:', '8. Giáo viên dạy thực hành để học viên thực hành lái xe thực hiện một trong các hành vi vi phạm quy định tại Điều 6 của Nghị định này, bị xử phạt theo quy định đối với hành vi vi phạm đó.', '9. Ngoài việc bị phạt tiền, cá nhân, tổ chức thực hiện hành vi vi phạm còn bị áp dụng các hình thức xử phạt bổ sung sau đây:', 'a) Cơ sở đào tạo lái xe thực hiện hành vi quy định tại điểm a, điểm b, điểm c, điểm d, điểm đ, điểm e khoản 3; điểm a, điểm b, điểm d, điểm đ, điểm e, điểm g khoản 4 Điều 39 bị đình chỉ tuyển sinh từ 01 tháng đến 03 tháng;', 'b) Cơ sở đào tạo lái xe thực hiện hành vi quy định tại điểm c khoản 4; điểm a, điểm b, điểm c, điểm d khoản 5 Điều 39 bị đình chỉ tuyển sinh từ 02 tháng đến 04 tháng;', 'c) Trung tâm sát hạch lái xe thực hiện hành vi quy định tại điểm h khoản 3; điểm i, điểm k khoản 4; điểm đ, điểm e, điểm g, điểm h, điểm i khoản 5 Điều 39 bị tước quyền sử dụng giấy phép sát hạch từ 01 tháng đến 03 tháng;', 'đ) Trung tâm sát hạch lái xe thực hiện hành vi quy định tại điểm k khoản 5, khoản 7 Điều 39 bị tước quyền sử dụng giấy phép sát hạch từ 02 tháng đến 04 tháng.', '10. Ngoài việc bị áp dụng hình thức xử phạt, cá nhân thực hiện hành vi vi phạm quy định tại điểm i khoản 3 Điều 39 còn bị áp dụng biện pháp khắc phục hậu quả thu hồi giấy tờ, tài liệu giả mạo.', 'Điều 40. Xử phạt các hành vi vi phạm quy định về hoạt động đăng kiểm xe cơ giới, xe máy chuyên dùng, phụ tùng xe cơ giới', '2. Phạt tiền từ 10.000.000 đồng đến 15.000.000 đồng đối với cơ sở đăng kiểm thực hiện một trong các hành vi vi phạm sau đây:', 'b) Có từ 02 lượt đăng kiểm viên trở lên bị xử phạt theo quy định tại khoản 1 Điều 40 trong thời hạn 12 tháng tính từ lần vi phạm đầu tiên;']\n"
          ]
        }
      ],
      "source": [
        "import re\n",
        "from docx import Document\n",
        "from collections import defaultdict\n",
        "\n",
        "def extract_text_from_docx(file_path):\n",
        "    \"\"\"Extract text from a DOCX file and split by newlines.\"\"\"\n",
        "    doc = Document(file_path)\n",
        "    text_lines = [para.text.strip() for para in doc.paragraphs if para.text.strip()]\n",
        "    return text_lines\n",
        "\n",
        "def parse_document(text_lines):\n",
        "    \"\"\"Parse the document to identify articles, clauses, points, and penalties.\"\"\"\n",
        "    structure = defaultdict(lambda: defaultdict(dict))\n",
        "    current_article = None\n",
        "    current_clause = None\n",
        "    current_content = None\n",
        "    penalty = None\n",
        "    check = False\n",
        "    for line in text_lines:\n",
        "        # Match article (Điều)\n",
        "        article_match = re.match(r'Điều (\\d+)\\.', line)\n",
        "        if article_match:\n",
        "            article = article_match.group(1)\n",
        "            article_title = line.split(article_match.group(0), 1)[1].strip()\n",
        "            if article not in G:\n",
        "                G.add_node(article, content=article_title)\n",
        "                id = int(article)\n",
        "                if id >= 6 and id <= 12:\n",
        "                    G.add_edge(\"Mục 1\", article)\n",
        "                elif id >= 13 and id <= 17:\n",
        "                    G.add_edge(\"Mục 2\", article)\n",
        "                elif id >= 18 and id <= 19:\n",
        "                    G.add_edge(\"Mục 3\", article)\n",
        "                elif id >= 20 and id <= 30:\n",
        "                    G.add_edge(\"Mục 4\", article)\n",
        "                elif id >= 31 and id <= 40:\n",
        "                    G.add_edge(\"Mục 5\", article)\n",
        "            if current_clause:\n",
        "              if check:\n",
        "                if current_content:\n",
        "                 structure[f\"{current_article}.{current_clause}\"] = {\n",
        "                   'content': current_content,\n",
        "                 }\n",
        "            check = False\n",
        "            current_clause = None  # Reset clause when new article starts\n",
        "            current_article = article\n",
        "            penalty = None\n",
        "            continue\n",
        "\n",
        "        # Match clause (khoản) and extract penalty if present\n",
        "        clause_match = re.match(r'(\\d+)\\.', line)\n",
        "        if clause_match and current_article:\n",
        "            clause = clause_match.group(1)\n",
        "            content = line.split(clause_match.group(0), 1)[1].strip()\n",
        "            if current_clause:\n",
        "              if check:\n",
        "                if current_content:\n",
        "                 structure[f\"{current_article}.{current_clause}\"] = {\n",
        "                   'content': current_content,\n",
        "                 }\n",
        "            current_clause = clause\n",
        "            current_content = content\n",
        "            check = True\n",
        "            continue\n",
        "\n",
        "        # Match point (điểm) like a), b), etc.\n",
        "        point_match = re.match(r'([a-zđ]+\\))', line)\n",
        "        if point_match and current_clause and current_article:\n",
        "            point = point_match.group(1).strip(')')\n",
        "            content = line.split(point_match.group(0), 1)[1].strip()\n",
        "            structure[f\"{current_article}.{current_clause}.{point}\"] = {\n",
        "                'content': content,\n",
        "            }\n",
        "            check = False\n",
        "    return structure\n",
        "\n",
        "def process_exceptions(structure):\n",
        "    \"\"\"Process the document to create nodes and edges based on exceptions.\"\"\"\n",
        "    nodes = {}\n",
        "    edges = defaultdict(list)\n",
        "    current_art = None\n",
        "    current_cls = None\n",
        "    ck = False\n",
        "    for point, data in list(structure.items()):\n",
        "                  content = data['content']\n",
        "                  exception_phrase = \"Hình phạt bổ sung\"\n",
        "                # Check for exception phrases\n",
        "                  if content.startswith(\"Ngoài việc\"):\n",
        "                      exception_points = re.findall(\n",
        "                        r'Điều \\d+|khoản \\d+|điểm [a-zđ]+',\n",
        "                        content\n",
        "                        )\n",
        "                      points = list(re.finditer(\n",
        "                        r'Điều \\d+|khoản \\d+|điểm [a-zđ]+',\n",
        "                        content\n",
        "                        ))\n",
        "                      last_match_end = points[-1].end()\n",
        "                      remaining_text = content[last_match_end:].strip()\n",
        "                      if remaining_text[:2] == \"ấy\":\n",
        "                        node_content = f\"bị trừ điểm gi{remaining_text}\"\n",
        "                      else:\n",
        "                        node_content = f\"{remaining_text}\"\n",
        "                      node_id = point\n",
        "                      nodes[node_id] = node_content\n",
        "                      for exception in exception_points:\n",
        "                        if \"Điều\" in exception:\n",
        "                            # Full reference: Điều X khoản Y điểm Z\n",
        "                            match = exception.split()\n",
        "                            if match:\n",
        "                                art = match[1]\n",
        "                                if ck:\n",
        "                                  edges_from = f\"{current_art}.{current_cls}\"\n",
        "                                  if G.has_node(edges_from):\n",
        "                                     edges[edges_from].append((node_id, exception_phrase))\n",
        "                                  else:\n",
        "                                    pois = [\"a\",\"b\",\"c\",\"d\",\"đ\",\"e\",\"g\",\"h\",\"i\",\"k\",\"l\",\"m\",\"n\",\"o\"]\n",
        "                                    for poi in pois:\n",
        "                                      if f\"{current_art}.{current_cls}.{poi}\" in G:\n",
        "                                        edges[f\"{current_art}.{current_cls}.{poi}\"].append((node_id, exception_phrase))\n",
        "                                ck = False\n",
        "                                current_art = art\n",
        "                                current_cls = None\n",
        "                        elif \"khoản\" in exception :\n",
        "                            # Reference within same article: khoản Y điểm Z\n",
        "                            match = exception.split()\n",
        "                            if match:\n",
        "                                cls = match[1]\n",
        "                                if ck:\n",
        "                                  edges_from = f\"{current_art}.{current_cls}\"\n",
        "                                  if G.has_node(edges_from):\n",
        "                                     edges[edges_from].append((node_id, exception_phrase))\n",
        "                                  else:\n",
        "                                    pois = [\"a\",\"b\",\"c\",\"d\",\"đ\",\"e\",\"g\",\"h\",\"i\",\"k\",\"l\",\"m\",\"n\",\"o\"]\n",
        "                                    for poi in pois:\n",
        "                                      if f\"{current_art}.{current_cls}.{poi}\" in G:\n",
        "                                        edges[f\"{current_art}.{current_cls}.{poi}\"].append((node_id, exception_phrase))\n",
        "                                ck = True\n",
        "                                current_cls = cls\n",
        "                        elif \"điểm\" in exception:\n",
        "                            # Reference to entire clause: khoản Y\n",
        "                            match = exception.split()\n",
        "                            if match:\n",
        "                                scl = match[1]\n",
        "                                if current_art and current_cls:\n",
        "                                # Link to all points in the referenced clause\n",
        "                                   edge_from = f\"{current_art}.{current_cls}.{scl}\"\n",
        "                                   edges[edge_from].append((node_id, exception_phrase))\n",
        "                                ck = False\n",
        "\n",
        "\n",
        "    return nodes, edges\n",
        "\n",
        "def main(file_path):\n",
        "    # Extract and process the document\n",
        "    text_lines = extract_text_from_docx(file_path)\n",
        "    structure = parse_document(text_lines)\n",
        "    nodes, edges = process_exceptions(structure)\n",
        "\n",
        "    # Output results\n",
        "    print(\"Nodes:\")\n",
        "    for node_id, content in nodes.items():\n",
        "        print(f\"{node_id}: {content}\")\n",
        "        if node_id not in G:\n",
        "            G.add_node(node_id, content=content)\n",
        "   #     parts = node_id.split(\".\")\n",
        "    #    before_first_dot = parts[0]\n",
        "     #   if before_first_dot in G:\n",
        "      #      G.add_edge(before_first_dot, node_id)\n",
        "\n",
        "    print(\"\\nEdges:\")\n",
        "    for edge_from, edge_list in edges.items():\n",
        "        for edge_to, label in edge_list:\n",
        "          if edge_from in G:\n",
        "             if not G.has_edge(edge_from, edge_to):\n",
        "               G.add_edge(edge_from, edge_to, content=label)\n",
        "               print(f\"From {edge_from} to {edge_to} with label '{label}'\")\n",
        "    print(text_lines)\n",
        "\n",
        "if __name__ == \"__main__\":\n",
        "    # Replace with the actual path to your DOCX file\n",
        "    file_path = '/content/Loaibo_mocnoi_chuong21.docx'\n",
        "    main(file_path)"
      ]
    },
    {
      "cell_type": "code",
      "execution_count": null,
      "metadata": {
        "id": "WxS5mJvxAT_0"
      },
      "outputs": [],
      "source": [
        "G.add_node(\"40.2.b\", content = \"Có từ 02 lượt đăng kiểm viên trở lên bị xử phạt trong thời hạn 12 tháng tính từ lần vi phạm đầu tiên - Phạt tiền từ 10.000.000 đồng đến 15.000.000 đồng đối với cơ sở đăng kiểm\")"
      ]
    },
    {
      "cell_type": "code",
      "execution_count": null,
      "metadata": {
        "id": "VaxSvfwgAv7q"
      },
      "outputs": [],
      "source": [
        "G.add_edge(\"40.1\",\"40.2.b\", content = \"Hình phạt bổ sung\")"
      ]
    },
    {
      "cell_type": "markdown",
      "metadata": {
        "id": "ykb0NXYjBY8q"
      },
      "source": [
        "Code xử lý trường hợp gây ra tai nạn giao thông"
      ]
    },
    {
      "cell_type": "code",
      "execution_count": null,
      "metadata": {
        "colab": {
          "base_uri": "https://localhost:8080/"
        },
        "id": "2Tk8jgMaBXCS",
        "outputId": "597c8876-3546-4828-ec8c-038ec6b58c5b",
        "collapsed": true
      },
      "outputs": [
        {
          "output_type": "stream",
          "name": "stdout",
          "text": [
            "Nodes:\n",
            "\n",
            "Edges:\n",
            "From 6.5.c to 6.10.b with label 'Nếu gây tai nạn giao thông,'\n"
          ]
        }
      ],
      "source": [
        "import re\n",
        "from docx import Document\n",
        "from collections import defaultdict\n",
        "\n",
        "def extract_text_from_docx(file_path):\n",
        "    \"\"\"Extract text from a DOCX file and split by newlines.\"\"\"\n",
        "    doc = Document(file_path)\n",
        "    text_lines = [para.text.strip() for para in doc.paragraphs if para.text.strip()]\n",
        "    return text_lines\n",
        "\n",
        "def parse_document(text_lines):\n",
        "    \"\"\"Parse the document to identify articles, clauses, points, and penalties.\"\"\"\n",
        "    structure = defaultdict(lambda: defaultdict(dict))\n",
        "    current_article = None\n",
        "    current_clause = None\n",
        "    current_content = None\n",
        "    penalty = None\n",
        "    check = False\n",
        "    for line in text_lines:\n",
        "        # Match article (Điều)\n",
        "        article_match = re.match(r'Điều (\\d+)\\.', line)\n",
        "        if article_match:\n",
        "            article = article_match.group(1)\n",
        "            article_title = line.split(article_match.group(0), 1)[1].strip()\n",
        "            if current_article not in G:\n",
        "                G.add_node(article, content=article_title)\n",
        "                id = int(article)\n",
        "                if id >= 6 and id <= 12:\n",
        "                    G.add_edge(\"Mục 1\", article)\n",
        "                elif id >= 13 and id <= 17:\n",
        "                    G.add_edge(\"Mục 2\", article)\n",
        "                elif id >= 18 and id <= 19:\n",
        "                    G.add_edge(\"Mục 3\", article)\n",
        "                elif id >= 20 and id <= 30:\n",
        "                    G.add_edge(\"Mục 4\", article)\n",
        "                elif id >= 31 and id <= 40:\n",
        "                    G.add_edge(\"Mục 5\", article)\n",
        "            current_article = article\n",
        "            current_clause = None  # Reset clause when new article starts\n",
        "            penalty = None\n",
        "            continue\n",
        "\n",
        "        # Match clause (khoản) and extract penalty if present\n",
        "        clause_match = re.match(r'(\\d+)\\.', line)\n",
        "        if clause_match and current_article:\n",
        "            clause = clause_match.group(1)\n",
        "            content = line.split(clause_match.group(0), 1)[1].strip()\n",
        "            penalty_match = re.search(r'Phạt tiền từ \\d+\\.\\d+ đồng đến \\d+\\.\\d+ đồng', line)\n",
        "            penalty = penalty_match.group() if penalty_match else None\n",
        "            current_clause = clause\n",
        "            current_content = content\n",
        "            check = True\n",
        "            continue\n",
        "\n",
        "        # Match point (điểm) like a), b), etc.\n",
        "        point_match = re.match(r'([a-zđ]+\\))', line)\n",
        "        if point_match and current_clause and current_article:\n",
        "            point = point_match.group(1).strip(')')\n",
        "            content = line.split(point_match.group(0), 1)[1].strip()\n",
        "            structure[f\"{current_article}.{current_clause}.{point}\"] = {\n",
        "                'content': content,\n",
        "                'penalty': penalty\n",
        "            }\n",
        "            check = False\n",
        "    return structure\n",
        "\n",
        "def process_exceptions(structure):\n",
        "    \"\"\"Process the document to create nodes and edges based on exceptions.\"\"\"\n",
        "    nodes = {}\n",
        "    edges = defaultdict(list)\n",
        "    current_art = None\n",
        "    current_cls = None\n",
        "    ck = False\n",
        "    for point, data in list(structure.items()):\n",
        "                content = data['content']\n",
        "                penalty = data['penalty']\n",
        "\n",
        "                # Check for exception phrases\n",
        "                exception_phrase = \"Nếu gây tai nạn giao thông,\"\n",
        "                if content.startswith(\"Vi phạm quy định tại\"):\n",
        "                    exception_points = re.findall(\n",
        "                        r'Điều \\d+|khoản \\d+|điểm [a-zđ]+',\n",
        "                        content\n",
        "                    )\n",
        "                    node_content = f\"{penalty}\"\n",
        "                    node_id = point\n",
        "                    nodes[node_id] = node_content\n",
        "                    for exception in exception_points:\n",
        "                        if \"Điều\" in exception:\n",
        "                            # Full reference: Điều X khoản Y điểm Z\n",
        "                            match = exception.split()\n",
        "                            if match:\n",
        "                                art = match[1]\n",
        "                                if ck:\n",
        "                                  edges_from = f\"{current_art}.{current_cls}\"\n",
        "                                  if G.has_node(edges_from):\n",
        "                                     edges[edges_from].append((node_id, exception_phrase))\n",
        "                                  else:\n",
        "                                    pois = [\"a\",\"b\",\"c\",\"d\",\"đ\",\"e\",\"g\",\"h\",\"i\",\"k\",\"l\",\"m\",\"n\",\"o\"]\n",
        "                                    for poi in pois:\n",
        "                                      if f\"{current_art}.{current_cls}.{poi}\" in G:\n",
        "                                        edges[f\"{current_art}.{current_cls}.{poi}\"].append((node_id, exception_phrase))\n",
        "                                ck = False\n",
        "                                current_art = art\n",
        "                                current_cls = None\n",
        "                        elif \"khoản\" in exception :\n",
        "                            # Reference within same article: khoản Y điểm Z\n",
        "                            match = exception.split()\n",
        "                            if match:\n",
        "                                cls = match[1]\n",
        "                                if ck:\n",
        "                                  edges_from = f\"{current_art}.{current_cls}\"\n",
        "                                  if G.has_node(edges_from):\n",
        "                                     edges[edges_from].append((node_id, exception_phrase))\n",
        "                                  else:\n",
        "                                    pois = [\"a\",\"b\",\"c\",\"d\",\"đ\",\"e\",\"g\",\"h\",\"i\",\"k\",\"l\",\"m\",\"n\",\"o\"]\n",
        "                                    for poi in pois:\n",
        "                                      if f\"{current_art}.{current_cls}.{poi}\" in G:\n",
        "                                        edges[f\"{current_art}.{current_cls}.{poi}\"].append((node_id, exception_phrase))\n",
        "                                ck = True\n",
        "                                current_cls = cls\n",
        "                        elif \"điểm\" in exception:\n",
        "                            # Reference to entire clause: khoản Y\n",
        "                            match = exception.split()\n",
        "                            if match:\n",
        "                                scl = match[1]\n",
        "                                if current_art and current_cls:\n",
        "                                # Link to all points in the referenced clause\n",
        "                                   edge_from = f\"{current_art}.{current_cls}.{scl}\"\n",
        "                                   edges[edge_from].append((node_id, exception_phrase))\n",
        "                                ck = False\n",
        "\n",
        "    return nodes, edges\n",
        "\n",
        "def main(file_path):\n",
        "    # Extract and process the document\n",
        "    text_lines = extract_text_from_docx(file_path)\n",
        "    structure = parse_document(text_lines)\n",
        "    nodes, edges = process_exceptions(structure)\n",
        "\n",
        "    # Output results\n",
        "    print(\"Nodes:\")\n",
        "    G.add_node(\"6.10.b\", content = \"Phạt tiền từ 20.000.000 đồng đến 22.000.000 đồng đối với người điều khiển xe\")\n",
        "    G.add_node(\"7.10.b\", content = \"Phạt tiền từ 10.000.000 đồng đến 14.000.000 đồng đối với người điều khiển xe\")\n",
        "    G.add_node(\"8.8.d\", content = \"Phạt tiền từ 14.000.000 đồng đến 16.000.000 đồng đối với người điều khiển xe\")\n",
        "    G.add_node(\"8.9.e\", content = \"Phạt tiền từ 18.000.000 đồng đến 20.000.000 đồng đối với người điều khiển xe\")\n",
        "    G.add_edge(\"6\",\"6.10.b\")\n",
        "    G.add_edge(\"7\",\"7.10.b\")\n",
        "    G.add_edge(\"8\",\"8.8.d\")\n",
        "    G.add_edge(\"8\",\"8.9.e\")\n",
        "\n",
        "    print(\"\\nEdges:\")\n",
        "    for edge_from, edge_list in edges.items():\n",
        "        for edge_to, label in edge_list:\n",
        "          if edge_from in G:\n",
        "             if not G.has_edge(edge_from, edge_to):\n",
        "               G.add_edge(edge_from, edge_to, content=label)\n",
        "               print(f\"From {edge_from} to {edge_to} with label '{label}'\")\n",
        "  #  print(text_lines)\n",
        "\n",
        "if __name__ == \"__main__\":\n",
        "    # Replace with the actual path to your DOCX file\n",
        "    file_path = '/content/Loaibo_mocnoi_chuong21.docx'\n",
        "    main(file_path)"
      ]
    },
    {
      "cell_type": "code",
      "execution_count": null,
      "metadata": {
        "id": "u8OohH58NDns"
      },
      "outputs": [],
      "source": [
        "G.add_node(\"6.12\", content = \"Phạt tiền từ 40.000.000 đồng đến 50.000.000 đồng đối với người điều khiển xe thực hiện hành vi điều khiển xe lạng lách, đánh võng trên đường bộ; chạy quá tốc độ đuổi nhau trên đường bộ; dùng chân điều khiển vô lăng xe khi xe đang chạy trên đường bộ.\")"
      ]
    },
    {
      "cell_type": "code",
      "execution_count": null,
      "metadata": {
        "id": "x61FrmWZNR_b"
      },
      "outputs": [],
      "source": [
        "G.add_edge(\"6\",\"6.12\")"
      ]
    },
    {
      "cell_type": "code",
      "execution_count": null,
      "metadata": {
        "id": "iA1NPzu3FQot"
      },
      "outputs": [],
      "source": [
        "G.add_node(\"6.13\", content = \"Phạt tiền từ 50.000.000 đồng đến 70.000.000 đồng đối với người điều khiển xe\")\n",
        "G.add_edge(\"6\",\"6.13\")\n",
        "neighbors_ed = list(G.neighbors(\"6.12\"))\n",
        "if neighbors_ed:\n",
        "  for nei in neighbors_ed:\n",
        "     G.add_edge(nei, \"6.13\", content = \"Nếu gây tai nạn giao thông,\")\n",
        "else:\n",
        "  G.add_edge(\"6.12\", \"6.13\", content = \"Nếu gây tai nạn giao thông,\")"
      ]
    },
    {
      "cell_type": "code",
      "execution_count": null,
      "metadata": {
        "id": "BhXYE6dnNig7"
      },
      "outputs": [],
      "source": [
        "G.add_node(\"21.1\")"
      ]
    },
    {
      "cell_type": "code",
      "execution_count": null,
      "metadata": {
        "id": "mEA3QoY4KBqU"
      },
      "outputs": [],
      "source": [
        "G.add_node(\"21.11\", content = \"Phạt tiền từ 30.000.000 đồng đến 35.000.000 đồng\")\n",
        "G.add_edge(\"21\",\"21.11\")\n",
        "G.add_edge(\"21.1.a\", \"21.11\", content = \"Nếu gây tai nạn giao thông,\")\n",
        "G.add_edge(\"21.1.b\", \"21.11\", content = \"Nếu gây tai nạn giao thông,\")\n",
        "G.add_edge(\"21.10.a\", \"21.11\", content = \"Nếu gây tai nạn giao thông,\")\n",
        "G.add_edge(\"21.10.b\", \"21.11\", content = \"Nếu gây tai nạn giao thông,\")\n",
        "G.add_edge(\"21.8.đ\", \"21.11\", content = \"Nếu gây tai nạn giao thông\")"
      ]
    },
    {
      "cell_type": "markdown",
      "metadata": {
        "id": "Rh7ZdQVtL-D0"
      },
      "source": [
        "Code xử phạt hình phạt bổ sung cơ sở đào tạo sát hạch lái xe"
      ]
    },
    {
      "cell_type": "code",
      "execution_count": null,
      "metadata": {
        "colab": {
          "base_uri": "https://localhost:8080/"
        },
        "id": "lZTf8iAkMK-l",
        "outputId": "f3d5fc29-7169-46b8-d6e0-b397763a3638",
        "collapsed": true
      },
      "outputs": [
        {
          "output_type": "stream",
          "name": "stdout",
          "text": [
            "Nodes:\n",
            "39.9.a: bị đình chỉ tuyển sinh từ 01 tháng đến 03 tháng;\n",
            "39.9.b: bị đình chỉ tuyển sinh từ 02 tháng đến 04 tháng;\n",
            "39.9.c: bị tước quyền sử dụng giấy phép sát hạch từ 01 tháng đến 03 tháng;\n",
            "39.9.đ: bị tước quyền sử dụng giấy phép sát hạch từ 02 tháng đến 04 tháng.\n",
            "\n",
            "Edges:\n"
          ]
        }
      ],
      "source": [
        "import re\n",
        "from docx import Document\n",
        "from collections import defaultdict\n",
        "\n",
        "def extract_text_from_docx(file_path):\n",
        "    \"\"\"Extract text from a DOCX file and split by newlines.\"\"\"\n",
        "    doc = Document(file_path)\n",
        "    text_lines = [para.text.strip() for para in doc.paragraphs if para.text.strip()]\n",
        "    return text_lines\n",
        "\n",
        "def parse_document(text_lines):\n",
        "    \"\"\"Parse the document to identify articles, clauses, points, and penalties.\"\"\"\n",
        "    structure = defaultdict(lambda: defaultdict(dict))\n",
        "    current_article = None\n",
        "    current_clause = None\n",
        "    current_content = None\n",
        "    penalty = None\n",
        "    check = False\n",
        "    for line in text_lines:\n",
        "        # Match article (Điều)\n",
        "        article_match = re.match(r'Điều (\\d+)\\.', line)\n",
        "        if article_match:\n",
        "            article = article_match.group(1)\n",
        "            article_title = line.split(article_match.group(0), 1)[1].strip()\n",
        "            if article not in G:\n",
        "                G.add_node(article, content=article_title)\n",
        "                id = int(article)\n",
        "                if id >= 6 and id <= 12:\n",
        "                    G.add_edge(\"Mục 1\", article)\n",
        "                elif id >= 13 and id <= 17:\n",
        "                    G.add_edge(\"Mục 2\", article)\n",
        "                elif id >= 18 and id <= 19:\n",
        "                    G.add_edge(\"Mục 3\", article)\n",
        "                elif id >= 20 and id <= 30:\n",
        "                    G.add_edge(\"Mục 4\", article)\n",
        "                elif id >= 31 and id <= 40:\n",
        "                    G.add_edge(\"Mục 5\", article)\n",
        "            if current_clause:\n",
        "              if check:\n",
        "                if current_content:\n",
        "                 structure[f\"{current_article}.{current_clause}\"] = {\n",
        "                   'content': current_content,\n",
        "                 }\n",
        "            check = False\n",
        "            current_clause = None  # Reset clause when new article starts\n",
        "            current_article = article\n",
        "            penalty = None\n",
        "            continue\n",
        "\n",
        "        # Match clause (khoản) and extract penalty if present\n",
        "        clause_match = re.match(r'(\\d+)\\.', line)\n",
        "        if clause_match and current_article:\n",
        "            clause = clause_match.group(1)\n",
        "            content = line.split(clause_match.group(0), 1)[1].strip()\n",
        "            if current_clause:\n",
        "              if check:\n",
        "                if current_content:\n",
        "                 structure[f\"{current_article}.{current_clause}\"] = {\n",
        "                   'content': current_content,\n",
        "                 }\n",
        "            current_clause = clause\n",
        "            current_content = content\n",
        "            check = True\n",
        "            continue\n",
        "\n",
        "        # Match point (điểm) like a), b), etc.\n",
        "        point_match = re.match(r'([a-zđ]+\\))', line)\n",
        "        if point_match and current_clause and current_article:\n",
        "            point = point_match.group(1).strip(')')\n",
        "            content = line.split(point_match.group(0), 1)[1].strip()\n",
        "            structure[f\"{current_article}.{current_clause}.{point}\"] = {\n",
        "                'content': content,\n",
        "            }\n",
        "            check = False\n",
        "    return structure\n",
        "\n",
        "def process_exceptions(structure):\n",
        "    \"\"\"Process the document to create nodes and edges based on exceptions.\"\"\"\n",
        "    nodes = {}\n",
        "    edges = defaultdict(list)\n",
        "    current_art = None\n",
        "    current_cls = None\n",
        "    ck = False\n",
        "    for point, data in list(structure.items()):\n",
        "                  content = data['content']\n",
        "                  exception_phrase = \"Hình phạt bổ sung\"\n",
        "                # Check for exception phrases\n",
        "                  pattern = r\"^(?:Cơ\\s+sở\\s+đào\\s+tạo\\s+lái\\s+xe|Trung\\s+tâm\\s+sát\\s+hạch\\s+lái\\s+xe)\\s+(.*)\"\n",
        "                  match = re.match(pattern, content)\n",
        "                  if match:\n",
        "                      text = match.group(1).strip()\n",
        "                      exception_points = re.findall(\n",
        "                        r'Điều \\d+|khoản \\d+|điểm [a-zđ]+',\n",
        "                        content\n",
        "                        )\n",
        "                      points = list(re.finditer(\n",
        "                        r'Điều \\d+|khoản \\d+|điểm [a-zđ]+',\n",
        "                        content\n",
        "                        ))\n",
        "                      last_match_end = points[-1].end()\n",
        "                      remaining_text = content[last_match_end:].strip()\n",
        "                      if remaining_text[:2] == \"ấy\":\n",
        "                        node_content = f\"bị trừ điểm gi{remaining_text}\"\n",
        "                      else:\n",
        "                        node_content = f\"{remaining_text}\"\n",
        "                      node_id = point\n",
        "                      nodes[node_id] = node_content\n",
        "                      for exception in exception_points:\n",
        "                        if \"Điều\" in exception:\n",
        "                            # Full reference: Điều X khoản Y điểm Z\n",
        "                            match = exception.split()\n",
        "                            if match:\n",
        "                                art = match[1]\n",
        "                                if ck:\n",
        "                                  edges_from = f\"{current_art}.{current_cls}\"\n",
        "                                  if G.has_node(edges_from):\n",
        "                                     edges[edges_from].append((node_id, exception_phrase))\n",
        "                                  else:\n",
        "                                    pois = [\"a\",\"b\",\"c\",\"d\",\"đ\",\"e\",\"g\",\"h\",\"i\",\"k\",\"l\",\"m\",\"n\",\"o\"]\n",
        "                                    for poi in pois:\n",
        "                                      if f\"{current_art}.{current_cls}.{poi}\" in G:\n",
        "                                        edges[f\"{current_art}.{current_cls}.{poi}\"].append((node_id, exception_phrase))\n",
        "                                ck = False\n",
        "                                current_art = art\n",
        "                                current_cls = None\n",
        "                        elif \"khoản\" in exception :\n",
        "                            # Reference within same article: khoản Y điểm Z\n",
        "                            match = exception.split()\n",
        "                            if match:\n",
        "                                cls = match[1]\n",
        "                                if ck:\n",
        "                                  edges_from = f\"{current_art}.{current_cls}\"\n",
        "                                  if G.has_node(edges_from):\n",
        "                                     edges[edges_from].append((node_id, exception_phrase))\n",
        "                                  else:\n",
        "                                    pois = [\"a\",\"b\",\"c\",\"d\",\"đ\",\"e\",\"g\",\"h\",\"i\",\"k\",\"l\",\"m\",\"n\",\"o\"]\n",
        "                                    for poi in pois:\n",
        "                                      if f\"{current_art}.{current_cls}.{poi}\" in G:\n",
        "                                        edges[f\"{current_art}.{current_cls}.{poi}\"].append((node_id, exception_phrase))\n",
        "                                current_cls = cls\n",
        "                                ck = True\n",
        "                        elif \"điểm\" in exception:\n",
        "                            # Reference to entire clause: khoản Y\n",
        "                            match = exception.split()\n",
        "                            if match:\n",
        "                                scl = match[1]\n",
        "                                if current_art and current_cls:\n",
        "                                # Link to all points in the referenced clause\n",
        "                                   edge_from = f\"{current_art}.{current_cls}.{scl}\"\n",
        "                                   edges[edge_from].append((node_id, exception_phrase))\n",
        "                                ck = False\n",
        "\n",
        "    return nodes, edges\n",
        "\n",
        "def main(file_path):\n",
        "    # Extract and process the document\n",
        "    text_lines = extract_text_from_docx(file_path)\n",
        "    structure = parse_document(text_lines)\n",
        "    nodes, edges = process_exceptions(structure)\n",
        "\n",
        "    # Output results\n",
        "    print(\"Nodes:\")\n",
        "    for node_id, content in nodes.items():\n",
        "        print(f\"{node_id}: {content}\")\n",
        "        if node_id not in G:\n",
        "            G.add_node(node_id, content=content)\n",
        "      #  parts = node_id.split(\".\")\n",
        "       # before_first_dot = parts[0]\n",
        "       # if before_first_dot in G:\n",
        "          #  G.add_edge(before_first_dot, node_id)\n",
        "\n",
        "    print(\"\\nEdges:\")\n",
        "    for edge_from, edge_list in edges.items():\n",
        "        for edge_to, label in edge_list:\n",
        "          if edge_from in G:\n",
        "             if not G.has_edge(edge_from, edge_to):\n",
        "                G.add_edge(edge_from, edge_to, content=label)\n",
        "                print(f\"From {edge_from} to {edge_to} with label '{label}'\")\n",
        "   # print(text_lines)\n",
        "\n",
        "if __name__ == \"__main__\":\n",
        "    # Replace with the actual path to your DOCX file\n",
        "    file_path = '/content/Loaibo_mocnoi_chuong21.docx'\n",
        "    main(file_path)"
      ]
    },
    {
      "cell_type": "markdown",
      "metadata": {
        "id": "3p3nji6TnDJJ"
      },
      "source": [
        "Code xử lý phần khác biệt thuộc Điều 32 chương II"
      ]
    },
    {
      "cell_type": "code",
      "execution_count": null,
      "metadata": {
        "colab": {
          "base_uri": "https://localhost:8080/"
        },
        "id": "EByOuTWApAdZ",
        "outputId": "f5b29b3f-ea5e-4322-df22-178c3902a27b",
        "collapsed": true
      },
      "outputs": [
        {
          "output_type": "stream",
          "name": "stdout",
          "text": [
            "Nodes:\n",
            "32.7.đ: Giao phương tiện hoặc để cho người làm công, người đại diện điều khiển phương tiện thực hiện hành vi vi phạm hoặc trực tiếp điều khiển phương tiện thực hiện hành vi vi phạm - Phạt tiền từ 4.000.000 đồng đến 6.000.000 đồng đối với cá nhân, từ 8.000.000 đồng đến 12.000.000 đồng đối với tổ chức là chủ xe ô tô (kể cả rơ moóc và sơ mi rơ moóc), xe chở người bốn bánh có gắn động cơ, xe chở hàng bốn bánh có gắn động cơ, xe máy chuyên dùng và các loại xe tương tự xe ô tô\n",
            "32.7.e: Giao phương tiện hoặc để cho người làm công, người đại diện điều khiển phương tiện thực hiện hành vi vi phạm hoặc trực tiếp điều khiển phương tiện thực hiện hành vi vi phạm - Phạt tiền từ 4.000.000 đồng đến 6.000.000 đồng đối với cá nhân, từ 8.000.000 đồng đến 12.000.000 đồng đối với tổ chức là chủ xe ô tô (kể cả rơ moóc và sơ mi rơ moóc), xe chở người bốn bánh có gắn động cơ, xe chở hàng bốn bánh có gắn động cơ, xe máy chuyên dùng và các loại xe tương tự xe ô tô\n",
            "32.7.g: Giao phương tiện hoặc để cho người làm công, người đại diện điều khiển phương tiện thực hiện hành vi vi phạm hoặc trực tiếp điều khiển phương tiện thực hiện hành vi vi phạm - Phạt tiền từ 4.000.000 đồng đến 6.000.000 đồng đối với cá nhân, từ 8.000.000 đồng đến 12.000.000 đồng đối với tổ chức là chủ xe ô tô (kể cả rơ moóc và sơ mi rơ moóc), xe chở người bốn bánh có gắn động cơ, xe chở hàng bốn bánh có gắn động cơ, xe máy chuyên dùng và các loại xe tương tự xe ô tô\n",
            "32.9.c: Giao phương tiện hoặc để cho người làm công, người đại diện điều khiển phương tiện thực hiện hành vi vi phạm hoặc trực tiếp điều khiển phương tiện thực hiện hành vi vi phạm - Phạt tiền từ 4.000.000 đồng đến 6.000.000 đồng đối với cá nhân, từ 8.000.000 đồng đến 12.000.000 đồng đối với tổ chức là chủ xe ô tô, xe chở người bốn bánh có gắn động cơ, xe chở hàng bốn bánh có gắn động cơ, xe máy chuyên dùng và các loại xe tương tự xe ô tô\n",
            "32.9.d: Giao phương tiện hoặc để cho người làm công, người đại diện điều khiển phương tiện thực hiện hành vi vi phạm hoặc trực tiếp điều khiển phương tiện thực hiện hành vi vi phạm - Phạt tiền từ 4.000.000 đồng đến 6.000.000 đồng đối với cá nhân, từ 8.000.000 đồng đến 12.000.000 đồng đối với tổ chức là chủ xe ô tô, xe chở người bốn bánh có gắn động cơ, xe chở hàng bốn bánh có gắn động cơ, xe máy chuyên dùng và các loại xe tương tự xe ô tô\n",
            "32.11.b: Giao phương tiện hoặc để cho người làm công, người đại diện điều khiển phương tiện thực hiện hành vi vi phạm hoặc trực tiếp điều khiển phương tiện thực hiện hành vi vi phạm - Phạt tiền từ 10.000.000 đồng đến 12.000.000 đồng đối với cá nhân, từ 20.000.000 đồng đến 24.000.000 đồng đối với tổ chức là chủ xe ô tô, xe chở người bốn bánh có gắn động cơ, xe chở hàng bốn bánh có gắn động cơ, xe máy chuyên dùng và các loại xe tương tự xe ô tô\n",
            "32.11.c: Giao phương tiện hoặc để cho người làm công, người đại diện điều khiển phương tiện thực hiện hành vi vi phạm hoặc trực tiếp điều khiển phương tiện thực hiện hành vi vi phạm - Phạt tiền từ 10.000.000 đồng đến 12.000.000 đồng đối với cá nhân, từ 20.000.000 đồng đến 24.000.000 đồng đối với tổ chức là chủ xe ô tô, xe chở người bốn bánh có gắn động cơ, xe chở hàng bốn bánh có gắn động cơ, xe máy chuyên dùng và các loại xe tương tự xe ô tô\n",
            "32.11.đ: Giao phương tiện hoặc để cho người làm công, người đại diện điều khiển phương tiện thực hiện hành vi vi phạm hoặc trực tiếp điều khiển phương tiện thực hiện hành vi vi phạm - Phạt tiền từ 10.000.000 đồng đến 12.000.000 đồng đối với cá nhân, từ 20.000.000 đồng đến 24.000.000 đồng đối với tổ chức là chủ xe ô tô, xe chở người bốn bánh có gắn động cơ, xe chở hàng bốn bánh có gắn động cơ, xe máy chuyên dùng và các loại xe tương tự xe ô tô\n",
            "32.13.a: Giao phương tiện hoặc để cho người làm công, người đại diện điều khiển phương tiện thực hiện hành vi vi phạm hoặc trực tiếp điều khiển phương tiện thực hiện hành vi vi phạm - Phạt tiền từ 20.000.000 đồng đến 26.000.000 đồng đối với cá nhân, từ 40.000.000 đồng đến 52.000.000 đồng đối với tổ chức là chủ xe ô tô, xe máy chuyên dùng và các loại xe tương tự xe ô tô\n",
            "32.13.b: Giao phương tiện hoặc để cho người làm công, người đại diện điều khiển phương tiện thực hiện hành vi vi phạm hoặc trực tiếp điều khiển phương tiện thực hiện hành vi vi phạm - Phạt tiền từ 20.000.000 đồng đến 26.000.000 đồng đối với cá nhân, từ 40.000.000 đồng đến 52.000.000 đồng đối với tổ chức là chủ xe ô tô, xe máy chuyên dùng và các loại xe tương tự xe ô tô\n",
            "32.13.c: Giao phương tiện hoặc để cho người làm công, người đại diện điều khiển phương tiện thực hiện hành vi vi phạm hoặc trực tiếp điều khiển phương tiện thực hiện hành vi vi phạm - Phạt tiền từ 20.000.000 đồng đến 26.000.000 đồng đối với cá nhân, từ 40.000.000 đồng đến 52.000.000 đồng đối với tổ chức là chủ xe ô tô, xe máy chuyên dùng và các loại xe tương tự xe ô tô\n",
            "32.13.đ: Giao phương tiện hoặc để cho người làm công, người đại diện điều khiển phương tiện thực hiện hành vi vi phạm hoặc trực tiếp điều khiển phương tiện thực hiện hành vi vi phạm - Phạt tiền từ 20.000.000 đồng đến 26.000.000 đồng đối với cá nhân, từ 40.000.000 đồng đến 52.000.000 đồng đối với tổ chức là chủ xe ô tô, xe máy chuyên dùng và các loại xe tương tự xe ô tô\n",
            "32.14.a: Giao phương tiện hoặc để cho người làm công, người đại diện điều khiển phương tiện thực hiện hành vi vi phạm hoặc trực tiếp điều khiển phương tiện thực hiện hành vi vi phạm - Phạt tiền từ 28.000.000 đồng đến 30.000.000 đồng đối với cá nhân, từ 56.000.000 đồng đến 60.000.000 đồng đối với tổ chức là chủ xe ô tô, xe chở người bốn bánh có gắn động cơ, xe chở hàng bốn bánh có gắn động cơ, xe máy chuyên dùng và các loại xe tương tự xe ô tô\n",
            "32.14.b: Giao phương tiện hoặc để cho người làm công, người đại diện điều khiển phương tiện thực hiện hành vi vi phạm hoặc trực tiếp điều khiển phương tiện thực hiện hành vi vi phạm - Phạt tiền từ 28.000.000 đồng đến 30.000.000 đồng đối với cá nhân, từ 56.000.000 đồng đến 60.000.000 đồng đối với tổ chức là chủ xe ô tô, xe chở người bốn bánh có gắn động cơ, xe chở hàng bốn bánh có gắn động cơ, xe máy chuyên dùng và các loại xe tương tự xe ô tô\n",
            "32.14.c: Giao phương tiện hoặc để cho người làm công, người đại diện điều khiển phương tiện thực hiện hành vi vi phạm hoặc trực tiếp điều khiển phương tiện thực hiện hành vi vi phạm - Phạt tiền từ 28.000.000 đồng đến 30.000.000 đồng đối với cá nhân, từ 56.000.000 đồng đến 60.000.000 đồng đối với tổ chức là chủ xe ô tô, xe chở người bốn bánh có gắn động cơ, xe chở hàng bốn bánh có gắn động cơ, xe máy chuyên dùng và các loại xe tương tự xe ô tô\n",
            "32.14.d: Giao phương tiện hoặc để cho người làm công, người đại diện điều khiển phương tiện thực hiện hành vi vi phạm hoặc trực tiếp điều khiển phương tiện thực hiện hành vi vi phạm - Phạt tiền từ 28.000.000 đồng đến 30.000.000 đồng đối với cá nhân, từ 56.000.000 đồng đến 60.000.000 đồng đối với tổ chức là chủ xe ô tô, xe chở người bốn bánh có gắn động cơ, xe chở hàng bốn bánh có gắn động cơ, xe máy chuyên dùng và các loại xe tương tự xe ô tô\n",
            "32.14.đ: Giao phương tiện hoặc để cho người làm công, người đại diện điều khiển phương tiện thực hiện hành vi vi phạm hoặc trực tiếp điều khiển phương tiện thực hiện hành vi vi phạm - Phạt tiền từ 28.000.000 đồng đến 30.000.000 đồng đối với cá nhân, từ 56.000.000 đồng đến 60.000.000 đồng đối với tổ chức là chủ xe ô tô, xe chở người bốn bánh có gắn động cơ, xe chở hàng bốn bánh có gắn động cơ, xe máy chuyên dùng và các loại xe tương tự xe ô tô\n",
            "32.14.e: Giao phương tiện hoặc để cho người làm công, người đại diện điều khiển phương tiện thực hiện hành vi vi phạm hoặc trực tiếp điều khiển phương tiện thực hiện hành vi vi phạm - Phạt tiền từ 28.000.000 đồng đến 30.000.000 đồng đối với cá nhân, từ 56.000.000 đồng đến 60.000.000 đồng đối với tổ chức là chủ xe ô tô, xe chở người bốn bánh có gắn động cơ, xe chở hàng bốn bánh có gắn động cơ, xe máy chuyên dùng và các loại xe tương tự xe ô tô\n",
            "32.14.g: Giao phương tiện hoặc để cho người làm công, người đại diện điều khiển phương tiện thực hiện hành vi vi phạm hoặc trực tiếp điều khiển phương tiện thực hiện hành vi vi phạm - Phạt tiền từ 28.000.000 đồng đến 30.000.000 đồng đối với cá nhân, từ 56.000.000 đồng đến 60.000.000 đồng đối với tổ chức là chủ xe ô tô, xe chở người bốn bánh có gắn động cơ, xe chở hàng bốn bánh có gắn động cơ, xe máy chuyên dùng và các loại xe tương tự xe ô tô\n",
            "32.16.a: Giao phương tiện hoặc để cho người làm công, người đại diện điều khiển phương tiện thực hiện hành vi vi phạm hoặc trực tiếp điều khiển phương tiện thực hiện hành vi vi phạm - Phạt tiền từ 65.000.000 đồng đến 75.000.000 đồng đối với cá nhân, từ 130.000.000 đồng đến 150.000.000 đồng đối với tổ chức là chủ xe ô tô, xe máy chuyên dùng và các loại xe tương tự xe ô tô khi\n",
            "32.16.b: Giao phương tiện hoặc để cho người làm công, người đại diện điều khiển phương tiện thực hiện hành vi vi phạm hoặc trực tiếp điều khiển phương tiện thực hiện hành vi vi phạm - Phạt tiền từ 65.000.000 đồng đến 75.000.000 đồng đối với cá nhân, từ 130.000.000 đồng đến 150.000.000 đồng đối với tổ chức là chủ xe ô tô, xe máy chuyên dùng và các loại xe tương tự xe ô tô khi\n",
            "\n",
            "Edges:\n",
            "From 20.6.d to 32.9.d with label 'Xử phạt chủ phương tiện'\n"
          ]
        }
      ],
      "source": [
        "import re\n",
        "from docx import Document\n",
        "from collections import defaultdict\n",
        "\n",
        "def extract_text_from_docx(file_path):\n",
        "    \"\"\"Extract text from a DOCX file and split by newlines.\"\"\"\n",
        "    doc = Document(file_path)\n",
        "    text_lines = [para.text.strip() for para in doc.paragraphs if para.text.strip()]\n",
        "    return text_lines\n",
        "\n",
        "def parse_document(text_lines):\n",
        "    \"\"\"Parse the document to identify articles, clauses, points, and penalties.\"\"\"\n",
        "    structure = defaultdict(lambda: defaultdict(dict))\n",
        "    current_article = None\n",
        "    current_clause = None\n",
        "    current_content = None\n",
        "    penalty = None\n",
        "    check = False\n",
        "    for line in text_lines:\n",
        "        # Match article (Điều)\n",
        "        article_match = re.match(r'Điều (\\d+)\\.', line)\n",
        "        if article_match:\n",
        "            article = article_match.group(1)\n",
        "            article_title = line.split(article_match.group(0), 1)[1].strip()\n",
        "            if article not in G:\n",
        "                G.add_node(article, content=article_title)\n",
        "                id = int(current_article)\n",
        "                if id >= 6 and id <= 12:\n",
        "                    G.add_edge(\"Mục 1\", article)\n",
        "                elif id >= 13 and id <= 17:\n",
        "                    G.add_edge(\"Mục 2\", article)\n",
        "                elif id >= 18 and id <= 19:\n",
        "                    G.add_edge(\"Mục 3\", article)\n",
        "                elif id >= 20 and id <= 30:\n",
        "                    G.add_edge(\"Mục 4\", article)\n",
        "                elif id >= 31 and id <= 40:\n",
        "                    G.add_edge(\"Mục 5\", article)\n",
        "            current_article = article\n",
        "            current_clause = None  # Reset clause when new article starts\n",
        "            penalty = None\n",
        "            check = False\n",
        "            continue\n",
        "\n",
        "        # Match clause (khoản) and extract penalty if present\n",
        "        clause_match = re.match(r'(\\d+)\\.', line)\n",
        "        if clause_match and current_article:\n",
        "            clause = clause_match.group(1)\n",
        "            content = line.split(clause_match.group(0), 1)[1].strip()\n",
        "            penalty_match = re.search(r\"^(.*?)\\s*thực hiện một trong các hành vi vi phạm sau đây\", line, flags=re.IGNORECASE)\n",
        "            penalty = penalty_match.group(1).strip() if penalty_match else None\n",
        "            if penalty:\n",
        "               penalty = re.sub(r'^\\s*\\d+\\.\\s*', '', penalty)\n",
        "            current_clause = clause\n",
        "            current_content = content\n",
        "            check = True\n",
        "            continue\n",
        "\n",
        "        # Match point (điểm) like a), b), etc.\n",
        "        point_match = re.match(r'([a-zđ]+\\))', line)\n",
        "        if point_match and current_clause and current_article:\n",
        "            point = point_match.group(1).strip(')')\n",
        "            content = line.split(point_match.group(0), 1)[1].strip()\n",
        "            structure[f\"{current_article}.{current_clause}.{point}\"] = {\n",
        "                'content': content,\n",
        "                'penalty': penalty\n",
        "            }\n",
        "            check = False\n",
        "    return structure\n",
        "\n",
        "def process_exceptions(structure):\n",
        "    \"\"\"Process the document to create nodes and edges based on exceptions.\"\"\"\n",
        "    nodes = {}\n",
        "    edges = defaultdict(list)\n",
        "    current_art = None\n",
        "    current_cls = None\n",
        "    for point, data in list(structure.items()):\n",
        "                content = data['content']\n",
        "                penalty = data['penalty']\n",
        "                exception_phrase = \"Xử phạt chủ phương tiện\"\n",
        "                # Check for exception phrases\n",
        "                if content.startswith(\"Giao phương tiện hoặc để cho người làm công\"):\n",
        "                    description = \"Giao phương tiện hoặc để cho người làm công, người đại diện điều khiển phương tiện thực hiện hành vi vi phạm hoặc trực tiếp điều khiển phương tiện thực hiện hành vi vi phạm\"\n",
        "                    exception_points = re.findall(\n",
        "                        r'Điều \\d+|khoản \\d+|điểm [a-zđ]+',\n",
        "                        content\n",
        "                    )\n",
        "                    node_content = f\"{description} - {penalty}\" if penalty else f\"{description}\"\n",
        "                    node_id = point\n",
        "                    nodes[node_id] = node_content\n",
        "                    mid = len(exception_points)//2\n",
        "                    for exception in exception_points[:mid]:\n",
        "                        if \"Điều\" in exception:\n",
        "                            # Full reference: Điều X khoản Y điểm Z\n",
        "                            match = exception.split()\n",
        "                            if match:\n",
        "                                art = match[1]\n",
        "                                current_art = art\n",
        "                                current_cls = None\n",
        "                        elif \"khoản\" in exception :\n",
        "                            # Reference within same article: khoản Y điểm Z\n",
        "                            match = exception.split()\n",
        "                            if match:\n",
        "                                cls = match[1]\n",
        "                                current_cls = cls\n",
        "                        elif \"điểm\" in exception:\n",
        "                            # Reference to entire clause: khoản Y\n",
        "                            match = exception.split()\n",
        "                            if match:\n",
        "                                scl = match[1]\n",
        "                                if current_art and current_cls:\n",
        "                                # Link to all points in the referenced clause\n",
        "                                   edge_from = f\"{current_art}.{current_cls}.{scl}\"\n",
        "                                   edges[edge_from].append((node_id, exception_phrase))\n",
        "\n",
        "    return nodes, edges\n",
        "\n",
        "def main(file_path):\n",
        "    # Extract and process the document\n",
        "    text_lines = extract_text_from_docx(file_path)\n",
        "    structure = parse_document(text_lines)\n",
        "    nodes, edges = process_exceptions(structure)\n",
        "\n",
        "    # Output results\n",
        "    print(\"Nodes:\")\n",
        "    for node_id, content in nodes.items():\n",
        "        print(f\"{node_id}: {content}\")\n",
        "        if node_id not in G:\n",
        "            G.add_node(node_id, content=content)\n",
        "   #     parts = node_id.split(\".\")\n",
        "     #   before_first_dot = parts[0]\n",
        "      #  if before_first_dot in G:\n",
        "         # G.add_edge(before_first_dot, node_id)\n",
        "\n",
        "    print(\"\\nEdges:\")\n",
        "    for edge_from, edge_list in edges.items():\n",
        "        for edge_to, label in edge_list:\n",
        "          if edge_from in G:\n",
        "             if not G.has_edge(edge_from, edge_to):\n",
        "               G.add_edge(edge_from, edge_to, content=label)\n",
        "               print(f\"From {edge_from} to {edge_to} with label '{label}'\")\n",
        "  #  print(text_lines)\n",
        "\n",
        "if __name__ == \"__main__\":\n",
        "    # Replace with the actual path to your DOCX file\n",
        "    file_path = '/content/Dieu_32_va_cac_dieu_thu_cong.docx'\n",
        "    main(file_path)"
      ]
    },
    {
      "cell_type": "code",
      "source": [
        "G.add_node(\"32.5\", content = \"Phạt tiền từ 800.000 đồng đến 1.200.000 đồng trên mỗi người vượt quá quy định được phép chở của phương tiện nhưng tổng mức phạt tiền tối đa không vượt quá 75.000.000 đồng đối với chủ phương tiện là cá nhân, từ 1.600.000 đồng đến 2.400.000 đồng trên mỗi người vượt quá quy định được phép chở của phương tiện nhưng tổng mức phạt tiền tối đa không vượt quá 150.000.000 đồng đối với chủ phương tiện là tổ chức giao phương tiện hoặc để cho người làm công, người đại diện điều khiển phương tiện thực hiện hành vi vi phạm hoặc trực tiếp điều khiển phương tiện thực hiện hành vi vi phạm\")"
      ],
      "metadata": {
        "id": "siI2WPwgMK9Z"
      },
      "execution_count": null,
      "outputs": []
    },
    {
      "cell_type": "code",
      "source": [
        "if G.has_node(\"20.2\"):\n",
        "  G.add_edge(\"20.2\",\"32.5\", content = \"Xử lý chủ phương tiện\")\n",
        "else:\n",
        "  pois = [\"a\",\"b\",\"c\",\"d\",\"đ\",\"e\",\"g\",\"h\",\"i\",\"k\",\"l\",\"m\",\"n\",\"o\"]\n",
        "  for poi in pois:\n",
        "      nd = f\"20.2.{poi}\"\n",
        "      if nd in G:\n",
        "        G.add_edge(nd,\"32.5\",content = \"Xử lý chủ phương tiện\")"
      ],
      "metadata": {
        "id": "HldOSuduMdyr"
      },
      "execution_count": null,
      "outputs": []
    },
    {
      "cell_type": "code",
      "source": [
        "G.add_node(\"32.6\", content = \"Phạt tiền từ 2.000.000 đồng đến 4.000.000 đồng trên mỗi người vượt quá quy định được phép chở của phương tiện nhưng tổng mức phạt tiền tối đa không vượt quá 75.000.000 đồng đối với chủ phương tiện là cá nhân, từ 4.000.000 đồng đến 8.000.000 đồng trên mỗi người vượt quá quy định được phép chở của phương tiện nhưng tổng mức phạt tiền tối đa không vượt quá 150.000.000 đồng đối với chủ phương tiện là tổ chức giao phương tiện hoặc để cho người làm công, người đại diện điều khiển phương tiện thực hiện hành vi vi phạm hoặc trực tiếp điều khiển phương tiện thực hiện hành vi vi phạm\")"
      ],
      "metadata": {
        "id": "P6JcNdyHNcxS"
      },
      "execution_count": null,
      "outputs": []
    },
    {
      "cell_type": "code",
      "source": [
        "if G.has_node(\"20.4\"):\n",
        "  G.add_edge(\"20.4\",\"32.6\", content = \"Xử lý chủ phương tiện\")\n",
        "else:\n",
        "  pois = [\"a\",\"b\",\"c\",\"d\",\"đ\",\"e\",\"g\",\"h\",\"i\",\"k\",\"l\",\"m\",\"n\",\"o\"]\n",
        "  for poi in pois:\n",
        "      nd = f\"20.4.{poi}\"\n",
        "      if nd in G:\n",
        "        G.add_edge(nd,\"32.6\",content = \"Xử lý chủ phương tiện\")"
      ],
      "metadata": {
        "id": "OFCi3Q-ANn74"
      },
      "execution_count": null,
      "outputs": []
    },
    {
      "cell_type": "code",
      "source": [
        "G.add_node(\"32.15\", content = \"Phạt tiền từ 30.000.000 đồng đến 40.000.000 đồng đối với cá nhân, từ 60.000.000 đồng đến 80.000.000 đồng đối với tổ chức là chủ xe ô tô, xe máy chuyên dùng và các loại xe tương tự xe ô tô khi giao phương tiện hoặc để cho người làm công, người đại diện điều khiển phương tiện thực hiện hành vi vi phạm hoặc trực tiếp điều khiển phương tiện thực hiện hành vi vi phạm\")"
      ],
      "metadata": {
        "id": "1xiCOl3eOi9I"
      },
      "execution_count": null,
      "outputs": []
    },
    {
      "cell_type": "code",
      "source": [
        "if G.has_node(\"21.7\"):\n",
        "  G.add_edge(\"21.7\",\"32.15\", content = \"Xử lý chủ phương tiện\")\n",
        "else:\n",
        "  pois = [\"a\",\"b\",\"c\",\"d\",\"đ\",\"e\",\"g\",\"h\",\"i\",\"k\",\"l\",\"m\",\"n\",\"o\"]\n",
        "  for poi in pois:\n",
        "      nd = f\"21.7.{poi}\"\n",
        "      if nd in G:\n",
        "        G.add_edge(nd,\"32.15\",content = \"Xử lý chủ phương tiện\")"
      ],
      "metadata": {
        "id": "zR-RICQeO3K6"
      },
      "execution_count": null,
      "outputs": []
    },
    {
      "cell_type": "code",
      "source": [
        "G.add_node(\"32.17.d\", content = \"Tái phạm hành vi (trong trường hợp chở vượt trên 100% số người quy định được phép chở của phương tiện) sẽ bị tịch thu phương tiện đối với chủ xe ô tô, xe chở người bốn bánh có gắn động cơ, xe chở hàng bốn bánh có gắn động cơ, xe máy chuyên dùng, xe mô tô, xe gắn máy và các loại xe tương tự xe ô tô, xe mô tô, xe gắn máy\")"
      ],
      "metadata": {
        "id": "S54JtngfPVoi"
      },
      "execution_count": null,
      "outputs": []
    },
    {
      "cell_type": "code",
      "source": [
        "G.add_node(\"32.17.đ\", content = \"Tái phạm hành vi (trong trường hợp chở vượt trên 100% số người quy định được phép chở của phương tiện) sẽ bị tịch thu phương tiện đối với chủ xe ô tô, xe chở người bốn bánh có gắn động cơ, xe chở hàng bốn bánh có gắn động cơ, xe máy chuyên dùng, xe mô tô, xe gắn máy và các loại xe tương tự xe ô tô, xe mô tô, xe gắn máy\")"
      ],
      "metadata": {
        "id": "OFid4ENMP4jy"
      },
      "execution_count": null,
      "outputs": []
    },
    {
      "cell_type": "code",
      "source": [
        "G.add_node(\"32.17.e\", content = \"Tái phạm hành vi sẽ bị tịch thu phương tiện đối với chủ xe ô tô, xe chở người bốn bánh có gắn động cơ, xe chở hàng bốn bánh có gắn động cơ, xe máy chuyên dùng, xe mô tô, xe gắn máy và các loại xe tương tự xe ô tô, xe mô tô, xe gắn máy\")"
      ],
      "metadata": {
        "id": "PW8OOiyeP-cZ"
      },
      "execution_count": null,
      "outputs": []
    },
    {
      "cell_type": "code",
      "source": [
        "G.add_node(\"32.17.g\", content = \"Tái phạm hành vi sẽ bị tịch thu phương tiện đối với chủ xe ô tô, xe chở người bốn bánh có gắn động cơ, xe chở hàng bốn bánh có gắn động cơ, xe máy chuyên dùng, xe mô tô, xe gắn máy và các loại xe tương tự xe ô tô, xe mô tô, xe gắn máy\")"
      ],
      "metadata": {
        "id": "QXtDSxp9P-9I"
      },
      "execution_count": null,
      "outputs": []
    },
    {
      "cell_type": "code",
      "source": [
        "if G.has_node(\"32.5\"):\n",
        "  G.add_edge(\"32.5\",\"32.17.d\", content = \"Xử lý chủ phương tiện\")\n",
        "else:\n",
        "  pois = [\"a\",\"b\",\"c\",\"d\",\"đ\",\"e\",\"g\",\"h\",\"i\",\"k\",\"l\",\"m\",\"n\",\"o\"]\n",
        "  for poi in pois:\n",
        "      nd = f\"32.5.{poi}\"\n",
        "      if nd in G:\n",
        "        G.add_edge(nd,\"32.17.d\",content = \"Xử lý chủ phương tiện\")"
      ],
      "metadata": {
        "id": "vAjshLxlQjaB"
      },
      "execution_count": null,
      "outputs": []
    },
    {
      "cell_type": "code",
      "source": [
        "if G.has_node(\"32.6\"):\n",
        "  G.add_edge(\"32.6\",\"32.17.đ\", content = \"Xử lý chủ phương tiện\")\n",
        "else:\n",
        "  pois = [\"a\",\"b\",\"c\",\"d\",\"đ\",\"e\",\"g\",\"h\",\"i\",\"k\",\"l\",\"m\",\"n\",\"o\"]\n",
        "  for poi in pois:\n",
        "      nd = f\"32.6.{poi}\"\n",
        "      if nd in G:\n",
        "        G.add_edge(nd,\"32.17.đ\",content = \"Xử lý chủ phương tiện\")"
      ],
      "metadata": {
        "id": "HDcCDKlJQkG5"
      },
      "execution_count": null,
      "outputs": []
    },
    {
      "cell_type": "code",
      "source": [
        "if G.has_node(\"32.14.h\"):\n",
        "  G.add_edge(\"32.14.h\",\"32.17.e\", content = \"Xử lý chủ phương tiện\")"
      ],
      "metadata": {
        "id": "-af-NHxNQktZ"
      },
      "execution_count": null,
      "outputs": []
    },
    {
      "cell_type": "code",
      "source": [
        "if G.has_node(\"32.16.b\"):\n",
        "  G.add_edge(\"32.16.b\",\"32.17.g\", content = \"Xử lý chủ phương tiện\")"
      ],
      "metadata": {
        "id": "qe_HwxQGQlPw"
      },
      "execution_count": null,
      "outputs": []
    },
    {
      "cell_type": "markdown",
      "metadata": {
        "id": "IYvyUO_0XI5C"
      },
      "source": [
        "Code chương 3 Cụ thể"
      ]
    },
    {
      "cell_type": "code",
      "execution_count": null,
      "metadata": {
        "colab": {
          "base_uri": "https://localhost:8080/"
        },
        "id": "_N_E5Fn_XICs",
        "outputId": "7bccd85f-56e2-43ba-bcfe-f8ea37669b89",
        "collapsed": true
      },
      "outputs": [
        {
          "output_type": "stream",
          "name": "stdout",
          "text": [
            "Node Chương II: HÀNH VI VI PHẠM, HÌNH THỨC, MỨC XỬ PHẠT, MỨC TRỪ ĐIỂM GIẤY PHÉP LÁI XE VÀ BIỆN PHÁP KHẮC PHỤC HẬU QUẢ VI PHẠM HÀNH CHÍNH VỀ TRẬT TỰ, AN TOÀN GIAO THÔNG TRONG LĨNH VỰC GIAO THÔNG ĐƯỜNG BỘ\n",
            "Node Mục 1: VI PHẠM QUY TẮC GIAO THÔNG ĐƯỜNG BỘ\n",
            "Node 6: Xử phạt, trừ điểm giấy phép lái xe của người điều khiển xe ô tô, xe chở người bốn bánh có gắn động cơ, xe chở hàng bốn bánh có gắn động cơ và các loại xe tương tự xe ô tô vi phạm quy tắc giao thông đường bộ\n",
            "Node 6.1.b: Khi ra, vào vị trí dừng xe, đỗ xe không có tín hiệu báo cho người điều khiển phương tiện khác biết; - Phạt tiền từ 400.000 đồng đến 600.000 đồng đối với người điều khiển xe\n",
            "Node 6.1.d: Không gắn biển báo hiệu ở phía trước xe kéo, phía sau xe được kéo; điều khiển xe kéo rơ moóc không có biển báo hiệu theo quy định; - Phạt tiền từ 400.000 đồng đến 600.000 đồng đối với người điều khiển xe\n",
            "Node 6.1.đ: Sử dụng còi trong thời gian từ 22 giờ ngày hôm trước đến 05 giờ ngày hôm sau trong khu đông dân cư, khu vực cơ sở khám bệnh, chữa bệnh, trừ các xe ưu tiên đang đi làm nhiệm vụ theo quy định. - Phạt tiền từ 400.000 đồng đến 600.000 đồng đối với người điều khiển xe\n",
            "Node 6.2.b: Chở người trên buồng lái quá số lượng quy định; - Phạt tiền từ 600.000 đồng đến 800.000 đồng đối với người điều khiển xe\n",
            "Node 6.2.d: Dừng xe, đỗ xe trên phần đường xe chạy ở đoạn đường ngoài đô thị nơi có lề đường rộng; dừng xe, đỗ xe không sát mép đường phía bên phải theo chiều đi ở nơi đường có lề đường hẹp hoặc không có lề đường; dừng xe, đỗ xe ngược với chiều lưu thông của làn đường; dừng xe, đỗ xe trên dải phân cách cố định ở giữa hai phần đường xe chạy; đỗ xe trên dốc không chèn bánh; - Phạt tiền từ 600.000 đồng đến 800.000 đồng đối với người điều khiển xe\n",
            "Node 6.3.a: Điều khiển xe chạy quá tốc độ quy định từ 05 km/h đến dưới 10 km/h; - Phạt tiền từ 800.000 đồng đến 1.000.000 đồng đối với người điều khiển xe\n",
            "Node 6.3.b: Sử dụng còi, rú ga liên tục; sử dụng còi hơi, sử dụng đèn chiếu xa khi gặp người đi bộ qua đường hoặc khi đi trên đoạn đường qua khu dân cư có hệ thống chiếu sáng đang hoạt động hoặc khi gặp xe đi ngược chiều (trừ trường hợp dải phân cách có khả năng chống chói) hoặc khi chuyển hướng xe tại nơi đường giao nhau, trừ các xe ưu tiên đang đi làm nhiệm vụ theo quy định; - Phạt tiền từ 800.000 đồng đến 1.000.000 đồng đối với người điều khiển xe\n",
            "\n",
            "Edges:\n",
            "Edge between Chương II and Mục 1\n",
            "Content: No content\n",
            "Edge between Chương II and Mục 2\n",
            "Content: No content\n",
            "Edge between Chương II and Mục 3\n",
            "Content: No content\n",
            "Edge between Chương II and Mục 4\n",
            "Content: No content\n",
            "Edge between Chương II and Mục 5\n",
            "Content: No content\n"
          ]
        }
      ],
      "source": [
        "import re\n",
        "import networkx as nx\n",
        "from docx import Document\n",
        "\n",
        "# Định nghĩa các biểu thức chính quy\n",
        "chapter_pattern = r\"Chương\\s+([0-9IVXLCDM]+)\\.\\s+(.+)\"\n",
        "article_pattern = r\"Điều\\s+(\\d+)\\.\\s+(.+)\"\n",
        "clause_pattern = r\"(\\d+)\\.\\s+(.+)\"\n",
        "subclause_pattern = r\"([a-zđ])\\)\\s+(.+)\"\n",
        "\n",
        "\n",
        "def process_document(doc_path):\n",
        "    # Đọc văn bản từ file .docx\n",
        "    doc = Document(doc_path)\n",
        "    lines = [para.text for para in doc.paragraphs if para.text.strip()]\n",
        "\n",
        "    current_chapter = None\n",
        "    current_article = None\n",
        "    current_clause = None\n",
        "    clause_num = None\n",
        "\n",
        "    for line in lines:\n",
        "        line = line.strip()\n",
        "        if not line:\n",
        "            continue\n",
        "\n",
        "        # Phát hiện Chương\n",
        "        chapter_match = re.match(chapter_pattern, line)\n",
        "        if chapter_match:\n",
        "            chapter_num = chapter_match.group(1)\n",
        "            chapter_title = chapter_match.group(2)\n",
        "            chapter_node = f\"Chương {chapter_num}\"\n",
        "            G.add_node(chapter_node, content=chapter_title)\n",
        "            current_chapter = chapter_node\n",
        "            continue\n",
        "\n",
        "\n",
        "        # Phát hiện Điều\n",
        "        article_match = re.match(article_pattern, line)\n",
        "        if article_match:\n",
        "       #     process_previous_clause()\n",
        "            article_num = article_match.group(1)\n",
        "            article_title = article_match.group(2)\n",
        "            article_node = article_num\n",
        "            G.add_node(article_node, content=article_title)\n",
        "            if current_chapter:\n",
        "                G.add_edge(current_chapter, article_node)\n",
        "            current_article = article_node\n",
        "            continue\n",
        "\n",
        "        clause_match = re.match(clause_pattern, line)\n",
        "        # Phát hiện Khoản:\n",
        "        if clause_match:\n",
        "            #    process_previous_clause()\n",
        "                clause_num = clause_match.group(1)\n",
        "                clause_title = clause_match.group(2)\n",
        "                clause_node = f\"{article_node}.{clause_num}\"\n",
        "                if clause_node not in result:\n",
        "                   G.add_node(clause_node, content=clause_title)\n",
        "                if current_article and clause_node not in result:\n",
        "                    G.add_edge(current_article, clause_node)\n",
        "                current_clause = clause_node\n",
        "                continue\n",
        "        subclause_match = re.match(subclause_pattern, line)\n",
        "        if subclause_match:\n",
        "            subclause_num = subclause_match.group(1)\n",
        "            subclause_title = subclause_match.group(2)\n",
        "            subclause_node = f\"{current_clause}.{subclause_num}\"\n",
        "            if subclause_node not in result:\n",
        "               G.add_node(subclause_node, content=subclause_title)\n",
        "            if current_clause and subclause_node not in result:\n",
        "                G.add_edge(current_clause, subclause_node)\n",
        "            continue\n",
        "\n",
        "# Ví dụ sử dụng\n",
        "doc_path = \"/content/Chuong3_Cu_the_168.docx\"  # Thay bằng đường dẫn thực tế tới file của bạn\n",
        "process_document(doc_path)\n",
        "\n",
        "# In một số nút và cạnh để kiểm tra\n",
        "for node in list(G.nodes(data=True))[:10]:  # Lấy 5 nút đầu tiên cùng với dữ liệu\n",
        "    node_id = node[0]  # ID của nút\n",
        "    node_data = node[1]  # Thuộc tính của nút (dữ liệu)\n",
        "    content = node_data.get(\"content\", \"No content\")  # Lấy nội dung (nếu có) hoặc mặc định nếu không có\n",
        "    print(f\"Node {node_id}: {content}\")\n",
        "print(\"\\nEdges:\")\n",
        "for u, v, data in list(G.edges(data=True))[:5]:  # Lấy các cạnh cùng với dữ liệu\n",
        "    print(f\"Edge between {u} and {v}\")\n",
        "    print(\"Content:\", data.get(\"content\", \"No content\"))  # Lấy thuộc tính 'content' của cạnh"
      ]
    },
    {
      "cell_type": "code",
      "execution_count": null,
      "metadata": {
        "id": "nfpSibQoT4JE"
      },
      "outputs": [],
      "source": [
        "G.add_node(\"6.5.b\", content = \"Điều khiển xe không đi bên phải theo chiều đi của mình; đi không đúng phần đường hoặc làn đường quy định (làn cùng chiều hoặc làn ngược chiều), ; điều khiển xe đi qua dải phân cách cố định ở giữa hai phần đường xe chạy - Phạt tiền từ 4.000.000 đồng đến 6.000.000 đồng đối với người điều khiển xe\")"
      ]
    },
    {
      "cell_type": "code",
      "execution_count": null,
      "metadata": {
        "id": "D6c-78siUJBz"
      },
      "outputs": [],
      "source": [
        "G.add_edge(\"6\", \"6.5.b\")\n",
        "G.add_edge(\"6.4.a\",\"6.5.b\", content = \"trừ hành vi vi phạm quy định tại\")"
      ]
    },
    {
      "cell_type": "code",
      "execution_count": null,
      "metadata": {
        "id": "VV7zNeSnUr3D"
      },
      "outputs": [],
      "source": [
        "G.add_node(\"6.5.c\", content = \"Tránh xe đi ngược chiều không đúng quy định; không nhường đường cho xe đi ngược chiều theo quy định tại nơi đường hẹp, đường dốc, nơi có chướng ngại vật - Phạt tiền từ 4.000.000 đồng đến 6.000.000 đồng đối với người điều khiển xe\")"
      ]
    },
    {
      "cell_type": "code",
      "execution_count": null,
      "metadata": {
        "id": "Xnc09QblU8es"
      },
      "outputs": [],
      "source": [
        "G.add_edge(\"6\", \"6.5.c\")\n",
        "G.add_edge(\"6.3.b\", \"6.5.c\", content = \"trừ hành vi vi phạm sử dụng đèn chiếu xa khi tránh xe đi ngược chiều quy định tại\")"
      ]
    },
    {
      "cell_type": "markdown",
      "source": [
        "Ngày 3/5/2025"
      ],
      "metadata": {
        "id": "I0ELZC73yZxh"
      }
    },
    {
      "cell_type": "markdown",
      "source": [
        "Code móc nối chương III"
      ],
      "metadata": {
        "id": "zI4O44I3yclU"
      }
    },
    {
      "cell_type": "markdown",
      "source": [
        "Điều 48 khoản 1"
      ],
      "metadata": {
        "id": "MPK5kHdnyfT-"
      }
    },
    {
      "cell_type": "code",
      "source": [
        "G.add_node(\"48.4\", content = \"Khi phương tiện bị tạm giữ, chủ phương tiện phải chịu mọi chi phí (nếu có) cho việc sử dụng phương tiện khác thay thế để vận chuyển người, hàng hóa được chở trên phương tiện bị tạm giữ.\")"
      ],
      "metadata": {
        "id": "WN2W11wCDAEB"
      },
      "execution_count": null,
      "outputs": []
    },
    {
      "cell_type": "code",
      "source": [
        "import re\n",
        "from docx import Document\n",
        "from collections import defaultdict\n",
        "\n",
        "def extract_text_from_docx(file_path):\n",
        "    \"\"\"Extract text from a DOCX file and split by newlines.\"\"\"\n",
        "    doc = Document(file_path)\n",
        "    text_lines = [para.text.strip() for para in doc.paragraphs if para.text.strip()]\n",
        "    return text_lines\n",
        "\n",
        "def parse_document(text_lines):\n",
        "    \"\"\"Parse the document to identify articles, clauses, points, and penalties.\"\"\"\n",
        "    structure = defaultdict(lambda: defaultdict(dict))\n",
        "    current_article = None\n",
        "    current_clause = None\n",
        "    current_content = None\n",
        "    penalty = None\n",
        "    check = False\n",
        "    for line in text_lines:\n",
        "        # Match article (Điều)\n",
        "        article_match = re.match(r'Điều (\\d+)\\.', line)\n",
        "        if article_match:\n",
        "            article = article_match.group(1)\n",
        "            article_title = line.split(article_match.group(0), 1)[1].strip()\n",
        "            if article not in G:\n",
        "                G.add_node(article, content=article_title)\n",
        "                id = int(article)\n",
        "                if id >= 6 and id <= 12:\n",
        "                    G.add_edge(\"Mục 1\", article)\n",
        "                elif id >= 13 and id <= 17:\n",
        "                    G.add_edge(\"Mục 2\", article)\n",
        "                elif id >= 18 and id <= 19:\n",
        "                    G.add_edge(\"Mục 3\", article)\n",
        "                elif id >= 20 and id <= 30:\n",
        "                    G.add_edge(\"Mục 4\", article)\n",
        "                elif id >= 31 and id <= 40:\n",
        "                    G.add_edge(\"Mục 5\", article)\n",
        "            if current_clause:\n",
        "              if check:\n",
        "                if current_content:\n",
        "                 structure[f\"{current_article}.{current_clause}\"] = {\n",
        "                   'content': current_content,\n",
        "                 }\n",
        "            check = False\n",
        "            current_clause = None  # Reset clause when new article starts\n",
        "            current_article = article\n",
        "            penalty = None\n",
        "            continue\n",
        "\n",
        "        # Match clause (khoản) and extract penalty if present\n",
        "        clause_match = re.match(r'(\\d+)\\.', line)\n",
        "        if clause_match and current_article:\n",
        "            clause = clause_match.group(1)\n",
        "            content = line.split(clause_match.group(0), 1)[1].strip()\n",
        "            if current_clause:\n",
        "              if check:\n",
        "                if current_content:\n",
        "                 structure[f\"{current_article}.{current_clause}\"] = {\n",
        "                   'content': current_content,\n",
        "                 }\n",
        "            current_clause = clause\n",
        "            current_content = content\n",
        "            check = True\n",
        "            continue\n",
        "\n",
        "        # Match point (điểm) like a), b), etc.\n",
        "        point_match = re.match(r'([a-zđ]+\\))', line)\n",
        "        if point_match and current_clause and current_article:\n",
        "            point = point_match.group(1).strip(')')\n",
        "            content = line.split(point_match.group(0), 1)[1].strip()\n",
        "            structure[f\"{current_article}.{current_clause}.{point}\"] = {\n",
        "                'content': content,\n",
        "            }\n",
        "            check = False\n",
        "    return structure\n",
        "\n",
        "def process_exceptions(structure):\n",
        "    \"\"\"Process the document to create nodes and edges based on exceptions.\"\"\"\n",
        "    nodes = {}\n",
        "    edges = defaultdict(list)\n",
        "    current_art = None\n",
        "    current_cls = None\n",
        "    ck = False\n",
        "    for point, data in list(structure.items()):\n",
        "                  content = data['content']\n",
        "                  exception_phrase = \"Hình phạt bổ sung\"\n",
        "                  exception_points = re.findall(\n",
        "                        r'Điều \\d+|khoản \\d+|điểm [a-zđ]+',\n",
        "                        content\n",
        "                  )\n",
        "                  points = list(re.finditer(\n",
        "                        r'Điều \\d+|khoản \\d+|điểm [a-zđ]+',\n",
        "                        content\n",
        "                   ))\n",
        "                  node_content = \"Để ngăn chặn ngay hành vi vi phạm hành chính, người có thẩm quyền được phép tạm giữ phương tiện trước khi ra quyết định xử phạt theo quy định tại\"\n",
        "                  node_id = point\n",
        "                  nodes[node_id] = node_content\n",
        "                  for exception in exception_points:\n",
        "                        if \"Điều\" in exception:\n",
        "                            # Full reference: Điều X khoản Y điểm Z\n",
        "                            match = exception.split()\n",
        "                            if match:\n",
        "                                art = match[1]\n",
        "                                if ck:\n",
        "                                  edges_from = f\"{current_art}.{current_cls}\"\n",
        "                                  if G.has_node(edges_from):\n",
        "                                     edges[edges_from].append((node_id, exception_phrase))\n",
        "                                  else:\n",
        "                                    pois = [\"a\",\"b\",\"c\",\"d\",\"đ\",\"e\",\"g\",\"h\",\"i\",\"k\",\"l\",\"m\",\"n\",\"o\"]\n",
        "                                    for poi in pois:\n",
        "                                      if f\"{current_art}.{current_cls}.{poi}\" in G:\n",
        "                                        edges[f\"{current_art}.{current_cls}.{poi}\"].append((node_id, exception_phrase))\n",
        "                                ck = False\n",
        "                                current_art = art\n",
        "                                current_cls = None\n",
        "                        elif \"khoản\" in exception :\n",
        "                            # Reference within same article: khoản Y điểm Z\n",
        "                            match = exception.split()\n",
        "                            if match:\n",
        "                                cls = match[1]\n",
        "                                if current_cls:\n",
        "                                   if ck:\n",
        "                                      edges_from = f\"{current_art}.{current_cls}\"\n",
        "                                      if G.has_node(edges_from):\n",
        "                                         edges[edges_from].append((node_id, exception_phrase))\n",
        "                                      else:\n",
        "                                         pois = [\"a\",\"b\",\"c\",\"d\",\"đ\",\"e\",\"g\",\"h\",\"i\",\"k\",\"l\",\"m\",\"n\",\"o\"]\n",
        "                                         for poi in pois:\n",
        "                                             if f\"{current_art}.{current_cls}.{poi}\" in G:\n",
        "                                               edges[f\"{current_art}.{current_cls}.{poi}\"].append((node_id, exception_phrase))\n",
        "                                current_cls = cls\n",
        "                                ck = True\n",
        "                        elif \"điểm\" in exception:\n",
        "                            # Reference to entire clause: khoản Y\n",
        "                            match = exception.split()\n",
        "                            if match:\n",
        "                                scl = match[1]\n",
        "                                if current_art and current_cls:\n",
        "                                # Link to all points in the referenced clause\n",
        "                                   edge_from = f\"{current_art}.{current_cls}.{scl}\"\n",
        "                                   edges[edge_from].append((node_id, exception_phrase))\n",
        "                                ck = False\n",
        "\n",
        "    return nodes, edges\n",
        "\n",
        "file_path = '/content/Dieu_48_khoan_1.docx'\n",
        "# Extract and process the document\n",
        "text_lines = extract_text_from_docx(file_path)\n",
        "structure = parse_document(text_lines)\n",
        "nodes, edges = process_exceptions(structure)\n",
        "\n",
        "    # Output results\n",
        "print(\"Nodes:\")\n",
        "for node_id, content in nodes.items():\n",
        "    print(f\"{node_id}: {content}\")\n",
        "    if node_id not in G:\n",
        "        G.add_node(node_id, content=content)\n",
        "      #  parts = node_id.split(\".\")\n",
        "       # before_first_dot = parts[0]\n",
        "       # if before_first_dot in G:\n",
        "          #  G.add_edge(before_first_dot, node_id)\n",
        "        G.add_edge(node_id, \"48.4\", content = \"Thủ tục xử phạt\")\n",
        "\n",
        "print(\"\\nEdges:\")\n",
        "for edge_from, edge_list in edges.items():\n",
        "    for edge_to, label in edge_list:\n",
        "        if edge_from in G:\n",
        "          if not G.has_edge(edge_from, edge_to):\n",
        "            G.add_edge(edge_from, edge_to, content=label)\n",
        "            print(f\"From {edge_from} to {edge_to} with label '{label}'\")\n",
        "   # print(text_lines)\n"
      ],
      "metadata": {
        "colab": {
          "base_uri": "https://localhost:8080/"
        },
        "collapsed": true,
        "id": "6_jT0kX2yyof",
        "outputId": "31421e1c-4544-4c51-d2af-01c902a7f407"
      },
      "execution_count": null,
      "outputs": [
        {
          "output_type": "stream",
          "name": "stdout",
          "text": [
            "Nodes:\n",
            "48.1.a: Để ngăn chặn ngay hành vi vi phạm hành chính, người có thẩm quyền được phép tạm giữ phương tiện trước khi ra quyết định xử phạt theo quy định tại\n",
            "48.1.b: Để ngăn chặn ngay hành vi vi phạm hành chính, người có thẩm quyền được phép tạm giữ phương tiện trước khi ra quyết định xử phạt theo quy định tại\n",
            "48.1.c: Để ngăn chặn ngay hành vi vi phạm hành chính, người có thẩm quyền được phép tạm giữ phương tiện trước khi ra quyết định xử phạt theo quy định tại\n",
            "48.1.e: Để ngăn chặn ngay hành vi vi phạm hành chính, người có thẩm quyền được phép tạm giữ phương tiện trước khi ra quyết định xử phạt theo quy định tại\n",
            "48.1.g: Để ngăn chặn ngay hành vi vi phạm hành chính, người có thẩm quyền được phép tạm giữ phương tiện trước khi ra quyết định xử phạt theo quy định tại\n",
            "48.1.h: Để ngăn chặn ngay hành vi vi phạm hành chính, người có thẩm quyền được phép tạm giữ phương tiện trước khi ra quyết định xử phạt theo quy định tại\n",
            "48.1.i: Để ngăn chặn ngay hành vi vi phạm hành chính, người có thẩm quyền được phép tạm giữ phương tiện trước khi ra quyết định xử phạt theo quy định tại\n",
            "48.1.k: Để ngăn chặn ngay hành vi vi phạm hành chính, người có thẩm quyền được phép tạm giữ phương tiện trước khi ra quyết định xử phạt theo quy định tại\n",
            "48.1.l: Để ngăn chặn ngay hành vi vi phạm hành chính, người có thẩm quyền được phép tạm giữ phương tiện trước khi ra quyết định xử phạt theo quy định tại\n",
            "48.1.m: Để ngăn chặn ngay hành vi vi phạm hành chính, người có thẩm quyền được phép tạm giữ phương tiện trước khi ra quyết định xử phạt theo quy định tại\n",
            "48.1.n: Để ngăn chặn ngay hành vi vi phạm hành chính, người có thẩm quyền được phép tạm giữ phương tiện trước khi ra quyết định xử phạt theo quy định tại\n",
            "\n",
            "Edges:\n",
            "From 13.9.a to 48.1.g with label 'Hình phạt bổ sung'\n",
            "From 16.2.d to 48.1.h with label 'Hình phạt bổ sung'\n"
          ]
        }
      ]
    },
    {
      "cell_type": "markdown",
      "source": [
        "Xử lý thủ công Điều 48 khoản 1"
      ],
      "metadata": {
        "id": "IQonbfbl6IrX"
      }
    },
    {
      "cell_type": "code",
      "source": [
        "G.add_node(\"48.1.d\", content = \"Để ngăn chặn ngay hành vi vi phạm hành chính, người có thẩm quyền được phép tạm giữ phương tiện trước khi ra quyết định xử phạt theo quy định tại\")\n",
        "G.add_edge(\"9.1.p\",\"48.1.d\", content = \"Hình phạt bổ sung\", condition = \"Trong trường hợp người vi phạm là người dưới 16 tuổi và điều khiển phương tiện,\")\n",
        "G.add_edge(\"9.3.d\",\"48.1.d\", content = \"Hình phạt bổ sung\", condition = \"Trong trường hợp người vi phạm là người dưới 16 tuổi và điều khiển phương tiện,\")\n",
        "G.add_edge(\"9.4.b\",\"48.1.d\", content = \"Hình phạt bổ sung\", condition = \"Trong trường hợp người vi phạm là người dưới 16 tuổi và điều khiển phương tiện,\")\n",
        "G.add_edge(\"9.4.c\",\"48.1.d\", content = \"Hình phạt bổ sung\", condition = \"Trong trường hợp người vi phạm là người dưới 16 tuổi và điều khiển phương tiện,\")\n",
        "G.add_edge(\"9.4.d\",\"48.1.d\", content = \"Hình phạt bổ sung\", condition = \"Trong trường hợp người vi phạm là người dưới 16 tuổi và điều khiển phương tiện,\")\n",
        "if G.has_node(\"9.5\"):\n",
        "  G.add_edge(\"9.5\",\"48.1.d\", content = \"Hình phạt bổ sung\")\n",
        "else:\n",
        "  pois = [\"a\",\"b\",\"c\",\"d\",\"đ\",\"e\",\"g\",\"h\",\"i\",\"k\",\"l\",\"m\",\"n\",\"o\"]\n",
        "  for poi in pois:\n",
        "      nd = f\"9.5.{poi}\"\n",
        "      if nd in G:\n",
        "        G.add_edge(nd,\"48.1.d\",content = \"Hình phạt bổ sung\")"
      ],
      "metadata": {
        "id": "ZSeP0-tT6Hkn"
      },
      "execution_count": null,
      "outputs": []
    },
    {
      "cell_type": "code",
      "source": [
        "G.add_edge(\"48.1.d\", \"48.4\", content = \"Thủ tục xử phạt\")"
      ],
      "metadata": {
        "id": "jAFICG1nDXGJ"
      },
      "execution_count": null,
      "outputs": []
    },
    {
      "cell_type": "code",
      "source": [
        "G.add_node(\"48.1.đ\", content = \"Trong trường hợp người vi phạm là người điều khiển phương tiện để ngăn chặn ngay hành vi vi phạm hành chính, người có thẩm quyền được phép tạm giữ phương tiện trước khi ra quyết định xử phạt theo quy định tại\")\n",
        "G.add_edge(\"12.14.a\",\"48.1.d\", content = \"Hình phạt bổ sung\")\n",
        "if G.has_node(\"12.10\"):\n",
        "  G.add_edge(\"12.10\",\"48.1.đ\", content = \"Hình phạt bổ sung\")\n",
        "else:\n",
        "  pois = [\"a\",\"b\",\"c\",\"d\",\"đ\",\"e\",\"g\",\"h\",\"i\",\"k\",\"l\",\"m\",\"n\",\"o\"]\n",
        "  for poi in pois:\n",
        "      nd = f\"12.10.{poi}\"\n",
        "      if nd in G:\n",
        "        G.add_edge(nd,\"48.1.đ\",content = \"Hình phạt bổ sung\")"
      ],
      "metadata": {
        "id": "AnLEcAtL7wyI"
      },
      "execution_count": null,
      "outputs": []
    },
    {
      "cell_type": "code",
      "source": [
        "G.add_edge(\"48.1.đ\", \"48.4\", content = \"Thủ tục xử phạt\")"
      ],
      "metadata": {
        "id": "I9-9JLjVDiIv"
      },
      "execution_count": null,
      "outputs": []
    },
    {
      "cell_type": "markdown",
      "source": [
        "Code xử lý Điều 47 khoản 3"
      ],
      "metadata": {
        "id": "ioni_zf-oQdJ"
      }
    },
    {
      "cell_type": "code",
      "source": [
        "import google.generativeai as genai"
      ],
      "metadata": {
        "id": "qfOgtZnSy7bG"
      },
      "execution_count": null,
      "outputs": []
    },
    {
      "cell_type": "code",
      "source": [
        "import re\n",
        "from docx import Document\n",
        "from collections import defaultdict\n",
        "\n",
        "def extract_text_from_docx(file_path):\n",
        "    \"\"\"Extract text from a DOCX file and split by newlines.\"\"\"\n",
        "    doc = Document(file_path)\n",
        "    text_lines = [para.text.strip() for para in doc.paragraphs if para.text.strip()]\n",
        "    return text_lines\n",
        "\n",
        "def process_exceptions(text_lines):\n",
        "    current_art = None\n",
        "    current_cls = None\n",
        "    ck = False\n",
        "    d473 = []\n",
        "    for content in text_lines:\n",
        "                  chk = False\n",
        "                  dieu4731 = []\n",
        "                  dieu4732 = []\n",
        "                  exception_phrase = \"Hình phạt bổ sung\"\n",
        "                  exception_points = re.findall(\n",
        "                        r'Điều \\d+|khoản \\d+|điểm [a-zđ]+',\n",
        "                        content\n",
        "                  )\n",
        "                  for exception in exception_points:\n",
        "                        if \"Điều\" in exception:\n",
        "                            # Full reference: Điều X khoản Y điểm Z\n",
        "                            match = exception.split()\n",
        "                            if match:\n",
        "                                art = match[1]\n",
        "                                if ck:\n",
        "                                  edges_from = f\"{current_art}.{current_cls}\"\n",
        "                                  if G.has_node(edges_from):\n",
        "                                     if not chk:\n",
        "                                        dieu4731.append(edges_from)\n",
        "                                     else:\n",
        "                                        dieu4732.append(edges_from)\n",
        "                                  else:\n",
        "                                    pois = [\"a\",\"b\",\"c\",\"d\",\"đ\",\"e\",\"g\",\"h\",\"i\",\"k\",\"l\",\"m\",\"n\",\"o\"]\n",
        "                                    for poi in pois:\n",
        "                                      edges_from = f\"{current_art}.{current_cls}.{poi}\"\n",
        "                                      if edges_from in G:\n",
        "                                        if not chk:\n",
        "                                           dieu4731.append(edges_from)\n",
        "                                        else:\n",
        "                                           dieu4732.append(edges_from)\n",
        "                                ck = False\n",
        "                                current_art = art\n",
        "                                current_cls = None\n",
        "                                if art == \"32\" or art == \"26\":\n",
        "                                  chk = True\n",
        "                        elif \"khoản\" in exception :\n",
        "                            # Reference within same article: khoản Y điểm Z\n",
        "                            match = exception.split()\n",
        "                            if match:\n",
        "                                cls = match[1]\n",
        "                                if current_cls:\n",
        "                                   if ck:\n",
        "                                      edges_from = f\"{current_art}.{current_cls}\"\n",
        "                                      if G.has_node(edges_from):\n",
        "                                         if not chk:\n",
        "                                           dieu4731.append(edges_from)\n",
        "                                         else:\n",
        "                                           dieu4732.append(edges_from)\n",
        "                                      else:\n",
        "                                         pois = [\"a\",\"b\",\"c\",\"d\",\"đ\",\"e\",\"g\",\"h\",\"i\",\"k\",\"l\",\"m\",\"n\",\"o\"]\n",
        "                                         for poi in pois:\n",
        "                                            edges_from = f\"{current_art}.{current_cls}.{poi}\"\n",
        "                                            if edges_from in G:\n",
        "                                               if not chk:\n",
        "                                                  dieu4731.append(edges_from)\n",
        "                                               else:\n",
        "                                                  dieu4732.append(edges_from)\n",
        "                                current_cls = cls\n",
        "                                ck = True\n",
        "                        elif \"điểm\" in exception:\n",
        "                            # Reference to entire clause: khoản Y\n",
        "                            match = exception.split()\n",
        "                            if match:\n",
        "                                scl = match[1]\n",
        "                                if current_art and current_cls:\n",
        "                                # Link to all points in the referenced clause\n",
        "                                   edges_from = f\"{current_art}.{current_cls}.{scl}\"\n",
        "                                   if not chk:\n",
        "                                     dieu4731.append(edges_from)\n",
        "                                   else:\n",
        "                                     dieu4732.append(edges_from)\n",
        "                                ck = False\n",
        "                  d473.append(dieu4731)\n",
        "                  d473.append(dieu4732)\n",
        "                  ck = False\n",
        "    return d473\n",
        "\n",
        "# Extract and process the document\n",
        "file_path = '/content/Dieu_47_khoan_3.docx'\n",
        "text_lines = extract_text_from_docx(file_path)\n",
        "d473 = process_exceptions(text_lines)"
      ],
      "metadata": {
        "collapsed": true,
        "id": "Z2Z1t0FCoP-N"
      },
      "execution_count": null,
      "outputs": []
    },
    {
      "cell_type": "code",
      "source": [
        "G.add_node(\"32.8.đ\", content=\"Đưa phương tiện không có chứng nhận đăng ký xe (hoặc bản sao chứng nhận đăng ký xe có chứng thực kèm theo bản gốc giấy biên nhận của tổ chức tín dụng, chi nhánh ngân hàng nước ngoài trong trường hợp tổ chức tín dụng, chi nhánh ngân hàng nước ngoài giữ bản gốc chứng nhận đăng ký xe) tham gia giao thông hoặc có nhưng đã hết hạn sử dụng, hết hiệu lực; đưa phương tiện có chứng nhận đăng ký xe tạm thời, phương tiện có phạm vi hoạt động hạn chế tham gia giao thông quá thời hạn, tuyến đường, phạm vi cho phép;\")"
      ],
      "metadata": {
        "id": "0FfURctiIq46"
      },
      "execution_count": null,
      "outputs": []
    },
    {
      "cell_type": "code",
      "source": [
        "G.nodes['32.8.d']['content'] = \"Không làm thủ tục thu hồi chứng nhận đăng ký xe, biển số xe theo quy định;\""
      ],
      "metadata": {
        "id": "BC1bhDHdI4Dx"
      },
      "execution_count": null,
      "outputs": []
    },
    {
      "cell_type": "code",
      "source": [
        "#for i in range(len(d473)//2):\n",
        "case = \"\"\n",
        "for i1 in d473[1]:\n",
        "    if G.has_node(i1):\n",
        "       case = case + \"Điểm\" + i1 + \": \" + G.nodes[i1]['content'] + \"\\n\"\n",
        "print(case)\n",
        "  #   for i2 in d473[0]:\n",
        "response = models.generate_content(\"\"\" Cho nội dung sau: \"\"\" + G.nodes[d473[0][0]]['content'] + \"\"\" Bạn hãy cho tôi biết, chọn ra và nêu rõ số hiệu của 1 điểm \\\n",
        "giống nhất với nội dung trên trong các điểm dưới đây \\n\"\"\" + case)\n",
        "print(response.text)"
      ],
      "metadata": {
        "colab": {
          "base_uri": "https://localhost:8080/",
          "height": 211
        },
        "id": "gH33tc783FT-",
        "outputId": "0b80131e-8dfc-45fd-b7ee-cc3a122247eb",
        "collapsed": true
      },
      "execution_count": null,
      "outputs": [
        {
          "output_type": "stream",
          "name": "stdout",
          "text": [
            "Điểm32.8.đ: Đưa phương tiện không có chứng nhận đăng ký xe (hoặc bản sao chứng nhận đăng ký xe có chứng thực kèm theo bản gốc giấy biên nhận của tổ chức tín dụng, chi nhánh ngân hàng nước ngoài trong trường hợp tổ chức tín dụng, chi nhánh ngân hàng nước ngoài giữ bản gốc chứng nhận đăng ký xe) tham gia giao thông hoặc có nhưng đã hết hạn sử dụng, hết hiệu lực; đưa phương tiện có chứng nhận đăng ký xe tạm thời, phương tiện có phạm vi hoạt động hạn chế tham gia giao thông quá thời hạn, tuyến đường, phạm vi cho phép;\n",
            "Điểm32.8.e: Đưa phương tiện có chứng nhận đăng ký xe (hoặc bản sao chứng nhận đăng ký xe có chứng thực kèm theo bản gốc giấy biên nhận của tổ chức tín dụng, chi nhánh ngân hàng nước ngoài trong trường hợp tổ chức tín dụng, chi nhánh ngân hàng nước ngoài giữ bản gốc chứng nhận đăng ký xe) nhưng không do cơ quan có thẩm quyền cấp hoặc bị tẩy xóa tham gia giao thông; đưa phương tiện có chứng nhận đăng ký xe (hoặc bản sao chứng nhận đăng ký xe có chứng thực kèm theo bản gốc giấy biên nhận của tổ chức tín dụng, chi nhánh ngân hàng nước ngoài trong trường hợp tổ chức tín dụng, chi nhánh ngân hàng nước ngoài giữ bản gốc chứng nhận đăng ký xe) nhưng không đúng với số khung, số động cơ (số máy) của xe tham gia giao thông; - Phạt tiền từ 4.000.000 đồng đến 6.000.000 đồng đối với cá nhân, từ 8.000.000 đến 12.000.000 đồng đối với tổ chức là chủ xe mô tô, xe gắn máy và các loại xe tương tự xe mô tô, các loại xe tương tự xe gắn máy\n",
            "Điểm32.8.h: Đưa phương tiện không gắn biển số (đối với loại xe có quy định phải gắn biển số) tham gia giao thông; đưa phương tiện gắn biển số không đúng với chứng nhận đăng ký xe hoặc gắn biển số không do cơ quan có thẩm quyền cấp tham gia giao thông. - Phạt tiền từ 4.000.000 đồng đến 6.000.000 đồng đối với cá nhân, từ 8.000.000 đến 12.000.000 đồng đối với tổ chức là chủ xe mô tô, xe gắn máy và các loại xe tương tự xe mô tô, các loại xe tương tự xe gắn máy\n",
            "Điểm32.12.a: Đưa phương tiện không có chứng nhận đăng ký xe (hoặc bản sao chứng nhận đăng ký xe có chứng thực kèm theo bản gốc giấy biên nhận của tổ chức tín dụng, chi nhánh ngân hàng nước ngoài trong trường hợp tổ chức tín dụng, chi nhánh ngân hàng nước ngoài giữ bản gốc chứng nhận đăng ký xe) tham gia giao thông hoặc có nhưng đã hết hạn sử dụng, hết hiệu lực; đưa phương tiện có chứng nhận đăng ký xe tạm thời, phương tiện có phạm vi hoạt động hạn chế tham gia giao thông quá thời hạn, tuyến đường, phạm vi cho phép; - Phạt tiền từ 16.000.000 đồng đến 18.000.000 đồng đối với cá nhân, từ 32.000.000 đồng đến 36.000.000 đồng đối với tổ chức là chủ xe ô tô, xe chở người bốn bánh có gắn động cơ, xe chở hàng bốn bánh có gắn động cơ, xe máy chuyên dùng và các loại xe tương tự xe ô tô, phương tiện giao thông thông minh\n",
            "Điểm32.12.b: Đưa phương tiện không gắn biển số (đối với loại xe có quy định phải gắn biển số) tham gia giao thông; - Phạt tiền từ 16.000.000 đồng đến 18.000.000 đồng đối với cá nhân, từ 32.000.000 đồng đến 36.000.000 đồng đối với tổ chức là chủ xe ô tô, xe chở người bốn bánh có gắn động cơ, xe chở hàng bốn bánh có gắn động cơ, xe máy chuyên dùng và các loại xe tương tự xe ô tô, phương tiện giao thông thông minh\n",
            "Điểm32.13.d: Đưa phương tiện gắn biển số không đúng với chứng nhận đăng ký xe hoặc gắn biển số không do cơ quan có thẩm quyền cấp (kể cả rơ moóc và sơ mi rơ moóc) tham gia giao thông; - Phạt tiền từ 20.000.000 đồng đến 26.000.000 đồng đối với cá nhân, từ 40.000.000 đồng đến 52.000.000 đồng đối với tổ chức là chủ xe ô tô, xe máy chuyên dùng và các loại xe tương tự xe ô tô\n",
            "\n",
            "Điểm giống nhất với nội dung bạn cung cấp là:\n",
            "\n",
            "*   **Điểm 32.8.a** và **Điểm 32.12.a**: Cả hai điểm này đều đề cập đến hành vi \"Đưa phương tiện không có chứng nhận đăng ký xe (hoặc bản sao chứng nhận đăng ký xe có chứng thực kèm theo bản gốc giấy biên nhận của tổ chức tín dụng, chi nhánh ngân hàng nước ngoài trong trường hợp tổ chức tín dụng, chi nhánh ngân hàng nước ngoài giữ bản gốc chứng nhận đăng ký xe) tham gia giao thông hoặc có nhưng đã hết hạn sử dụng, hết hiệu lực\". Đây chính xác là nội dung bạn đưa ra. Điểm khác biệt nhỏ là 32.8.a áp dụng cho xe mô tô, xe gắn máy và các loại xe tương tự, còn 32.12.a áp dụng cho xe ô tô, xe chở người bốn bánh có gắn động cơ, xe chở hàng bốn bánh có gắn động cơ, xe máy chuyên dùng và các loại xe tương tự xe ô tô, phương tiện giao thông thông minh.\n"
          ]
        }
      ]
    },
    {
      "cell_type": "code",
      "source": [
        "pattern = r'\\*\\*Điểm\\s*([0-9]+\\.[0-9]+\\.[a-zđ]+)\\*\\*'\n",
        "matcha = re.findall(pattern, response.text)\n",
        "print(\"Các chuỗi trích xuất được:\", matcha)"
      ],
      "metadata": {
        "colab": {
          "base_uri": "https://localhost:8080/"
        },
        "id": "KchJ3vS8xIq4",
        "outputId": "4e12b5bc-ab9e-456a-81d8-ad62f070f5cb"
      },
      "execution_count": null,
      "outputs": [
        {
          "output_type": "stream",
          "name": "stdout",
          "text": [
            "Các chuỗi trích xuất được: ['32.8.a', '32.12.a']\n"
          ]
        }
      ]
    },
    {
      "cell_type": "code",
      "source": [
        "if G.has_node(\"32.9.đ\"):\n",
        "   print(1)"
      ],
      "metadata": {
        "id": "Gg-8uNVA7s_p"
      },
      "execution_count": null,
      "outputs": []
    },
    {
      "cell_type": "code",
      "source": [
        "G.add_node(\"32.9.đ\", content = \"Đưa phương tiện có chứng nhận đăng ký xe (hoặc bản sao chứng nhận đăng ký xe có chứng thực kèm theo bản gốc giấy biên nhận của tổ chức tín dụng, chi nhánh ngân hàng nước ngoài trong trường hợp tổ chức tín dụng, chi nhánh ngân hàng nước ngoài giữ bản gốc chứng nhận đăng ký xe), giấy chứng nhận, tem kiểm định an toàn kỹ thuật và bảo vệ môi trường của xe nhưng không do cơ quan có thẩm quyền cấp hoặc bị tẩy xóa tham gia giao thông; đưa phương tiện có chứng nhận đăng ký xe (hoặc bản sao chứng nhận đăng ký xe có chứng thực kèm theo bản gốc giấy biên nhận của tổ chức tín dụng, chi nhánh ngân hàng nước ngoài trong trường hợp tổ chức tín dụng, chi nhánh ngân hàng nước ngoài giữ bản gốc chứng nhận đăng ký xe) nhưng không đúng với số khung, số động cơ (số máy) của xe (kể cả rơ moóc và sơ mi rơ moóc) tham gia giao thông - Phạt tiền từ 4.000.000 đồng đến 6.000.000 đồng đối với cá nhân, từ 8.000.000 đồng đến 12.000.000 đồng\")"
      ],
      "metadata": {
        "id": "BRW4exJM7zxK"
      },
      "execution_count": null,
      "outputs": []
    },
    {
      "cell_type": "code",
      "source": [
        "G.add_edge(\"32\", \"32.9.đ\")"
      ],
      "metadata": {
        "id": "hqFXyX7S8AzS"
      },
      "execution_count": null,
      "outputs": []
    },
    {
      "cell_type": "code",
      "source": [
        "matcha = []"
      ],
      "metadata": {
        "id": "GAiyE7LHI9Zq"
      },
      "execution_count": null,
      "outputs": []
    },
    {
      "cell_type": "code",
      "source": [
        "#for i in range(len(d473)//2):\n",
        "case = \"\"\n",
        "for i1 in d473[1]:\n",
        "    if G.has_node(i1):\n",
        "       case = case + \"Điểm\" + i1 + \": \" + G.nodes[i1]['content'] + \"\\n\"\n",
        "    print(case)\n",
        "for i2 in d473[0][:4]:\n",
        "    response = models.generate_content(\"\"\" Cho nội dung sau: \"\"\" + G.nodes[i2]['content'] + \"\"\" Bạn hãy cho tôi biết, chọn ra và nêu rõ số hiệu của 1 điểm \\\n",
        "    giống nhất với nội dung trên trong các điểm dưới đây \\n\"\"\" + case)\n",
        "    print(response.text)\n",
        "    pattern = re.compile(\n",
        "    r'\\*\\*(?:Điểm\\s*)?([0-9]+\\.[0-9]+\\.[a-zđ]):?\\*\\*',\n",
        "    re.IGNORECASE\n",
        "    )\n",
        "\n",
        "    match = re.findall(pattern, response.text)\n",
        "    matcha = matcha + match[:1]\n",
        "    print(\"Các chuỗi trích xuất được:\", matcha)"
      ],
      "metadata": {
        "colab": {
          "base_uri": "https://localhost:8080/",
          "height": 1000
        },
        "collapsed": true,
        "id": "xOeJ3SnqywfK",
        "outputId": "206414e2-6956-4717-c167-606aef46c2b7"
      },
      "execution_count": null,
      "outputs": [
        {
          "output_type": "stream",
          "name": "stdout",
          "text": [
            "Điểm32.8.đ: Đưa phương tiện không có chứng nhận đăng ký xe (hoặc bản sao chứng nhận đăng ký xe có chứng thực kèm theo bản gốc giấy biên nhận của tổ chức tín dụng, chi nhánh ngân hàng nước ngoài trong trường hợp tổ chức tín dụng, chi nhánh ngân hàng nước ngoài giữ bản gốc chứng nhận đăng ký xe) tham gia giao thông hoặc có nhưng đã hết hạn sử dụng, hết hiệu lực; đưa phương tiện có chứng nhận đăng ký xe tạm thời, phương tiện có phạm vi hoạt động hạn chế tham gia giao thông quá thời hạn, tuyến đường, phạm vi cho phép;\n",
            "\n",
            "Điểm32.8.đ: Đưa phương tiện không có chứng nhận đăng ký xe (hoặc bản sao chứng nhận đăng ký xe có chứng thực kèm theo bản gốc giấy biên nhận của tổ chức tín dụng, chi nhánh ngân hàng nước ngoài trong trường hợp tổ chức tín dụng, chi nhánh ngân hàng nước ngoài giữ bản gốc chứng nhận đăng ký xe) tham gia giao thông hoặc có nhưng đã hết hạn sử dụng, hết hiệu lực; đưa phương tiện có chứng nhận đăng ký xe tạm thời, phương tiện có phạm vi hoạt động hạn chế tham gia giao thông quá thời hạn, tuyến đường, phạm vi cho phép;\n",
            "Điểm32.8.e: Đưa phương tiện có chứng nhận đăng ký xe (hoặc bản sao chứng nhận đăng ký xe có chứng thực kèm theo bản gốc giấy biên nhận của tổ chức tín dụng, chi nhánh ngân hàng nước ngoài trong trường hợp tổ chức tín dụng, chi nhánh ngân hàng nước ngoài giữ bản gốc chứng nhận đăng ký xe) nhưng không do cơ quan có thẩm quyền cấp hoặc bị tẩy xóa tham gia giao thông; đưa phương tiện có chứng nhận đăng ký xe (hoặc bản sao chứng nhận đăng ký xe có chứng thực kèm theo bản gốc giấy biên nhận của tổ chức tín dụng, chi nhánh ngân hàng nước ngoài trong trường hợp tổ chức tín dụng, chi nhánh ngân hàng nước ngoài giữ bản gốc chứng nhận đăng ký xe) nhưng không đúng với số khung, số động cơ (số máy) của xe tham gia giao thông; - Phạt tiền từ 4.000.000 đồng đến 6.000.000 đồng đối với cá nhân, từ 8.000.000 đến 12.000.000 đồng đối với tổ chức là chủ xe mô tô, xe gắn máy và các loại xe tương tự xe mô tô, các loại xe tương tự xe gắn máy\n",
            "\n",
            "Điểm32.8.đ: Đưa phương tiện không có chứng nhận đăng ký xe (hoặc bản sao chứng nhận đăng ký xe có chứng thực kèm theo bản gốc giấy biên nhận của tổ chức tín dụng, chi nhánh ngân hàng nước ngoài trong trường hợp tổ chức tín dụng, chi nhánh ngân hàng nước ngoài giữ bản gốc chứng nhận đăng ký xe) tham gia giao thông hoặc có nhưng đã hết hạn sử dụng, hết hiệu lực; đưa phương tiện có chứng nhận đăng ký xe tạm thời, phương tiện có phạm vi hoạt động hạn chế tham gia giao thông quá thời hạn, tuyến đường, phạm vi cho phép;\n",
            "Điểm32.8.e: Đưa phương tiện có chứng nhận đăng ký xe (hoặc bản sao chứng nhận đăng ký xe có chứng thực kèm theo bản gốc giấy biên nhận của tổ chức tín dụng, chi nhánh ngân hàng nước ngoài trong trường hợp tổ chức tín dụng, chi nhánh ngân hàng nước ngoài giữ bản gốc chứng nhận đăng ký xe) nhưng không do cơ quan có thẩm quyền cấp hoặc bị tẩy xóa tham gia giao thông; đưa phương tiện có chứng nhận đăng ký xe (hoặc bản sao chứng nhận đăng ký xe có chứng thực kèm theo bản gốc giấy biên nhận của tổ chức tín dụng, chi nhánh ngân hàng nước ngoài trong trường hợp tổ chức tín dụng, chi nhánh ngân hàng nước ngoài giữ bản gốc chứng nhận đăng ký xe) nhưng không đúng với số khung, số động cơ (số máy) của xe tham gia giao thông; - Phạt tiền từ 4.000.000 đồng đến 6.000.000 đồng đối với cá nhân, từ 8.000.000 đến 12.000.000 đồng đối với tổ chức là chủ xe mô tô, xe gắn máy và các loại xe tương tự xe mô tô, các loại xe tương tự xe gắn máy\n",
            "Điểm32.8.h: Đưa phương tiện không gắn biển số (đối với loại xe có quy định phải gắn biển số) tham gia giao thông; đưa phương tiện gắn biển số không đúng với chứng nhận đăng ký xe hoặc gắn biển số không do cơ quan có thẩm quyền cấp tham gia giao thông. - Phạt tiền từ 4.000.000 đồng đến 6.000.000 đồng đối với cá nhân, từ 8.000.000 đến 12.000.000 đồng đối với tổ chức là chủ xe mô tô, xe gắn máy và các loại xe tương tự xe mô tô, các loại xe tương tự xe gắn máy\n",
            "\n",
            "Điểm32.8.đ: Đưa phương tiện không có chứng nhận đăng ký xe (hoặc bản sao chứng nhận đăng ký xe có chứng thực kèm theo bản gốc giấy biên nhận của tổ chức tín dụng, chi nhánh ngân hàng nước ngoài trong trường hợp tổ chức tín dụng, chi nhánh ngân hàng nước ngoài giữ bản gốc chứng nhận đăng ký xe) tham gia giao thông hoặc có nhưng đã hết hạn sử dụng, hết hiệu lực; đưa phương tiện có chứng nhận đăng ký xe tạm thời, phương tiện có phạm vi hoạt động hạn chế tham gia giao thông quá thời hạn, tuyến đường, phạm vi cho phép;\n",
            "Điểm32.8.e: Đưa phương tiện có chứng nhận đăng ký xe (hoặc bản sao chứng nhận đăng ký xe có chứng thực kèm theo bản gốc giấy biên nhận của tổ chức tín dụng, chi nhánh ngân hàng nước ngoài trong trường hợp tổ chức tín dụng, chi nhánh ngân hàng nước ngoài giữ bản gốc chứng nhận đăng ký xe) nhưng không do cơ quan có thẩm quyền cấp hoặc bị tẩy xóa tham gia giao thông; đưa phương tiện có chứng nhận đăng ký xe (hoặc bản sao chứng nhận đăng ký xe có chứng thực kèm theo bản gốc giấy biên nhận của tổ chức tín dụng, chi nhánh ngân hàng nước ngoài trong trường hợp tổ chức tín dụng, chi nhánh ngân hàng nước ngoài giữ bản gốc chứng nhận đăng ký xe) nhưng không đúng với số khung, số động cơ (số máy) của xe tham gia giao thông; - Phạt tiền từ 4.000.000 đồng đến 6.000.000 đồng đối với cá nhân, từ 8.000.000 đến 12.000.000 đồng đối với tổ chức là chủ xe mô tô, xe gắn máy và các loại xe tương tự xe mô tô, các loại xe tương tự xe gắn máy\n",
            "Điểm32.8.h: Đưa phương tiện không gắn biển số (đối với loại xe có quy định phải gắn biển số) tham gia giao thông; đưa phương tiện gắn biển số không đúng với chứng nhận đăng ký xe hoặc gắn biển số không do cơ quan có thẩm quyền cấp tham gia giao thông. - Phạt tiền từ 4.000.000 đồng đến 6.000.000 đồng đối với cá nhân, từ 8.000.000 đến 12.000.000 đồng đối với tổ chức là chủ xe mô tô, xe gắn máy và các loại xe tương tự xe mô tô, các loại xe tương tự xe gắn máy\n",
            "Điểm32.9.đ: Đưa phương tiện có chứng nhận đăng ký xe (hoặc bản sao chứng nhận đăng ký xe có chứng thực kèm theo bản gốc giấy biên nhận của tổ chức tín dụng, chi nhánh ngân hàng nước ngoài trong trường hợp tổ chức tín dụng, chi nhánh ngân hàng nước ngoài giữ bản gốc chứng nhận đăng ký xe), giấy chứng nhận, tem kiểm định an toàn kỹ thuật và bảo vệ môi trường của xe nhưng không do cơ quan có thẩm quyền cấp hoặc bị tẩy xóa tham gia giao thông; đưa phương tiện có chứng nhận đăng ký xe (hoặc bản sao chứng nhận đăng ký xe có chứng thực kèm theo bản gốc giấy biên nhận của tổ chức tín dụng, chi nhánh ngân hàng nước ngoài trong trường hợp tổ chức tín dụng, chi nhánh ngân hàng nước ngoài giữ bản gốc chứng nhận đăng ký xe) nhưng không đúng với số khung, số động cơ (số máy) của xe (kể cả rơ moóc và sơ mi rơ moóc) tham gia giao thông - Phạt tiền từ 4.000.000 đồng đến 6.000.000 đồng đối với cá nhân, từ 8.000.000 đồng đến 12.000.000 đồng\n",
            "\n",
            "Điểm32.8.đ: Đưa phương tiện không có chứng nhận đăng ký xe (hoặc bản sao chứng nhận đăng ký xe có chứng thực kèm theo bản gốc giấy biên nhận của tổ chức tín dụng, chi nhánh ngân hàng nước ngoài trong trường hợp tổ chức tín dụng, chi nhánh ngân hàng nước ngoài giữ bản gốc chứng nhận đăng ký xe) tham gia giao thông hoặc có nhưng đã hết hạn sử dụng, hết hiệu lực; đưa phương tiện có chứng nhận đăng ký xe tạm thời, phương tiện có phạm vi hoạt động hạn chế tham gia giao thông quá thời hạn, tuyến đường, phạm vi cho phép;\n",
            "Điểm32.8.e: Đưa phương tiện có chứng nhận đăng ký xe (hoặc bản sao chứng nhận đăng ký xe có chứng thực kèm theo bản gốc giấy biên nhận của tổ chức tín dụng, chi nhánh ngân hàng nước ngoài trong trường hợp tổ chức tín dụng, chi nhánh ngân hàng nước ngoài giữ bản gốc chứng nhận đăng ký xe) nhưng không do cơ quan có thẩm quyền cấp hoặc bị tẩy xóa tham gia giao thông; đưa phương tiện có chứng nhận đăng ký xe (hoặc bản sao chứng nhận đăng ký xe có chứng thực kèm theo bản gốc giấy biên nhận của tổ chức tín dụng, chi nhánh ngân hàng nước ngoài trong trường hợp tổ chức tín dụng, chi nhánh ngân hàng nước ngoài giữ bản gốc chứng nhận đăng ký xe) nhưng không đúng với số khung, số động cơ (số máy) của xe tham gia giao thông; - Phạt tiền từ 4.000.000 đồng đến 6.000.000 đồng đối với cá nhân, từ 8.000.000 đến 12.000.000 đồng đối với tổ chức là chủ xe mô tô, xe gắn máy và các loại xe tương tự xe mô tô, các loại xe tương tự xe gắn máy\n",
            "Điểm32.8.h: Đưa phương tiện không gắn biển số (đối với loại xe có quy định phải gắn biển số) tham gia giao thông; đưa phương tiện gắn biển số không đúng với chứng nhận đăng ký xe hoặc gắn biển số không do cơ quan có thẩm quyền cấp tham gia giao thông. - Phạt tiền từ 4.000.000 đồng đến 6.000.000 đồng đối với cá nhân, từ 8.000.000 đến 12.000.000 đồng đối với tổ chức là chủ xe mô tô, xe gắn máy và các loại xe tương tự xe mô tô, các loại xe tương tự xe gắn máy\n",
            "Điểm32.9.đ: Đưa phương tiện có chứng nhận đăng ký xe (hoặc bản sao chứng nhận đăng ký xe có chứng thực kèm theo bản gốc giấy biên nhận của tổ chức tín dụng, chi nhánh ngân hàng nước ngoài trong trường hợp tổ chức tín dụng, chi nhánh ngân hàng nước ngoài giữ bản gốc chứng nhận đăng ký xe), giấy chứng nhận, tem kiểm định an toàn kỹ thuật và bảo vệ môi trường của xe nhưng không do cơ quan có thẩm quyền cấp hoặc bị tẩy xóa tham gia giao thông; đưa phương tiện có chứng nhận đăng ký xe (hoặc bản sao chứng nhận đăng ký xe có chứng thực kèm theo bản gốc giấy biên nhận của tổ chức tín dụng, chi nhánh ngân hàng nước ngoài trong trường hợp tổ chức tín dụng, chi nhánh ngân hàng nước ngoài giữ bản gốc chứng nhận đăng ký xe) nhưng không đúng với số khung, số động cơ (số máy) của xe (kể cả rơ moóc và sơ mi rơ moóc) tham gia giao thông - Phạt tiền từ 4.000.000 đồng đến 6.000.000 đồng đối với cá nhân, từ 8.000.000 đồng đến 12.000.000 đồng\n",
            "Điểm32.12.a: Đưa phương tiện không có chứng nhận đăng ký xe (hoặc bản sao chứng nhận đăng ký xe có chứng thực kèm theo bản gốc giấy biên nhận của tổ chức tín dụng, chi nhánh ngân hàng nước ngoài trong trường hợp tổ chức tín dụng, chi nhánh ngân hàng nước ngoài giữ bản gốc chứng nhận đăng ký xe) tham gia giao thông hoặc có nhưng đã hết hạn sử dụng, hết hiệu lực; đưa phương tiện có chứng nhận đăng ký xe tạm thời, phương tiện có phạm vi hoạt động hạn chế tham gia giao thông quá thời hạn, tuyến đường, phạm vi cho phép; - Phạt tiền từ 16.000.000 đồng đến 18.000.000 đồng đối với cá nhân, từ 32.000.000 đồng đến 36.000.000 đồng đối với tổ chức là chủ xe ô tô, xe chở người bốn bánh có gắn động cơ, xe chở hàng bốn bánh có gắn động cơ, xe máy chuyên dùng và các loại xe tương tự xe ô tô, phương tiện giao thông thông minh\n",
            "\n",
            "Điểm32.8.đ: Đưa phương tiện không có chứng nhận đăng ký xe (hoặc bản sao chứng nhận đăng ký xe có chứng thực kèm theo bản gốc giấy biên nhận của tổ chức tín dụng, chi nhánh ngân hàng nước ngoài trong trường hợp tổ chức tín dụng, chi nhánh ngân hàng nước ngoài giữ bản gốc chứng nhận đăng ký xe) tham gia giao thông hoặc có nhưng đã hết hạn sử dụng, hết hiệu lực; đưa phương tiện có chứng nhận đăng ký xe tạm thời, phương tiện có phạm vi hoạt động hạn chế tham gia giao thông quá thời hạn, tuyến đường, phạm vi cho phép;\n",
            "Điểm32.8.e: Đưa phương tiện có chứng nhận đăng ký xe (hoặc bản sao chứng nhận đăng ký xe có chứng thực kèm theo bản gốc giấy biên nhận của tổ chức tín dụng, chi nhánh ngân hàng nước ngoài trong trường hợp tổ chức tín dụng, chi nhánh ngân hàng nước ngoài giữ bản gốc chứng nhận đăng ký xe) nhưng không do cơ quan có thẩm quyền cấp hoặc bị tẩy xóa tham gia giao thông; đưa phương tiện có chứng nhận đăng ký xe (hoặc bản sao chứng nhận đăng ký xe có chứng thực kèm theo bản gốc giấy biên nhận của tổ chức tín dụng, chi nhánh ngân hàng nước ngoài trong trường hợp tổ chức tín dụng, chi nhánh ngân hàng nước ngoài giữ bản gốc chứng nhận đăng ký xe) nhưng không đúng với số khung, số động cơ (số máy) của xe tham gia giao thông; - Phạt tiền từ 4.000.000 đồng đến 6.000.000 đồng đối với cá nhân, từ 8.000.000 đến 12.000.000 đồng đối với tổ chức là chủ xe mô tô, xe gắn máy và các loại xe tương tự xe mô tô, các loại xe tương tự xe gắn máy\n",
            "Điểm32.8.h: Đưa phương tiện không gắn biển số (đối với loại xe có quy định phải gắn biển số) tham gia giao thông; đưa phương tiện gắn biển số không đúng với chứng nhận đăng ký xe hoặc gắn biển số không do cơ quan có thẩm quyền cấp tham gia giao thông. - Phạt tiền từ 4.000.000 đồng đến 6.000.000 đồng đối với cá nhân, từ 8.000.000 đến 12.000.000 đồng đối với tổ chức là chủ xe mô tô, xe gắn máy và các loại xe tương tự xe mô tô, các loại xe tương tự xe gắn máy\n",
            "Điểm32.9.đ: Đưa phương tiện có chứng nhận đăng ký xe (hoặc bản sao chứng nhận đăng ký xe có chứng thực kèm theo bản gốc giấy biên nhận của tổ chức tín dụng, chi nhánh ngân hàng nước ngoài trong trường hợp tổ chức tín dụng, chi nhánh ngân hàng nước ngoài giữ bản gốc chứng nhận đăng ký xe), giấy chứng nhận, tem kiểm định an toàn kỹ thuật và bảo vệ môi trường của xe nhưng không do cơ quan có thẩm quyền cấp hoặc bị tẩy xóa tham gia giao thông; đưa phương tiện có chứng nhận đăng ký xe (hoặc bản sao chứng nhận đăng ký xe có chứng thực kèm theo bản gốc giấy biên nhận của tổ chức tín dụng, chi nhánh ngân hàng nước ngoài trong trường hợp tổ chức tín dụng, chi nhánh ngân hàng nước ngoài giữ bản gốc chứng nhận đăng ký xe) nhưng không đúng với số khung, số động cơ (số máy) của xe (kể cả rơ moóc và sơ mi rơ moóc) tham gia giao thông - Phạt tiền từ 4.000.000 đồng đến 6.000.000 đồng đối với cá nhân, từ 8.000.000 đồng đến 12.000.000 đồng\n",
            "Điểm32.12.a: Đưa phương tiện không có chứng nhận đăng ký xe (hoặc bản sao chứng nhận đăng ký xe có chứng thực kèm theo bản gốc giấy biên nhận của tổ chức tín dụng, chi nhánh ngân hàng nước ngoài trong trường hợp tổ chức tín dụng, chi nhánh ngân hàng nước ngoài giữ bản gốc chứng nhận đăng ký xe) tham gia giao thông hoặc có nhưng đã hết hạn sử dụng, hết hiệu lực; đưa phương tiện có chứng nhận đăng ký xe tạm thời, phương tiện có phạm vi hoạt động hạn chế tham gia giao thông quá thời hạn, tuyến đường, phạm vi cho phép; - Phạt tiền từ 16.000.000 đồng đến 18.000.000 đồng đối với cá nhân, từ 32.000.000 đồng đến 36.000.000 đồng đối với tổ chức là chủ xe ô tô, xe chở người bốn bánh có gắn động cơ, xe chở hàng bốn bánh có gắn động cơ, xe máy chuyên dùng và các loại xe tương tự xe ô tô, phương tiện giao thông thông minh\n",
            "Điểm32.12.b: Đưa phương tiện không gắn biển số (đối với loại xe có quy định phải gắn biển số) tham gia giao thông; - Phạt tiền từ 16.000.000 đồng đến 18.000.000 đồng đối với cá nhân, từ 32.000.000 đồng đến 36.000.000 đồng đối với tổ chức là chủ xe ô tô, xe chở người bốn bánh có gắn động cơ, xe chở hàng bốn bánh có gắn động cơ, xe máy chuyên dùng và các loại xe tương tự xe ô tô, phương tiện giao thông thông minh\n",
            "\n",
            "Điểm32.8.đ: Đưa phương tiện không có chứng nhận đăng ký xe (hoặc bản sao chứng nhận đăng ký xe có chứng thực kèm theo bản gốc giấy biên nhận của tổ chức tín dụng, chi nhánh ngân hàng nước ngoài trong trường hợp tổ chức tín dụng, chi nhánh ngân hàng nước ngoài giữ bản gốc chứng nhận đăng ký xe) tham gia giao thông hoặc có nhưng đã hết hạn sử dụng, hết hiệu lực; đưa phương tiện có chứng nhận đăng ký xe tạm thời, phương tiện có phạm vi hoạt động hạn chế tham gia giao thông quá thời hạn, tuyến đường, phạm vi cho phép;\n",
            "Điểm32.8.e: Đưa phương tiện có chứng nhận đăng ký xe (hoặc bản sao chứng nhận đăng ký xe có chứng thực kèm theo bản gốc giấy biên nhận của tổ chức tín dụng, chi nhánh ngân hàng nước ngoài trong trường hợp tổ chức tín dụng, chi nhánh ngân hàng nước ngoài giữ bản gốc chứng nhận đăng ký xe) nhưng không do cơ quan có thẩm quyền cấp hoặc bị tẩy xóa tham gia giao thông; đưa phương tiện có chứng nhận đăng ký xe (hoặc bản sao chứng nhận đăng ký xe có chứng thực kèm theo bản gốc giấy biên nhận của tổ chức tín dụng, chi nhánh ngân hàng nước ngoài trong trường hợp tổ chức tín dụng, chi nhánh ngân hàng nước ngoài giữ bản gốc chứng nhận đăng ký xe) nhưng không đúng với số khung, số động cơ (số máy) của xe tham gia giao thông; - Phạt tiền từ 4.000.000 đồng đến 6.000.000 đồng đối với cá nhân, từ 8.000.000 đến 12.000.000 đồng đối với tổ chức là chủ xe mô tô, xe gắn máy và các loại xe tương tự xe mô tô, các loại xe tương tự xe gắn máy\n",
            "Điểm32.8.h: Đưa phương tiện không gắn biển số (đối với loại xe có quy định phải gắn biển số) tham gia giao thông; đưa phương tiện gắn biển số không đúng với chứng nhận đăng ký xe hoặc gắn biển số không do cơ quan có thẩm quyền cấp tham gia giao thông. - Phạt tiền từ 4.000.000 đồng đến 6.000.000 đồng đối với cá nhân, từ 8.000.000 đến 12.000.000 đồng đối với tổ chức là chủ xe mô tô, xe gắn máy và các loại xe tương tự xe mô tô, các loại xe tương tự xe gắn máy\n",
            "Điểm32.9.đ: Đưa phương tiện có chứng nhận đăng ký xe (hoặc bản sao chứng nhận đăng ký xe có chứng thực kèm theo bản gốc giấy biên nhận của tổ chức tín dụng, chi nhánh ngân hàng nước ngoài trong trường hợp tổ chức tín dụng, chi nhánh ngân hàng nước ngoài giữ bản gốc chứng nhận đăng ký xe), giấy chứng nhận, tem kiểm định an toàn kỹ thuật và bảo vệ môi trường của xe nhưng không do cơ quan có thẩm quyền cấp hoặc bị tẩy xóa tham gia giao thông; đưa phương tiện có chứng nhận đăng ký xe (hoặc bản sao chứng nhận đăng ký xe có chứng thực kèm theo bản gốc giấy biên nhận của tổ chức tín dụng, chi nhánh ngân hàng nước ngoài trong trường hợp tổ chức tín dụng, chi nhánh ngân hàng nước ngoài giữ bản gốc chứng nhận đăng ký xe) nhưng không đúng với số khung, số động cơ (số máy) của xe (kể cả rơ moóc và sơ mi rơ moóc) tham gia giao thông - Phạt tiền từ 4.000.000 đồng đến 6.000.000 đồng đối với cá nhân, từ 8.000.000 đồng đến 12.000.000 đồng\n",
            "Điểm32.12.a: Đưa phương tiện không có chứng nhận đăng ký xe (hoặc bản sao chứng nhận đăng ký xe có chứng thực kèm theo bản gốc giấy biên nhận của tổ chức tín dụng, chi nhánh ngân hàng nước ngoài trong trường hợp tổ chức tín dụng, chi nhánh ngân hàng nước ngoài giữ bản gốc chứng nhận đăng ký xe) tham gia giao thông hoặc có nhưng đã hết hạn sử dụng, hết hiệu lực; đưa phương tiện có chứng nhận đăng ký xe tạm thời, phương tiện có phạm vi hoạt động hạn chế tham gia giao thông quá thời hạn, tuyến đường, phạm vi cho phép; - Phạt tiền từ 16.000.000 đồng đến 18.000.000 đồng đối với cá nhân, từ 32.000.000 đồng đến 36.000.000 đồng đối với tổ chức là chủ xe ô tô, xe chở người bốn bánh có gắn động cơ, xe chở hàng bốn bánh có gắn động cơ, xe máy chuyên dùng và các loại xe tương tự xe ô tô, phương tiện giao thông thông minh\n",
            "Điểm32.12.b: Đưa phương tiện không gắn biển số (đối với loại xe có quy định phải gắn biển số) tham gia giao thông; - Phạt tiền từ 16.000.000 đồng đến 18.000.000 đồng đối với cá nhân, từ 32.000.000 đồng đến 36.000.000 đồng đối với tổ chức là chủ xe ô tô, xe chở người bốn bánh có gắn động cơ, xe chở hàng bốn bánh có gắn động cơ, xe máy chuyên dùng và các loại xe tương tự xe ô tô, phương tiện giao thông thông minh\n",
            "Điểm32.13.d: Đưa phương tiện gắn biển số không đúng với chứng nhận đăng ký xe hoặc gắn biển số không do cơ quan có thẩm quyền cấp (kể cả rơ moóc và sơ mi rơ moóc) tham gia giao thông; - Phạt tiền từ 20.000.000 đồng đến 26.000.000 đồng đối với cá nhân, từ 40.000.000 đồng đến 52.000.000 đồng đối với tổ chức là chủ xe ô tô, xe máy chuyên dùng và các loại xe tương tự xe ô tô\n",
            "\n"
          ]
        },
        {
          "output_type": "error",
          "ename": "ReadTimeout",
          "evalue": "HTTPConnectionPool(host='localhost', port=46271): Read timed out. (read timeout=600.0)",
          "traceback": [
            "\u001b[0;31m---------------------------------------------------------------------------\u001b[0m",
            "\u001b[0;31mReadTimeout\u001b[0m                               Traceback (most recent call last)",
            "\u001b[0;32m<ipython-input-121-5018dbcc58db>\u001b[0m in \u001b[0;36m<cell line: 0>\u001b[0;34m()\u001b[0m\n\u001b[1;32m      6\u001b[0m     \u001b[0mprint\u001b[0m\u001b[0;34m(\u001b[0m\u001b[0mcase\u001b[0m\u001b[0;34m)\u001b[0m\u001b[0;34m\u001b[0m\u001b[0;34m\u001b[0m\u001b[0m\n\u001b[1;32m      7\u001b[0m \u001b[0;32mfor\u001b[0m \u001b[0mi2\u001b[0m \u001b[0;32min\u001b[0m \u001b[0md473\u001b[0m\u001b[0;34m[\u001b[0m\u001b[0;36m0\u001b[0m\u001b[0;34m]\u001b[0m\u001b[0;34m[\u001b[0m\u001b[0;34m:\u001b[0m\u001b[0;36m4\u001b[0m\u001b[0;34m]\u001b[0m\u001b[0;34m:\u001b[0m\u001b[0;34m\u001b[0m\u001b[0;34m\u001b[0m\u001b[0m\n\u001b[0;32m----> 8\u001b[0;31m     response = models.generate_content(\"\"\" Cho nội dung sau: \"\"\" + G.nodes[i2]['content'] + \"\"\" Bạn hãy cho tôi biết, chọn ra và nêu rõ số hiệu của 1 điểm \\\n\u001b[0m\u001b[1;32m      9\u001b[0m     giống nhất với nội dung trên trong các điểm dưới đây \\n\"\"\" + case)\n\u001b[1;32m     10\u001b[0m     \u001b[0mprint\u001b[0m\u001b[0;34m(\u001b[0m\u001b[0mresponse\u001b[0m\u001b[0;34m.\u001b[0m\u001b[0mtext\u001b[0m\u001b[0;34m)\u001b[0m\u001b[0;34m\u001b[0m\u001b[0;34m\u001b[0m\u001b[0m\n",
            "\u001b[0;32m/usr/local/lib/python3.11/dist-packages/google/generativeai/generative_models.py\u001b[0m in \u001b[0;36mgenerate_content\u001b[0;34m(self, contents, generation_config, safety_settings, stream, tools, tool_config, request_options)\u001b[0m\n\u001b[1;32m    329\u001b[0m                 \u001b[0;32mreturn\u001b[0m \u001b[0mgeneration_types\u001b[0m\u001b[0;34m.\u001b[0m\u001b[0mGenerateContentResponse\u001b[0m\u001b[0;34m.\u001b[0m\u001b[0mfrom_iterator\u001b[0m\u001b[0;34m(\u001b[0m\u001b[0miterator\u001b[0m\u001b[0;34m)\u001b[0m\u001b[0;34m\u001b[0m\u001b[0;34m\u001b[0m\u001b[0m\n\u001b[1;32m    330\u001b[0m             \u001b[0;32melse\u001b[0m\u001b[0;34m:\u001b[0m\u001b[0;34m\u001b[0m\u001b[0;34m\u001b[0m\u001b[0m\n\u001b[0;32m--> 331\u001b[0;31m                 response = self._client.generate_content(\n\u001b[0m\u001b[1;32m    332\u001b[0m                     \u001b[0mrequest\u001b[0m\u001b[0;34m,\u001b[0m\u001b[0;34m\u001b[0m\u001b[0;34m\u001b[0m\u001b[0m\n\u001b[1;32m    333\u001b[0m                     \u001b[0;34m**\u001b[0m\u001b[0mrequest_options\u001b[0m\u001b[0;34m,\u001b[0m\u001b[0;34m\u001b[0m\u001b[0;34m\u001b[0m\u001b[0m\n",
            "\u001b[0;32m/usr/local/lib/python3.11/dist-packages/google/ai/generativelanguage_v1beta/services/generative_service/client.py\u001b[0m in \u001b[0;36mgenerate_content\u001b[0;34m(self, request, model, contents, retry, timeout, metadata)\u001b[0m\n\u001b[1;32m    833\u001b[0m \u001b[0;34m\u001b[0m\u001b[0m\n\u001b[1;32m    834\u001b[0m         \u001b[0;31m# Send the request.\u001b[0m\u001b[0;34m\u001b[0m\u001b[0;34m\u001b[0m\u001b[0m\n\u001b[0;32m--> 835\u001b[0;31m         response = rpc(\n\u001b[0m\u001b[1;32m    836\u001b[0m             \u001b[0mrequest\u001b[0m\u001b[0;34m,\u001b[0m\u001b[0;34m\u001b[0m\u001b[0;34m\u001b[0m\u001b[0m\n\u001b[1;32m    837\u001b[0m             \u001b[0mretry\u001b[0m\u001b[0;34m=\u001b[0m\u001b[0mretry\u001b[0m\u001b[0;34m,\u001b[0m\u001b[0;34m\u001b[0m\u001b[0;34m\u001b[0m\u001b[0m\n",
            "\u001b[0;32m/usr/local/lib/python3.11/dist-packages/google/api_core/gapic_v1/method.py\u001b[0m in \u001b[0;36m__call__\u001b[0;34m(self, timeout, retry, compression, *args, **kwargs)\u001b[0m\n\u001b[1;32m    129\u001b[0m             \u001b[0mkwargs\u001b[0m\u001b[0;34m[\u001b[0m\u001b[0;34m\"compression\"\u001b[0m\u001b[0;34m]\u001b[0m \u001b[0;34m=\u001b[0m \u001b[0mcompression\u001b[0m\u001b[0;34m\u001b[0m\u001b[0;34m\u001b[0m\u001b[0m\n\u001b[1;32m    130\u001b[0m \u001b[0;34m\u001b[0m\u001b[0m\n\u001b[0;32m--> 131\u001b[0;31m         \u001b[0;32mreturn\u001b[0m \u001b[0mwrapped_func\u001b[0m\u001b[0;34m(\u001b[0m\u001b[0;34m*\u001b[0m\u001b[0margs\u001b[0m\u001b[0;34m,\u001b[0m \u001b[0;34m**\u001b[0m\u001b[0mkwargs\u001b[0m\u001b[0;34m)\u001b[0m\u001b[0;34m\u001b[0m\u001b[0;34m\u001b[0m\u001b[0m\n\u001b[0m\u001b[1;32m    132\u001b[0m \u001b[0;34m\u001b[0m\u001b[0m\n\u001b[1;32m    133\u001b[0m \u001b[0;34m\u001b[0m\u001b[0m\n",
            "\u001b[0;32m/usr/local/lib/python3.11/dist-packages/google/api_core/retry/retry_unary.py\u001b[0m in \u001b[0;36mretry_wrapped_func\u001b[0;34m(*args, **kwargs)\u001b[0m\n\u001b[1;32m    291\u001b[0m                 \u001b[0mself\u001b[0m\u001b[0;34m.\u001b[0m\u001b[0m_initial\u001b[0m\u001b[0;34m,\u001b[0m \u001b[0mself\u001b[0m\u001b[0;34m.\u001b[0m\u001b[0m_maximum\u001b[0m\u001b[0;34m,\u001b[0m \u001b[0mmultiplier\u001b[0m\u001b[0;34m=\u001b[0m\u001b[0mself\u001b[0m\u001b[0;34m.\u001b[0m\u001b[0m_multiplier\u001b[0m\u001b[0;34m\u001b[0m\u001b[0;34m\u001b[0m\u001b[0m\n\u001b[1;32m    292\u001b[0m             )\n\u001b[0;32m--> 293\u001b[0;31m             return retry_target(\n\u001b[0m\u001b[1;32m    294\u001b[0m                 \u001b[0mtarget\u001b[0m\u001b[0;34m,\u001b[0m\u001b[0;34m\u001b[0m\u001b[0;34m\u001b[0m\u001b[0m\n\u001b[1;32m    295\u001b[0m                 \u001b[0mself\u001b[0m\u001b[0;34m.\u001b[0m\u001b[0m_predicate\u001b[0m\u001b[0;34m,\u001b[0m\u001b[0;34m\u001b[0m\u001b[0;34m\u001b[0m\u001b[0m\n",
            "\u001b[0;32m/usr/local/lib/python3.11/dist-packages/google/api_core/retry/retry_unary.py\u001b[0m in \u001b[0;36mretry_target\u001b[0;34m(target, predicate, sleep_generator, timeout, on_error, exception_factory, **kwargs)\u001b[0m\n\u001b[1;32m    151\u001b[0m         \u001b[0;32mexcept\u001b[0m \u001b[0mException\u001b[0m \u001b[0;32mas\u001b[0m \u001b[0mexc\u001b[0m\u001b[0;34m:\u001b[0m\u001b[0;34m\u001b[0m\u001b[0;34m\u001b[0m\u001b[0m\n\u001b[1;32m    152\u001b[0m             \u001b[0;31m# defer to shared logic for handling errors\u001b[0m\u001b[0;34m\u001b[0m\u001b[0;34m\u001b[0m\u001b[0m\n\u001b[0;32m--> 153\u001b[0;31m             _retry_error_helper(\n\u001b[0m\u001b[1;32m    154\u001b[0m                 \u001b[0mexc\u001b[0m\u001b[0;34m,\u001b[0m\u001b[0;34m\u001b[0m\u001b[0;34m\u001b[0m\u001b[0m\n\u001b[1;32m    155\u001b[0m                 \u001b[0mdeadline\u001b[0m\u001b[0;34m,\u001b[0m\u001b[0;34m\u001b[0m\u001b[0;34m\u001b[0m\u001b[0m\n",
            "\u001b[0;32m/usr/local/lib/python3.11/dist-packages/google/api_core/retry/retry_base.py\u001b[0m in \u001b[0;36m_retry_error_helper\u001b[0;34m(exc, deadline, next_sleep, error_list, predicate_fn, on_error_fn, exc_factory_fn, original_timeout)\u001b[0m\n\u001b[1;32m    210\u001b[0m             \u001b[0moriginal_timeout\u001b[0m\u001b[0;34m,\u001b[0m\u001b[0;34m\u001b[0m\u001b[0;34m\u001b[0m\u001b[0m\n\u001b[1;32m    211\u001b[0m         )\n\u001b[0;32m--> 212\u001b[0;31m         \u001b[0;32mraise\u001b[0m \u001b[0mfinal_exc\u001b[0m \u001b[0;32mfrom\u001b[0m \u001b[0msource_exc\u001b[0m\u001b[0;34m\u001b[0m\u001b[0;34m\u001b[0m\u001b[0m\n\u001b[0m\u001b[1;32m    213\u001b[0m     \u001b[0;32mif\u001b[0m \u001b[0mon_error_fn\u001b[0m \u001b[0;32mis\u001b[0m \u001b[0;32mnot\u001b[0m \u001b[0;32mNone\u001b[0m\u001b[0;34m:\u001b[0m\u001b[0;34m\u001b[0m\u001b[0;34m\u001b[0m\u001b[0m\n\u001b[1;32m    214\u001b[0m         \u001b[0mon_error_fn\u001b[0m\u001b[0;34m(\u001b[0m\u001b[0mexc\u001b[0m\u001b[0;34m)\u001b[0m\u001b[0;34m\u001b[0m\u001b[0;34m\u001b[0m\u001b[0m\n",
            "\u001b[0;32m/usr/local/lib/python3.11/dist-packages/google/api_core/retry/retry_unary.py\u001b[0m in \u001b[0;36mretry_target\u001b[0;34m(target, predicate, sleep_generator, timeout, on_error, exception_factory, **kwargs)\u001b[0m\n\u001b[1;32m    142\u001b[0m     \u001b[0;32mfor\u001b[0m \u001b[0msleep\u001b[0m \u001b[0;32min\u001b[0m \u001b[0msleep_generator\u001b[0m\u001b[0;34m:\u001b[0m\u001b[0;34m\u001b[0m\u001b[0;34m\u001b[0m\u001b[0m\n\u001b[1;32m    143\u001b[0m         \u001b[0;32mtry\u001b[0m\u001b[0;34m:\u001b[0m\u001b[0;34m\u001b[0m\u001b[0;34m\u001b[0m\u001b[0m\n\u001b[0;32m--> 144\u001b[0;31m             \u001b[0mresult\u001b[0m \u001b[0;34m=\u001b[0m \u001b[0mtarget\u001b[0m\u001b[0;34m(\u001b[0m\u001b[0;34m)\u001b[0m\u001b[0;34m\u001b[0m\u001b[0;34m\u001b[0m\u001b[0m\n\u001b[0m\u001b[1;32m    145\u001b[0m             \u001b[0;32mif\u001b[0m \u001b[0minspect\u001b[0m\u001b[0;34m.\u001b[0m\u001b[0misawaitable\u001b[0m\u001b[0;34m(\u001b[0m\u001b[0mresult\u001b[0m\u001b[0;34m)\u001b[0m\u001b[0;34m:\u001b[0m\u001b[0;34m\u001b[0m\u001b[0;34m\u001b[0m\u001b[0m\n\u001b[1;32m    146\u001b[0m                 \u001b[0mwarnings\u001b[0m\u001b[0;34m.\u001b[0m\u001b[0mwarn\u001b[0m\u001b[0;34m(\u001b[0m\u001b[0m_ASYNC_RETRY_WARNING\u001b[0m\u001b[0;34m)\u001b[0m\u001b[0;34m\u001b[0m\u001b[0;34m\u001b[0m\u001b[0m\n",
            "\u001b[0;32m/usr/local/lib/python3.11/dist-packages/google/api_core/timeout.py\u001b[0m in \u001b[0;36mfunc_with_timeout\u001b[0;34m(*args, **kwargs)\u001b[0m\n\u001b[1;32m    128\u001b[0m                 \u001b[0mkwargs\u001b[0m\u001b[0;34m[\u001b[0m\u001b[0;34m\"timeout\"\u001b[0m\u001b[0;34m]\u001b[0m \u001b[0;34m=\u001b[0m \u001b[0mremaining_timeout\u001b[0m\u001b[0;34m\u001b[0m\u001b[0;34m\u001b[0m\u001b[0m\n\u001b[1;32m    129\u001b[0m \u001b[0;34m\u001b[0m\u001b[0m\n\u001b[0;32m--> 130\u001b[0;31m             \u001b[0;32mreturn\u001b[0m \u001b[0mfunc\u001b[0m\u001b[0;34m(\u001b[0m\u001b[0;34m*\u001b[0m\u001b[0margs\u001b[0m\u001b[0;34m,\u001b[0m \u001b[0;34m**\u001b[0m\u001b[0mkwargs\u001b[0m\u001b[0;34m)\u001b[0m\u001b[0;34m\u001b[0m\u001b[0;34m\u001b[0m\u001b[0m\n\u001b[0m\u001b[1;32m    131\u001b[0m \u001b[0;34m\u001b[0m\u001b[0m\n\u001b[1;32m    132\u001b[0m         \u001b[0;32mreturn\u001b[0m \u001b[0mfunc_with_timeout\u001b[0m\u001b[0;34m\u001b[0m\u001b[0;34m\u001b[0m\u001b[0m\n",
            "\u001b[0;32m/usr/local/lib/python3.11/dist-packages/google/api_core/grpc_helpers.py\u001b[0m in \u001b[0;36merror_remapped_callable\u001b[0;34m(*args, **kwargs)\u001b[0m\n\u001b[1;32m     74\u001b[0m     \u001b[0;32mdef\u001b[0m \u001b[0merror_remapped_callable\u001b[0m\u001b[0;34m(\u001b[0m\u001b[0;34m*\u001b[0m\u001b[0margs\u001b[0m\u001b[0;34m,\u001b[0m \u001b[0;34m**\u001b[0m\u001b[0mkwargs\u001b[0m\u001b[0;34m)\u001b[0m\u001b[0;34m:\u001b[0m\u001b[0;34m\u001b[0m\u001b[0;34m\u001b[0m\u001b[0m\n\u001b[1;32m     75\u001b[0m         \u001b[0;32mtry\u001b[0m\u001b[0;34m:\u001b[0m\u001b[0;34m\u001b[0m\u001b[0;34m\u001b[0m\u001b[0m\n\u001b[0;32m---> 76\u001b[0;31m             \u001b[0;32mreturn\u001b[0m \u001b[0mcallable_\u001b[0m\u001b[0;34m(\u001b[0m\u001b[0;34m*\u001b[0m\u001b[0margs\u001b[0m\u001b[0;34m,\u001b[0m \u001b[0;34m**\u001b[0m\u001b[0mkwargs\u001b[0m\u001b[0;34m)\u001b[0m\u001b[0;34m\u001b[0m\u001b[0;34m\u001b[0m\u001b[0m\n\u001b[0m\u001b[1;32m     77\u001b[0m         \u001b[0;32mexcept\u001b[0m \u001b[0mgrpc\u001b[0m\u001b[0;34m.\u001b[0m\u001b[0mRpcError\u001b[0m \u001b[0;32mas\u001b[0m \u001b[0mexc\u001b[0m\u001b[0;34m:\u001b[0m\u001b[0;34m\u001b[0m\u001b[0;34m\u001b[0m\u001b[0m\n\u001b[1;32m     78\u001b[0m             \u001b[0;32mraise\u001b[0m \u001b[0mexceptions\u001b[0m\u001b[0;34m.\u001b[0m\u001b[0mfrom_grpc_error\u001b[0m\u001b[0;34m(\u001b[0m\u001b[0mexc\u001b[0m\u001b[0;34m)\u001b[0m \u001b[0;32mfrom\u001b[0m \u001b[0mexc\u001b[0m\u001b[0;34m\u001b[0m\u001b[0;34m\u001b[0m\u001b[0m\n",
            "\u001b[0;32m/usr/local/lib/python3.11/dist-packages/google/ai/generativelanguage_v1beta/services/generative_service/transports/rest.py\u001b[0m in \u001b[0;36m__call__\u001b[0;34m(self, request, retry, timeout, metadata)\u001b[0m\n\u001b[1;32m   1146\u001b[0m \u001b[0;34m\u001b[0m\u001b[0m\n\u001b[1;32m   1147\u001b[0m             \u001b[0;31m# Send the request\u001b[0m\u001b[0;34m\u001b[0m\u001b[0;34m\u001b[0m\u001b[0m\n\u001b[0;32m-> 1148\u001b[0;31m             response = GenerativeServiceRestTransport._GenerateContent._get_response(\n\u001b[0m\u001b[1;32m   1149\u001b[0m                 \u001b[0mself\u001b[0m\u001b[0;34m.\u001b[0m\u001b[0m_host\u001b[0m\u001b[0;34m,\u001b[0m\u001b[0;34m\u001b[0m\u001b[0;34m\u001b[0m\u001b[0m\n\u001b[1;32m   1150\u001b[0m                 \u001b[0mmetadata\u001b[0m\u001b[0;34m,\u001b[0m\u001b[0;34m\u001b[0m\u001b[0;34m\u001b[0m\u001b[0m\n",
            "\u001b[0;32m/usr/local/lib/python3.11/dist-packages/google/ai/generativelanguage_v1beta/services/generative_service/transports/rest.py\u001b[0m in \u001b[0;36m_get_response\u001b[0;34m(host, metadata, query_params, session, timeout, transcoded_request, body)\u001b[0m\n\u001b[1;32m   1046\u001b[0m             \u001b[0mheaders\u001b[0m \u001b[0;34m=\u001b[0m \u001b[0mdict\u001b[0m\u001b[0;34m(\u001b[0m\u001b[0mmetadata\u001b[0m\u001b[0;34m)\u001b[0m\u001b[0;34m\u001b[0m\u001b[0;34m\u001b[0m\u001b[0m\n\u001b[1;32m   1047\u001b[0m             \u001b[0mheaders\u001b[0m\u001b[0;34m[\u001b[0m\u001b[0;34m\"Content-Type\"\u001b[0m\u001b[0;34m]\u001b[0m \u001b[0;34m=\u001b[0m \u001b[0;34m\"application/json\"\u001b[0m\u001b[0;34m\u001b[0m\u001b[0;34m\u001b[0m\u001b[0m\n\u001b[0;32m-> 1048\u001b[0;31m             response = getattr(session, method)(\n\u001b[0m\u001b[1;32m   1049\u001b[0m                 \u001b[0;34m\"{host}{uri}\"\u001b[0m\u001b[0;34m.\u001b[0m\u001b[0mformat\u001b[0m\u001b[0;34m(\u001b[0m\u001b[0mhost\u001b[0m\u001b[0;34m=\u001b[0m\u001b[0mhost\u001b[0m\u001b[0;34m,\u001b[0m \u001b[0muri\u001b[0m\u001b[0;34m=\u001b[0m\u001b[0muri\u001b[0m\u001b[0;34m)\u001b[0m\u001b[0;34m,\u001b[0m\u001b[0;34m\u001b[0m\u001b[0;34m\u001b[0m\u001b[0m\n\u001b[1;32m   1050\u001b[0m                 \u001b[0mtimeout\u001b[0m\u001b[0;34m=\u001b[0m\u001b[0mtimeout\u001b[0m\u001b[0;34m,\u001b[0m\u001b[0;34m\u001b[0m\u001b[0;34m\u001b[0m\u001b[0m\n",
            "\u001b[0;32m/usr/local/lib/python3.11/dist-packages/requests/sessions.py\u001b[0m in \u001b[0;36mpost\u001b[0;34m(self, url, data, json, **kwargs)\u001b[0m\n\u001b[1;32m    635\u001b[0m         \"\"\"\n\u001b[1;32m    636\u001b[0m \u001b[0;34m\u001b[0m\u001b[0m\n\u001b[0;32m--> 637\u001b[0;31m         \u001b[0;32mreturn\u001b[0m \u001b[0mself\u001b[0m\u001b[0;34m.\u001b[0m\u001b[0mrequest\u001b[0m\u001b[0;34m(\u001b[0m\u001b[0;34m\"POST\"\u001b[0m\u001b[0;34m,\u001b[0m \u001b[0murl\u001b[0m\u001b[0;34m,\u001b[0m \u001b[0mdata\u001b[0m\u001b[0;34m=\u001b[0m\u001b[0mdata\u001b[0m\u001b[0;34m,\u001b[0m \u001b[0mjson\u001b[0m\u001b[0;34m=\u001b[0m\u001b[0mjson\u001b[0m\u001b[0;34m,\u001b[0m \u001b[0;34m**\u001b[0m\u001b[0mkwargs\u001b[0m\u001b[0;34m)\u001b[0m\u001b[0;34m\u001b[0m\u001b[0;34m\u001b[0m\u001b[0m\n\u001b[0m\u001b[1;32m    638\u001b[0m \u001b[0;34m\u001b[0m\u001b[0m\n\u001b[1;32m    639\u001b[0m     \u001b[0;32mdef\u001b[0m \u001b[0mput\u001b[0m\u001b[0;34m(\u001b[0m\u001b[0mself\u001b[0m\u001b[0;34m,\u001b[0m \u001b[0murl\u001b[0m\u001b[0;34m,\u001b[0m \u001b[0mdata\u001b[0m\u001b[0;34m=\u001b[0m\u001b[0;32mNone\u001b[0m\u001b[0;34m,\u001b[0m \u001b[0;34m**\u001b[0m\u001b[0mkwargs\u001b[0m\u001b[0;34m)\u001b[0m\u001b[0;34m:\u001b[0m\u001b[0;34m\u001b[0m\u001b[0;34m\u001b[0m\u001b[0m\n",
            "\u001b[0;32m/usr/local/lib/python3.11/dist-packages/google/auth/transport/requests.py\u001b[0m in \u001b[0;36mrequest\u001b[0;34m(self, method, url, data, headers, max_allowed_time, timeout, **kwargs)\u001b[0m\n\u001b[1;32m    535\u001b[0m \u001b[0;34m\u001b[0m\u001b[0m\n\u001b[1;32m    536\u001b[0m         \u001b[0;32mwith\u001b[0m \u001b[0mTimeoutGuard\u001b[0m\u001b[0;34m(\u001b[0m\u001b[0mremaining_time\u001b[0m\u001b[0;34m)\u001b[0m \u001b[0;32mas\u001b[0m \u001b[0mguard\u001b[0m\u001b[0;34m:\u001b[0m\u001b[0;34m\u001b[0m\u001b[0;34m\u001b[0m\u001b[0m\n\u001b[0;32m--> 537\u001b[0;31m             response = super(AuthorizedSession, self).request(\n\u001b[0m\u001b[1;32m    538\u001b[0m                 \u001b[0mmethod\u001b[0m\u001b[0;34m,\u001b[0m\u001b[0;34m\u001b[0m\u001b[0;34m\u001b[0m\u001b[0m\n\u001b[1;32m    539\u001b[0m                 \u001b[0murl\u001b[0m\u001b[0;34m,\u001b[0m\u001b[0;34m\u001b[0m\u001b[0;34m\u001b[0m\u001b[0m\n",
            "\u001b[0;32m/usr/local/lib/python3.11/dist-packages/requests/sessions.py\u001b[0m in \u001b[0;36mrequest\u001b[0;34m(self, method, url, params, data, headers, cookies, files, auth, timeout, allow_redirects, proxies, hooks, stream, verify, cert, json)\u001b[0m\n\u001b[1;32m    587\u001b[0m         }\n\u001b[1;32m    588\u001b[0m         \u001b[0msend_kwargs\u001b[0m\u001b[0;34m.\u001b[0m\u001b[0mupdate\u001b[0m\u001b[0;34m(\u001b[0m\u001b[0msettings\u001b[0m\u001b[0;34m)\u001b[0m\u001b[0;34m\u001b[0m\u001b[0;34m\u001b[0m\u001b[0m\n\u001b[0;32m--> 589\u001b[0;31m         \u001b[0mresp\u001b[0m \u001b[0;34m=\u001b[0m \u001b[0mself\u001b[0m\u001b[0;34m.\u001b[0m\u001b[0msend\u001b[0m\u001b[0;34m(\u001b[0m\u001b[0mprep\u001b[0m\u001b[0;34m,\u001b[0m \u001b[0;34m**\u001b[0m\u001b[0msend_kwargs\u001b[0m\u001b[0;34m)\u001b[0m\u001b[0;34m\u001b[0m\u001b[0;34m\u001b[0m\u001b[0m\n\u001b[0m\u001b[1;32m    590\u001b[0m \u001b[0;34m\u001b[0m\u001b[0m\n\u001b[1;32m    591\u001b[0m         \u001b[0;32mreturn\u001b[0m \u001b[0mresp\u001b[0m\u001b[0;34m\u001b[0m\u001b[0;34m\u001b[0m\u001b[0m\n",
            "\u001b[0;32m/usr/local/lib/python3.11/dist-packages/requests/sessions.py\u001b[0m in \u001b[0;36msend\u001b[0;34m(self, request, **kwargs)\u001b[0m\n\u001b[1;32m    701\u001b[0m \u001b[0;34m\u001b[0m\u001b[0m\n\u001b[1;32m    702\u001b[0m         \u001b[0;31m# Send the request\u001b[0m\u001b[0;34m\u001b[0m\u001b[0;34m\u001b[0m\u001b[0m\n\u001b[0;32m--> 703\u001b[0;31m         \u001b[0mr\u001b[0m \u001b[0;34m=\u001b[0m \u001b[0madapter\u001b[0m\u001b[0;34m.\u001b[0m\u001b[0msend\u001b[0m\u001b[0;34m(\u001b[0m\u001b[0mrequest\u001b[0m\u001b[0;34m,\u001b[0m \u001b[0;34m**\u001b[0m\u001b[0mkwargs\u001b[0m\u001b[0;34m)\u001b[0m\u001b[0;34m\u001b[0m\u001b[0;34m\u001b[0m\u001b[0m\n\u001b[0m\u001b[1;32m    704\u001b[0m \u001b[0;34m\u001b[0m\u001b[0m\n\u001b[1;32m    705\u001b[0m         \u001b[0;31m# Total elapsed time of the request (approximately)\u001b[0m\u001b[0;34m\u001b[0m\u001b[0;34m\u001b[0m\u001b[0m\n",
            "\u001b[0;32m/usr/local/lib/python3.11/dist-packages/requests/adapters.py\u001b[0m in \u001b[0;36msend\u001b[0;34m(self, request, stream, timeout, verify, cert, proxies)\u001b[0m\n\u001b[1;32m    711\u001b[0m                 \u001b[0;32mraise\u001b[0m \u001b[0mSSLError\u001b[0m\u001b[0;34m(\u001b[0m\u001b[0me\u001b[0m\u001b[0;34m,\u001b[0m \u001b[0mrequest\u001b[0m\u001b[0;34m=\u001b[0m\u001b[0mrequest\u001b[0m\u001b[0;34m)\u001b[0m\u001b[0;34m\u001b[0m\u001b[0;34m\u001b[0m\u001b[0m\n\u001b[1;32m    712\u001b[0m             \u001b[0;32melif\u001b[0m \u001b[0misinstance\u001b[0m\u001b[0;34m(\u001b[0m\u001b[0me\u001b[0m\u001b[0;34m,\u001b[0m \u001b[0mReadTimeoutError\u001b[0m\u001b[0;34m)\u001b[0m\u001b[0;34m:\u001b[0m\u001b[0;34m\u001b[0m\u001b[0;34m\u001b[0m\u001b[0m\n\u001b[0;32m--> 713\u001b[0;31m                 \u001b[0;32mraise\u001b[0m \u001b[0mReadTimeout\u001b[0m\u001b[0;34m(\u001b[0m\u001b[0me\u001b[0m\u001b[0;34m,\u001b[0m \u001b[0mrequest\u001b[0m\u001b[0;34m=\u001b[0m\u001b[0mrequest\u001b[0m\u001b[0;34m)\u001b[0m\u001b[0;34m\u001b[0m\u001b[0;34m\u001b[0m\u001b[0m\n\u001b[0m\u001b[1;32m    714\u001b[0m             \u001b[0;32melif\u001b[0m \u001b[0misinstance\u001b[0m\u001b[0;34m(\u001b[0m\u001b[0me\u001b[0m\u001b[0;34m,\u001b[0m \u001b[0m_InvalidHeader\u001b[0m\u001b[0;34m)\u001b[0m\u001b[0;34m:\u001b[0m\u001b[0;34m\u001b[0m\u001b[0;34m\u001b[0m\u001b[0m\n\u001b[1;32m    715\u001b[0m                 \u001b[0;32mraise\u001b[0m \u001b[0mInvalidHeader\u001b[0m\u001b[0;34m(\u001b[0m\u001b[0me\u001b[0m\u001b[0;34m,\u001b[0m \u001b[0mrequest\u001b[0m\u001b[0;34m=\u001b[0m\u001b[0mrequest\u001b[0m\u001b[0;34m)\u001b[0m\u001b[0;34m\u001b[0m\u001b[0;34m\u001b[0m\u001b[0m\n",
            "\u001b[0;31mReadTimeout\u001b[0m: HTTPConnectionPool(host='localhost', port=46271): Read timed out. (read timeout=600.0)"
          ]
        }
      ]
    },
    {
      "cell_type": "code",
      "source": [
        "import re\n",
        "\n",
        "text = \"Điểm 3.2.a:, Điểm 4.1, điểm 5.4.d, 6.3, 8.3.a, 9.4\"\n",
        "pattern = r\"\\b\\d+\\.\\d+(?:\\.[a-zđ]+)?\\b\"\n",
        "\n",
        "matches = re.findall(pattern, text)\n",
        "print(matches)\n"
      ],
      "metadata": {
        "colab": {
          "base_uri": "https://localhost:8080/"
        },
        "id": "Aj7Oitf4CH8Z",
        "outputId": "21455cb2-6982-468d-9ad8-9dab53f46ee4"
      },
      "execution_count": null,
      "outputs": [
        {
          "output_type": "stream",
          "name": "stdout",
          "text": [
            "['3.2.a', '4.1', '5.4.d', '6.3', '8.3.a', '9.4']\n"
          ]
        }
      ]
    },
    {
      "cell_type": "code",
      "source": [
        "#for i in range(len(d473)//2):\n",
        "for i2 in d473[0][4:8]:\n",
        "    response = models.generate_content(\"\"\" Cho nội dung sau: \"\"\" + G.nodes[i2]['content'] + \"\"\" Bạn hãy cho tôi biết, chọn ra và nêu rõ số hiệu của 1 điểm \\\n",
        "    giống nhất với nội dung trên trong các điểm dưới đây \\n\"\"\" + case)\n",
        "    print(response.text)\n",
        "    pattern = re.compile(\n",
        "    r'\\*\\*(?:Điểm\\s*)?([0-9]+\\.[0-9]+\\.[a-zđ]):?\\*\\*',\n",
        "    re.IGNORECASE\n",
        "    )\n",
        "\n",
        "    match = re.findall(pattern, response.text)\n",
        "    matcha = matcha + match[:1]\n",
        "    print(\"Các chuỗi trích xuất được:\", matcha)"
      ],
      "metadata": {
        "colab": {
          "base_uri": "https://localhost:8080/",
          "height": 818
        },
        "collapsed": true,
        "id": "gQG_BdLn0LW6",
        "outputId": "d38f9637-0294-43c4-c308-b7e0c44c5d52"
      },
      "execution_count": null,
      "outputs": [
        {
          "output_type": "stream",
          "name": "stdout",
          "text": [
            "Điểm giống nhất với nội dung bạn cung cấp là:\n",
            "\n",
            "**Điểm 32.13.d:** Đưa phương tiện gắn biển số không đúng với chứng nhận đăng ký xe hoặc gắn biển số không do cơ quan có thẩm quyền cấp (kể cả rơ moóc và sơ mi rơ moóc) tham gia giao thông; - Phạt tiền từ 20.000.000 đồng đến 26.000.000 đồng đối với cá nhân, từ 40.000.000 đồng đến 52.000.000 đồng đối với tổ chức là chủ xe ô tô, xe máy chuyên dùng và các loại xe tương tự xe ô tô\n",
            "\n",
            "**Lý do:** Điểm này trùng khớp hoàn toàn với nội dung bạn cung cấp về hành vi vi phạm: \"Điều khiển xe gắn biển số không đúng với chứng nhận đăng ký xe hoặc gắn biển số không do cơ quan có thẩm quyền cấp (kể cả rơ moóc và sơ mi rơ moóc)\". Điểm này cũng bao gồm cả rơ moóc và sơ mi rơ moóc, điều mà các điểm khác không đề cập hoặc đề cập không rõ ràng.\n",
            "\n",
            "Các chuỗi trích xuất được: ['32.8.đ', '32.9.đ', '32.8.đ', '32.8.h', '32.13.d']\n",
            "Điểm giống nhất với nội dung bạn cung cấp là **Điểm 32.8.đ**:\n",
            "\n",
            "**Điểm 32.8.đ:** Đưa phương tiện không có chứng nhận đăng ký xe (hoặc bản sao chứng nhận đăng ký xe có chứng thực kèm theo bản gốc giấy biên nhận của tổ chức tín dụng, chi nhánh ngân hàng nước ngoài trong trường hợp tổ chức tín dụng, chi nhánh ngân hàng nước ngoài giữ bản gốc chứng nhận đăng ký xe) tham gia giao thông hoặc có nhưng đã hết hạn sử dụng, hết hiệu lực; đưa phương tiện có chứng nhận đăng ký xe tạm thời, phương tiện có phạm vi hoạt động hạn chế tham gia giao thông quá thời hạn, tuyến đường, phạm vi cho phép;\n",
            "\n",
            "**Lý do:**\n",
            "\n",
            "Điểm này bao gồm đầy đủ các yếu tố được đề cập trong nội dung gốc:\n",
            "\n",
            "*   **Không có chứng nhận đăng ký xe (hoặc bản sao có chứng thực kèm theo giấy biên nhận của tổ chức tín dụng nếu có):** Hoàn toàn trùng khớp.\n",
            "*   **Có nhưng đã hết hạn sử dụng, hết hiệu lực:** Hoàn toàn trùng khớp.\n",
            "\n",
            "Các điểm khác có thể đề cập đến các hành vi vi phạm khác liên quan đến đăng ký xe hoặc biển số xe, nhưng không phải là hành vi \"điều khiển xe không có hoặc có đăng ký hết hạn\" một cách trực tiếp và đầy đủ như điểm 32.8.đ.\n",
            "\n",
            "Các chuỗi trích xuất được: ['32.8.đ', '32.9.đ', '32.8.đ', '32.8.h', '32.13.d', '32.8.đ']\n",
            "Điểm giống nhất với nội dung bạn cung cấp là **Điểm 32.8.e** và **Điểm 32.9.đ**.\n",
            "\n",
            "**Lý do:**\n",
            "\n",
            "Cả hai điểm này đều đề cập đến các hành vi sau, trùng khớp với nội dung bạn cung cấp:\n",
            "\n",
            "*   **Sử dụng chứng nhận đăng ký xe bị tẩy xóa.**\n",
            "*   **Sử dụng chứng nhận đăng ký xe không đúng số khung, số động cơ (số máy) của xe hoặc không do cơ quan có thẩm quyền cấp.**\n",
            "\n",
            "**Điểm 32.8.e** áp dụng cho xe mô tô, xe gắn máy và các loại xe tương tự.\n",
            "\n",
            "**Điểm 32.9.đ** áp dụng chung và có bao gồm cả rơ moóc và sơ mi rơ moóc.\n",
            "Các chuỗi trích xuất được: ['32.8.đ', '32.9.đ', '32.8.đ', '32.8.h', '32.13.d', '32.8.đ', '32.8.e']\n",
            "Điểm giống nhất với nội dung \"Điều khiển xe đăng ký tạm thời hoạt động quá phạm vi, tuyến đường, thời hạn cho phép\" là:\n",
            "\n",
            "*   **Điểm 32.8.đ:** \"...đưa phương tiện có chứng nhận đăng ký xe tạm thời, phương tiện có phạm vi hoạt động hạn chế tham gia giao thông quá thời hạn, tuyến đường, phạm vi cho phép;\"\n",
            "*   **Điểm 32.12.a:** \"...đưa phương tiện có chứng nhận đăng ký xe tạm thời, phương tiện có phạm vi hoạt động hạn chế tham gia giao thông quá thời hạn, tuyến đường, phạm vi cho phép;\"\n",
            "\n",
            "**Giải thích:**\n",
            "\n",
            "Cả hai điểm này đều đề cập trực tiếp đến hành vi điều khiển phương tiện có đăng ký tạm thời (hoặc phương tiện có phạm vi hoạt động hạn chế) mà vi phạm các quy định về thời hạn, tuyến đường hoặc phạm vi hoạt động cho phép.\n",
            "Tuy nhiên, điểm 32.12.a có mức phạt dành cho chủ xe ô tô, xe chở người bốn bánh có gắn động cơ, xe chở hàng bốn bánh có gắn động cơ, xe máy chuyên dùng và các loại xe tương tự xe ô tô, phương tiện giao thông thông minh, còn điểm 32.8.đ có mức phạt dành cho chủ xe mô tô, xe gắn máy và các loại xe tương tự xe mô tô, các loại xe tương tự xe gắn máy. Do đó, để xác định điểm nào giống nhất cần biết loại xe vi phạm là xe nào.\n",
            "\n",
            "Các chuỗi trích xuất được: ['32.8.đ', '32.9.đ', '32.8.đ', '32.8.h', '32.13.d', '32.8.đ', '32.8.e', '32.8.đ']\n"
          ]
        }
      ]
    },
    {
      "cell_type": "code",
      "source": [
        "#for i in range(len(d473)//2):\n",
        "for i2 in d473[0][8:11]:\n",
        "    response = models.generate_content(\"\"\" Cho nội dung sau: \"\"\" + G.nodes[i2]['content'] + \"\"\" Bạn hãy cho tôi biết, chọn ra và nêu rõ số hiệu của 1 điểm \\\n",
        "    giống nhất với nội dung trên trong các điểm dưới đây \\n\"\"\" + case)\n",
        "    print(response.text)\n",
        "    pattern = re.compile(\n",
        "    r'\\*\\*(?:Điểm\\s*)?([0-9]+\\.[0-9]+\\.[a-zđ]):?\\*\\*',\n",
        "    re.IGNORECASE\n",
        "    )\n",
        "\n",
        "    match = re.findall(pattern, response.text)\n",
        "    matcha = matcha + match[:1]\n",
        "    print(\"Các chuỗi trích xuất được:\", matcha)"
      ],
      "metadata": {
        "colab": {
          "base_uri": "https://localhost:8080/",
          "height": 471
        },
        "id": "9l94RGVe0lJP",
        "outputId": "aa480263-bd44-46b5-91e3-bdcd8eab9210",
        "collapsed": true
      },
      "execution_count": null,
      "outputs": [
        {
          "output_type": "stream",
          "name": "stdout",
          "text": [
            "Điểm giống nhất với nội dung bạn cung cấp là **Điểm 32.8.h**:\n",
            "\n",
            "**Điểm32.8.h:** Đưa phương tiện không gắn biển số (đối với loại xe có quy định phải gắn biển số) tham gia giao thông; đưa phương tiện gắn biển số không đúng với chứng nhận đăng ký xe hoặc gắn biển số không do cơ quan có thẩm quyền cấp tham gia giao thông.\n",
            "\n",
            "Các chuỗi trích xuất được: ['32.8.đ', '32.9.đ', '32.8.đ', '32.8.h', '32.13.d', '32.8.đ', '32.8.e', '32.8.đ', '32.8.h']\n",
            "Điểm giống nhất với nội dung \"Điều khiển xe không gắn biển số (đối với loại xe có quy định phải gắn biển số)\" là:\n",
            "\n",
            "*   **Điểm 32.8.h:** Đưa phương tiện không gắn biển số (đối với loại xe có quy định phải gắn biển số) tham gia giao thông; đưa phương tiện gắn biển số không đúng với chứng nhận đăng ký xe hoặc gắn biển số không do cơ quan có thẩm quyền cấp tham gia giao thông.\n",
            "*   **Điểm 32.12.b:** Đưa phương tiện không gắn biển số (đối với loại xe có quy định phải gắn biển số) tham gia giao thông;\n",
            "\n",
            "Hai điểm này đều trực tiếp đề cập đến hành vi \"đưa phương tiện không gắn biển số (đối với loại xe có quy định phải gắn biển số) tham gia giao thông\", trùng khớp với nội dung được đưa ra. Tuy nhiên, điểm 32.8.h dành cho xe mô tô, xe gắn máy và các loại xe tương tự, còn điểm 32.12.b dành cho xe ô tô, xe chở người bốn bánh có gắn động cơ, xe chở hàng bốn bánh có gắn động cơ, xe máy chuyên dùng và các loại xe tương tự xe ô tô, phương tiện giao thông thông minh. Do không có thông tin về loại phương tiện nên cả hai điểm đều đúng.\n",
            "Các chuỗi trích xuất được: ['32.8.đ', '32.9.đ', '32.8.đ', '32.8.h', '32.13.d', '32.8.đ', '32.8.e', '32.8.đ', '32.8.h', '32.8.h']\n",
            "Điểm giống nhất với nội dung \"Điều khiển xe hoạt động không đúng phạm vi quy định\" là **Điểm 32.8.đ** và **Điểm 32.12.a**.\n",
            "\n",
            "**Điểm 32.8.đ:**\n",
            "\n",
            "*   \"...đưa phương tiện có chứng nhận đăng ký xe tạm thời, phương tiện có phạm vi hoạt động hạn chế tham gia giao thông quá thời hạn, tuyến đường, phạm vi cho phép\"\n",
            "\n",
            "**Điểm 32.12.a:**\n",
            "\n",
            "*   \"...đưa phương tiện có chứng nhận đăng ký xe tạm thời, phương tiện có phạm vi hoạt động hạn chế tham gia giao thông quá thời hạn, tuyến đường, phạm vi cho phép\"\n",
            "\n",
            "Cả hai điểm này đều đề cập đến việc điều khiển phương tiện vượt quá phạm vi hoạt động được cho phép, điều này tương đồng với nội dung \"Điều khiển xe hoạt động không đúng phạm vi quy định\". Tuy nhiên, điểm 32.8.đ áp dụng cho xe mô tô, xe gắn máy và các loại xe tương tự, trong khi điểm 32.12.a áp dụng cho xe ô tô, xe chở người bốn bánh có gắn động cơ, xe chở hàng bốn bánh có gắn động cơ, xe máy chuyên dùng và các loại xe tương tự xe ô tô, phương tiện giao thông thông minh.\n",
            "\n",
            "Các chuỗi trích xuất được: ['32.8.đ', '32.9.đ', '32.8.đ', '32.8.h', '32.13.d', '32.8.đ', '32.8.e', '32.8.đ', '32.8.h', '32.8.h', '32.8.đ']\n"
          ]
        }
      ]
    },
    {
      "cell_type": "code",
      "source": [
        "G.add_node(\"16.2.d\", content = \"Điều khiển xe gắn biển số không đúng với chứng nhận đăng ký xe hoặc gắn biển số không do cơ quan có thẩm quyền cấp (kể cả rơ moóc); Phạt tiền từ 1.000.000 đồng đến 2.000.000 đồng \")"
      ],
      "metadata": {
        "id": "YUY2SJhp1sOD"
      },
      "execution_count": null,
      "outputs": []
    },
    {
      "cell_type": "code",
      "source": [
        "G.add_edge(\"16\",\"16.2.d\")"
      ],
      "metadata": {
        "id": "G7rntoR21x39"
      },
      "execution_count": null,
      "outputs": []
    },
    {
      "cell_type": "code",
      "source": [
        "G.add_node(\"16.2.đ\", content = \"Sử dụng chứng nhận đăng ký xe (hoặc bản sao chứng nhận đăng ký xe có chứng thực kèm theo bản gốc giấy biên nhận của tổ chức tín dụng, chi nhánh ngán hàng nước ngoài trong trường hợp tổ chức tín dụng, chi nhánh ngân hàng nước ngoài giữ bản gốc chứng nhận đăng ký xe), giấy chứng nhận, tem kiểm định an toàn kỹ thuật và bảo vệ môi trường không do cơ quan có thẩm quyền cấp hoặc bị tẩy xóa; sử dụng chứng nhận đăng ký xe (hoặc bản sao chứng nhận đăng ký xe có chứng thực kèm theo bản gốc giấy biên nhận của tổ chức tín dụng, chi nhánh ngân hàng nước ngoài trong trường hợp tổ chức tín dụng, chi nhánh ngân hàng nước ngoài giữ bản gốc chứng nhận đăng ký xe) không đúng số khung, số động cơ (số máy) của xe (kể cả rơ moóc) - Phạt tiền từ 1.000.000 đồng đến 2.000.000 đồng\")"
      ],
      "metadata": {
        "id": "t0t151fV2FrM"
      },
      "execution_count": null,
      "outputs": []
    },
    {
      "cell_type": "code",
      "source": [
        "G.add_edge(\"16\",\"16.2.đ\")"
      ],
      "metadata": {
        "id": "i0mwnB_Y2JDJ"
      },
      "execution_count": null,
      "outputs": []
    },
    {
      "cell_type": "code",
      "source": [
        "#for i in range(len(d473)//2):\n",
        "for i2 in d473[0][11:14]:\n",
        "    response = models.generate_content(\"\"\" Cho nội dung sau: \"\"\" + G.nodes[i2]['content'] + \"\"\" Bạn hãy cho tôi biết, chọn ra và nêu rõ số hiệu của 1 điểm \\\n",
        "    giống nhất với nội dung trên trong các điểm dưới đây \\n\"\"\" + case)\n",
        "    print(response.text)\n",
        "    pattern = re.compile(\n",
        "    r'\\*\\*(?:Điểm\\s*)?([0-9]+\\.[0-9]+\\.[a-zđ]):?\\*\\*',\n",
        "    re.IGNORECASE\n",
        "    )\n",
        "\n",
        "    match = re.findall(pattern, response.text)\n",
        "    matcha = matcha + match[:1]\n",
        "    print(\"Các chuỗi trích xuất được:\", matcha)"
      ],
      "metadata": {
        "colab": {
          "base_uri": "https://localhost:8080/",
          "height": 627
        },
        "collapsed": true,
        "id": "AKhRbln_0vzI",
        "outputId": "d9eb9e66-5a50-4e75-cbe5-ee4cdabacc9c"
      },
      "execution_count": null,
      "outputs": [
        {
          "output_type": "stream",
          "name": "stdout",
          "text": [
            "Điểm giống nhất với nội dung bạn cung cấp là:\n",
            "\n",
            "**Điểm 32.8.đ:** Đưa phương tiện không có chứng nhận đăng ký xe (hoặc bản sao chứng nhận đăng ký xe có chứng thực kèm theo bản gốc giấy biên nhận của tổ chức tín dụng, chi nhánh ngân hàng nước ngoài trong trường hợp tổ chức tín dụng, chi nhánh ngân hàng nước ngoài giữ bản gốc chứng nhận đăng ký xe) tham gia giao thông hoặc có nhưng đã hết hạn sử dụng, hết hiệu lực; đưa phương tiện có chứng nhận đăng ký xe tạm thời, phương tiện có phạm vi hoạt động hạn chế tham gia giao thông quá thời hạn, tuyến đường, phạm vi cho phép;\n",
            "\n",
            "**Lý do:**\n",
            "\n",
            "Điểm này bao gồm đầy đủ các yếu tố được đề cập trong nội dung bạn cung cấp:\n",
            "\n",
            "*   **Không có chứng nhận đăng ký xe:** \"Đưa phương tiện không có chứng nhận đăng ký xe (hoặc bản sao chứng nhận đăng ký xe có chứng thực kèm theo bản gốc giấy biên nhận của tổ chức tín dụng, chi nhánh ngân hàng nước ngoài trong trường hợp tổ chức tín dụng, chi nhánh ngân hàng nước ngoài giữ bản gốc chứng nhận đăng ký xe) tham gia giao thông\".\n",
            "*   **Chứng nhận đăng ký xe hết hạn:** \"hoặc có nhưng đã hết hạn sử dụng, hết hiệu lực\".\n",
            "*   **Đối tượng:** Áp dụng cho tất cả các loại xe.\n",
            "Các chuỗi trích xuất được: ['32.8.đ', '32.9.đ', '32.8.đ', '32.8.h', '32.13.d', '32.8.đ', '32.8.e', '32.8.đ', '32.8.h', '32.8.h', '32.8.đ', '32.8.đ']\n",
            "Điểm giống nhất với nội dung bạn cung cấp là **Điểm 32.8.h**:\n",
            "\n",
            "**Điểm 32.8.h:** Đưa phương tiện không gắn biển số (đối với loại xe có quy định phải gắn biển số) tham gia giao thông; đưa phương tiện gắn biển số không đúng với chứng nhận đăng ký xe hoặc gắn biển số không do cơ quan có thẩm quyền cấp tham gia giao thông.\n",
            "\n",
            "**Lý do:**\n",
            "\n",
            "*   **Nội dung trùng khớp:** Cả nội dung bạn cung cấp và điểm 32.8.h đều đề cập đến hành vi \"gắn biển số không đúng với chứng nhận đăng ký xe\" và \"gắn biển số không do cơ quan có thẩm quyền cấp\".\n",
            "*   **Mức phạt:** Tuy mức phạt khác nhau nhưng điểm này vẫn phù hợp nhất về hành vi vi phạm.\n",
            "* **Loại phương tiện:** Nội dung điểm 32.8.h đề cập đến xe mô tô, xe gắn máy phù hợp với xe gắn biển số được bạn đề cập.\n",
            "\n",
            "Các chuỗi trích xuất được: ['32.8.đ', '32.9.đ', '32.8.đ', '32.8.h', '32.13.d', '32.8.đ', '32.8.e', '32.8.đ', '32.8.h', '32.8.h', '32.8.đ', '32.8.đ', '32.8.h']\n",
            "Điểm giống nhất với nội dung bạn cung cấp là **Điểm 32.9.đ**:\n",
            "\n",
            "**Điểm 32.9.đ:** *Đưa phương tiện có chứng nhận đăng ký xe (hoặc bản sao chứng nhận đăng ký xe có chứng thực kèm theo bản gốc giấy biên nhận của tổ chức tín dụng, chi nhánh ngân hàng nước ngoài trong trường hợp tổ chức tín dụng, chi nhánh ngân hàng nước ngoài giữ bản gốc chứng nhận đăng ký xe), giấy chứng nhận, tem kiểm định an toàn kỹ thuật và bảo vệ môi trường của xe nhưng không do cơ quan có thẩm quyền cấp hoặc bị tẩy xóa tham gia giao thông; đưa phương tiện có chứng nhận đăng ký xe (hoặc bản sao chứng nhận đăng ký xe có chứng thực kèm theo bản gốc giấy biên nhận của tổ chức tín dụng, chi nhánh ngân hàng nước ngoài trong trường hợp tổ chức tín dụng, chi nhánh ngân hàng nước ngoài giữ bản gốc chứng nhận đăng ký xe) nhưng không đúng với số khung, số động cơ (số máy) của xe (kể cả rơ moóc và sơ mi rơ moóc) tham gia giao thông - Phạt tiền từ 4.000.000 đồng đến 6.000.000 đồng đối với cá nhân, từ 8.000.000 đồng đến 12.000.000 đồng*\n",
            "\n",
            "**Lý do:**\n",
            "\n",
            "*   Điểm này bao gồm cả hành vi sử dụng chứng nhận đăng ký xe, giấy chứng nhận, tem kiểm định không do cơ quan có thẩm quyền cấp hoặc bị tẩy xóa.\n",
            "*   Điểm này cũng bao gồm hành vi sử dụng chứng nhận đăng ký xe không đúng với số khung, số động cơ (số máy) của xe.\n",
            "*   Mức phạt tiền có sự khác biệt so với nội dung bạn cung cấp. Nội dung bạn cung cấp mức phạt tiền từ 1.000.000 đồng đến 2.000.000 đồng, trong khi điểm 32.9.đ nêu mức phạt tiền từ 4.000.000 đồng đến 6.000.000 đồng đối với cá nhân và từ 8.000.000 đồng đến 12.000.000 đồng đối với tổ chức. Tuy nhiên, về hành vi vi phạm thì điểm 32.9.đ là giống nhất.\n",
            "\n",
            "Các chuỗi trích xuất được: ['32.8.đ', '32.9.đ', '32.8.đ', '32.8.h', '32.13.d', '32.8.đ', '32.8.e', '32.8.đ', '32.8.h', '32.8.h', '32.8.đ', '32.8.đ', '32.8.h', '32.9.đ']\n"
          ]
        }
      ]
    },
    {
      "cell_type": "code",
      "source": [
        "for i in range(len(matcha)):\n",
        "   G.add_edge(d473[0][i], matcha[i], content = \"Chủ phương tiện\")"
      ],
      "metadata": {
        "id": "OYD5D4aj4Rmg"
      },
      "execution_count": null,
      "outputs": []
    },
    {
      "cell_type": "code",
      "source": [
        "G.add_node(\"16.1.d\", content = \"Điều khiển xe không có đủ đèn chiếu sáng; không có bộ phận giảm thanh, giảm khói hoặc có nhưng không có tác dụng, không bảo đảm quy chuẩn môi trường về khí thải, tiếng ồn - Phạt tiền từ 800.000 đồng đến 1.000.000 đồng\")"
      ],
      "metadata": {
        "id": "6Sy43Lsk9T5z"
      },
      "execution_count": null,
      "outputs": []
    },
    {
      "cell_type": "code",
      "source": [
        "G.add_edge(\"16\",\"16.1.d\")"
      ],
      "metadata": {
        "id": "u0dYmDCR9cYZ"
      },
      "execution_count": null,
      "outputs": []
    },
    {
      "cell_type": "code",
      "source": [
        "G.add_node(\"16.1.đ\", content = \"Điều khiển xe có giấy chứng nhận hoặc tem kiểm định an toàn kỹ thuật và bảo vệ môi trường nhưng đã hết hiệu lực (hạn sử dụng) dưới 01 tháng (kể cả rơ moóc) - Phạt tiền từ 800.000 đồng đến 1.000.000 đồng\")"
      ],
      "metadata": {
        "id": "L4O47Z8Y9tZS"
      },
      "execution_count": null,
      "outputs": []
    },
    {
      "cell_type": "code",
      "source": [
        "G.add_edge(\"16\",\"16.1.đ\")"
      ],
      "metadata": {
        "id": "Z_1vpFvm968T"
      },
      "execution_count": null,
      "outputs": []
    },
    {
      "cell_type": "code",
      "source": [
        "#for i in range(len(d473)//2):\n",
        "case = \"\"\n",
        "for i1 in d473[3]:\n",
        "    if G.has_node(i1):\n",
        "       case = case + \"Điểm\" + i1 + \": \" + G.nodes[i1]['content'] + \"\\n\"\n",
        "    print(case)\n",
        "for i2 in d473[2][:3]:\n",
        "    response = models.generate_content(\"\"\" Cho nội dung sau: \"\"\" + G.nodes[i2]['content'] + \"\"\" Bạn hãy cho tôi biết, chọn ra và nêu rõ số hiệu của 1 điểm \\\n",
        "    giống nhất với nội dung trên trong các điểm dưới đây \\n\"\"\" + case)\n",
        "    print(response.text)\n",
        "    pattern = re.compile(\n",
        "    r'\\*\\*(?:Điểm\\s*)?([0-9]+\\.[0-9]+\\.[a-zđ]):?\\*\\*',\n",
        "    re.IGNORECASE\n",
        "    )\n",
        "\n",
        "    match = re.findall(pattern, response.text)\n",
        "    matcha = matcha + match[:1]\n",
        "    print(\"Các chuỗi trích xuất được:\", matcha)"
      ],
      "metadata": {
        "colab": {
          "base_uri": "https://localhost:8080/",
          "height": 800
        },
        "id": "BIOl56jy5FgZ",
        "outputId": "f9417e5d-12be-4a1c-c29a-664dcb489ad7",
        "collapsed": true
      },
      "execution_count": null,
      "outputs": [
        {
          "output_type": "stream",
          "name": "stdout",
          "text": [
            "Điểm32.9.b: Đưa xe cơ giới, xe máy chuyên dùng có giấy chứng nhận hoặc tem kiểm định an toàn kỹ thuật và bảo vệ môi trường (đối với loại xe có quy định phải kiểm định) nhưng đã hết hiệu lực (hạn sử dụng) dưới 01 tháng (kể cả rơ moóc và sơ mi rơ moóc) tham gia giao thông; - Phạt tiền từ 4.000.000 đồng đến 6.000.000 đồng đối với cá nhân, từ 8.000.000 đồng đến 12.000.000 đồng đối với tổ chức là chủ xe ô tô, xe chở người bốn bánh có gắn động cơ, xe chở hàng bốn bánh có gắn động cơ, xe máy chuyên dùng và các loại xe tương tự xe ô tô\n",
            "\n",
            "Điểm32.9.b: Đưa xe cơ giới, xe máy chuyên dùng có giấy chứng nhận hoặc tem kiểm định an toàn kỹ thuật và bảo vệ môi trường (đối với loại xe có quy định phải kiểm định) nhưng đã hết hiệu lực (hạn sử dụng) dưới 01 tháng (kể cả rơ moóc và sơ mi rơ moóc) tham gia giao thông; - Phạt tiền từ 4.000.000 đồng đến 6.000.000 đồng đối với cá nhân, từ 8.000.000 đồng đến 12.000.000 đồng đối với tổ chức là chủ xe ô tô, xe chở người bốn bánh có gắn động cơ, xe chở hàng bốn bánh có gắn động cơ, xe máy chuyên dùng và các loại xe tương tự xe ô tô\n",
            "Điểm32.9.đ: Đưa phương tiện có chứng nhận đăng ký xe (hoặc bản sao chứng nhận đăng ký xe có chứng thực kèm theo bản gốc giấy biên nhận của tổ chức tín dụng, chi nhánh ngân hàng nước ngoài trong trường hợp tổ chức tín dụng, chi nhánh ngân hàng nước ngoài giữ bản gốc chứng nhận đăng ký xe), giấy chứng nhận, tem kiểm định an toàn kỹ thuật và bảo vệ môi trường của xe nhưng không do cơ quan có thẩm quyền cấp hoặc bị tẩy xóa tham gia giao thông; đưa phương tiện có chứng nhận đăng ký xe (hoặc bản sao chứng nhận đăng ký xe có chứng thực kèm theo bản gốc giấy biên nhận của tổ chức tín dụng, chi nhánh ngân hàng nước ngoài trong trường hợp tổ chức tín dụng, chi nhánh ngân hàng nước ngoài giữ bản gốc chứng nhận đăng ký xe) nhưng không đúng với số khung, số động cơ (số máy) của xe (kể cả rơ moóc và sơ mi rơ moóc) tham gia giao thông - Phạt tiền từ 4.000.000 đồng đến 6.000.000 đồng đối với cá nhân, từ 8.000.000 đồng đến 12.000.000 đồng\n",
            "\n",
            "Điểm32.9.b: Đưa xe cơ giới, xe máy chuyên dùng có giấy chứng nhận hoặc tem kiểm định an toàn kỹ thuật và bảo vệ môi trường (đối với loại xe có quy định phải kiểm định) nhưng đã hết hiệu lực (hạn sử dụng) dưới 01 tháng (kể cả rơ moóc và sơ mi rơ moóc) tham gia giao thông; - Phạt tiền từ 4.000.000 đồng đến 6.000.000 đồng đối với cá nhân, từ 8.000.000 đồng đến 12.000.000 đồng đối với tổ chức là chủ xe ô tô, xe chở người bốn bánh có gắn động cơ, xe chở hàng bốn bánh có gắn động cơ, xe máy chuyên dùng và các loại xe tương tự xe ô tô\n",
            "Điểm32.9.đ: Đưa phương tiện có chứng nhận đăng ký xe (hoặc bản sao chứng nhận đăng ký xe có chứng thực kèm theo bản gốc giấy biên nhận của tổ chức tín dụng, chi nhánh ngân hàng nước ngoài trong trường hợp tổ chức tín dụng, chi nhánh ngân hàng nước ngoài giữ bản gốc chứng nhận đăng ký xe), giấy chứng nhận, tem kiểm định an toàn kỹ thuật và bảo vệ môi trường của xe nhưng không do cơ quan có thẩm quyền cấp hoặc bị tẩy xóa tham gia giao thông; đưa phương tiện có chứng nhận đăng ký xe (hoặc bản sao chứng nhận đăng ký xe có chứng thực kèm theo bản gốc giấy biên nhận của tổ chức tín dụng, chi nhánh ngân hàng nước ngoài trong trường hợp tổ chức tín dụng, chi nhánh ngân hàng nước ngoài giữ bản gốc chứng nhận đăng ký xe) nhưng không đúng với số khung, số động cơ (số máy) của xe (kể cả rơ moóc và sơ mi rơ moóc) tham gia giao thông - Phạt tiền từ 4.000.000 đồng đến 6.000.000 đồng đối với cá nhân, từ 8.000.000 đồng đến 12.000.000 đồng\n",
            "Điểm32.11.a: Đưa xe cơ giới, xe máy chuyên dùng không có giấy chứng nhận hoặc tem kiểm định an toàn kỹ thuật và bảo vệ môi trường (đối với loại xe có quy định phải kiểm định) hoặc có nhưng đã hết hiệu lực (hạn sử dụng) từ 01 tháng trở lên (kể cả rơ moóc và sơ mi rơ moóc) tham gia giao thông; - Phạt tiền từ 10.000.000 đồng đến 12.000.000 đồng đối với cá nhân, từ 20.000.000 đồng đến 24.000.000 đồng đối với tổ chức là chủ xe ô tô, xe chở người bốn bánh có gắn động cơ, xe chở hàng bốn bánh có gắn động cơ, xe máy chuyên dùng và các loại xe tương tự xe ô tô\n",
            "\n",
            "Điểm giống nhất với nội dung bạn cung cấp là **Điểm 32.9.b**:\n",
            "\n",
            "**Điểm 32.9.b**: Đưa xe cơ giới, xe máy chuyên dùng có giấy chứng nhận hoặc tem kiểm định an toàn kỹ thuật và bảo vệ môi trường (đối với loại xe có quy định phải kiểm định) nhưng đã hết hiệu lực (hạn sử dụng) dưới 01 tháng (kể cả rơ moóc và sơ mi rơ moóc) tham gia giao thông;\n",
            "\n",
            "**Lý do:**\n",
            "\n",
            "*   Nội dung bạn cung cấp đề cập đến việc điều khiển xe có giấy chứng nhận hoặc tem kiểm định an toàn kỹ thuật và bảo vệ môi trường nhưng đã hết hiệu lực dưới 01 tháng.\n",
            "*   Điểm 32.9.b cũng đề cập chính xác đến trường hợp này, bao gồm cả rơ moóc và sơ mi rơ moóc. Các điểm khác không đề cập đến trường hợp hết hạn dưới 01 tháng hoặc đề cập đến các vấn đề khác liên quan đến giấy tờ xe.\n",
            "Các chuỗi trích xuất được: ['32.9.b']\n"
          ]
        },
        {
          "output_type": "stream",
          "name": "stderr",
          "text": [
            "ERROR:tornado.access:503 POST /v1beta/models/gemini-2.0-flash:generateContent?%24alt=json%3Benum-encoding%3Dint (127.0.0.1) 4375.10ms\n",
            "ERROR:tornado.access:503 POST /v1beta/models/gemini-2.0-flash:generateContent?%24alt=json%3Benum-encoding%3Dint (127.0.0.1) 3464.79ms\n"
          ]
        },
        {
          "output_type": "stream",
          "name": "stdout",
          "text": [
            "Điểm giống nhất với nội dung bạn cung cấp là:\n",
            "\n",
            "**Điểm 32.9.đ:**\n",
            "\n",
            "Điểm này bao gồm các hành vi sau:\n",
            "\n",
            "*   Sử dụng chứng nhận đăng ký xe, giấy chứng nhận, tem kiểm định không do cơ quan có thẩm quyền cấp hoặc bị tẩy xóa.\n",
            "*   Sử dụng chứng nhận đăng ký xe không đúng với số khung, số động cơ (số máy) của xe.\n",
            "\n",
            "Đây là nội dung hoàn toàn trùng khớp với nội dung bạn đã đưa ra.\n",
            "\n",
            "Các chuỗi trích xuất được: ['32.9.b', '32.9.đ']\n",
            "Điểm giống nhất với nội dung đã cho là **Điểm 32.11.a**:\n",
            "\n",
            "**Điểm 32.11.a**: Đưa xe cơ giới, xe máy chuyên dùng không có giấy chứng nhận hoặc tem kiểm định an toàn kỹ thuật và bảo vệ môi trường (đối với loại xe có quy định phải kiểm định) hoặc có nhưng đã hết hiệu lực (hạn sử dụng) từ 01 tháng trở lên (kể cả rơ moóc và sơ mi rơ moóc) tham gia giao thông; - Phạt tiền từ 10.000.000 đồng đến 12.000.000 đồng đối với cá nhân, từ 20.000.000 đồng đến 24.000.000 đồng đối với tổ chức là chủ xe ô tô, xe chở người bốn bánh có gắn động cơ, xe chở hàng bốn bánh có gắn động cơ, xe máy chuyên dùng và các loại xe tương tự xe ô tô\n",
            "\n",
            "**Lý do:**\n",
            "\n",
            "Điểm 32.11.a hoàn toàn trùng khớp với nội dung đã cho về hành vi vi phạm:\n",
            "\n",
            "*   **Không có giấy chứng nhận hoặc tem kiểm định:** Điều này khớp với vế đầu của nội dung.\n",
            "*   **Hoặc có nhưng đã hết hiệu lực từ 01 tháng trở lên:** Điều này khớp với vế sau của nội dung.\n",
            "*   **(kể cả rơ moóc và sơ mi rơ moóc):** Đề cập đến các loại xe tương tự như trong nội dung.\n",
            "Các chuỗi trích xuất được: ['32.9.b', '32.9.đ', '32.11.a']\n"
          ]
        }
      ]
    },
    {
      "cell_type": "code",
      "source": [
        "for i2 in d473[2][3:6]:\n",
        "    response = models.generate_content(\"\"\" Cho nội dung sau: \"\"\" + G.nodes[i2]['content'] + \"\"\" Bạn hãy cho tôi biết, chọn ra và nêu rõ số hiệu của 1 điểm \\\n",
        "    giống nhất với nội dung trên trong các điểm dưới đây \\n\"\"\" + case)\n",
        "    print(response.text)\n",
        "    pattern = re.compile(\n",
        "    r'\\*\\*(?:Điểm\\s*)?([0-9]+\\.[0-9]+\\.[a-zđ]):?\\*\\*',\n",
        "    re.IGNORECASE\n",
        "    )\n",
        "\n",
        "    match = re.findall(pattern, response.text)\n",
        "    matcha = matcha + match[:1]\n",
        "    print(\"Các chuỗi trích xuất được:\", matcha)"
      ],
      "metadata": {
        "colab": {
          "base_uri": "https://localhost:8080/",
          "height": 471
        },
        "id": "bHUoT28h5dJR",
        "outputId": "f85028bd-aa92-43a6-a21a-850c914018e8",
        "collapsed": true
      },
      "execution_count": null,
      "outputs": [
        {
          "output_type": "stream",
          "name": "stdout",
          "text": [
            "Điểm giống nhất với nội dung bạn cung cấp là:\n",
            "\n",
            "**Điểm 32.9.b:** Đưa xe cơ giới, xe máy chuyên dùng có giấy chứng nhận hoặc tem kiểm định an toàn kỹ thuật và bảo vệ môi trường (đối với loại xe có quy định phải kiểm định) nhưng đã hết hiệu lực (hạn sử dụng) dưới 01 tháng (kể cả rơ moóc và sơ mi rơ moóc) tham gia giao thông.\n",
            "\n",
            "**Lý do:**\n",
            "\n",
            "*   Cả hai đều đề cập đến hành vi điều khiển xe có giấy chứng nhận hoặc tem kiểm định an toàn kỹ thuật và bảo vệ môi trường đã hết hiệu lực dưới 01 tháng.\n",
            "*   Cả hai đều đề cập đến việc áp dụng cho cả rơ moóc (và sơ mi rơ moóc trong điểm 32.9.b).\n",
            "*   Tuy mức phạt khác nhau, nhưng hành vi vi phạm được mô tả là tương đồng. Mức phạt khác có thể do quy định khác nhau về đối tượng (cá nhân/tổ chức) hoặc thời điểm áp dụng.\n",
            "\n",
            "Các chuỗi trích xuất được: ['32.9.b', '32.9.đ', '32.11.a', '32.9.b']\n",
            "Điểm giống nhất với nội dung bạn cung cấp là:\n",
            "\n",
            "**Điểm 32.11.a:** Đưa xe cơ giới, xe máy chuyên dùng không có giấy chứng nhận hoặc tem kiểm định an toàn kỹ thuật và bảo vệ môi trường (đối với loại xe có quy định phải kiểm định) hoặc có nhưng đã hết hiệu lực (hạn sử dụng) từ 01 tháng trở lên (kể cả rơ moóc và sơ mi rơ moóc) tham gia giao thông.\n",
            "\n",
            "**Lý do:**\n",
            "\n",
            "Nội dung của Điểm 32.11.a hoàn toàn trùng khớp với nội dung bạn cung cấp về hành vi \"Điều khiển xe không có giấy chứng nhận hoặc tem kiểm định an toàn kỹ thuật và bảo vệ môi trường (đối với loại xe có quy định phải kiểm định, trừ xe đăng ký tạm thời) hoặc có nhưng đã hết hiệu lực (hạn sử dụng) từ 01 tháng trở lên (kể cả rơ moóc)\".\n",
            "\n",
            "Các chuỗi trích xuất được: ['32.9.b', '32.9.đ', '32.11.a', '32.9.b', '32.11.a']\n",
            "Điểm giống nhất với nội dung bạn cung cấp là:\n",
            "\n",
            "**Điểm 32.9.đ:** Đưa phương tiện có chứng nhận đăng ký xe (hoặc bản sao chứng nhận đăng ký xe có chứng thực kèm theo bản gốc giấy biên nhận của tổ chức tín dụng, chi nhánh ngân hàng nước ngoài trong trường hợp tổ chức tín dụng, chi nhánh ngân hàng nước ngoài giữ bản gốc chứng nhận đăng ký xe), giấy chứng nhận, tem kiểm định an toàn kỹ thuật và bảo vệ môi trường của xe nhưng không do cơ quan có thẩm quyền cấp hoặc bị tẩy xóa tham gia giao thông; đưa phương tiện có chứng nhận đăng ký xe (hoặc bản sao chứng nhận đăng ký xe có chứng thực kèm theo bản gốc giấy biên nhận của tổ chức tín dụng, chi nhánh ngân hàng nước ngoài trong trường hợp tổ chức tín dụng, chi nhánh ngân hàng nước ngoài giữ bản gốc chứng nhận đăng ký xe) nhưng không đúng với số khung, số động cơ (số máy) của xe (kể cả rơ moóc và sơ mi rơ moóc) tham gia giao thông.\n",
            "\n",
            "Các chuỗi trích xuất được: ['32.9.b', '32.9.đ', '32.11.a', '32.9.b', '32.11.a', '32.9.đ']\n"
          ]
        }
      ]
    },
    {
      "cell_type": "code",
      "source": [
        "for i in range(len(matcha)):\n",
        "   G.add_edge(d473[2][i], matcha[i], content = \"Chủ phương tiện\")"
      ],
      "metadata": {
        "id": "Zz__hkFd-fsR"
      },
      "execution_count": null,
      "outputs": []
    },
    {
      "cell_type": "code",
      "source": [
        "matcha = []"
      ],
      "metadata": {
        "id": "YjHkZAB4_QY8"
      },
      "execution_count": null,
      "outputs": []
    },
    {
      "cell_type": "code",
      "source": [
        "G.add_node('20.6.d',content = \"Điều khiển xe ô tô kinh doanh vận tải quá thời gian quy định tại khoản 1 Điều 64 của Luật Trật tự, an toàn giao thông đường bộ; không thực hiện đúng quy định về thời gian nghỉ giữa hai lần lái xe liên tục của người lái xe - Phạt tiền từ 3.000.000 đồng đến 5.000.000 đồng\")"
      ],
      "metadata": {
        "id": "uhdhYY8k_u2r"
      },
      "execution_count": null,
      "outputs": []
    },
    {
      "cell_type": "code",
      "source": [
        "G.add_edge(\"20\", \"20.6.d\")"
      ],
      "metadata": {
        "id": "9hYeTHl2ACH5"
      },
      "execution_count": null,
      "outputs": []
    },
    {
      "cell_type": "code",
      "source": [
        "for i2 in d473[4][:3]:\n",
        "    response = models.generate_content(\"\"\" Cho nội dung sau: \"\"\" + G.nodes[i2]['content'] + \"\"\" Bạn hãy cho tôi biết, chọn ra và nêu rõ số hiệu của 1 điểm \\\n",
        "    giống nhất với nội dung trên trong các điểm dưới đây \\n\"\"\" + case)\n",
        "    print(response.text)\n",
        "    pattern = re.compile(\n",
        "    r'\\*\\*(?:Điểm\\s*)?([0-9]+\\.[0-9]+\\.[a-zđ]):?\\*\\*',\n",
        "    re.IGNORECASE\n",
        "    )\n",
        "\n",
        "    match = re.findall(pattern, response.text)\n",
        "    matcha = matcha + match[:1]\n",
        "    print(\"Các chuỗi trích xuất được:\", matcha)"
      ],
      "metadata": {
        "colab": {
          "base_uri": "https://localhost:8080/",
          "height": 505
        },
        "id": "5_OFUrrD_Zyx",
        "outputId": "ceb5ace2-aeb7-4cd2-e196-bfd8115f39d9",
        "collapsed": true
      },
      "execution_count": null,
      "outputs": [
        {
          "output_type": "stream",
          "name": "stdout",
          "text": [
            "Nội dung bạn cung cấp liên quan đến việc vi phạm thời gian lái xe và thời gian nghỉ của người lái xe kinh doanh vận tải.\n",
            "\n",
            "Điểm giống nhất với nội dung bạn cung cấp là không có trong hai điểm bạn đưa ra. Cả hai điểm 32.9.d và 32.11.đ đều tập trung vào việc chủ xe giao phương tiện cho người khác vi phạm, chứ không trực tiếp đề cập đến hành vi vi phạm về thời gian lái xe và nghỉ ngơi của người lái xe.\n",
            "\n",
            "Để tìm điểm giống nhất, cần tìm các quy định xử phạt trực tiếp người lái xe hoặc chủ xe về hành vi vi phạm thời gian lái xe và nghỉ ngơi theo quy định của pháp luật về giao thông đường bộ.\n",
            "\n",
            "Các chuỗi trích xuất được: []\n",
            "Trong hai điểm bạn cung cấp, không có điểm nào trực tiếp đề cập đến hành vi \"chở quá số người quy định được phép chở của phương tiện\". Tuy nhiên, cả hai điểm đều liên quan đến việc chủ phương tiện giao phương tiện cho người khác thực hiện hành vi vi phạm.\n",
            "\n",
            "Điểm giống nhau duy nhất giữa nội dung bạn cung cấp và hai điểm trên là **việc có hành vi vi phạm giao thông liên quan đến phương tiện**.\n",
            "\n",
            "Do đó, có thể hiểu rằng nếu hành vi \"chở quá số người quy định\" xảy ra do chủ phương tiện giao xe cho người khác, thì hai điểm trên có thể được áp dụng để xử phạt chủ phương tiện (nếu có đủ căn cứ chứng minh).\n",
            "\n",
            "Các chuỗi trích xuất được: []\n",
            "Nội dung bạn cung cấp liên quan đến việc **điều khiển xe ô tô kinh doanh vận tải quá thời gian quy định** và **không thực hiện đúng quy định về thời gian nghỉ giữa hai lần lái xe liên tục**.\n",
            "\n",
            "Trong hai điểm bạn đưa ra, điểm giống nhất với nội dung trên là:\n",
            "\n",
            "**Điểm 32.9.d:** Giao phương tiện hoặc để cho người làm công, người đại diện điều khiển phương tiện thực hiện hành vi vi phạm hoặc trực tiếp điều khiển phương tiện thực hiện hành vi vi phạm - Phạt tiền từ 4.000.000 đồng đến 6.000.000 đồng đối với cá nhân, từ 8.000.000 đồng đến 12.000.000 đồng đối với tổ chức là chủ xe ô tô, xe chở người bốn bánh có gắn động cơ, xe chở hàng bốn bánh có gắn động cơ, xe máy chuyên dùng và các loại xe tương tự xe ô tô\n",
            "\n",
            "**Lý do:**\n",
            "\n",
            "*   Nội dung bạn cung cấp đề cập đến việc vi phạm quy định về thời gian lái xe, và điểm 32.9.d đề cập đến việc giao phương tiện cho người khác thực hiện hành vi vi phạm. Nếu chủ xe hoặc người quản lý giao xe cho lái xe mà biết hoặc cố ý làm ngơ để lái xe vi phạm quy định về thời gian lái xe, thì điểm 32.9.d sẽ áp dụng.\n",
            "*   Điểm 32.11.đ tương tự như 32.9.d nhưng không phù hợp bằng vì mức phạt cao hơn, thường áp dụng cho các vi phạm nghiêm trọng hơn.\n",
            "\n",
            "**Lưu ý quan trọng:** Việc xác định chính xác điểm nào áp dụng còn phụ thuộc vào các tình tiết cụ thể của vụ việc và quy định pháp luật hiện hành. Để có kết luận chính xác nhất, bạn nên tham khảo ý kiến của luật sư hoặc chuyên gia pháp lý.\n",
            "Các chuỗi trích xuất được: ['32.9.d']\n"
          ]
        }
      ]
    },
    {
      "cell_type": "code",
      "source": [
        "matcha = []"
      ],
      "metadata": {
        "id": "stlA1NlGCtiE"
      },
      "execution_count": null,
      "outputs": []
    },
    {
      "cell_type": "code",
      "source": [
        "case = \"\"\n",
        "for i1 in d473[7]:\n",
        "    if G.has_node(i1):\n",
        "       case = case + \"Điểm\" + i1 + \": \" + G.nodes[i1]['content'] + \"\\n\"\n",
        "    print(case)"
      ],
      "metadata": {
        "colab": {
          "base_uri": "https://localhost:8080/"
        },
        "id": "KUcYU0ajCwvb",
        "outputId": "58f41d6b-af20-46fe-c797-ab6b107dda9e"
      },
      "execution_count": null,
      "outputs": [
        {
          "output_type": "stream",
          "name": "stdout",
          "text": [
            "Điểm32.17.c: Đưa phương tiện quá niên hạn sử dụng tham gia giao thông, ; - Không tìm thấy mức phạt\n",
            "\n",
            "Điểm32.17.c: Đưa phương tiện quá niên hạn sử dụng tham gia giao thông, ; - Không tìm thấy mức phạt\n",
            "Điểm32.17.c: Đưa phương tiện quá niên hạn sử dụng tham gia giao thông, ; - Không tìm thấy mức phạt\n",
            "\n"
          ]
        }
      ]
    },
    {
      "cell_type": "code",
      "source": [
        "G.add_node('13.9.a', content = \"Điều khiển xe quá niên hạn sử dụng tham gia giao thông - Tịch thu phương tiện đối với người điều khiển xe\")"
      ],
      "metadata": {
        "id": "3Sf8sNWDENf8"
      },
      "execution_count": null,
      "outputs": []
    },
    {
      "cell_type": "code",
      "source": [
        "G.add_edge('13','13.9.a')"
      ],
      "metadata": {
        "id": "ldV8ClvCEbHH"
      },
      "execution_count": null,
      "outputs": []
    },
    {
      "cell_type": "code",
      "source": [
        "G.add_edge('13.5.c','13.9.a', content = \"trừ hành vi vi phạm quy định tại\")"
      ],
      "metadata": {
        "id": "CKoCD-pbEffC"
      },
      "execution_count": null,
      "outputs": []
    },
    {
      "cell_type": "code",
      "source": [
        "for i2 in d473[6][:1]:\n",
        "    response = models.generate_content(\"\"\" Cho nội dung sau: \"\"\" + G.nodes[i2]['content'] + \"\"\" Bạn hãy cho tôi biết, chọn ra và nêu rõ số hiệu của 1 điểm \\\n",
        "    giống nhất với nội dung trên trong các điểm dưới đây \\n\"\"\" + case)\n",
        "    print(response.text)\n",
        "    pattern = re.compile(\n",
        "    r'\\*\\*(?:Điểm\\s*)?([0-9]+\\.[0-9]+\\.[a-zđ]):?\\*\\*',\n",
        "    re.IGNORECASE\n",
        "    )\n",
        "\n",
        "    match = re.findall(pattern, response.text)\n",
        "    matcha = matcha + match[:1]\n",
        "    print(\"Các chuỗi trích xuất được:\", matcha)"
      ],
      "metadata": {
        "colab": {
          "base_uri": "https://localhost:8080/",
          "height": 193
        },
        "id": "EtB7cEpcDQ1B",
        "outputId": "162629c7-cb4b-4539-d8c6-9d29a57ccdcc"
      },
      "execution_count": null,
      "outputs": [
        {
          "output_type": "stream",
          "name": "stdout",
          "text": [
            "Trong hai điểm bạn cung cấp, cả hai đều giống hệt nhau và giống với nội dung bạn đưa ra ở chỗ:\n",
            "\n",
            "*   **Nội dung:** Cả hai đều đề cập đến hành vi \"Đưa phương tiện quá niên hạn sử dụng tham gia giao thông\".\n",
            "*   **Hình phạt:** Cả hai đều ghi nhận \"Không tìm thấy mức phạt\".\n",
            "\n",
            "Do đó, cả hai điểm đều phù hợp để chọn làm điểm giống nhất.\n",
            "\n",
            "**Lưu ý:** Việc \"Không tìm thấy mức phạt\" có thể chỉ ra rằng thông tin này chưa đầy đủ hoặc cần được tham khảo thêm trong văn bản pháp luật gốc để xác định rõ hình thức xử phạt (nếu có). Hình thức xử phạt thường thấy đối với hành vi này là tịch thu phương tiện.\n",
            "Các chuỗi trích xuất được: []\n"
          ]
        }
      ]
    },
    {
      "cell_type": "code",
      "source": [
        "for i in range(len(matcha)):\n",
        "   G.add_edge(d473[6][i], matcha[i], content = \"Chủ phương tiện\")"
      ],
      "metadata": {
        "id": "AxEnF3amFDZq"
      },
      "execution_count": null,
      "outputs": []
    },
    {
      "cell_type": "code",
      "source": [
        "matcha = []\n",
        "case = \"\"\n",
        "for i1 in d473[9]:\n",
        "    if G.has_node(i1):\n",
        "       case = case + \"Điểm\" + i1 + \": \" + G.nodes[i1]['content'] + \"\\n\"\n",
        "    print(case)"
      ],
      "metadata": {
        "colab": {
          "base_uri": "https://localhost:8080/"
        },
        "id": "nNfQS_OMFxyS",
        "outputId": "d4c77cff-ebfc-4a0f-ea6e-4fd29edd5500"
      },
      "execution_count": null,
      "outputs": [
        {
          "output_type": "stream",
          "name": "stdout",
          "text": [
            "Điểm26.7.i: Sử dụng phương tiện kinh doanh vận tải có niên hạn sử dụng không bảo đảm điều kiện của hình thức kinh doanh đã đăng ký. - Phạt tiền từ 5.000.000 đồng đến 6.000.000 đồng đối với cá nhân, từ 10.000.000 đồng đến 12.000.000 đồng đối với tổ chức kinh doanh vận tải, dịch vụ hỗ trợ vận tải\n",
            "\n",
            "Điểm26.7.i: Sử dụng phương tiện kinh doanh vận tải có niên hạn sử dụng không bảo đảm điều kiện của hình thức kinh doanh đã đăng ký. - Phạt tiền từ 5.000.000 đồng đến 6.000.000 đồng đối với cá nhân, từ 10.000.000 đồng đến 12.000.000 đồng đối với tổ chức kinh doanh vận tải, dịch vụ hỗ trợ vận tải\n",
            "Điểm26.7.i: Sử dụng phương tiện kinh doanh vận tải có niên hạn sử dụng không bảo đảm điều kiện của hình thức kinh doanh đã đăng ký. - Phạt tiền từ 5.000.000 đồng đến 6.000.000 đồng đối với cá nhân, từ 10.000.000 đồng đến 12.000.000 đồng đối với tổ chức kinh doanh vận tải, dịch vụ hỗ trợ vận tải\n",
            "\n"
          ]
        }
      ]
    },
    {
      "cell_type": "code",
      "source": [
        "for i2 in d473[8][:1]:\n",
        "    response = models.generate_content(\"\"\" Cho nội dung sau: \"\"\" + G.nodes[i2]['content'] + \"\"\" Bạn hãy cho tôi biết, chọn ra và nêu rõ số hiệu của 1 điểm \\\n",
        "    giống nhất với nội dung trên trong các điểm dưới đây \\n\"\"\" + case)\n",
        "    print(response.text)\n",
        "    pattern = re.compile(\n",
        "    r'\\*\\*(?:Điểm\\s*)?([0-9]+\\.[0-9]+\\.[a-zđ]):?\\*\\*',\n",
        "    re.IGNORECASE\n",
        "    )\n",
        "\n",
        "    match = re.findall(pattern, response.text)\n",
        "    matcha = matcha + match[:1]\n",
        "    print(\"Các chuỗi trích xuất được:\", matcha)"
      ],
      "metadata": {
        "colab": {
          "base_uri": "https://localhost:8080/",
          "height": 158
        },
        "id": "5O5OqRRHGFPi",
        "outputId": "386e0b28-7767-4c80-84ab-2824ad921a12"
      },
      "execution_count": null,
      "outputs": [
        {
          "output_type": "stream",
          "name": "stdout",
          "text": [
            "Điểm giống nhất với nội dung bạn cung cấp là:\n",
            "\n",
            "**Điểm 26.7.i:** Sử dụng phương tiện kinh doanh vận tải có niên hạn sử dụng không bảo đảm điều kiện của hình thức kinh doanh đã đăng ký.\n",
            "\n",
            "Điểm này hoàn toàn trùng khớp với nội dung bạn đưa ra.\n",
            "\n",
            "Các chuỗi trích xuất được: ['26.7.i']\n"
          ]
        }
      ]
    },
    {
      "cell_type": "code",
      "source": [
        "for i in range(len(matcha)):\n",
        "   G.add_edge(d473[6][i], matcha[i], content = \"Chủ phương tiện\")"
      ],
      "metadata": {
        "id": "4sBfk6ZJGK1q"
      },
      "execution_count": null,
      "outputs": []
    },
    {
      "cell_type": "code",
      "source": [
        "matcha = []\n",
        "case = \"\"\n",
        "for i1 in d473[11]:\n",
        "    if G.has_node(i1):\n",
        "       case = case + \"Điểm\" + i1 + \": \" + G.nodes[i1]['content'] + \"\\n\"\n",
        "    print(case)"
      ],
      "metadata": {
        "colab": {
          "base_uri": "https://localhost:8080/"
        },
        "id": "tfMUv-JrGQcT",
        "outputId": "a10db8b8-5adb-4286-f4a6-ab231b88bbe0"
      },
      "execution_count": null,
      "outputs": [
        {
          "output_type": "stream",
          "name": "stdout",
          "text": [
            "Điểm32.11.d: Đưa xe ô tô kinh doanh vận tải hành khách lắp thêm hoặc tháo bớt ghế, giường nằm hoặc có kích thước khoang chở hành lý (hầm xe) không đúng với thông số kỹ thuật được ghi trong giấy chứng nhận kiểm định an toàn kỹ thuật và bảo vệ môi trường của xe tham gia giao thông; - Phạt tiền từ 10.000.000 đồng đến 12.000.000 đồng đối với cá nhân, từ 20.000.000 đồng đến 24.000.000 đồng đối với tổ chức là chủ xe ô tô, xe chở người bốn bánh có gắn động cơ, xe chở hàng bốn bánh có gắn động cơ, xe máy chuyên dùng và các loại xe tương tự xe ô tô\n",
            "\n",
            "Điểm32.11.d: Đưa xe ô tô kinh doanh vận tải hành khách lắp thêm hoặc tháo bớt ghế, giường nằm hoặc có kích thước khoang chở hành lý (hầm xe) không đúng với thông số kỹ thuật được ghi trong giấy chứng nhận kiểm định an toàn kỹ thuật và bảo vệ môi trường của xe tham gia giao thông; - Phạt tiền từ 10.000.000 đồng đến 12.000.000 đồng đối với cá nhân, từ 20.000.000 đồng đến 24.000.000 đồng đối với tổ chức là chủ xe ô tô, xe chở người bốn bánh có gắn động cơ, xe chở hàng bốn bánh có gắn động cơ, xe máy chuyên dùng và các loại xe tương tự xe ô tô\n",
            "Điểm32.14.h: Đưa xe ô tô tải (kể cả rơ moóc và sơ mi rơ moóc) có kích thước thùng xe không đúng với thông số kỹ thuật được ghi trong giấy chứng nhận kiểm định an toàn kỹ thuật và bảo vệ môi trường của xe tham gia giao thông; - Phạt tiền từ 28.000.000 đồng đến 30.000.000 đồng đối với cá nhân, từ 56.000.000 đồng đến 60.000.000 đồng đối với tổ chức là chủ xe ô tô, xe chở người bốn bánh có gắn động cơ, xe chở hàng bốn bánh có gắn động cơ, xe máy chuyên dùng và các loại xe tương tự xe ô tô\n",
            "\n"
          ]
        }
      ]
    },
    {
      "cell_type": "code",
      "source": [
        "for i2 in d473[10][:2]:\n",
        "    response = models.generate_content(\"\"\" Cho nội dung sau: \"\"\" + G.nodes[i2]['content'] + \"\"\" Bạn hãy cho tôi biết, chọn ra và nêu rõ số hiệu của 1 điểm \\\n",
        "    giống nhất với nội dung trên trong các điểm dưới đây \\n\"\"\" + case)\n",
        "    print(response.text)\n",
        "    pattern = re.compile(\n",
        "    r'\\*\\*(?:Điểm\\s*)?([0-9]+\\.[0-9]+\\.[a-zđ]):?\\*\\*',\n",
        "    re.IGNORECASE\n",
        "    )\n",
        "\n",
        "    match = re.findall(pattern, response.text)\n",
        "    matcha = matcha + match[:1]\n",
        "    print(\"Các chuỗi trích xuất được:\", matcha)"
      ],
      "metadata": {
        "colab": {
          "base_uri": "https://localhost:8080/",
          "height": 349
        },
        "id": "g-hK_tMLGTsB",
        "outputId": "5704552e-c7b2-4a31-8be3-dbe0b4e51288",
        "collapsed": true
      },
      "execution_count": null,
      "outputs": [
        {
          "output_type": "stream",
          "name": "stderr",
          "text": [
            "ERROR:tornado.access:503 POST /v1beta/models/gemini-2.0-flash:generateContent?%24alt=json%3Benum-encoding%3Dint (127.0.0.1) 1341.15ms\n",
            "ERROR:tornado.access:503 POST /v1beta/models/gemini-2.0-flash:generateContent?%24alt=json%3Benum-encoding%3Dint (127.0.0.1) 936.83ms\n"
          ]
        },
        {
          "output_type": "stream",
          "name": "stdout",
          "text": [
            "Điểm giống nhất với nội dung bạn cung cấp là:\n",
            "\n",
            "**Điểm 32.11.d:** Đưa xe ô tô kinh doanh vận tải hành khách lắp thêm hoặc tháo bớt ghế, giường nằm hoặc có kích thước khoang chở hành lý (hầm xe) không đúng với thông số kỹ thuật được ghi trong giấy chứng nhận kiểm định an toàn kỹ thuật và bảo vệ môi trường của xe tham gia giao thông.\n",
            "\n",
            "**Lý do:**\n",
            "\n",
            "Điểm 32.11.d mô tả chính xác hành vi \"Điều khiển xe ô tô kinh doanh vận tải hành khách lắp thêm hoặc tháo bớt ghế, giường nằm hoặc có kích thước khoang chở hành lý (hầm xe) không đúng với thông số kỹ thuật được ghi trong giấy chứng nhận kiểm định an toàn kỹ thuật và bảo vệ môi trường của xe\" như trong nội dung bạn đưa ra.\n",
            "\n",
            "Các chuỗi trích xuất được: ['32.11.d']\n",
            "Điểm giống nhất với nội dung bạn cung cấp là:\n",
            "\n",
            "**Điểm 32.14.h:** Đưa xe ô tô tải (kể cả rơ moóc và sơ mi rơ moóc) có kích thước thùng xe không đúng với thông số kỹ thuật được ghi trong giấy chứng nhận kiểm định an toàn kỹ thuật và bảo vệ môi trường của xe tham gia giao thông.\n",
            "\n",
            "Điểm này giống hoàn toàn về hành vi vi phạm: điều khiển xe ô tô tải (kể cả rơ moóc và sơ mi rơ moóc) có kích thước thùng xe không đúng với thông số kỹ thuật đã được kiểm định.\n",
            "\n",
            "Các chuỗi trích xuất được: ['32.11.d', '32.14.h']\n"
          ]
        }
      ]
    },
    {
      "cell_type": "markdown",
      "source": [
        "***Xử lý thủ công những điều khoản Chương 3***"
      ],
      "metadata": {
        "id": "-2BZdODgzxQ5"
      }
    },
    {
      "cell_type": "markdown",
      "source": [
        "Điều 47 khoản 6 điểm g"
      ],
      "metadata": {
        "id": "HQFvHtmn3ZMB"
      }
    },
    {
      "cell_type": "code",
      "source": [
        "G.add_node(\"47.6.g\", content = \"Đối với tổ hợp xe (gồm xe ô tô kéo theo rơ moóc hoặc sơ mi rơ moóc tham gia giao thông trên đường bộ), trong trường hợp chủ của xe ô tô không đồng thời là chủ của rơ moóc, sơ mi rơ moóc thì chủ của xe ô tô là đối tượng để áp dụng xử phạt như chủ phương tiện đối với các vi phạm liên quan đến rơ moóc, sơ mi rơ moóc được kéo theo tham gia giao thông trên đường bộ.\")"
      ],
      "metadata": {
        "id": "a8e2Jw-42z2h"
      },
      "execution_count": null,
      "outputs": []
    },
    {
      "cell_type": "code",
      "source": [
        "G.add_edge(\"47.6\",\"47.6.g\")"
      ],
      "metadata": {
        "id": "dPgz6oph-WNC"
      },
      "execution_count": null,
      "outputs": []
    },
    {
      "cell_type": "markdown",
      "source": [
        "Điều 47 khoản 10"
      ],
      "metadata": {
        "id": "zPNRQ_45-tfK"
      }
    },
    {
      "cell_type": "code",
      "source": [
        "G.add_node(\"47.10\", content = \"Việc xác minh để phát hiện hành vi vi phạm được thực hiện thông qua công tác điều tra, giải quyết vụ tai nạn giao thông; qua công tác đăng ký xe; qua công tác xử lý vụ việc vi phạm hành chính tại trụ sở đơn vị.\")"
      ],
      "metadata": {
        "id": "MTHoqxTN-rHz"
      },
      "execution_count": null,
      "outputs": []
    },
    {
      "cell_type": "code",
      "source": [
        "G.add_edge(\"32.3.a\", \"47.10\", content = \"Thủ tục xử phạt\")"
      ],
      "metadata": {
        "id": "aYlzBWC5_GOy"
      },
      "execution_count": null,
      "outputs": []
    },
    {
      "cell_type": "code",
      "source": [
        "G.add_edge(\"32.7.h\", \"47.10\", content = \"Thủ tục xử phạt\")"
      ],
      "metadata": {
        "id": "HKwqBBOO_UQp"
      },
      "execution_count": null,
      "outputs": []
    },
    {
      "cell_type": "markdown",
      "source": [
        "Điều 48 khoản 3 điểm a"
      ],
      "metadata": {
        "id": "wd3WVKDK_3-J"
      }
    },
    {
      "cell_type": "code",
      "source": [
        "G.add_node(\"48.3.a\", content = \"Đối với trường hợp tại thời điểm kiểm tra, người điều khiển phương tiện không xuất trình được một, một số hoặc tất cả các giấy tờ (giấy phép lái xe, chứng nhận đăng ký xe (hoặc bản sao chứng nhận đăng ký xe có chứng thực kèm theo bản gốc giấy biên nhận còn hiệu lực của tổ chức tín dụng, chi nhánh ngân hàng nước ngoài trong trường hợp tổ chức tín dụng, chi nhánh ngân hàng nước ngoài giữ bản gốc chứng nhận đăng ký xe), giấy chứng nhận kiểm định an toàn kỹ thuật và bảo vệ môi trường) theo quy định (bản giấy hoặc thông tin của các giấy tờ được tích hợp trong tài khoản định danh điện tử) thì Người cỏ thẩm quyền tiến hành lập biên bản vi phạm hành chính đối với người điều khiển phương tiện về hành vi không có giấy tờ (tương ứng với những loại giấy tờ không xuất trình được), đồng thời lập biên bản vi phạm hành chính đối với chủ phương tiện và tạm giữ phương tiện theo quy định;\")"
      ],
      "metadata": {
        "id": "ppdbvKwH_3Op"
      },
      "execution_count": null,
      "outputs": []
    },
    {
      "cell_type": "code",
      "source": [
        "for i in list(G.neighbors(\"32\")):\n",
        "   G.add_edge(i, \"48.3.a\", content = \"Thủ tục xử phạt\")"
      ],
      "metadata": {
        "id": "R4PnQbNcAtww"
      },
      "execution_count": null,
      "outputs": []
    },
    {
      "cell_type": "markdown",
      "source": [
        "Điểm 48 khoản 3 điểm c"
      ],
      "metadata": {
        "id": "KogVty0TBeOh"
      }
    },
    {
      "cell_type": "code",
      "source": [
        "G.add_node(\"48.3.c\", content = \"Trong thời hạn hẹn đến giải quyết vụ việc vi phạm ghi trong biên bản vi phạm hành chính, nếu người vi phạm xuất trình được các giấy tờ hoặc thông tin của các giấy tờ được tích hợp trong tài khoản định danh điện tử theo quy định thì người có thẩm quyền không ra quyết định xử phạt vi phạm hành chính đối với hành vi vi phạm không có giấy tờ, không mang theo giấy tờ và không xử phạt đối với chủ phương tiện\")"
      ],
      "metadata": {
        "id": "ahVbwwjMBcl9"
      },
      "execution_count": null,
      "outputs": []
    },
    {
      "cell_type": "code",
      "source": [
        "G.add_edge(\"48.3.b\", \"48.3.c\", content = \"trừ trường hợp quy định tại\")"
      ],
      "metadata": {
        "id": "PnWO-CCzByq4"
      },
      "execution_count": null,
      "outputs": []
    },
    {
      "cell_type": "markdown",
      "source": [
        "Điều 48 khoản 4"
      ],
      "metadata": {
        "id": "vHZP1aQKDvR4"
      }
    },
    {
      "cell_type": "code",
      "source": [
        "G.add_edge(\"48.3.a\", \"48.4\", content = \"Thủ tục xử phạt\")\n",
        "G.add_edge(\"48.3.c\", \"48.4\", content = \"Thủ tục xử phạt\")"
      ],
      "metadata": {
        "id": "WLwH86nFD0IR"
      },
      "execution_count": null,
      "outputs": []
    },
    {
      "cell_type": "code",
      "source": [
        "G.add_edge(\"48.3.b\", \"48.4\", content = \"Thủ tục xử phạt\")\n",
        "G.add_edge(\"48.3.d\", \"48.4\", content = \"Thủ tục xử phạt\")"
      ],
      "metadata": {
        "id": "4hJmHJA_EFsD"
      },
      "execution_count": null,
      "outputs": []
    },
    {
      "cell_type": "markdown",
      "source": [
        "Điều 51"
      ],
      "metadata": {
        "id": "p0TLixYtEzxb"
      }
    },
    {
      "cell_type": "code",
      "source": [
        "G.add_node(\"51.2.b\", content = \"Ngay sau khi dữ liệu điểm giấy phép lái xe được phục hồi, Cơ sở dữ liệu về xử lý vi phạm hành chính về trật tự, an toàn giao thông đường bộ sẽ tự động chuyển thông tin thông báo cho người được phục hồi điểm giấy phép lái xe biết việc phục hồi điểm\")"
      ],
      "metadata": {
        "id": "XIdmDl60E1Rm"
      },
      "execution_count": null,
      "outputs": []
    },
    {
      "cell_type": "code",
      "source": [
        "G.add_edge(\"51.2.c\", \"51.2.b\", content = \"Thủ tục phục hồi bổ sung\")"
      ],
      "metadata": {
        "id": "nZ_kDkYiH3Qi"
      },
      "execution_count": null,
      "outputs": []
    },
    {
      "cell_type": "code",
      "source": [
        "G.add_node(\"51.3.b\", content = \"Ngay sau khi dữ liệu điểm giấy phép lái xe được phục hồi đủ 12 điểm thì Cục trưởng Cục Cảnh sát giao thông, Trưởng phòng Cảnh sát giao thông nơi tổ chức kiểm tra kiến thức pháp luật về trật tự, an toàn giao thông đường bộ thông báo cho người được phục hồi điểm giấy phép lái xe biết việc phục hồi điểm\")"
      ],
      "metadata": {
        "id": "5jwbAyTMIJBB"
      },
      "execution_count": null,
      "outputs": []
    },
    {
      "cell_type": "code",
      "source": [
        "G.add_edge(\"51.3\", \"51.3.b\")"
      ],
      "metadata": {
        "id": "Xg4o-xSwIk8h"
      },
      "execution_count": null,
      "outputs": []
    },
    {
      "cell_type": "code",
      "source": [
        "G.add_node(\"51.1.a\", content = \"Cục trưởng Cục Cảnh sát giao thông có trách nhiệm quản lý, vận hành Cơ sở dữ liệu về xử lý vi phạm hành chính về trật tự, an toàn giao thông đường bộ để thực hiện cập nhật, tự động phục hồi điểm giấy phép lái xe đối với các trường hợp này\")"
      ],
      "metadata": {
        "id": "1UVnME0sJPEH"
      },
      "execution_count": null,
      "outputs": []
    },
    {
      "cell_type": "code",
      "source": [
        "G.add_node(\"51.1.b\", content = \"Cục trưởng Cục Cảnh sát giao thông, Trưởng phòng Cảnh sát giao thông nơi tổ chức kiểm tra kiến thức pháp luật về trật tự, an toàn giao thông đường bộ có thẩm quyền phục hồi điểm cho giấy phép lái xe đối với trường hợp này\")"
      ],
      "metadata": {
        "id": "O5FQN1P7JaMv"
      },
      "execution_count": null,
      "outputs": []
    },
    {
      "cell_type": "code",
      "source": [
        "for i in list(G.neighbors(\"51.2\")):\n",
        "   G.add_edge(i, \"51.1.a\", content = \"Thẩm quyền phục hồi điểm\")"
      ],
      "metadata": {
        "id": "bF-NiDcNIxf3"
      },
      "execution_count": null,
      "outputs": []
    },
    {
      "cell_type": "code",
      "source": [
        "for i in list(G.neighbors(\"51.3\")):\n",
        "   G.add_edge(i, \"51.1.b\", content = \"Thẩm quyền phục hồi điểm\")"
      ],
      "metadata": {
        "id": "U4CT0rW4J2Kv"
      },
      "execution_count": null,
      "outputs": []
    },
    {
      "cell_type": "markdown",
      "source": [
        "Ngày 13/5/2025"
      ],
      "metadata": {
        "id": "9Vw2egGrmF1R"
      }
    },
    {
      "cell_type": "markdown",
      "source": [
        "Bổ sung nốt khoản 2 Điều 1"
      ],
      "metadata": {
        "id": "Q_anczHYmKWs"
      }
    },
    {
      "cell_type": "code",
      "source": [
        "G.add_node(\"2.2\", content = \"Tổ chức bao gồm\")"
      ],
      "metadata": {
        "id": "EIsIlPfnlFMB"
      },
      "execution_count": null,
      "outputs": []
    },
    {
      "cell_type": "code",
      "source": [
        "G.add_node(\"2.2.a\", content = \"Cơ quan nhà nước có hành vi vi phạm mà hành vi đó không thuộc nhiệm vụ quản lý nhà nước được giao\")"
      ],
      "metadata": {
        "id": "KIGf4NWrnjWH"
      },
      "execution_count": null,
      "outputs": []
    },
    {
      "cell_type": "code",
      "source": [
        "G.add_edge(\"2.2\", \"2.2.a\")"
      ],
      "metadata": {
        "id": "Mlfa1PhIquob"
      },
      "execution_count": null,
      "outputs": []
    },
    {
      "cell_type": "code",
      "source": [
        "G.add_node(\"2.2.b\", content = \"Đơn vị sự nghiệp công lập;\")"
      ],
      "metadata": {
        "id": "nKOETASUoHRF"
      },
      "execution_count": null,
      "outputs": []
    },
    {
      "cell_type": "code",
      "source": [
        "G.add_edge(\"2.2\", \"2.2.b\")"
      ],
      "metadata": {
        "id": "J39y8h46qvIl"
      },
      "execution_count": null,
      "outputs": []
    },
    {
      "cell_type": "code",
      "source": [
        "G.add_node(\"2.2.c\", content = \"Tổ chức chính trị - xã hội, tổ chức chính trị xã hội nghề nghiệp, tổ chức xã hội, tổ chức xã hội nghề nghiệp;\")"
      ],
      "metadata": {
        "id": "wHYfwr_coH-D"
      },
      "execution_count": null,
      "outputs": []
    },
    {
      "cell_type": "code",
      "source": [
        "G.add_edge(\"2.2\", \"2.2.c\")"
      ],
      "metadata": {
        "id": "-exblPUdqvlT"
      },
      "execution_count": null,
      "outputs": []
    },
    {
      "cell_type": "code",
      "source": [
        "G.add_node(\"2.2.d\", content = \"Tổ chức kinh tế được thành lập theo quy định của Luật Doanh nghiệp gồm: doanh nghiệp tư nhân, công ty cổ phần, công ty trách nhiệm hữu hạn, công ty hợp danh và các đơn vị phụ thuộc doanh nghiệp (chi nhánh, văn phòng đại diện);\")"
      ],
      "metadata": {
        "id": "zO1qF5R6oJNN"
      },
      "execution_count": null,
      "outputs": []
    },
    {
      "cell_type": "code",
      "source": [
        "G.add_edge(\"2.2\", \"2.2.d\")"
      ],
      "metadata": {
        "id": "M9hPE6V8qwE0"
      },
      "execution_count": null,
      "outputs": []
    },
    {
      "cell_type": "code",
      "source": [
        "G.add_node(\"2.2.đ\", content = \"Tổ chức kinh tế được thành lập theo quy định của Luật Hợp tác xã gồm: tổ hợp tác, hợp tác xã, liên hiệp hợp tác xã;\")"
      ],
      "metadata": {
        "id": "7KPtcbpGoL5M"
      },
      "execution_count": null,
      "outputs": []
    },
    {
      "cell_type": "code",
      "source": [
        "G.add_edge(\"2.2\", \"2.2.đ\")"
      ],
      "metadata": {
        "id": "SvLUZIdaqwmr"
      },
      "execution_count": null,
      "outputs": []
    },
    {
      "cell_type": "code",
      "source": [
        "G.add_node(\"2.2.e\", content = \"Cơ sở đào tạo lái xe, trung tâm sát hạch lái xe, cơ sở đăng kiểm xe cơ giới, xe máy chuyên dùng, cơ sở thử nghiệm, sản xuất, lắp ráp, nhập khẩu, bảo hành, bảo dưỡng xe cơ giới, xe máy chuyên dùng;\")"
      ],
      "metadata": {
        "id": "UsSnzJ0HoNBq"
      },
      "execution_count": null,
      "outputs": []
    },
    {
      "cell_type": "code",
      "source": [
        "G.add_edge(\"2.2\", \"2.2.e\")"
      ],
      "metadata": {
        "id": "8wXpF9RUqxNi"
      },
      "execution_count": null,
      "outputs": []
    },
    {
      "cell_type": "code",
      "source": [
        "G.add_node(\"2.2.g\", content = \"Các tổ chức khác được thành lập theo quy định của pháp luật\")"
      ],
      "metadata": {
        "id": "Bj84TEsLoOCi"
      },
      "execution_count": null,
      "outputs": []
    },
    {
      "cell_type": "code",
      "source": [
        "G.add_edge(\"2.2\", \"2.2.g\")"
      ],
      "metadata": {
        "id": "DBfLYy0nqxtW"
      },
      "execution_count": null,
      "outputs": []
    },
    {
      "cell_type": "code",
      "source": [
        "G.add_node(\"2.2.h\", content = \"Cơ quan, tổ chức nước ngoài được cấp có thẩm quyền của Việt Nam cho phép hoạt động trên lãnh thổ Việt Nam.\")"
      ],
      "metadata": {
        "id": "mhAWH_hRoOZc"
      },
      "execution_count": null,
      "outputs": []
    },
    {
      "cell_type": "code",
      "source": [
        "G.add_edge(\"2.2\", \"2.2.h\")"
      ],
      "metadata": {
        "id": "Wo9sUYnZqyNF"
      },
      "execution_count": null,
      "outputs": []
    },
    {
      "cell_type": "code",
      "source": [
        "G.add_edge(\"2.1\",\"2.2\", content = \"Đi kèm\")"
      ],
      "metadata": {
        "id": "8hc97Db7o0H9"
      },
      "execution_count": null,
      "outputs": []
    },
    {
      "cell_type": "markdown",
      "source": [
        "Bổ sung Điều 38 khoản 3"
      ],
      "metadata": {
        "id": "MCMiWPELzHz_"
      }
    },
    {
      "cell_type": "code",
      "source": [
        "G.add_node(\"38.3\", content = \"Tịch thu phương tiện đối với người điều khiển phương tiện tái phạm hành vi\")"
      ],
      "metadata": {
        "id": "v_6Lc1NKzLgw"
      },
      "execution_count": null,
      "outputs": []
    },
    {
      "cell_type": "code",
      "source": [
        "from networkx.classes.graphviews import subgraph_view\n",
        "import re"
      ],
      "metadata": {
        "id": "zWnGvdKd0nz-"
      },
      "execution_count": null,
      "outputs": []
    },
    {
      "cell_type": "code",
      "source": [
        "p1 = \"38.1\"\n",
        "p2 = \"38.2\"\n",
        "regex1 = re.compile(rf\"^{re.escape(p1)}\\.[a-zđ]$\")\n",
        "regex2 = re.compile(rf\"^{re.escape(p2)}\\.[a-zđ]$\")\n",
        "def filter_node1(n):\n",
        "    return bool(regex1.match(n))\n",
        "def filter_node2(n):\n",
        "    return bool(regex2.match(n))\n",
        "# Tạo view động chỉ chứa các nút thỏa mãn\n",
        "H_view1 = subgraph_view(G, filter_node=filter_node1)\n",
        "H_view2 = subgraph_view(G, filter_node=filter_node2)\n",
        "# H_view.nodes chỉ gồm ['63.1.a', '63.1.b', '63.1.d']\n",
        "for i in list(H_view1.nodes):\n",
        "  G.add_edge(i, \"38.3\", content = \"Hình phạt bổ sung\")\n",
        "for i in list(H_view2.nodes):\n",
        "  G.add_edge(i, \"38.3\", content = \"Hình phạt bổ sung\")"
      ],
      "metadata": {
        "id": "nI80bMYtzWeH"
      },
      "execution_count": null,
      "outputs": []
    },
    {
      "cell_type": "markdown",
      "source": [
        "Các luật khác"
      ],
      "metadata": {
        "id": "RPPQDyBo_jDc"
      }
    },
    {
      "cell_type": "markdown",
      "source": [
        "Luật Hàng hải"
      ],
      "metadata": {
        "id": "gz-WKuHIFXkT"
      }
    },
    {
      "cell_type": "code",
      "source": [
        "import re\n",
        "import networkx as nx\n",
        "from docx import Document\n",
        "\n",
        "# Định nghĩa các biểu thức chính quy\n",
        "chapter_pattern = r\"Chương\\s+([0-9IVXLCDM]+)\\.\\s+(.+)\"\n",
        "article_pattern = r\"Điều\\s+(\\d+)\\.\\s+(.+)\"\n",
        "clause_pattern = r\"(\\d+)\\.\\s+(.+)\"\n",
        "subclause_pattern = r\"([a-zđ])\\)\\s+(.+)\"\n",
        "G.add_node(\"Luật Hàng hải\")\n",
        "\n",
        "def process_document(doc_path):\n",
        "    # Đọc văn bản từ file .docx\n",
        "    doc = Document(doc_path)\n",
        "    lines = [para.text for para in doc.paragraphs if para.text.strip()]\n",
        "\n",
        "    current_chapter = None\n",
        "    current_article = None\n",
        "    current_clause = None\n",
        "    clause_num = None\n",
        "\n",
        "    for line in lines:\n",
        "        line = line.strip()\n",
        "        if not line:\n",
        "            continue\n",
        "\n",
        "        # Phát hiện Điều\n",
        "        article_match = re.match(article_pattern, line)\n",
        "        if article_match:\n",
        "       #     process_previous_clause()\n",
        "            article_num = article_match.group(1)\n",
        "            article_title = article_match.group(2)\n",
        "            article_node = article_num\n",
        "            G.add_node(f\"hh.{article_node}\", content=article_title)\n",
        "            G.add_edge(\"Luật Hàng hải\", f\"hh.{article_node}\")\n",
        "            current_article = article_node\n",
        "            continue\n",
        "\n",
        "        clause_match = re.match(clause_pattern, line)\n",
        "        # Phát hiện Khoản:\n",
        "        if clause_match:\n",
        "            #    process_previous_clause()\n",
        "                clause_num = clause_match.group(1)\n",
        "                clause_title = clause_match.group(2)\n",
        "                clause_node = f\"{current_article}.{clause_num}\"\n",
        "                if clause_node not in result:\n",
        "                   G.add_node(f\"hh.{clause_node}\", content=clause_title)\n",
        "                if current_article and clause_node not in result:\n",
        "                    G.add_edge(f\"hh.{current_article}\", f\"hh.{clause_node}\")\n",
        "                current_clause = clause_node\n",
        "                continue\n",
        "        subclause_match = re.match(subclause_pattern, line)\n",
        "        if subclause_match:\n",
        "            subclause_num = subclause_match.group(1)\n",
        "            subclause_title = subclause_match.group(2)\n",
        "            subclause_node = f\"{current_clause}.{subclause_num}\"\n",
        "            if subclause_node not in result:\n",
        "               G.add_node(f\"hh.{subclause_node}\", content=subclause_title)\n",
        "            if current_clause and subclause_node not in result:\n",
        "                G.add_edge(f\"hh.{current_clause}\", f\"hh.{subclause_node}\")\n",
        "            continue\n",
        "# Ví dụ sử dụng\n",
        "doc_path = \"/content/Luat_Hang_Hai.docx\"  # Thay bằng đường dẫn thực tế tới file của bạn\n",
        "process_document(doc_path)\n",
        "\n",
        "# In một số nút và cạnh để kiểm tra\n",
        "for node in list(G.nodes(data=True))[:10]:  # Lấy 5 nút đầu tiên cùng với dữ liệu\n",
        "    node_id = node[0]  # ID của nút\n",
        "    node_data = node[1]  # Thuộc tính của nút (dữ liệu)\n",
        "    content = node_data.get(\"content\", \"No content\")  # Lấy nội dung (nếu có) hoặc mặc định nếu không có\n",
        "    print(f\"Node {node_id}: {content}\")\n",
        "print(\"\\nEdges:\")\n",
        "for u, v, data in list(G.edges(data=True))[:5]:  # Lấy các cạnh cùng với dữ liệu\n",
        "    print(f\"Edge between {u} and {v}\")\n",
        "    print(\"Content:\", data.get(\"content\", \"No content\"))  # Lấy thuộc tính 'content' của cạnh"
      ],
      "metadata": {
        "colab": {
          "base_uri": "https://localhost:8080/"
        },
        "id": "QtOOtgVcFWWU",
        "outputId": "65926e71-b627-46ac-ea1f-31230a2954d0",
        "collapsed": true
      },
      "execution_count": null,
      "outputs": [
        {
          "output_type": "stream",
          "name": "stdout",
          "text": [
            "Node Chương II: HÀNH VI VI PHẠM, HÌNH THỨC, MỨC XỬ PHẠT, MỨC TRỪ ĐIỂM GIẤY PHÉP LÁI XE VÀ BIỆN PHÁP KHẮC PHỤC HẬU QUẢ VI PHẠM HÀNH CHÍNH VỀ TRẬT TỰ, AN TOÀN GIAO THÔNG TRONG LĨNH VỰC GIAO THÔNG ĐƯỜNG BỘ\n",
            "Node Mục 1: VI PHẠM QUY TẮC GIAO THÔNG ĐƯỜNG BỘ\n",
            "Node 6: Xử phạt, trừ điểm giấy phép lái xe của người điều khiển xe ô tô, xe chở người bốn bánh có gắn động cơ, xe chở hàng bốn bánh có gắn động cơ và các loại xe tương tự xe ô tô vi phạm quy tắc giao thông đường bộ\n",
            "Node 6.1.b: Khi ra, vào vị trí dừng xe, đỗ xe không có tín hiệu báo cho người điều khiển phương tiện khác biết; - Phạt tiền từ 400.000 đồng đến 600.000 đồng đối với người điều khiển xe\n",
            "Node 6.1.d: Không gắn biển báo hiệu ở phía trước xe kéo, phía sau xe được kéo; điều khiển xe kéo rơ moóc không có biển báo hiệu theo quy định; - Phạt tiền từ 400.000 đồng đến 600.000 đồng đối với người điều khiển xe\n",
            "Node 6.1.đ: Sử dụng còi trong thời gian từ 22 giờ ngày hôm trước đến 05 giờ ngày hôm sau trong khu đông dân cư, khu vực cơ sở khám bệnh, chữa bệnh, trừ các xe ưu tiên đang đi làm nhiệm vụ theo quy định. - Phạt tiền từ 400.000 đồng đến 600.000 đồng đối với người điều khiển xe\n",
            "Node 6.2.b: Chở người trên buồng lái quá số lượng quy định; - Phạt tiền từ 600.000 đồng đến 800.000 đồng đối với người điều khiển xe\n",
            "Node 6.2.d: Dừng xe, đỗ xe trên phần đường xe chạy ở đoạn đường ngoài đô thị nơi có lề đường rộng; dừng xe, đỗ xe không sát mép đường phía bên phải theo chiều đi ở nơi đường có lề đường hẹp hoặc không có lề đường; dừng xe, đỗ xe ngược với chiều lưu thông của làn đường; dừng xe, đỗ xe trên dải phân cách cố định ở giữa hai phần đường xe chạy; đỗ xe trên dốc không chèn bánh; - Phạt tiền từ 600.000 đồng đến 800.000 đồng đối với người điều khiển xe\n",
            "Node 6.3.a: Điều khiển xe chạy quá tốc độ quy định từ 05 km/h đến dưới 10 km/h; - Phạt tiền từ 800.000 đồng đến 1.000.000 đồng đối với người điều khiển xe\n",
            "Node 6.3.b: Sử dụng còi, rú ga liên tục; sử dụng còi hơi, sử dụng đèn chiếu xa khi gặp người đi bộ qua đường hoặc khi đi trên đoạn đường qua khu dân cư có hệ thống chiếu sáng đang hoạt động hoặc khi gặp xe đi ngược chiều (trừ trường hợp dải phân cách có khả năng chống chói) hoặc khi chuyển hướng xe tại nơi đường giao nhau, trừ các xe ưu tiên đang đi làm nhiệm vụ theo quy định; - Phạt tiền từ 800.000 đồng đến 1.000.000 đồng đối với người điều khiển xe\n",
            "\n",
            "Edges:\n",
            "Edge between Chương II and Mục 1\n",
            "Content: No content\n",
            "Edge between Chương II and Mục 2\n",
            "Content: No content\n",
            "Edge between Chương II and Mục 3\n",
            "Content: No content\n",
            "Edge between Chương II and Mục 4\n",
            "Content: No content\n",
            "Edge between Chương II and Mục 5\n",
            "Content: No content\n"
          ]
        }
      ]
    },
    {
      "cell_type": "markdown",
      "source": [
        "Luật Hàng không"
      ],
      "metadata": {
        "id": "2TwWv0oGFZQ6"
      }
    },
    {
      "cell_type": "code",
      "source": [
        "import re\n",
        "import networkx as nx\n",
        "from docx import Document\n",
        "\n",
        "# Định nghĩa các biểu thức chính quy\n",
        "chapter_pattern = r\"Chương\\s+([0-9IVXLCDM]+)\\.\\s+(.+)\"\n",
        "article_pattern = r\"“\\Điều\\s+(\\d+)\\.\\s+(.+)\"\n",
        "clause_pattern = r\"(\\d+)\\.\\s+(.+)\"\n",
        "subclause_pattern = r\"([a-zđ])\\)\\s+(.+)\"\n",
        "G.add_node(\"Luật Hàng không\")\n",
        "\n",
        "def process_document(doc_path):\n",
        "    # Đọc văn bản từ file .docx\n",
        "    doc = Document(doc_path)\n",
        "    lines = [para.text for para in doc.paragraphs if para.text.strip()]\n",
        "\n",
        "    current_chapter = None\n",
        "    current_article = None\n",
        "    current_clause = None\n",
        "    clause_num = None\n",
        "\n",
        "    for line in lines:\n",
        "        line = line.strip()\n",
        "        if not line:\n",
        "            continue\n",
        "\n",
        "        # Phát hiện Điều\n",
        "        article_match = re.match(article_pattern, line)\n",
        "        if article_match:\n",
        "       #     process_previous_clause()\n",
        "            article_num = article_match.group(1)\n",
        "            article_title = article_match.group(2)\n",
        "            article_node = article_num\n",
        "            G.add_node(f\"hk.{article_node}\", content=article_title)\n",
        "            G.add_edge(\"Luật Hàng không\", f\"hk.{article_node}\")\n",
        "            current_article = article_node\n",
        "            continue\n",
        "\n",
        "        clause_match = re.match(clause_pattern, line)\n",
        "        # Phát hiện Khoản:\n",
        "        if clause_match:\n",
        "            #    process_previous_clause()\n",
        "                clause_num = clause_match.group(1)\n",
        "                clause_title = clause_match.group(2)\n",
        "                clause_node = f\"{current_article}.{clause_num}\"\n",
        "                if clause_node not in result:\n",
        "                   G.add_node(f\"hk.{clause_node}\", content=clause_title)\n",
        "                if current_article and clause_node not in result:\n",
        "                    G.add_edge(f\"hk.{current_article}\", f\"hk.{clause_node}\")\n",
        "                current_clause = clause_node\n",
        "                continue\n",
        "        subclause_match = re.match(subclause_pattern, line)\n",
        "        if subclause_match:\n",
        "            subclause_num = subclause_match.group(1)\n",
        "            subclause_title = subclause_match.group(2)\n",
        "            subclause_node = f\"{current_clause}.{subclause_num}\"\n",
        "            if subclause_node not in result:\n",
        "               G.add_node(f\"hk.{subclause_node}\", content=subclause_title)\n",
        "            if current_clause and subclause_node not in result:\n",
        "                G.add_edge(f\"hk.{current_clause}\", f\"hk.{subclause_node}\")\n",
        "            continue\n",
        "\n",
        "# Ví dụ sử dụng\n",
        "doc_path = \"/content/Luat_Hang_Khong.docx\"  # Thay bằng đường dẫn thực tế tới file của bạn\n",
        "process_document(doc_path)\n",
        "\n",
        "# In một số nút và cạnh để kiểm tra\n",
        "for node in list(G.nodes(data=True))[:10]:  # Lấy 5 nút đầu tiên cùng với dữ liệu\n",
        "    node_id = node[0]  # ID của nút\n",
        "    node_data = node[1]  # Thuộc tính của nút (dữ liệu)\n",
        "    content = node_data.get(\"content\", \"No content\")  # Lấy nội dung (nếu có) hoặc mặc định nếu không có\n",
        "    print(f\"Node {node_id}: {content}\")\n",
        "print(\"\\nEdges:\")\n",
        "for u, v, data in list(G.edges(data=True))[:5]:  # Lấy các cạnh cùng với dữ liệu\n",
        "    print(f\"Edge between {u} and {v}\")\n",
        "    print(\"Content:\", data.get(\"content\", \"No content\"))  # Lấy thuộc tính 'content' của cạnh"
      ],
      "metadata": {
        "colab": {
          "base_uri": "https://localhost:8080/"
        },
        "id": "SMY3MaEPFa_i",
        "outputId": "7ceb11b3-5ff5-41a4-d450-d484824e3bcd"
      },
      "execution_count": null,
      "outputs": [
        {
          "output_type": "stream",
          "name": "stdout",
          "text": [
            "Node Chương II: HÀNH VI VI PHẠM, HÌNH THỨC, MỨC XỬ PHẠT, MỨC TRỪ ĐIỂM GIẤY PHÉP LÁI XE VÀ BIỆN PHÁP KHẮC PHỤC HẬU QUẢ VI PHẠM HÀNH CHÍNH VỀ TRẬT TỰ, AN TOÀN GIAO THÔNG TRONG LĨNH VỰC GIAO THÔNG ĐƯỜNG BỘ\n",
            "Node Mục 1: VI PHẠM QUY TẮC GIAO THÔNG ĐƯỜNG BỘ\n",
            "Node 6: Xử phạt, trừ điểm giấy phép lái xe của người điều khiển xe ô tô, xe chở người bốn bánh có gắn động cơ, xe chở hàng bốn bánh có gắn động cơ và các loại xe tương tự xe ô tô vi phạm quy tắc giao thông đường bộ\n",
            "Node 6.1.b: Khi ra, vào vị trí dừng xe, đỗ xe không có tín hiệu báo cho người điều khiển phương tiện khác biết; - Phạt tiền từ 400.000 đồng đến 600.000 đồng đối với người điều khiển xe\n",
            "Node 6.1.d: Không gắn biển báo hiệu ở phía trước xe kéo, phía sau xe được kéo; điều khiển xe kéo rơ moóc không có biển báo hiệu theo quy định; - Phạt tiền từ 400.000 đồng đến 600.000 đồng đối với người điều khiển xe\n",
            "Node 6.1.đ: Sử dụng còi trong thời gian từ 22 giờ ngày hôm trước đến 05 giờ ngày hôm sau trong khu đông dân cư, khu vực cơ sở khám bệnh, chữa bệnh, trừ các xe ưu tiên đang đi làm nhiệm vụ theo quy định. - Phạt tiền từ 400.000 đồng đến 600.000 đồng đối với người điều khiển xe\n",
            "Node 6.2.b: Chở người trên buồng lái quá số lượng quy định; - Phạt tiền từ 600.000 đồng đến 800.000 đồng đối với người điều khiển xe\n",
            "Node 6.2.d: Dừng xe, đỗ xe trên phần đường xe chạy ở đoạn đường ngoài đô thị nơi có lề đường rộng; dừng xe, đỗ xe không sát mép đường phía bên phải theo chiều đi ở nơi đường có lề đường hẹp hoặc không có lề đường; dừng xe, đỗ xe ngược với chiều lưu thông của làn đường; dừng xe, đỗ xe trên dải phân cách cố định ở giữa hai phần đường xe chạy; đỗ xe trên dốc không chèn bánh; - Phạt tiền từ 600.000 đồng đến 800.000 đồng đối với người điều khiển xe\n",
            "Node 6.3.a: Điều khiển xe chạy quá tốc độ quy định từ 05 km/h đến dưới 10 km/h; - Phạt tiền từ 800.000 đồng đến 1.000.000 đồng đối với người điều khiển xe\n",
            "Node 6.3.b: Sử dụng còi, rú ga liên tục; sử dụng còi hơi, sử dụng đèn chiếu xa khi gặp người đi bộ qua đường hoặc khi đi trên đoạn đường qua khu dân cư có hệ thống chiếu sáng đang hoạt động hoặc khi gặp xe đi ngược chiều (trừ trường hợp dải phân cách có khả năng chống chói) hoặc khi chuyển hướng xe tại nơi đường giao nhau, trừ các xe ưu tiên đang đi làm nhiệm vụ theo quy định; - Phạt tiền từ 800.000 đồng đến 1.000.000 đồng đối với người điều khiển xe\n",
            "\n",
            "Edges:\n",
            "Edge between Chương II and Mục 1\n",
            "Content: No content\n",
            "Edge between Chương II and Mục 2\n",
            "Content: No content\n",
            "Edge between Chương II and Mục 3\n",
            "Content: No content\n",
            "Edge between Chương II and Mục 4\n",
            "Content: No content\n",
            "Edge between Chương II and Mục 5\n",
            "Content: No content\n"
          ]
        }
      ]
    },
    {
      "cell_type": "markdown",
      "source": [
        "Luật Đường bộ"
      ],
      "metadata": {
        "id": "v_ebtkd3FbYC"
      }
    },
    {
      "cell_type": "code",
      "source": [
        "import re\n",
        "import networkx as nx\n",
        "from docx import Document\n",
        "\n",
        "# Định nghĩa các biểu thức chính quy\n",
        "chapter_pattern = r\"Chương\\s+([0-9IVXLCDM]+)\\.\\s+(.+)\"\n",
        "article_pattern = r\"Điều\\s+(\\d+)\\.\\s+(.+)\"\n",
        "clause_pattern = r\"(\\d+)\\.\\s+(.+)\"\n",
        "subclause_pattern = r\"([a-zđ])\\)\\s+(.+)\"\n",
        "G.add_node(\"Luật Đường bộ\")\n",
        "\n",
        "def process_document(doc_path):\n",
        "    # Đọc văn bản từ file .docx\n",
        "    doc = Document(doc_path)\n",
        "    lines = [para.text for para in doc.paragraphs if para.text.strip()]\n",
        "\n",
        "    current_chapter = None\n",
        "    current_article = None\n",
        "    current_clause = None\n",
        "    clause_num = None\n",
        "\n",
        "    for line in lines:\n",
        "        line = line.strip()\n",
        "        if not line:\n",
        "            continue\n",
        "\n",
        "        # Phát hiện Điều\n",
        "        article_match = re.match(article_pattern, line)\n",
        "        if article_match:\n",
        "       #     process_previous_clause()\n",
        "            article_num = article_match.group(1)\n",
        "            article_title = article_match.group(2)\n",
        "            article_node = article_num\n",
        "            G.add_node(f\"db.{article_node}\", content=article_title)\n",
        "            G.add_edge(\"Luật Đường bộ\", f\"db.{article_node}\")\n",
        "            current_article = article_node\n",
        "            continue\n",
        "\n",
        "        clause_match = re.match(clause_pattern, line)\n",
        "        # Phát hiện Khoản:\n",
        "        if clause_match:\n",
        "            #    process_previous_clause()\n",
        "                clause_num = clause_match.group(1)\n",
        "                clause_title = clause_match.group(2)\n",
        "                clause_node = f\"{current_article}.{clause_num}\"\n",
        "                if clause_node not in result:\n",
        "                   G.add_node(f\"db.{clause_node}\", content=clause_title)\n",
        "                if current_article and clause_node not in result:\n",
        "                    G.add_edge(f\"db.{current_article}\", f\"db.{clause_node}\")\n",
        "                current_clause = clause_node\n",
        "                continue\n",
        "        subclause_match = re.match(subclause_pattern, line)\n",
        "        if subclause_match:\n",
        "            subclause_num = subclause_match.group(1)\n",
        "            subclause_title = subclause_match.group(2)\n",
        "            subclause_node = f\"{current_clause}.{subclause_num}\"\n",
        "            if subclause_node not in result:\n",
        "               G.add_node(f\"db.{subclause_node}\", content=subclause_title)\n",
        "            if current_clause and subclause_node not in result:\n",
        "                G.add_edge(f\"db.{current_clause}\", f\"db.{subclause_node}\")\n",
        "            continue\n",
        "\n",
        "# Ví dụ sử dụng\n",
        "doc_path = \"/content/Luat_Duong_Bo.docx\"  # Thay bằng đường dẫn thực tế tới file của bạn\n",
        "process_document(doc_path)\n",
        "\n",
        "# In một số nút và cạnh để kiểm tra\n",
        "for node in list(G.nodes(data=True))[:10]:  # Lấy 5 nút đầu tiên cùng với dữ liệu\n",
        "    node_id = node[0]  # ID của nút\n",
        "    node_data = node[1]  # Thuộc tính của nút (dữ liệu)\n",
        "    content = node_data.get(\"content\", \"No content\")  # Lấy nội dung (nếu có) hoặc mặc định nếu không có\n",
        "    print(f\"Node {node_id}: {content}\")\n",
        "print(\"\\nEdges:\")\n",
        "for u, v, data in list(G.edges(data=True))[:5]:  # Lấy các cạnh cùng với dữ liệu\n",
        "    print(f\"Edge between {u} and {v}\")\n",
        "    print(\"Content:\", data.get(\"content\", \"No content\"))  # Lấy thuộc tính 'content' của cạnh"
      ],
      "metadata": {
        "colab": {
          "base_uri": "https://localhost:8080/"
        },
        "id": "HgWindm0H3FS",
        "outputId": "12a734d4-3170-4fb1-b253-c7e02c0ea81b"
      },
      "execution_count": null,
      "outputs": [
        {
          "output_type": "stream",
          "name": "stdout",
          "text": [
            "Node Chương II: HÀNH VI VI PHẠM, HÌNH THỨC, MỨC XỬ PHẠT, MỨC TRỪ ĐIỂM GIẤY PHÉP LÁI XE VÀ BIỆN PHÁP KHẮC PHỤC HẬU QUẢ VI PHẠM HÀNH CHÍNH VỀ TRẬT TỰ, AN TOÀN GIAO THÔNG TRONG LĨNH VỰC GIAO THÔNG ĐƯỜNG BỘ\n",
            "Node Mục 1: VI PHẠM QUY TẮC GIAO THÔNG ĐƯỜNG BỘ\n",
            "Node 6: Xử phạt, trừ điểm giấy phép lái xe của người điều khiển xe ô tô, xe chở người bốn bánh có gắn động cơ, xe chở hàng bốn bánh có gắn động cơ và các loại xe tương tự xe ô tô vi phạm quy tắc giao thông đường bộ\n",
            "Node 6.1.b: Khi ra, vào vị trí dừng xe, đỗ xe không có tín hiệu báo cho người điều khiển phương tiện khác biết; - Phạt tiền từ 400.000 đồng đến 600.000 đồng đối với người điều khiển xe\n",
            "Node 6.1.d: Không gắn biển báo hiệu ở phía trước xe kéo, phía sau xe được kéo; điều khiển xe kéo rơ moóc không có biển báo hiệu theo quy định; - Phạt tiền từ 400.000 đồng đến 600.000 đồng đối với người điều khiển xe\n",
            "Node 6.1.đ: Sử dụng còi trong thời gian từ 22 giờ ngày hôm trước đến 05 giờ ngày hôm sau trong khu đông dân cư, khu vực cơ sở khám bệnh, chữa bệnh, trừ các xe ưu tiên đang đi làm nhiệm vụ theo quy định. - Phạt tiền từ 400.000 đồng đến 600.000 đồng đối với người điều khiển xe\n",
            "Node 6.2.b: Chở người trên buồng lái quá số lượng quy định; - Phạt tiền từ 600.000 đồng đến 800.000 đồng đối với người điều khiển xe\n",
            "Node 6.2.d: Dừng xe, đỗ xe trên phần đường xe chạy ở đoạn đường ngoài đô thị nơi có lề đường rộng; dừng xe, đỗ xe không sát mép đường phía bên phải theo chiều đi ở nơi đường có lề đường hẹp hoặc không có lề đường; dừng xe, đỗ xe ngược với chiều lưu thông của làn đường; dừng xe, đỗ xe trên dải phân cách cố định ở giữa hai phần đường xe chạy; đỗ xe trên dốc không chèn bánh; - Phạt tiền từ 600.000 đồng đến 800.000 đồng đối với người điều khiển xe\n",
            "Node 6.3.a: Điều khiển xe chạy quá tốc độ quy định từ 05 km/h đến dưới 10 km/h; - Phạt tiền từ 800.000 đồng đến 1.000.000 đồng đối với người điều khiển xe\n",
            "Node 6.3.b: Sử dụng còi, rú ga liên tục; sử dụng còi hơi, sử dụng đèn chiếu xa khi gặp người đi bộ qua đường hoặc khi đi trên đoạn đường qua khu dân cư có hệ thống chiếu sáng đang hoạt động hoặc khi gặp xe đi ngược chiều (trừ trường hợp dải phân cách có khả năng chống chói) hoặc khi chuyển hướng xe tại nơi đường giao nhau, trừ các xe ưu tiên đang đi làm nhiệm vụ theo quy định; - Phạt tiền từ 800.000 đồng đến 1.000.000 đồng đối với người điều khiển xe\n",
            "\n",
            "Edges:\n",
            "Edge between Chương II and Mục 1\n",
            "Content: No content\n",
            "Edge between Chương II and Mục 2\n",
            "Content: No content\n",
            "Edge between Chương II and Mục 3\n",
            "Content: No content\n",
            "Edge between Chương II and Mục 4\n",
            "Content: No content\n",
            "Edge between Chương II and Mục 5\n",
            "Content: No content\n"
          ]
        }
      ]
    },
    {
      "cell_type": "markdown",
      "source": [
        "Luật Đường sắt"
      ],
      "metadata": {
        "id": "RIDef9o0Feko"
      }
    },
    {
      "cell_type": "code",
      "source": [
        "import re\n",
        "import networkx as nx\n",
        "from docx import Document\n",
        "\n",
        "# Định nghĩa các biểu thức chính quy\n",
        "chapter_pattern = r\"Chương\\s+([0-9IVXLCDM]+)\\.\\s+(.+)\"\n",
        "article_pattern = r\"Điều\\s+(\\d+)\\.\\s+(.+)\"\n",
        "clause_pattern = r\"(\\d+)\\.\\s+(.+)\"\n",
        "subclause_pattern = r\"([a-zđ])\\)\\s+(.+)\"\n",
        "G.add_node(\"Luật Đường sắt\")\n",
        "\n",
        "def process_document(doc_path):\n",
        "    # Đọc văn bản từ file .docx\n",
        "    doc = Document(doc_path)\n",
        "    lines = [para.text for para in doc.paragraphs if para.text.strip()]\n",
        "\n",
        "    current_chapter = None\n",
        "    current_article = None\n",
        "    current_clause = None\n",
        "    clause_num = None\n",
        "\n",
        "    for line in lines:\n",
        "        line = line.strip()\n",
        "        if not line:\n",
        "            continue\n",
        "\n",
        "        # Phát hiện Điều\n",
        "        article_match = re.match(article_pattern, line)\n",
        "        if article_match:\n",
        "       #     process_previous_clause()\n",
        "            article_num = article_match.group(1)\n",
        "            article_title = article_match.group(2)\n",
        "            article_node = article_num\n",
        "            G.add_node(f\"ds.{article_node}\", content=article_title)\n",
        "            G.add_edge(\"Luật Đường sắt\", f\"ds.{article_node}\")\n",
        "            current_article = article_node\n",
        "            continue\n",
        "\n",
        "        clause_match = re.match(clause_pattern, line)\n",
        "        # Phát hiện Khoản:\n",
        "        if clause_match:\n",
        "            #    process_previous_clause()\n",
        "                clause_num = clause_match.group(1)\n",
        "                clause_title = clause_match.group(2)\n",
        "                clause_node = f\"{current_article}.{clause_num}\"\n",
        "                if clause_node not in result:\n",
        "                   G.add_node(f\"ds.{clause_node}\", content=clause_title)\n",
        "                if current_article and clause_node not in result:\n",
        "                    G.add_edge(f\"ds.{current_article}\", f\"ds.{clause_node}\")\n",
        "                current_clause = clause_node\n",
        "                continue\n",
        "        subclause_match = re.match(subclause_pattern, line)\n",
        "        if subclause_match:\n",
        "            subclause_num = subclause_match.group(1)\n",
        "            subclause_title = subclause_match.group(2)\n",
        "            subclause_node = f\"{current_clause}.{subclause_num}\"\n",
        "            if subclause_node not in result:\n",
        "               G.add_node(f\"ds.{subclause_node}\", content=subclause_title)\n",
        "            if current_clause and subclause_node not in result:\n",
        "                G.add_edge(f\"ds.{current_clause}\", f\"ds.{subclause_node}\")\n",
        "            continue\n",
        "\n",
        "\n",
        "# Ví dụ sử dụng\n",
        "doc_path = \"/content/Luat_Duong_Sat.docx\"  # Thay bằng đường dẫn thực tế tới file của bạn\n",
        "process_document(doc_path)\n",
        "\n",
        "# In một số nút và cạnh để kiểm tra\n",
        "for node in list(G.nodes(data=True))[:10]:  # Lấy 5 nút đầu tiên cùng với dữ liệu\n",
        "    node_id = node[0]  # ID của nút\n",
        "    node_data = node[1]  # Thuộc tính của nút (dữ liệu)\n",
        "    content = node_data.get(\"content\", \"No content\")  # Lấy nội dung (nếu có) hoặc mặc định nếu không có\n",
        "    print(f\"Node {node_id}: {content}\")\n",
        "print(\"\\nEdges:\")\n",
        "for u, v, data in list(G.edges(data=True))[:5]:  # Lấy các cạnh cùng với dữ liệu\n",
        "    print(f\"Edge between {u} and {v}\")\n",
        "    print(\"Content:\", data.get(\"content\", \"No content\"))  # Lấy thuộc tính 'content' của cạnh"
      ],
      "metadata": {
        "colab": {
          "base_uri": "https://localhost:8080/"
        },
        "id": "G7RuUAUYFhQd",
        "outputId": "3ebd894d-93c0-48ac-ee5f-d4d1674ddf17"
      },
      "execution_count": null,
      "outputs": [
        {
          "output_type": "stream",
          "name": "stdout",
          "text": [
            "Node Chương II: HÀNH VI VI PHẠM, HÌNH THỨC, MỨC XỬ PHẠT, MỨC TRỪ ĐIỂM GIẤY PHÉP LÁI XE VÀ BIỆN PHÁP KHẮC PHỤC HẬU QUẢ VI PHẠM HÀNH CHÍNH VỀ TRẬT TỰ, AN TOÀN GIAO THÔNG TRONG LĨNH VỰC GIAO THÔNG ĐƯỜNG BỘ\n",
            "Node Mục 1: VI PHẠM QUY TẮC GIAO THÔNG ĐƯỜNG BỘ\n",
            "Node 6: Xử phạt, trừ điểm giấy phép lái xe của người điều khiển xe ô tô, xe chở người bốn bánh có gắn động cơ, xe chở hàng bốn bánh có gắn động cơ và các loại xe tương tự xe ô tô vi phạm quy tắc giao thông đường bộ\n",
            "Node 6.1.b: Khi ra, vào vị trí dừng xe, đỗ xe không có tín hiệu báo cho người điều khiển phương tiện khác biết; - Phạt tiền từ 400.000 đồng đến 600.000 đồng đối với người điều khiển xe\n",
            "Node 6.1.d: Không gắn biển báo hiệu ở phía trước xe kéo, phía sau xe được kéo; điều khiển xe kéo rơ moóc không có biển báo hiệu theo quy định; - Phạt tiền từ 400.000 đồng đến 600.000 đồng đối với người điều khiển xe\n",
            "Node 6.1.đ: Sử dụng còi trong thời gian từ 22 giờ ngày hôm trước đến 05 giờ ngày hôm sau trong khu đông dân cư, khu vực cơ sở khám bệnh, chữa bệnh, trừ các xe ưu tiên đang đi làm nhiệm vụ theo quy định. - Phạt tiền từ 400.000 đồng đến 600.000 đồng đối với người điều khiển xe\n",
            "Node 6.2.b: Chở người trên buồng lái quá số lượng quy định; - Phạt tiền từ 600.000 đồng đến 800.000 đồng đối với người điều khiển xe\n",
            "Node 6.2.d: Dừng xe, đỗ xe trên phần đường xe chạy ở đoạn đường ngoài đô thị nơi có lề đường rộng; dừng xe, đỗ xe không sát mép đường phía bên phải theo chiều đi ở nơi đường có lề đường hẹp hoặc không có lề đường; dừng xe, đỗ xe ngược với chiều lưu thông của làn đường; dừng xe, đỗ xe trên dải phân cách cố định ở giữa hai phần đường xe chạy; đỗ xe trên dốc không chèn bánh; - Phạt tiền từ 600.000 đồng đến 800.000 đồng đối với người điều khiển xe\n",
            "Node 6.3.a: Điều khiển xe chạy quá tốc độ quy định từ 05 km/h đến dưới 10 km/h; - Phạt tiền từ 800.000 đồng đến 1.000.000 đồng đối với người điều khiển xe\n",
            "Node 6.3.b: Sử dụng còi, rú ga liên tục; sử dụng còi hơi, sử dụng đèn chiếu xa khi gặp người đi bộ qua đường hoặc khi đi trên đoạn đường qua khu dân cư có hệ thống chiếu sáng đang hoạt động hoặc khi gặp xe đi ngược chiều (trừ trường hợp dải phân cách có khả năng chống chói) hoặc khi chuyển hướng xe tại nơi đường giao nhau, trừ các xe ưu tiên đang đi làm nhiệm vụ theo quy định; - Phạt tiền từ 800.000 đồng đến 1.000.000 đồng đối với người điều khiển xe\n",
            "\n",
            "Edges:\n",
            "Edge between Chương II and Mục 1\n",
            "Content: No content\n",
            "Edge between Chương II and Mục 2\n",
            "Content: No content\n",
            "Edge between Chương II and Mục 3\n",
            "Content: No content\n",
            "Edge between Chương II and Mục 4\n",
            "Content: No content\n",
            "Edge between Chương II and Mục 5\n",
            "Content: No content\n"
          ]
        }
      ]
    },
    {
      "cell_type": "markdown",
      "source": [
        "Luật Trật tự"
      ],
      "metadata": {
        "id": "Uf4m9XRyFjDL"
      }
    },
    {
      "cell_type": "code",
      "source": [
        "import re\n",
        "import networkx as nx\n",
        "from docx import Document\n",
        "\n",
        "# Định nghĩa các biểu thức chính quy\n",
        "chapter_pattern = r\"Chương\\s+([0-9IVXLCDM]+)\\.\\s+(.+)\"\n",
        "article_pattern = r\"Điều\\s+(\\d+)\\.\\s+(.+)\"\n",
        "clause_pattern = r\"(\\d+)\\.\\s+(.+)\"\n",
        "subclause_pattern = r\"([a-zđ])\\)\\s+(.+)\"\n",
        "G.add_node(\"Luật Trật tự\")\n",
        "\n",
        "def process_document(doc_path):\n",
        "    # Đọc văn bản từ file .docx\n",
        "    doc = Document(doc_path)\n",
        "    lines = [para.text for para in doc.paragraphs if para.text.strip()]\n",
        "\n",
        "    current_chapter = None\n",
        "    current_article = None\n",
        "    current_clause = None\n",
        "    clause_num = None\n",
        "\n",
        "    for line in lines:\n",
        "        line = line.strip()\n",
        "        if not line:\n",
        "            continue\n",
        "\n",
        "        # Phát hiện Điều\n",
        "        article_match = re.match(article_pattern, line)\n",
        "        if article_match:\n",
        "       #     process_previous_clause()\n",
        "            article_num = article_match.group(1)\n",
        "            article_title = article_match.group(2)\n",
        "            article_node = article_num\n",
        "            G.add_node(f\"tt.{article_node}\", content=article_title)\n",
        "            G.add_edge(\"Luật Trật tự\", f\"tt.{article_node}\")\n",
        "            current_article = article_node\n",
        "            continue\n",
        "\n",
        "        clause_match = re.match(clause_pattern, line)\n",
        "        # Phát hiện Khoản:\n",
        "        if clause_match:\n",
        "            #    process_previous_clause()\n",
        "                clause_num = clause_match.group(1)\n",
        "                clause_title = clause_match.group(2)\n",
        "                clause_node = f\"{current_article}.{clause_num}\"\n",
        "                if clause_node not in result:\n",
        "                   G.add_node(f\"tt.{clause_node}\", content=clause_title)\n",
        "                if current_article and clause_node not in result:\n",
        "                    G.add_edge(f\"tt.{current_article}\", f\"tt.{clause_node}\")\n",
        "                current_clause = clause_node\n",
        "                continue\n",
        "        subclause_match = re.match(subclause_pattern, line)\n",
        "        if subclause_match:\n",
        "            subclause_num = subclause_match.group(1)\n",
        "            subclause_title = subclause_match.group(2)\n",
        "            subclause_node = f\"{current_clause}.{subclause_num}\"\n",
        "            if subclause_node not in result:\n",
        "               G.add_node(f\"tt.{subclause_node}\", content=subclause_title)\n",
        "            if current_clause and subclause_node not in result:\n",
        "                G.add_edge(f\"tt.{current_clause}\", f\"tt.{subclause_node}\")\n",
        "            continue\n",
        "# Ví dụ sử dụng\n",
        "doc_path = \"/content/Luat_Trat_Tu.docx\"  # Thay bằng đường dẫn thực tế tới file của bạn\n",
        "process_document(doc_path)\n",
        "\n",
        "# In một số nút và cạnh để kiểm tra\n",
        "for node in list(G.nodes(data=True))[:10]:  # Lấy 5 nút đầu tiên cùng với dữ liệu\n",
        "    node_id = node[0]  # ID của nút\n",
        "    node_data = node[1]  # Thuộc tính của nút (dữ liệu)\n",
        "    content = node_data.get(\"content\", \"No content\")  # Lấy nội dung (nếu có) hoặc mặc định nếu không có\n",
        "    print(f\"Node {node_id}: {content}\")\n",
        "print(\"\\nEdges:\")\n",
        "for u, v, data in list(G.edges(data=True))[:5]:  # Lấy các cạnh cùng với dữ liệu\n",
        "    print(f\"Edge between {u} and {v}\")\n",
        "    print(\"Content:\", data.get(\"content\", \"No content\"))  # Lấy thuộc tính 'content' của cạnh"
      ],
      "metadata": {
        "colab": {
          "base_uri": "https://localhost:8080/"
        },
        "id": "Qjs4UM_gFnea",
        "outputId": "de0469a8-e692-490b-9cd3-e9c4ffaaa8e2",
        "collapsed": true
      },
      "execution_count": null,
      "outputs": [
        {
          "output_type": "stream",
          "name": "stdout",
          "text": [
            "Node Chương II: HÀNH VI VI PHẠM, HÌNH THỨC, MỨC XỬ PHẠT, MỨC TRỪ ĐIỂM GIẤY PHÉP LÁI XE VÀ BIỆN PHÁP KHẮC PHỤC HẬU QUẢ VI PHẠM HÀNH CHÍNH VỀ TRẬT TỰ, AN TOÀN GIAO THÔNG TRONG LĨNH VỰC GIAO THÔNG ĐƯỜNG BỘ\n",
            "Node Mục 1: VI PHẠM QUY TẮC GIAO THÔNG ĐƯỜNG BỘ\n",
            "Node 6: Xử phạt, trừ điểm giấy phép lái xe của người điều khiển xe ô tô, xe chở người bốn bánh có gắn động cơ, xe chở hàng bốn bánh có gắn động cơ và các loại xe tương tự xe ô tô vi phạm quy tắc giao thông đường bộ\n",
            "Node 6.1.b: Khi ra, vào vị trí dừng xe, đỗ xe không có tín hiệu báo cho người điều khiển phương tiện khác biết; - Phạt tiền từ 400.000 đồng đến 600.000 đồng đối với người điều khiển xe\n",
            "Node 6.1.d: Không gắn biển báo hiệu ở phía trước xe kéo, phía sau xe được kéo; điều khiển xe kéo rơ moóc không có biển báo hiệu theo quy định; - Phạt tiền từ 400.000 đồng đến 600.000 đồng đối với người điều khiển xe\n",
            "Node 6.1.đ: Sử dụng còi trong thời gian từ 22 giờ ngày hôm trước đến 05 giờ ngày hôm sau trong khu đông dân cư, khu vực cơ sở khám bệnh, chữa bệnh, trừ các xe ưu tiên đang đi làm nhiệm vụ theo quy định. - Phạt tiền từ 400.000 đồng đến 600.000 đồng đối với người điều khiển xe\n",
            "Node 6.2.b: Chở người trên buồng lái quá số lượng quy định; - Phạt tiền từ 600.000 đồng đến 800.000 đồng đối với người điều khiển xe\n",
            "Node 6.2.d: Dừng xe, đỗ xe trên phần đường xe chạy ở đoạn đường ngoài đô thị nơi có lề đường rộng; dừng xe, đỗ xe không sát mép đường phía bên phải theo chiều đi ở nơi đường có lề đường hẹp hoặc không có lề đường; dừng xe, đỗ xe ngược với chiều lưu thông của làn đường; dừng xe, đỗ xe trên dải phân cách cố định ở giữa hai phần đường xe chạy; đỗ xe trên dốc không chèn bánh; - Phạt tiền từ 600.000 đồng đến 800.000 đồng đối với người điều khiển xe\n",
            "Node 6.3.a: Điều khiển xe chạy quá tốc độ quy định từ 05 km/h đến dưới 10 km/h; - Phạt tiền từ 800.000 đồng đến 1.000.000 đồng đối với người điều khiển xe\n",
            "Node 6.3.b: Sử dụng còi, rú ga liên tục; sử dụng còi hơi, sử dụng đèn chiếu xa khi gặp người đi bộ qua đường hoặc khi đi trên đoạn đường qua khu dân cư có hệ thống chiếu sáng đang hoạt động hoặc khi gặp xe đi ngược chiều (trừ trường hợp dải phân cách có khả năng chống chói) hoặc khi chuyển hướng xe tại nơi đường giao nhau, trừ các xe ưu tiên đang đi làm nhiệm vụ theo quy định; - Phạt tiền từ 800.000 đồng đến 1.000.000 đồng đối với người điều khiển xe\n",
            "\n",
            "Edges:\n",
            "Edge between Chương II and Mục 1\n",
            "Content: No content\n",
            "Edge between Chương II and Mục 2\n",
            "Content: No content\n",
            "Edge between Chương II and Mục 3\n",
            "Content: No content\n",
            "Edge between Chương II and Mục 4\n",
            "Content: No content\n",
            "Edge between Chương II and Mục 5\n",
            "Content: No content\n"
          ]
        }
      ]
    },
    {
      "cell_type": "markdown",
      "source": [
        "Thông tư 38/2024/TT-BGTVT"
      ],
      "metadata": {
        "id": "ODlv1OLFMlty"
      }
    },
    {
      "cell_type": "code",
      "source": [
        "import re\n",
        "import networkx as nx\n",
        "from docx import Document\n",
        "\n",
        "# Định nghĩa các biểu thức chính quy\n",
        "chapter_pattern = r\"Chương\\s+([0-9IVXLCDM]+)\\.\\s+(.+)\"\n",
        "article_pattern = r\"Điều\\s+(\\d+)\\.\\s+(.+)\"\n",
        "clause_pattern = r\"(\\d+)\\.\\s+(.+)\"\n",
        "subclause_pattern = r\"([a-zđ])\\)\\s+(.+)\"\n",
        "G.add_node(\"Thông tư 38/2024/TT-BGTVT\", content = \"Quy định về tốc độ và khoảng cách an toàn của xe cơ giới, xe máy chuyên dùng \\\n",
        "           tham gia giao thông trên đường bộ\")\n",
        "\n",
        "def process_document(doc_path):\n",
        "    # Đọc văn bản từ file .docx\n",
        "    doc = Document(doc_path)\n",
        "    lines = [para.text for para in doc.paragraphs if para.text.strip()]\n",
        "\n",
        "    current_chapter = None\n",
        "    current_article = None\n",
        "    current_clause = None\n",
        "    clause_num = None\n",
        "\n",
        "    for line in lines:\n",
        "        line = line.strip()\n",
        "        if not line:\n",
        "            continue\n",
        "\n",
        "        # Phát hiện Điều\n",
        "        article_match = re.match(article_pattern, line)\n",
        "        if article_match:\n",
        "       #     process_previous_clause()\n",
        "            article_num = article_match.group(1)\n",
        "            article_title = article_match.group(2)\n",
        "            article_node = article_num\n",
        "            G.add_node(f\"t1.{article_node}\", content=article_title)\n",
        "            G.add_edge(\"Thông tư 38/2024/TT-BGTVT\", f\"t1.{article_node}\")\n",
        "            current_article = article_node\n",
        "            continue\n",
        "\n",
        "        clause_match = re.match(clause_pattern, line)\n",
        "        # Phát hiện Khoản:\n",
        "        if clause_match:\n",
        "            #    process_previous_clause()\n",
        "                clause_num = clause_match.group(1)\n",
        "                clause_title = clause_match.group(2)\n",
        "                clause_node = f\"{current_article}.{clause_num}\"\n",
        "                if clause_node not in result:\n",
        "                   G.add_node(f\"t1.{clause_node}\", content=clause_title)\n",
        "                if current_article and clause_node not in result:\n",
        "                    G.add_edge(f\"t1.{current_article}\", f\"t1.{clause_node}\")\n",
        "                current_clause = clause_node\n",
        "                continue\n",
        "        subclause_match = re.match(subclause_pattern, line)\n",
        "        if subclause_match:\n",
        "            subclause_num = subclause_match.group(1)\n",
        "            subclause_title = subclause_match.group(2)\n",
        "            subclause_node = f\"{current_clause}.{subclause_num}\"\n",
        "            if subclause_node not in result:\n",
        "               G.add_node(f\"t1.{subclause_node}\", content=subclause_title)\n",
        "            if current_clause and subclause_node not in result:\n",
        "                G.add_edge(f\"t1.{current_clause}\", f\"t1.{subclause_node}\")\n",
        "            continue\n",
        "# Ví dụ sử dụng\n",
        "doc_path = \"/content/Tocdo_Khoangcach.docx\"  # Thay bằng đường dẫn thực tế tới file của bạn\n",
        "process_document(doc_path)\n",
        "\n",
        "# In một số nút và cạnh để kiểm tra\n",
        "for node in list(G.nodes(data=True))[:10]:  # Lấy 5 nút đầu tiên cùng với dữ liệu\n",
        "    node_id = node[0]  # ID của nút\n",
        "    node_data = node[1]  # Thuộc tính của nút (dữ liệu)\n",
        "    content = node_data.get(\"content\", \"No content\")  # Lấy nội dung (nếu có) hoặc mặc định nếu không có\n",
        "    print(f\"Node {node_id}: {content}\")\n",
        "print(\"\\nEdges:\")\n",
        "for u, v, data in list(G.edges(data=True))[:5]:  # Lấy các cạnh cùng với dữ liệu\n",
        "    print(f\"Edge between {u} and {v}\")\n",
        "    print(\"Content:\", data.get(\"content\", \"No content\"))  # Lấy thuộc tính 'content' của cạnh"
      ],
      "metadata": {
        "colab": {
          "base_uri": "https://localhost:8080/"
        },
        "collapsed": true,
        "id": "AdRkFJMaMlJa",
        "outputId": "fb2f3e5e-5764-44e6-b32b-b6eed8b57619"
      },
      "execution_count": null,
      "outputs": [
        {
          "output_type": "stream",
          "name": "stdout",
          "text": [
            "Node Chương II: HÀNH VI VI PHẠM, HÌNH THỨC, MỨC XỬ PHẠT, MỨC TRỪ ĐIỂM GIẤY PHÉP LÁI XE VÀ BIỆN PHÁP KHẮC PHỤC HẬU QUẢ VI PHẠM HÀNH CHÍNH VỀ TRẬT TỰ, AN TOÀN GIAO THÔNG TRONG LĨNH VỰC GIAO THÔNG ĐƯỜNG BỘ\n",
            "Node Mục 1: VI PHẠM QUY TẮC GIAO THÔNG ĐƯỜNG BỘ\n",
            "Node 6: Xử phạt, trừ điểm giấy phép lái xe của người điều khiển xe ô tô, xe chở người bốn bánh có gắn động cơ, xe chở hàng bốn bánh có gắn động cơ và các loại xe tương tự xe ô tô vi phạm quy tắc giao thông đường bộ\n",
            "Node 6.1.b: Khi ra, vào vị trí dừng xe, đỗ xe không có tín hiệu báo cho người điều khiển phương tiện khác biết; - Phạt tiền từ 400.000 đồng đến 600.000 đồng đối với người điều khiển xe\n",
            "Node 6.1.d: Không gắn biển báo hiệu ở phía trước xe kéo, phía sau xe được kéo; điều khiển xe kéo rơ moóc không có biển báo hiệu theo quy định; - Phạt tiền từ 400.000 đồng đến 600.000 đồng đối với người điều khiển xe\n",
            "Node 6.1.đ: Sử dụng còi trong thời gian từ 22 giờ ngày hôm trước đến 05 giờ ngày hôm sau trong khu đông dân cư, khu vực cơ sở khám bệnh, chữa bệnh, trừ các xe ưu tiên đang đi làm nhiệm vụ theo quy định. - Phạt tiền từ 400.000 đồng đến 600.000 đồng đối với người điều khiển xe\n",
            "Node 6.2.b: Chở người trên buồng lái quá số lượng quy định; - Phạt tiền từ 600.000 đồng đến 800.000 đồng đối với người điều khiển xe\n",
            "Node 6.2.d: Dừng xe, đỗ xe trên phần đường xe chạy ở đoạn đường ngoài đô thị nơi có lề đường rộng; dừng xe, đỗ xe không sát mép đường phía bên phải theo chiều đi ở nơi đường có lề đường hẹp hoặc không có lề đường; dừng xe, đỗ xe ngược với chiều lưu thông của làn đường; dừng xe, đỗ xe trên dải phân cách cố định ở giữa hai phần đường xe chạy; đỗ xe trên dốc không chèn bánh; - Phạt tiền từ 600.000 đồng đến 800.000 đồng đối với người điều khiển xe\n",
            "Node 6.3.a: Điều khiển xe chạy quá tốc độ quy định từ 05 km/h đến dưới 10 km/h; - Phạt tiền từ 800.000 đồng đến 1.000.000 đồng đối với người điều khiển xe\n",
            "Node 6.3.b: Sử dụng còi, rú ga liên tục; sử dụng còi hơi, sử dụng đèn chiếu xa khi gặp người đi bộ qua đường hoặc khi đi trên đoạn đường qua khu dân cư có hệ thống chiếu sáng đang hoạt động hoặc khi gặp xe đi ngược chiều (trừ trường hợp dải phân cách có khả năng chống chói) hoặc khi chuyển hướng xe tại nơi đường giao nhau, trừ các xe ưu tiên đang đi làm nhiệm vụ theo quy định; - Phạt tiền từ 800.000 đồng đến 1.000.000 đồng đối với người điều khiển xe\n",
            "\n",
            "Edges:\n",
            "Edge between Chương II and Mục 1\n",
            "Content: No content\n",
            "Edge between Chương II and Mục 2\n",
            "Content: No content\n",
            "Edge between Chương II and Mục 3\n",
            "Content: No content\n",
            "Edge between Chương II and Mục 4\n",
            "Content: No content\n",
            "Edge between Chương II and Mục 5\n",
            "Content: No content\n"
          ]
        }
      ]
    },
    {
      "cell_type": "markdown",
      "source": [
        "Thông tư 12/2025/TT-BCA"
      ],
      "metadata": {
        "id": "ZQCqEFB9PpNN"
      }
    },
    {
      "cell_type": "code",
      "source": [
        "import re\n",
        "import networkx as nx\n",
        "from docx import Document\n",
        "\n",
        "# Định nghĩa các biểu thức chính quy\n",
        "chapter_pattern = r\"Chương\\s+([0-9IVXLCDM]+)\\.\\s+(.+)\"\n",
        "article_pattern = r\"Điều\\s+(\\d+)\\.\\s+(.+)\"\n",
        "clause_pattern = r\"(\\d+)\\.\\s+(.+)\"\n",
        "subclause_pattern = r\"([a-zđ])\\)\\s+(.+)\"\n",
        "G.add_node(\"Thông tư 12/2025/TT-BCA\", content = \"QUY ĐỊNH VỀ SÁT HẠCH, CẤP GIẤY PHÉP LÁI XE; CẤP, SỬ DỤNG GIẤY PHÉP LÁI XE QUỐC TẾ\")\n",
        "\n",
        "def process_document(doc_path):\n",
        "    # Đọc văn bản từ file .docx\n",
        "    doc = Document(doc_path)\n",
        "    lines = [para.text for para in doc.paragraphs if para.text.strip()]\n",
        "\n",
        "    current_chapter = None\n",
        "    current_article = None\n",
        "    current_clause = None\n",
        "    clause_num = None\n",
        "\n",
        "    for line in lines:\n",
        "        line = line.strip()\n",
        "        if not line:\n",
        "            continue\n",
        "\n",
        "        # Phát hiện Điều\n",
        "        article_match = re.match(article_pattern, line)\n",
        "        if article_match:\n",
        "       #     process_previous_clause()\n",
        "            article_num = article_match.group(1)\n",
        "            article_title = article_match.group(2)\n",
        "            article_node = article_num\n",
        "            G.add_node(f\"t2.{article_node}\", content=article_title)\n",
        "            G.add_edge(\"Thông tư 12/2025/TT-BCA\", f\"t2.{article_node}\")\n",
        "            current_article = article_node\n",
        "            continue\n",
        "\n",
        "        clause_match = re.match(clause_pattern, line)\n",
        "        # Phát hiện Khoản:\n",
        "        if clause_match:\n",
        "            #    process_previous_clause()\n",
        "                clause_num = clause_match.group(1)\n",
        "                clause_title = clause_match.group(2)\n",
        "                clause_node = f\"{current_article}.{clause_num}\"\n",
        "                if clause_node not in result:\n",
        "                   G.add_node(f\"t2.{clause_node}\", content=clause_title)\n",
        "                if current_article and clause_node not in result:\n",
        "                    G.add_edge(f\"t2.{current_article}\", f\"t2.{clause_node}\")\n",
        "                current_clause = clause_node\n",
        "                continue\n",
        "        subclause_match = re.match(subclause_pattern, line)\n",
        "        if subclause_match:\n",
        "            subclause_num = subclause_match.group(1)\n",
        "            subclause_title = subclause_match.group(2)\n",
        "            subclause_node = f\"{current_clause}.{subclause_num}\"\n",
        "            if subclause_node not in result:\n",
        "               G.add_node(f\"t2.{subclause_node}\", content=subclause_title)\n",
        "            if current_clause and subclause_node not in result:\n",
        "                G.add_edge(f\"t2.{current_clause}\", f\"t2.{subclause_node}\")\n",
        "            continue\n",
        "# Ví dụ sử dụng\n",
        "doc_path = \"/content/Tocdo_Khoangcach.docx\"  # Thay bằng đường dẫn thực tế tới file của bạn\n",
        "process_document(doc_path)\n",
        "\n",
        "# In một số nút và cạnh để kiểm tra\n",
        "for node in list(G.nodes(data=True))[:10]:  # Lấy 5 nút đầu tiên cùng với dữ liệu\n",
        "    node_id = node[0]  # ID của nút\n",
        "    node_data = node[1]  # Thuộc tính của nút (dữ liệu)\n",
        "    content = node_data.get(\"content\", \"No content\")  # Lấy nội dung (nếu có) hoặc mặc định nếu không có\n",
        "    print(f\"Node {node_id}: {content}\")\n",
        "print(\"\\nEdges:\")\n",
        "for u, v, data in list(G.edges(data=True))[:5]:  # Lấy các cạnh cùng với dữ liệu\n",
        "    print(f\"Edge between {u} and {v}\")\n",
        "    print(\"Content:\", data.get(\"content\", \"No content\"))  # Lấy thuộc tính 'content' của cạnh"
      ],
      "metadata": {
        "id": "bVmCwyXePomQ"
      },
      "execution_count": null,
      "outputs": []
    },
    {
      "cell_type": "code",
      "source": [
        "with open(\"knowledge_graph_13_5_25.pkl\", \"wb\") as f:\n",
        "    pickle.dump(G, f)\n",
        "print(\"Đã lưu knowledge graph vào file 'knowledge_graph.pkl'.\")"
      ],
      "metadata": {
        "colab": {
          "base_uri": "https://localhost:8080/"
        },
        "id": "WmByvEjDMXJb",
        "outputId": "c48b8a76-5d5a-4de5-f303-d0fd00f610ab"
      },
      "execution_count": null,
      "outputs": [
        {
          "output_type": "stream",
          "name": "stdout",
          "text": [
            "Đã lưu knowledge graph vào file 'knowledge_graph.pkl'.\n"
          ]
        }
      ]
    },
    {
      "cell_type": "markdown",
      "source": [
        "Xử lý giai đoạn 3 (chưa lưu tính đến ngày 28/5/2025)"
      ],
      "metadata": {
        "id": "nsLZfHeCOidf"
      }
    },
    {
      "cell_type": "code",
      "source": [
        "G.add_node(\"32.9.e\", content=\"Không thực hiện đúng quy định về biển số, quy định về kẻ hoặc dán chữ, số biển số, thông tin trên thành xe, cửa xe (kể cả rơ moóc và sơ mi rơ moóc) - Phạt tiền từ 4.000.000 đồng đến 6.000.000 đồng đối với cá nhân, từ 8.000.000 đồng đến 12.000.000 đồng đối với tổ chức là chủ xe ô tô, xe chở người bốn bánh có gắn động cơ, xe chở hàng bốn bánh có gắn động cơ, xe máy chuyên dùng và các loại xe tương tự xe ô tô \")"
      ],
      "metadata": {
        "id": "HJB__d7YFyPc"
      },
      "execution_count": null,
      "outputs": []
    },
    {
      "cell_type": "code",
      "source": [
        "G.add_edge(\"32.9.e\", \"32.12.b\", content=\"trừ các hành vi vi phạm quy định tại\")\n",
        "G.add_edge(\"32.9.e\", \"32.12.c\", content=\"trừ các hành vi vi phạm quy định tại\")\n",
        "G.add_edge(\"32.9.e\", \"32.13.d\", content=\"trừ các hành vi vi phạm quy định tại\")\n",
        "G.add_edge(\"32.9.e\", \"32.3.b\", content=\"trừ các hành vi vi phạm quy định tại\")"
      ],
      "metadata": {
        "id": "RpGe-JBlGW4d"
      },
      "execution_count": null,
      "outputs": []
    },
    {
      "cell_type": "code",
      "source": [
        "G.nodes['tt.46.3']['content']"
      ],
      "metadata": {
        "colab": {
          "base_uri": "https://localhost:8080/",
          "height": 105
        },
        "id": "A5l0VrgOHJEa",
        "outputId": "74245195-ff97-439f-d25f-3dcfbcf0a3c4"
      },
      "execution_count": null,
      "outputs": [
        {
          "output_type": "execute_result",
          "data": {
            "text/plain": [
              "'Khi đưa đón trẻ em mầm non, học sinh tiểu học phải bố trí tối thiểu 01 người quản lý trên mỗi xe ô tô để hướng dẫn, giám sát, duy trì trật tự và bảo đảm an toàn cho trẻ em mầm non, học sinh tiểu học trong suốt chuyến đi. Trường hợp xe từ 29 chỗ trở lên (không kể chỗ của người lái xe) mà chở từ 27 trẻ em mầm non và học sinh tiểu học trở lên phải bố trí tối thiểu 02 người quản lý trên mỗi xe ô tô. Người quản lý, người lái xe có trách nhiệm kiểm tra trẻ em mầm non, học sinh tiểu học khi xuống xe; không được để trẻ em mầm non, học sinh tiểu học trên xe khi người quản lý và người lái xe đã rời xe.'"
            ],
            "application/vnd.google.colaboratory.intrinsic+json": {
              "type": "string"
            }
          },
          "metadata": {},
          "execution_count": 279
        }
      ]
    },
    {
      "cell_type": "code",
      "source": [
        "G.add_node(\"27.2\", content = \"Phạt tiền từ 2.000.000 đồng đến 3.000.000 đồng đối với hành vi điều khiển xe ô tô kinh doanh vận tải chở trẻ em mầm non, học sinh tiểu học, xe ô tô kinh doanh vận tải kết hợp với hoạt động đưa đón trẻ em mầm non, học sinh tiểu học không có hoặc không đủ người quản lý trên mỗi xe ô tô theo quy định tại khoản 3 Điều 46 của Luật Trật tự, an toàn giao thông đường bộ (Khi đưa đón trẻ em mầm non, học sinh tiểu học phải bố trí tối thiểu 01 người quản lý trên mỗi xe ô tô để hướng dẫn, giám sát, duy trì trật tự và bảo đảm an toàn cho trẻ em mầm non, học sinh tiểu học trong suốt chuyến đi. Trường hợp xe từ 29 chỗ trở lên (không kể chỗ của người lái xe) mà chở từ 27 trẻ em mầm non và học sinh tiểu học trở lên phải bố trí tối thiểu 02 người quản lý trên mỗi xe ô tô. Người quản lý, người lái xe có trách nhiệm kiểm tra trẻ em mầm non, học sinh tiểu học khi xuống xe; không được để trẻ em mầm non, học sinh tiểu học trên xe khi người quản lý và người lái xe đã rời xe).\")"
      ],
      "metadata": {
        "id": "MNulKANEPHUM"
      },
      "execution_count": null,
      "outputs": []
    },
    {
      "cell_type": "code",
      "source": [
        "G.add_edge(\"tt.46.3\",\"27.2\", content=\"Xử phạt như nào\")"
      ],
      "metadata": {
        "id": "uEW9mlDIP5YB"
      },
      "execution_count": null,
      "outputs": []
    },
    {
      "cell_type": "code",
      "source": [
        "G.add_node(\"32.10\", content = \"Phạt tiền từ 8.000.000 đồng đến 10.000.000 đồng đối với cá nhân, từ 16.000.000 đồng đến 20.000.000 đồng đối với tổ chức là chủ xe mô tô, xe gắn máy và các loại xe tương tự xe mô tô, các loại xe tương tự xe gắn máy thực hiện hành vi vi phạm giao xe hoặc để cho người không đủ điều kiện theo quy định tại khoản 1 Điều 56 của Luật Trật tự (Người lái xe tham gia giao thông đường bộ phải đủ tuổi, sức khỏe theo quy định của pháp luật; có giấy phép lái xe đang còn điểm, còn hiệu lực phù hợp với loại xe đang điều khiển do cơ quan có thẩm quyền cấp, trừ người lái xe gắn máy quy định tại khoản 4 Điều 56. Khi tham gia giao thông đường bộ, người lái xe phải mang theo các giấy tờ sau đây: \\\n",
        "a) Chứng nhận đăng ký xe hoặc bản sao Chứng nhận đăng ký xe có chứng thực kèm bản gốc giấy tờ xác nhận của tổ chức tín dụng, chi nhánh ngân hàng nước ngoài còn hiệu lực trong trường hợp xe đang được thế chấp tại tổ chức tín dụng, chi nhánh ngân hàng nước ngoài; \\\n",
        "b) Giấy phép lái xe phù hợp với loại xe đang điều khiển; \\\n",
        "c) Chứng nhận kiểm định an toàn kỹ thuật và bảo vệ môi trường đối với xe cơ giới theo quy định của pháp luật;\\\n",
        "d) Chứng nhận bảo hiểm bắt buộc trách nhiệm dân sự của chủ xe cơ giới.\\\n",
        "), an toàn giao thông đường bộ điều khiển xe tham gia giao thông (bao gồm cả trường hợp người điều khiển phương tiện có giấy phép lái xe nhưng đang trong thời gian bị tước quyền sử dụng).\")"
      ],
      "metadata": {
        "id": "L5ZcqN4eQd_2"
      },
      "execution_count": null,
      "outputs": []
    },
    {
      "cell_type": "code",
      "source": [
        "G.add_edge(\"tt.56.1\", \"32.10\", content = \"Xử phạt như nào\")"
      ],
      "metadata": {
        "id": "rODjHLPqR7-u"
      },
      "execution_count": null,
      "outputs": []
    },
    {
      "cell_type": "code",
      "source": [
        "G.add_edge(\"tt.56.1.a\", \"32.10\", content = \"Xử phạt như nào\")\n",
        "G.add_edge(\"tt.56.1.b\", \"32.10\", content = \"Xử phạt như nào\")\n",
        "G.add_edge(\"tt.56.1.c\", \"32.10\", content = \"Xử phạt như nào\")\n",
        "G.add_edge(\"tt.56.1.d\", \"32.10\",  content = \"Xử phạt như nào\")"
      ],
      "metadata": {
        "id": "XDAkoTHdSQ--"
      },
      "execution_count": null,
      "outputs": []
    },
    {
      "cell_type": "markdown",
      "source": [],
      "metadata": {
        "id": "4qgGk3lITpTh"
      }
    },
    {
      "cell_type": "markdown",
      "source": [],
      "metadata": {
        "id": "YnnCE0r_MOWE"
      }
    }
  ],
  "metadata": {
    "colab": {
      "provenance": []
    },
    "kernelspec": {
      "display_name": "Python 3",
      "name": "python3"
    },
    "language_info": {
      "name": "python"
    }
  },
  "nbformat": 4,
  "nbformat_minor": 0
}